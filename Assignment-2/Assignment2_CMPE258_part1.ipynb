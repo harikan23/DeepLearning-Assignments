{
  "nbformat": 4,
  "nbformat_minor": 0,
  "metadata": {
    "colab": {
      "name": "Assignment2-CMPE258-part1.ipynb",
      "provenance": []
    },
    "kernelspec": {
      "name": "python3",
      "display_name": "Python 3"
    },
    "language_info": {
      "name": "python"
    }
  },
  "cells": [
    {
      "cell_type": "markdown",
      "source": [
        "Tensorflow:   \n",
        "TensorFlow is a framework created by Google for creating Deep Learning models. Deep Learning is a category of machine learning models (=algorithms) that use multi-layer neural networks. TensorFlow is an open-source end-to-end platform for creating Machine Learning applications"
      ],
      "metadata": {
        "id": "c9_Ly8NZ9xSm"
      }
    },
    {
      "cell_type": "code",
      "execution_count": null,
      "metadata": {
        "colab": {
          "base_uri": "https://localhost:8080/"
        },
        "id": "pRMgp9oOEj6U",
        "outputId": "e29977c1-01be-4459-fc2e-5d6cc2b40e36"
      },
      "outputs": [
        {
          "output_type": "stream",
          "name": "stdout",
          "text": [
            "2.8.0\n"
          ]
        }
      ],
      "source": [
        "import tensorflow as tf\n",
        "print(tf.__version__)"
      ]
    },
    {
      "cell_type": "markdown",
      "source": [
        "Tensors are characterized by their rank\n",
        "\n",
        "Scalars - Rank 0 Tensor.   \n",
        "Vector 1D array - Rank 1 Tensor.     \n",
        "Matrices 2D array  - Rank 2 Tensor.     \n",
        "3D array - Rank 3 Tensor\n",
        "\n",
        "\n"
      ],
      "metadata": {
        "id": "dOXssoVSE9io"
      }
    },
    {
      "cell_type": "markdown",
      "source": [
        "A scalar consists of a single value, it can be real or complex"
      ],
      "metadata": {
        "id": "IKG2Cw9yFe0m"
      }
    },
    {
      "cell_type": "code",
      "source": [
        "array_scalar = tf.constant(1)\n",
        "array_scalar"
      ],
      "metadata": {
        "colab": {
          "base_uri": "https://localhost:8080/"
        },
        "id": "Sf1Pq2gVE4ja",
        "outputId": "d01f28e3-e656-4c50-8207-330177b734db"
      },
      "execution_count": null,
      "outputs": [
        {
          "output_type": "execute_result",
          "data": {
            "text/plain": [
              "<tf.Tensor: shape=(), dtype=int32, numpy=1>"
            ]
          },
          "metadata": {},
          "execution_count": 64
        }
      ]
    },
    {
      "cell_type": "markdown",
      "source": [
        "result is tf.Tensor. scalar is rank 0 tensor.\n",
        "shape is empty. datatype is int32"
      ],
      "metadata": {
        "id": "8wCfOo5bF2Qm"
      }
    },
    {
      "cell_type": "code",
      "source": [
        "array_scalar.numpy()"
      ],
      "metadata": {
        "colab": {
          "base_uri": "https://localhost:8080/"
        },
        "id": "dYAgMqhvFurt",
        "outputId": "8fd4e3d4-1a55-4aa2-fe8c-801cf0740fd8"
      },
      "execution_count": null,
      "outputs": [
        {
          "output_type": "execute_result",
          "data": {
            "text/plain": [
              "1"
            ]
          },
          "metadata": {},
          "execution_count": 65
        }
      ]
    },
    {
      "cell_type": "markdown",
      "source": [
        "1D tensor is vector.\n",
        "\n",
        "Shape has only one parameter"
      ],
      "metadata": {
        "id": "BKKJyD4CGHVk"
      }
    },
    {
      "cell_type": "code",
      "source": [
        "vector_1D = tf.constant([1, 2, 3, 4, 5, 6, 7, 8, 9, 0])\n",
        "vector_1D"
      ],
      "metadata": {
        "colab": {
          "base_uri": "https://localhost:8080/"
        },
        "id": "KLTGRk9qGGjF",
        "outputId": "c14c69a8-0040-458d-80ee-43defbc85348"
      },
      "execution_count": null,
      "outputs": [
        {
          "output_type": "execute_result",
          "data": {
            "text/plain": [
              "<tf.Tensor: shape=(10,), dtype=int32, numpy=array([1, 2, 3, 4, 5, 6, 7, 8, 9, 0], dtype=int32)>"
            ]
          },
          "metadata": {},
          "execution_count": 66
        }
      ]
    },
    {
      "cell_type": "code",
      "source": [
        "mat_2D = tf.constant([[-1,-2,-3,-4],\n",
        "                      [5,6,7,8],\n",
        "                      [9,0,1,2]]) \n",
        "mat_2D"
      ],
      "metadata": {
        "colab": {
          "base_uri": "https://localhost:8080/"
        },
        "id": "1VvxCCnJGooT",
        "outputId": "5c0ee6c7-963e-41d8-a673-a32095b2d3c7"
      },
      "execution_count": null,
      "outputs": [
        {
          "output_type": "execute_result",
          "data": {
            "text/plain": [
              "<tf.Tensor: shape=(3, 4), dtype=int32, numpy=\n",
              "array([[-1, -2, -3, -4],\n",
              "       [ 5,  6,  7,  8],\n",
              "       [ 9,  0,  1,  2]], dtype=int32)>"
            ]
          },
          "metadata": {},
          "execution_count": 67
        }
      ]
    },
    {
      "cell_type": "code",
      "source": [
        "mat_2D = tf.constant([-1,-2,-3,-4,5,6,7,8,9,0,1,2], shape = (3,4)) \n",
        "mat_2D"
      ],
      "metadata": {
        "colab": {
          "base_uri": "https://localhost:8080/"
        },
        "id": "3YW02UEnG96y",
        "outputId": "4fcaaeb1-34c4-4001-f2c4-7706f06951cd"
      },
      "execution_count": null,
      "outputs": [
        {
          "output_type": "execute_result",
          "data": {
            "text/plain": [
              "<tf.Tensor: shape=(3, 4), dtype=int32, numpy=\n",
              "array([[-1, -2, -3, -4],\n",
              "       [ 5,  6,  7,  8],\n",
              "       [ 9,  0,  1,  2]], dtype=int32)>"
            ]
          },
          "metadata": {},
          "execution_count": 68
        }
      ]
    },
    {
      "cell_type": "markdown",
      "source": [
        "creating sequence of numbers"
      ],
      "metadata": {
        "id": "v4YPvWH-JAMN"
      }
    },
    {
      "cell_type": "code",
      "source": [
        "seq_nums = tf.range(start = 11,limit = 20, delta = 1)  # give start and end number the delta is the interval\n",
        "seq_nums.numpy()"
      ],
      "metadata": {
        "colab": {
          "base_uri": "https://localhost:8080/"
        },
        "id": "aqYsQRn7I8At",
        "outputId": "fe662407-048d-4611-87aa-667e87fef7e1"
      },
      "execution_count": null,
      "outputs": [
        {
          "output_type": "execute_result",
          "data": {
            "text/plain": [
              "array([11, 12, 13, 14, 15, 16, 17, 18, 19], dtype=int32)"
            ]
          },
          "metadata": {},
          "execution_count": 69
        }
      ]
    },
    {
      "cell_type": "code",
      "source": [
        "seq_nums = tf.range(start = 15, limit = 20, delta = 0.5).numpy()\n",
        "seq_nums"
      ],
      "metadata": {
        "colab": {
          "base_uri": "https://localhost:8080/"
        },
        "id": "1I0J906dJMe8",
        "outputId": "4aeeb920-e793-4c8c-f89c-19501be0ba26"
      },
      "execution_count": null,
      "outputs": [
        {
          "output_type": "execute_result",
          "data": {
            "text/plain": [
              "array([15. , 15.5, 16. , 16.5, 17. , 17.5, 18. , 18.5, 19. , 19.5],\n",
              "      dtype=float32)"
            ]
          },
          "metadata": {},
          "execution_count": 70
        }
      ]
    },
    {
      "cell_type": "markdown",
      "source": [
        "Slicing\n",
        "\n",
        "This is same as numpy slicing."
      ],
      "metadata": {
        "id": "H2SmHnuzJ1Cz"
      }
    },
    {
      "cell_type": "code",
      "source": [
        "arr_nums = tf.range(start = 1, limit = 20)\n",
        "arr_nums"
      ],
      "metadata": {
        "colab": {
          "base_uri": "https://localhost:8080/"
        },
        "id": "Yl3_lbrCJzZb",
        "outputId": "708985c5-5a30-4842-c5cb-d5ca209cea56"
      },
      "execution_count": null,
      "outputs": [
        {
          "output_type": "execute_result",
          "data": {
            "text/plain": [
              "<tf.Tensor: shape=(19,), dtype=int32, numpy=\n",
              "array([ 1,  2,  3,  4,  5,  6,  7,  8,  9, 10, 11, 12, 13, 14, 15, 16, 17,\n",
              "       18, 19], dtype=int32)>"
            ]
          },
          "metadata": {},
          "execution_count": 71
        }
      ]
    },
    {
      "cell_type": "code",
      "source": [
        "arr_nums[13:19].numpy() \n"
      ],
      "metadata": {
        "colab": {
          "base_uri": "https://localhost:8080/"
        },
        "id": "eqoL353hKBGg",
        "outputId": "f3eaf8ff-0015-4012-f6d8-9c745718d768"
      },
      "execution_count": null,
      "outputs": [
        {
          "output_type": "execute_result",
          "data": {
            "text/plain": [
              "array([14, 15, 16, 17, 18, 19], dtype=int32)"
            ]
          },
          "metadata": {},
          "execution_count": 72
        }
      ]
    },
    {
      "cell_type": "code",
      "source": [
        "matrix_2D = tf.constant(tf.range(10, dtype = tf.float32), shape = (2,5))\n",
        "matrix_2D"
      ],
      "metadata": {
        "colab": {
          "base_uri": "https://localhost:8080/"
        },
        "id": "C7lR7MDwKJtT",
        "outputId": "41203fed-470d-4060-ad79-17ccdc467a97"
      },
      "execution_count": null,
      "outputs": [
        {
          "output_type": "execute_result",
          "data": {
            "text/plain": [
              "<tf.Tensor: shape=(2, 5), dtype=float32, numpy=\n",
              "array([[0., 1., 2., 3., 4.],\n",
              "       [5., 6., 7., 8., 9.]], dtype=float32)>"
            ]
          },
          "metadata": {},
          "execution_count": 73
        }
      ]
    },
    {
      "cell_type": "code",
      "source": [
        "matrix_2D[1:3, 2:4]"
      ],
      "metadata": {
        "colab": {
          "base_uri": "https://localhost:8080/"
        },
        "id": "aSaFwTsCKfMu",
        "outputId": "a0fc972e-8c4f-43cb-ced1-8ed5ffeed499"
      },
      "execution_count": null,
      "outputs": [
        {
          "output_type": "execute_result",
          "data": {
            "text/plain": [
              "<tf.Tensor: shape=(1, 2), dtype=float32, numpy=array([[7., 8.]], dtype=float32)>"
            ]
          },
          "metadata": {},
          "execution_count": 74
        }
      ]
    },
    {
      "cell_type": "markdown",
      "source": [
        "Transpose of matrix"
      ],
      "metadata": {
        "id": "W4goe2SwLHFJ"
      }
    },
    {
      "cell_type": "code",
      "source": [
        "matrix_2D"
      ],
      "metadata": {
        "colab": {
          "base_uri": "https://localhost:8080/"
        },
        "id": "KBKC_txTKjKa",
        "outputId": "1fdf9e16-87b8-4da5-b054-e94ec1fc606b"
      },
      "execution_count": null,
      "outputs": [
        {
          "output_type": "execute_result",
          "data": {
            "text/plain": [
              "<tf.Tensor: shape=(2, 5), dtype=float32, numpy=\n",
              "array([[0., 1., 2., 3., 4.],\n",
              "       [5., 6., 7., 8., 9.]], dtype=float32)>"
            ]
          },
          "metadata": {},
          "execution_count": 75
        }
      ]
    },
    {
      "cell_type": "code",
      "source": [
        "tf.transpose(matrix_2D)"
      ],
      "metadata": {
        "colab": {
          "base_uri": "https://localhost:8080/"
        },
        "id": "T_od2xb6LMcx",
        "outputId": "a3c5dc9e-b4ad-4bed-9cb8-f21f0fbce9fc"
      },
      "execution_count": null,
      "outputs": [
        {
          "output_type": "execute_result",
          "data": {
            "text/plain": [
              "<tf.Tensor: shape=(5, 2), dtype=float32, numpy=\n",
              "array([[0., 5.],\n",
              "       [1., 6.],\n",
              "       [2., 7.],\n",
              "       [3., 8.],\n",
              "       [4., 9.]], dtype=float32)>"
            ]
          },
          "metadata": {},
          "execution_count": 76
        }
      ]
    },
    {
      "cell_type": "markdown",
      "source": [
        "Identity matrix"
      ],
      "metadata": {
        "id": "uxQGTCp2LVQ4"
      }
    },
    {
      "cell_type": "code",
      "source": [
        "tf.linalg.eye(4)"
      ],
      "metadata": {
        "colab": {
          "base_uri": "https://localhost:8080/"
        },
        "id": "pBwmUStnLRLf",
        "outputId": "f37fc251-3cb2-4b2b-cb11-60425873f0d8"
      },
      "execution_count": null,
      "outputs": [
        {
          "output_type": "execute_result",
          "data": {
            "text/plain": [
              "<tf.Tensor: shape=(4, 4), dtype=float32, numpy=\n",
              "array([[1., 0., 0., 0.],\n",
              "       [0., 1., 0., 0.],\n",
              "       [0., 0., 1., 0.],\n",
              "       [0., 0., 0., 1.]], dtype=float32)>"
            ]
          },
          "metadata": {},
          "execution_count": 77
        }
      ]
    },
    {
      "cell_type": "markdown",
      "source": [
        "Diagonal matrix"
      ],
      "metadata": {
        "id": "Uw1OA9P_Lj9m"
      }
    },
    {
      "cell_type": "code",
      "source": [
        "tf.linalg.diag([1,2,3,4])"
      ],
      "metadata": {
        "colab": {
          "base_uri": "https://localhost:8080/"
        },
        "id": "s9ImZp0oLhiA",
        "outputId": "fb8a7966-4fe1-403d-b769-ea66f526855e"
      },
      "execution_count": null,
      "outputs": [
        {
          "output_type": "execute_result",
          "data": {
            "text/plain": [
              "<tf.Tensor: shape=(4, 4), dtype=int32, numpy=\n",
              "array([[1, 0, 0, 0],\n",
              "       [0, 2, 0, 0],\n",
              "       [0, 0, 3, 0],\n",
              "       [0, 0, 0, 4]], dtype=int32)>"
            ]
          },
          "metadata": {},
          "execution_count": 78
        }
      ]
    },
    {
      "cell_type": "code",
      "source": [
        "tf.linalg.tensor_diag(tf.constant([1,2,3,4.]))"
      ],
      "metadata": {
        "colab": {
          "base_uri": "https://localhost:8080/"
        },
        "id": "efStdpcOLsH4",
        "outputId": "1ac0d9e4-f20c-47fb-e888-164c2f1da6f9"
      },
      "execution_count": null,
      "outputs": [
        {
          "output_type": "execute_result",
          "data": {
            "text/plain": [
              "<tf.Tensor: shape=(4, 4), dtype=float32, numpy=\n",
              "array([[1., 0., 0., 0.],\n",
              "       [0., 2., 0., 0.],\n",
              "       [0., 0., 3., 0.],\n",
              "       [0., 0., 0., 4.]], dtype=float32)>"
            ]
          },
          "metadata": {},
          "execution_count": 79
        }
      ]
    },
    {
      "cell_type": "markdown",
      "source": [
        "matrix of all zeros"
      ],
      "metadata": {
        "id": "hJ9G51gNafjW"
      }
    },
    {
      "cell_type": "code",
      "source": [
        "zero_matrix = tf.zeros(shape = (2,2), dtype = tf.float32) #matrix of size 2x2\n",
        "zero_matrix"
      ],
      "metadata": {
        "colab": {
          "base_uri": "https://localhost:8080/"
        },
        "id": "I-p1N2qILy_f",
        "outputId": "6c264d73-70d0-4a10-c864-422fb3453bc6"
      },
      "execution_count": null,
      "outputs": [
        {
          "output_type": "execute_result",
          "data": {
            "text/plain": [
              "<tf.Tensor: shape=(2, 2), dtype=float32, numpy=\n",
              "array([[0., 0.],\n",
              "       [0., 0.]], dtype=float32)>"
            ]
          },
          "metadata": {},
          "execution_count": 80
        }
      ]
    },
    {
      "cell_type": "markdown",
      "source": [
        "matrix of all ones"
      ],
      "metadata": {
        "id": "39glve02awX8"
      }
    },
    {
      "cell_type": "code",
      "source": [
        "one_matrix = tf.ones(shape = (2,2), dtype = tf.int32) #matrix of size 2x2\n",
        "one_matrix"
      ],
      "metadata": {
        "colab": {
          "base_uri": "https://localhost:8080/"
        },
        "id": "vpNiRaylavKk",
        "outputId": "22649cac-03e9-4ffa-e688-d834ef8a184e"
      },
      "execution_count": null,
      "outputs": [
        {
          "output_type": "execute_result",
          "data": {
            "text/plain": [
              "<tf.Tensor: shape=(2, 2), dtype=int32, numpy=\n",
              "array([[1, 1],\n",
              "       [1, 1]], dtype=int32)>"
            ]
          },
          "metadata": {},
          "execution_count": 81
        }
      ]
    },
    {
      "cell_type": "markdown",
      "source": [
        "Random uniqform matrix"
      ],
      "metadata": {
        "id": "V4-nBeCrbFWa"
      }
    },
    {
      "cell_type": "code",
      "source": [
        "rand_mat = tf.random.uniform(shape = (2,2), minval = 0, maxval = 4, seed= 32)\n",
        "rand_mat"
      ],
      "metadata": {
        "colab": {
          "base_uri": "https://localhost:8080/"
        },
        "id": "wLlUkTI8bDPy",
        "outputId": "abbb49f5-a05e-4861-a355-b8bdfddf27a4"
      },
      "execution_count": null,
      "outputs": [
        {
          "output_type": "execute_result",
          "data": {
            "text/plain": [
              "<tf.Tensor: shape=(2, 2), dtype=float32, numpy=\n",
              "array([[0.67096615, 1.7603464 ],\n",
              "       [1.9285107 , 3.4704132 ]], dtype=float32)>"
            ]
          },
          "metadata": {},
          "execution_count": 82
        }
      ]
    },
    {
      "cell_type": "markdown",
      "source": [
        "random matrix of integers"
      ],
      "metadata": {
        "id": "moZOVDYlbUhe"
      }
    },
    {
      "cell_type": "code",
      "source": [
        "int_matrix = tf.random.uniform(shape = (4,4), minval= 1, maxval = 20, dtype = tf.int32, seed = 1234)\n",
        "int_matrix"
      ],
      "metadata": {
        "colab": {
          "base_uri": "https://localhost:8080/"
        },
        "id": "DKaSK_x-bQvL",
        "outputId": "c5f1c121-1e4c-4c1c-eb5b-1baa239662e5"
      },
      "execution_count": null,
      "outputs": [
        {
          "output_type": "execute_result",
          "data": {
            "text/plain": [
              "<tf.Tensor: shape=(4, 4), dtype=int32, numpy=\n",
              "array([[ 4, 15,  7, 18],\n",
              "       [15, 16,  2, 17],\n",
              "       [17,  7, 12, 13],\n",
              "       [ 2, 16, 13,  2]], dtype=int32)>"
            ]
          },
          "metadata": {},
          "execution_count": 83
        }
      ]
    },
    {
      "cell_type": "markdown",
      "source": [
        "sparse matrix:   \n",
        "first argument is set of indices and second argument is the values of those indices. "
      ],
      "metadata": {
        "id": "iZifKhnUjBfa"
      }
    },
    {
      "cell_type": "code",
      "source": [
        "sparse_matrix = tf.sparse.SparseTensor([[0,1],[1,3],[3,2]], [-5, -10, 7], dense_shape= (5,5))\n",
        "sparse_matrix"
      ],
      "metadata": {
        "colab": {
          "base_uri": "https://localhost:8080/"
        },
        "id": "jm7Ee5hjbeyp",
        "outputId": "937fa3bf-b355-45c3-fb29-00e5c04a9cbf"
      },
      "execution_count": null,
      "outputs": [
        {
          "output_type": "execute_result",
          "data": {
            "text/plain": [
              "<tensorflow.python.framework.sparse_tensor.SparseTensor at 0x7f21dc393b50>"
            ]
          },
          "metadata": {},
          "execution_count": 84
        }
      ]
    },
    {
      "cell_type": "code",
      "source": [
        "tf.sparse.to_dense(sparse_matrix) # to print sparse matrix \n"
      ],
      "metadata": {
        "colab": {
          "base_uri": "https://localhost:8080/"
        },
        "id": "bNYsvInGjqLT",
        "outputId": "71885c79-e637-40a9-9554-ed9b33b32165"
      },
      "execution_count": null,
      "outputs": [
        {
          "output_type": "execute_result",
          "data": {
            "text/plain": [
              "<tf.Tensor: shape=(5, 5), dtype=int32, numpy=\n",
              "array([[  0,  -5,   0,   0,   0],\n",
              "       [  0,   0,   0, -10,   0],\n",
              "       [  0,   0,   0,   0,   0],\n",
              "       [  0,   0,   7,   0,   0],\n",
              "       [  0,   0,   0,   0,   0]], dtype=int32)>"
            ]
          },
          "metadata": {},
          "execution_count": 85
        }
      ]
    },
    {
      "cell_type": "markdown",
      "source": [
        "Matrix Multiplication\n",
        "\n",
        "To multiply two vectors, two matrices or a matrix and a vector in a linear algebra using \"limalg.matmul\""
      ],
      "metadata": {
        "id": "GdvXEM3TA1Bc"
      }
    },
    {
      "cell_type": "code",
      "source": [
        "vector_1 = tf.constant([1, 2, 3], shape = (3,1))\n",
        "vector_1"
      ],
      "metadata": {
        "colab": {
          "base_uri": "https://localhost:8080/"
        },
        "id": "HzbwIg8IAsBN",
        "outputId": "ef8dc671-9d08-417e-96e4-8ef55345d4e5"
      },
      "execution_count": null,
      "outputs": [
        {
          "output_type": "execute_result",
          "data": {
            "text/plain": [
              "<tf.Tensor: shape=(3, 1), dtype=int32, numpy=\n",
              "array([[1],\n",
              "       [2],\n",
              "       [3]], dtype=int32)>"
            ]
          },
          "metadata": {},
          "execution_count": 86
        }
      ]
    },
    {
      "cell_type": "markdown",
      "source": [
        "Inner Product"
      ],
      "metadata": {
        "id": "ZpHoj0XYBpH5"
      }
    },
    {
      "cell_type": "code",
      "source": [
        "vector_2 = tf.constant([2, 3, 4], shape = (3,1))\n",
        "result_inner = tf.matmul(a = vector_1, b = vector_2, transpose_a=True)\n",
        "result_inner.numpy()"
      ],
      "metadata": {
        "colab": {
          "base_uri": "https://localhost:8080/"
        },
        "id": "9JC1maNlBVbT",
        "outputId": "826b56a2-7915-4bf5-a508-2e707561a499"
      },
      "execution_count": null,
      "outputs": [
        {
          "output_type": "execute_result",
          "data": {
            "text/plain": [
              "array([[20]], dtype=int32)"
            ]
          },
          "metadata": {},
          "execution_count": 87
        }
      ]
    },
    {
      "cell_type": "markdown",
      "source": [
        "Outer Product"
      ],
      "metadata": {
        "id": "__iY0Fg_Bq73"
      }
    },
    {
      "cell_type": "code",
      "source": [
        "result_outer = tf.matmul(a = vector_1, b = vector_2, transpose_b = True) # Outer product\n",
        "result_outer"
      ],
      "metadata": {
        "colab": {
          "base_uri": "https://localhost:8080/"
        },
        "id": "rpJYk4orBn1S",
        "outputId": "d4e3dd38-2723-49e1-b634-9e9bce727440"
      },
      "execution_count": null,
      "outputs": [
        {
          "output_type": "execute_result",
          "data": {
            "text/plain": [
              "<tf.Tensor: shape=(3, 3), dtype=int32, numpy=\n",
              "array([[ 2,  3,  4],\n",
              "       [ 4,  6,  8],\n",
              "       [ 6,  9, 12]], dtype=int32)>"
            ]
          },
          "metadata": {},
          "execution_count": 88
        }
      ]
    },
    {
      "cell_type": "markdown",
      "source": [
        "Matrix multiplication with vector"
      ],
      "metadata": {
        "id": "4K4Ph2KBB4mA"
      }
    },
    {
      "cell_type": "code",
      "source": [
        "mat = tf.constant([1,2,3,4,5,6],shape = (2,3), dtype = tf.int32)\n",
        "mat"
      ],
      "metadata": {
        "colab": {
          "base_uri": "https://localhost:8080/"
        },
        "id": "pG5oQK0EB8ic",
        "outputId": "35d09822-1591-448f-fbc4-511987ff4360"
      },
      "execution_count": null,
      "outputs": [
        {
          "output_type": "execute_result",
          "data": {
            "text/plain": [
              "<tf.Tensor: shape=(2, 3), dtype=int32, numpy=\n",
              "array([[1, 2, 3],\n",
              "       [4, 5, 6]], dtype=int32)>"
            ]
          },
          "metadata": {},
          "execution_count": 89
        }
      ]
    },
    {
      "cell_type": "code",
      "source": [
        "tf.matmul(a = mat, b = vector_1).numpy()"
      ],
      "metadata": {
        "colab": {
          "base_uri": "https://localhost:8080/"
        },
        "id": "5QAYuEgPCCh2",
        "outputId": "1bdd6b70-aa80-4dde-fbd9-c0a83bd1264c"
      },
      "execution_count": null,
      "outputs": [
        {
          "output_type": "execute_result",
          "data": {
            "text/plain": [
              "array([[14],\n",
              "       [32]], dtype=int32)"
            ]
          },
          "metadata": {},
          "execution_count": 90
        }
      ]
    },
    {
      "cell_type": "markdown",
      "source": [
        "Multiplying two matrices"
      ],
      "metadata": {
        "id": "tu8ytm82CTW2"
      }
    },
    {
      "cell_type": "code",
      "source": [
        "tf.linalg.matmul(a = mat, b = mat, transpose_a=True).numpy() "
      ],
      "metadata": {
        "colab": {
          "base_uri": "https://localhost:8080/"
        },
        "id": "qnZVKqRfCQx4",
        "outputId": "d801fd8d-d13f-407c-fc21-0dcc4853a64f"
      },
      "execution_count": null,
      "outputs": [
        {
          "output_type": "execute_result",
          "data": {
            "text/plain": [
              "array([[17, 22, 27],\n",
              "       [22, 29, 36],\n",
              "       [27, 36, 45]], dtype=int32)"
            ]
          },
          "metadata": {},
          "execution_count": 91
        }
      ]
    },
    {
      "cell_type": "markdown",
      "source": [
        "Operations on matrices"
      ],
      "metadata": {
        "id": "1DxagaddCp0G"
      }
    },
    {
      "cell_type": "code",
      "source": [
        "mat"
      ],
      "metadata": {
        "colab": {
          "base_uri": "https://localhost:8080/"
        },
        "id": "EiL_XDm7Cy-s",
        "outputId": "18e445e7-f3d4-43a0-ec23-f57f945bd405"
      },
      "execution_count": null,
      "outputs": [
        {
          "output_type": "execute_result",
          "data": {
            "text/plain": [
              "<tf.Tensor: shape=(2, 3), dtype=int32, numpy=\n",
              "array([[1, 2, 3],\n",
              "       [4, 5, 6]], dtype=int32)>"
            ]
          },
          "metadata": {},
          "execution_count": 92
        }
      ]
    },
    {
      "cell_type": "markdown",
      "source": [
        "Trace of matrix"
      ],
      "metadata": {
        "id": "DwCFTq11DtV4"
      }
    },
    {
      "cell_type": "code",
      "source": [
        "tf.linalg.trace(mat).numpy()"
      ],
      "metadata": {
        "colab": {
          "base_uri": "https://localhost:8080/"
        },
        "id": "3DIOAhSjCjP_",
        "outputId": "cbe70edd-4c37-4dae-dcb2-8e7712106b15"
      },
      "execution_count": null,
      "outputs": [
        {
          "output_type": "execute_result",
          "data": {
            "text/plain": [
              "6"
            ]
          },
          "metadata": {},
          "execution_count": 93
        }
      ]
    },
    {
      "cell_type": "markdown",
      "source": [
        "Rank of Matrix"
      ],
      "metadata": {
        "id": "5uh6rBIyDwKQ"
      }
    },
    {
      "cell_type": "code",
      "source": [
        "matrix = tf.constant([[2,6,4],\n",
        "                      [6,8,3],\n",
        "                   [5,1,9.]])"
      ],
      "metadata": {
        "id": "Q_8HMX9kEm6W"
      },
      "execution_count": null,
      "outputs": []
    },
    {
      "cell_type": "code",
      "source": [
        "rank = tf.linalg.matrix_rank(matrix)\n",
        "rank.numpy()"
      ],
      "metadata": {
        "colab": {
          "base_uri": "https://localhost:8080/"
        },
        "id": "mKq6PkNNDypR",
        "outputId": "010c2480-b069-4617-b649-7924afa30ded"
      },
      "execution_count": null,
      "outputs": [
        {
          "output_type": "execute_result",
          "data": {
            "text/plain": [
              "3"
            ]
          },
          "metadata": {},
          "execution_count": 95
        }
      ]
    },
    {
      "cell_type": "markdown",
      "source": [
        "Determinant"
      ],
      "metadata": {
        "id": "h6XNJXOmE6MO"
      }
    },
    {
      "cell_type": "code",
      "source": [
        "tf.linalg.det(matrix).numpy()"
      ],
      "metadata": {
        "colab": {
          "base_uri": "https://localhost:8080/"
        },
        "id": "BP0rNYGSEy5Y",
        "outputId": "004fe39b-7500-41b9-ddd8-18d27ba11de8"
      },
      "execution_count": null,
      "outputs": [
        {
          "output_type": "execute_result",
          "data": {
            "text/plain": [
              "-231.99998"
            ]
          },
          "metadata": {},
          "execution_count": 96
        }
      ]
    },
    {
      "cell_type": "markdown",
      "source": [
        "Matrix Inverse"
      ],
      "metadata": {
        "id": "16eTKZcUFTg-"
      }
    },
    {
      "cell_type": "code",
      "source": [
        "mat_inv = tf.linalg.inv(matrix)\n",
        "print(mat_inv)"
      ],
      "metadata": {
        "colab": {
          "base_uri": "https://localhost:8080/"
        },
        "id": "TvuD5-BrFR_c",
        "outputId": "d7328ece-4656-4091-dd0d-5ae1d5cb7ff4"
      },
      "execution_count": null,
      "outputs": [
        {
          "output_type": "stream",
          "name": "stdout",
          "text": [
            "tf.Tensor(\n",
            "[[-0.2974138   0.21551722  0.06034485]\n",
            " [ 0.16810344  0.0086207  -0.07758622]\n",
            " [ 0.14655171 -0.12068965  0.08620689]], shape=(3, 3), dtype=float32)\n"
          ]
        }
      ]
    },
    {
      "cell_type": "markdown",
      "source": [
        "extract diagonals of a matrix"
      ],
      "metadata": {
        "id": "0-cS4DtLIeVN"
      }
    },
    {
      "cell_type": "code",
      "source": [
        "tf.linalg.diag_part(matrix).numpy()"
      ],
      "metadata": {
        "colab": {
          "base_uri": "https://localhost:8080/"
        },
        "id": "4kY5ZlMFFnrW",
        "outputId": "2d79ab08-8da8-439d-ab5d-acd03c0b2e60"
      },
      "execution_count": null,
      "outputs": [
        {
          "output_type": "execute_result",
          "data": {
            "text/plain": [
              "array([2., 8., 9.], dtype=float32)"
            ]
          },
          "metadata": {},
          "execution_count": 98
        }
      ]
    },
    {
      "cell_type": "markdown",
      "source": [
        "SVD"
      ],
      "metadata": {
        "id": "OLysuhtFJUSZ"
      }
    },
    {
      "cell_type": "code",
      "source": [
        "\n",
        "s,u,v = tf.linalg.svd(matrix)\n",
        "print(\"S:\")\n",
        "print(s)\n",
        "print()\n",
        "print(\"U:\")\n",
        "print(u)\n",
        "print()\n",
        "print(\"V:\")\n",
        "print(v)"
      ],
      "metadata": {
        "colab": {
          "base_uri": "https://localhost:8080/"
        },
        "id": "GRPy0UTvIsdt",
        "outputId": "efda3f68-ac49-4983-fa00-3b9affdf0714"
      },
      "execution_count": null,
      "outputs": [
        {
          "output_type": "stream",
          "name": "stdout",
          "text": [
            "S:\n",
            "tf.Tensor([14.840091   6.8203974  2.2921445], shape=(3,), dtype=float32)\n",
            "\n",
            "U:\n",
            "tf.Tensor(\n",
            "[[ 0.4734077  -0.24942522 -0.8447913 ]\n",
            " [ 0.6523388  -0.545183    0.5265261 ]\n",
            " [ 0.5918947   0.80035156  0.09538408]], shape=(3, 3), dtype=float32)\n",
            "\n",
            "V:\n",
            "tf.Tensor(\n",
            "[[ 0.5269728   0.03398758  0.84920233]\n",
            " [ 0.5829514  -0.7415499  -0.33207157]\n",
            " [ 0.6184396   0.6700364  -0.4105896 ]], shape=(3, 3), dtype=float32)\n"
          ]
        }
      ]
    },
    {
      "cell_type": "markdown",
      "source": [
        "Eigen values and eigen vectors"
      ],
      "metadata": {
        "id": "0yoguSqzJiVp"
      }
    },
    {
      "cell_type": "code",
      "source": [
        "values, vectors = tf.linalg.eigh(matrix)\n",
        "print(\"Eigenvalues:\")\n",
        "print(values.numpy())\n",
        "print()\n",
        "print(\"Eigenvectors:\")\n",
        "print(vectors.numpy())"
      ],
      "metadata": {
        "colab": {
          "base_uri": "https://localhost:8080/"
        },
        "id": "MpuPEw4gJaHa",
        "outputId": "d6b0f866-77cf-4bdf-f6a9-93832f80e5f9"
      },
      "execution_count": null,
      "outputs": [
        {
          "output_type": "stream",
          "name": "stdout",
          "text": [
            "Eigenvalues:\n",
            "[-2.956471   7.5711837 14.385289 ]\n",
            "\n",
            "Eigenvectors:\n",
            "[[-0.84384084  0.0734776  -0.5315391 ]\n",
            " [ 0.4332049   0.67783624 -0.59403   ]\n",
            " [ 0.31664857 -0.7315319  -0.60381675]]\n"
          ]
        }
      ]
    },
    {
      "cell_type": "markdown",
      "source": [
        "Solve Linear equation\n",
        "\n",
        "Ax=b"
      ],
      "metadata": {
        "id": "ht4ZOY-NKE2x"
      }
    },
    {
      "cell_type": "code",
      "source": [
        "A = tf.constant([[1,1,1],\n",
        "                 [1,5,5],\n",
        "                 [1,5,13]], dtype = tf.float32)\n",
        "b = tf.constant([3,11,20], shape = (3,1), dtype = tf.float32)\n",
        "tf.linalg.solve(A,b)"
      ],
      "metadata": {
        "colab": {
          "base_uri": "https://localhost:8080/"
        },
        "id": "gy4p5_u2J1BS",
        "outputId": "4352d662-f872-4302-c97b-48de1d334aae"
      },
      "execution_count": null,
      "outputs": [
        {
          "output_type": "execute_result",
          "data": {
            "text/plain": [
              "<tf.Tensor: shape=(3, 1), dtype=float32, numpy=\n",
              "array([[1.   ],\n",
              "       [0.875],\n",
              "       [1.125]], dtype=float32)>"
            ]
          },
          "metadata": {},
          "execution_count": 101
        }
      ]
    },
    {
      "cell_type": "markdown",
      "source": [
        "einsum using tensorflow"
      ],
      "metadata": {
        "id": "7AxWMYID-CQw"
      }
    },
    {
      "cell_type": "markdown",
      "source": [
        "Matrix multiplication"
      ],
      "metadata": {
        "id": "MlMyqlu3-HD-"
      }
    },
    {
      "cell_type": "code",
      "source": [
        "matrix1 = tf.random.normal(shape=[2, 3])\n",
        "matrix1"
      ],
      "metadata": {
        "colab": {
          "base_uri": "https://localhost:8080/"
        },
        "id": "SZrp0qhP-O93",
        "outputId": "8cda02ea-b6cb-4e57-ea31-817a90e17fa1"
      },
      "execution_count": null,
      "outputs": [
        {
          "output_type": "execute_result",
          "data": {
            "text/plain": [
              "<tf.Tensor: shape=(2, 3), dtype=float32, numpy=\n",
              "array([[-0.29369   ,  0.24478634, -0.04164693],\n",
              "       [-1.440479  , -0.9627694 ,  0.63662875]], dtype=float32)>"
            ]
          },
          "metadata": {},
          "execution_count": 102
        }
      ]
    },
    {
      "cell_type": "code",
      "source": [
        "matrix2 = tf.random.normal(shape=[3, 5])\n",
        "matrix2"
      ],
      "metadata": {
        "colab": {
          "base_uri": "https://localhost:8080/"
        },
        "id": "QpRH2joG-TUF",
        "outputId": "a23c2616-c1a8-4b5d-ec02-4c4ae3c21e0d"
      },
      "execution_count": null,
      "outputs": [
        {
          "output_type": "execute_result",
          "data": {
            "text/plain": [
              "<tf.Tensor: shape=(3, 5), dtype=float32, numpy=\n",
              "array([[ 0.64735574, -0.43018475,  0.54094315,  0.5672857 ,  2.2401955 ],\n",
              "       [ 1.9242879 , -0.48644465,  0.85383445,  0.8598504 , -0.37961298],\n",
              "       [ 0.9786258 ,  0.27815568, -0.01706187, -0.17818096, -0.43721738]],\n",
              "      dtype=float32)>"
            ]
          },
          "metadata": {},
          "execution_count": 103
        }
      ]
    },
    {
      "cell_type": "code",
      "source": [
        "mat_multi = tf.einsum('ij,jk->ik', matrix1, matrix2)\n",
        "mat_multi"
      ],
      "metadata": {
        "colab": {
          "base_uri": "https://localhost:8080/"
        },
        "id": "lXMJBMdZ-Bn-",
        "outputId": "40934b53-6f9a-4319-b37b-8c26aeadcde7"
      },
      "execution_count": null,
      "outputs": [
        {
          "output_type": "execute_result",
          "data": {
            "text/plain": [
              "<tf.Tensor: shape=(2, 5), dtype=float32, numpy=\n",
              "array([[ 0.2401607 , -0.00431838,  0.05084799,  0.05129418, -0.7326383 ],\n",
              "       [-2.1621265 ,  1.2650881 , -1.612125  , -1.758436  , -3.13982   ]],\n",
              "      dtype=float32)>"
            ]
          },
          "metadata": {},
          "execution_count": 104
        }
      ]
    },
    {
      "cell_type": "markdown",
      "source": [
        "Dot product"
      ],
      "metadata": {
        "id": "QpkkWKSb-hO-"
      }
    },
    {
      "cell_type": "code",
      "source": [
        "vector1=tf.random.normal(shape=[5])\n",
        "vector1"
      ],
      "metadata": {
        "colab": {
          "base_uri": "https://localhost:8080/"
        },
        "id": "_g0jAgWS-nc0",
        "outputId": "0cea1ab8-855a-4b4d-9978-8aaa3379fc73"
      },
      "execution_count": null,
      "outputs": [
        {
          "output_type": "execute_result",
          "data": {
            "text/plain": [
              "<tf.Tensor: shape=(5,), dtype=float32, numpy=\n",
              "array([-0.25702372, -0.29355085,  0.89689755,  1.9278771 ,  0.43577978],\n",
              "      dtype=float32)>"
            ]
          },
          "metadata": {},
          "execution_count": 105
        }
      ]
    },
    {
      "cell_type": "code",
      "source": [
        "vector2 = tf.random.normal(shape=[5])\n",
        "vector2"
      ],
      "metadata": {
        "colab": {
          "base_uri": "https://localhost:8080/"
        },
        "id": "mdnS-SN9-sf9",
        "outputId": "ff8efbdb-d938-4a64-d795-4b4fbd0ea36f"
      },
      "execution_count": null,
      "outputs": [
        {
          "output_type": "execute_result",
          "data": {
            "text/plain": [
              "<tf.Tensor: shape=(5,), dtype=float32, numpy=\n",
              "array([-0.7375148 ,  0.14806905,  1.4027451 , -1.6036427 , -0.39453766],\n",
              "      dtype=float32)>"
            ]
          },
          "metadata": {},
          "execution_count": 106
        }
      ]
    },
    {
      "cell_type": "code",
      "source": [
        "dot_product = tf.einsum('i,i->', vector1, vector2)  # output = sum_i u[i]*v[i]\n",
        "dot_product.numpy()"
      ],
      "metadata": {
        "colab": {
          "base_uri": "https://localhost:8080/"
        },
        "id": "NBihP9O4-f04",
        "outputId": "6bf9770d-513c-48ba-b89a-7649541cea90"
      },
      "execution_count": null,
      "outputs": [
        {
          "output_type": "execute_result",
          "data": {
            "text/plain": [
              "-1.8593459"
            ]
          },
          "metadata": {},
          "execution_count": 107
        }
      ]
    },
    {
      "cell_type": "markdown",
      "source": [
        "Outer Product"
      ],
      "metadata": {
        "id": "d5pwqNt6-7gl"
      }
    },
    {
      "cell_type": "code",
      "source": [
        "outer_product = tf.einsum('i,j->ij', vector1, vector2)\n",
        "print(outer_product.shape)\n",
        "print(outer_product)"
      ],
      "metadata": {
        "colab": {
          "base_uri": "https://localhost:8080/"
        },
        "id": "RDaFzNos-6hJ",
        "outputId": "b119927b-ad86-40ad-e3c7-36f343edc8c1"
      },
      "execution_count": null,
      "outputs": [
        {
          "output_type": "stream",
          "name": "stdout",
          "text": [
            "(5, 5)\n",
            "tf.Tensor(\n",
            "[[ 0.1895588  -0.03805726 -0.36053878  0.41217422  0.10140554]\n",
            " [ 0.21649809 -0.0434658  -0.41177702  0.4707507   0.11581686]\n",
            " [-0.66147524  0.13280277  1.2581186  -1.4383032  -0.35385987]\n",
            " [-1.4218378   0.28545892  2.7043202  -3.091626   -0.7606201 ]\n",
            " [-0.32139403  0.0645255   0.61128795 -0.6988351  -0.17193154]], shape=(5, 5), dtype=float32)\n"
          ]
        }
      ]
    },
    {
      "cell_type": "code",
      "source": [
        "mat = tf.reshape(tf.range(9), [3,3])\n",
        "print(mat.numpy())\n",
        "diag = tf.einsum('ii->i', mat)\n",
        "print(diag.numpy())"
      ],
      "metadata": {
        "colab": {
          "base_uri": "https://localhost:8080/"
        },
        "id": "0l4gG_F7_Poo",
        "outputId": "d8af7cec-daa7-4ced-ec2e-7a57b53a5940"
      },
      "execution_count": null,
      "outputs": [
        {
          "output_type": "stream",
          "name": "stdout",
          "text": [
            "[[0 1 2]\n",
            " [3 4 5]\n",
            " [6 7 8]]\n",
            "[0 4 8]\n"
          ]
        }
      ]
    },
    {
      "cell_type": "markdown",
      "source": [
        "Trace"
      ],
      "metadata": {
        "id": "TAeqRDemCIQM"
      }
    },
    {
      "cell_type": "code",
      "source": [
        "trace = tf.einsum('ii', mat)\n",
        "trace.numpy()"
      ],
      "metadata": {
        "colab": {
          "base_uri": "https://localhost:8080/"
        },
        "id": "2p2SKL_4CHk9",
        "outputId": "556e00ee-c765-4cc6-fbd9-5628b042bf9c"
      },
      "execution_count": null,
      "outputs": [
        {
          "output_type": "execute_result",
          "data": {
            "text/plain": [
              "12"
            ]
          },
          "metadata": {},
          "execution_count": 110
        }
      ]
    },
    {
      "cell_type": "markdown",
      "source": [
        "Transpose"
      ],
      "metadata": {
        "id": "d27hLl6PWyI4"
      }
    },
    {
      "cell_type": "code",
      "source": [
        "mat = tf.random.normal(shape=[5,3])\n",
        "mat_transpose = tf.einsum('ij->ji', mat)\n",
        "print(mat_transpose.shape)"
      ],
      "metadata": {
        "colab": {
          "base_uri": "https://localhost:8080/"
        },
        "id": "0Y3Sgl8qVbVi",
        "outputId": "0a341de8-abb6-48f3-b55a-eb98a6546005"
      },
      "execution_count": null,
      "outputs": [
        {
          "output_type": "stream",
          "name": "stdout",
          "text": [
            "(3, 5)\n"
          ]
        }
      ]
    },
    {
      "cell_type": "markdown",
      "source": [
        "Batch Matrix Multiplication"
      ],
      "metadata": {
        "id": "ZOCs8ai2CUvk"
      }
    },
    {
      "cell_type": "code",
      "source": [
        "m1 = tf.random.normal(shape=[7,5,3])\n",
        "m2 = tf.random.normal(shape=[7,3,2])\n",
        "mat_multi = tf.einsum('bij,bjk->bik', m1, m2)\n",
        "mat_multi.shape"
      ],
      "metadata": {
        "colab": {
          "base_uri": "https://localhost:8080/"
        },
        "id": "MhQsLNVJCZBc",
        "outputId": "261151ea-3599-4a63-c641-ba0019e6e8dc"
      },
      "execution_count": null,
      "outputs": [
        {
          "output_type": "execute_result",
          "data": {
            "text/plain": [
              "TensorShape([7, 5, 2])"
            ]
          },
          "metadata": {},
          "execution_count": 112
        }
      ]
    },
    {
      "cell_type": "markdown",
      "source": [
        "for numpy style broadcasting batch matrix multiplication"
      ],
      "metadata": {
        "id": "_zUumaPoXgmK"
      }
    },
    {
      "cell_type": "code",
      "source": [
        "m1 = tf.random.normal(shape=[11,7,5,3])\n",
        "m2 = tf.random.normal(shape=[11,7,3,2])\n",
        "mat_multi = tf.einsum('...ij,...jk->...ik', m1, m2)\n",
        "mat_multi.shape"
      ],
      "metadata": {
        "colab": {
          "base_uri": "https://localhost:8080/"
        },
        "id": "LqbSeVGsXVHG",
        "outputId": "d576a471-c426-49db-de34-9b028af3521d"
      },
      "execution_count": null,
      "outputs": [
        {
          "output_type": "execute_result",
          "data": {
            "text/plain": [
              "TensorShape([11, 7, 5, 2])"
            ]
          },
          "metadata": {},
          "execution_count": 113
        }
      ]
    },
    {
      "cell_type": "markdown",
      "source": [
        "Row Sum"
      ],
      "metadata": {
        "id": "7woCjZ8MYWEc"
      }
    },
    {
      "cell_type": "code",
      "source": [
        "mat = tf.random.normal(shape=[3,2])\n",
        "mat_sum= tf.einsum('ij->i', mat)\n",
        "print(mat_sum.shape)\n",
        "print(mat_sum.numpy())"
      ],
      "metadata": {
        "colab": {
          "base_uri": "https://localhost:8080/"
        },
        "id": "w57B8nVwX2Js",
        "outputId": "bc7aee0b-c258-4423-b522-5c0e7f239741"
      },
      "execution_count": null,
      "outputs": [
        {
          "output_type": "stream",
          "name": "stdout",
          "text": [
            "(3,)\n",
            "[2.4876766  0.22848257 0.9574413 ]\n"
          ]
        }
      ]
    },
    {
      "cell_type": "markdown",
      "source": [
        "Column Sum"
      ],
      "metadata": {
        "id": "scA8pcifYXnr"
      }
    },
    {
      "cell_type": "code",
      "source": [
        "mat = tf.random.normal(shape=[3,2])\n",
        "mat_sum= tf.einsum('ij->j', mat)\n",
        "print(mat_sum.shape)\n",
        "print(mat_sum.numpy())"
      ],
      "metadata": {
        "colab": {
          "base_uri": "https://localhost:8080/"
        },
        "id": "pqhiPd3UYZWK",
        "outputId": "9eb8cbe0-1bc8-42f0-8e76-5839d5549627"
      },
      "execution_count": null,
      "outputs": [
        {
          "output_type": "stream",
          "name": "stdout",
          "text": [
            "(2,)\n",
            "[0.63296366 0.56625164]\n"
          ]
        }
      ]
    },
    {
      "cell_type": "markdown",
      "source": [
        "Tensor Contraction"
      ],
      "metadata": {
        "id": "9kyun8-EYlbv"
      }
    },
    {
      "cell_type": "code",
      "source": [
        "m1 = tf.random.normal(shape=[11,7,5,3])\n",
        "m2 = tf.random.normal(shape=[11,7,3,2])\n",
        "mat_multi = tf.einsum('...ij,...jk->...ik', m1, m2)"
      ],
      "metadata": {
        "id": "Tmrb8pfcYc4e"
      },
      "execution_count": null,
      "outputs": []
    },
    {
      "cell_type": "markdown",
      "source": [
        "Ragged tensor:  \n",
        "Data comes in many shapes, Ragged tensor is the tensorflow  makes it easy to store and process data with non-uniform shapes.\n",
        "\n",
        "Like varibale lenght features: exmaple - set of actors in a movie dataset. \n",
        "batches of variable-length sequential inputs: example - sequences or video clips. \n",
        "Hierarchical inputs: example - text documents that are divided to sections, paras, sentences and words. \n"
      ],
      "metadata": {
        "id": "0VQtDdnpmO7a"
      }
    },
    {
      "cell_type": "code",
      "source": [
        "digits = tf.ragged.constant([[3, 1, 4, 1], [], [5, 9, 2], [6], []])\n",
        "words = tf.ragged.constant([[\"So\", \"long\"], [\"thanks\", \"for\", \"all\", \"the\", \"fish\"]])\n",
        "print(tf.add(digits, 3))\n",
        "print(tf.concat([digits, [[5, 3]]], axis=0))\n",
        "print(tf.tile(digits, [1, 2]))\n",
        "print(tf.strings.substr(words, 0, 2))\n",
        "print(tf.map_fn(tf.math.square, digits))"
      ],
      "metadata": {
        "colab": {
          "base_uri": "https://localhost:8080/"
        },
        "id": "0am-XdYZmOPL",
        "outputId": "7d0e3054-01db-4fda-ccce-42426ccf9973"
      },
      "execution_count": null,
      "outputs": [
        {
          "output_type": "stream",
          "name": "stdout",
          "text": [
            "<tf.RaggedTensor [[6, 4, 7, 4], [], [8, 12, 5], [9], []]>\n",
            "<tf.RaggedTensor [[3, 1, 4, 1], [], [5, 9, 2], [6], [], [5, 3]]>\n",
            "<tf.RaggedTensor [[3, 1, 4, 1, 3, 1, 4, 1], [], [5, 9, 2, 5, 9, 2], [6, 6], []]>\n",
            "<tf.RaggedTensor [[b'So', b'lo'], [b'th', b'fo', b'al', b'th', b'fi']]>\n",
            "<tf.RaggedTensor [[9, 1, 16, 1], [], [25, 81, 4], [36], []]>\n"
          ]
        }
      ]
    },
    {
      "cell_type": "markdown",
      "source": [
        "expand dimensions"
      ],
      "metadata": {
        "id": "Tgq7C4gOn7vd"
      }
    },
    {
      "cell_type": "code",
      "source": [
        "image = tf.zeros([10,10,3])\n",
        "tf.expand_dims(image, axis=0).shape.as_list()"
      ],
      "metadata": {
        "colab": {
          "base_uri": "https://localhost:8080/"
        },
        "id": "Q5leUxfYnjsq",
        "outputId": "de1c10da-9bb3-4fd8-d8bc-dbd669222d39"
      },
      "execution_count": null,
      "outputs": [
        {
          "output_type": "execute_result",
          "data": {
            "text/plain": [
              "[1, 10, 10, 3]"
            ]
          },
          "metadata": {},
          "execution_count": 118
        }
      ]
    },
    {
      "cell_type": "markdown",
      "source": [
        "adding at axis 1"
      ],
      "metadata": {
        "id": "yGa8ukGpoKQI"
      }
    },
    {
      "cell_type": "code",
      "source": [
        "tf.expand_dims(image, axis=1).shape.as_list()"
      ],
      "metadata": {
        "colab": {
          "base_uri": "https://localhost:8080/"
        },
        "id": "bX1YAiC0oEhA",
        "outputId": "fdca4b61-dfe4-4f97-8d74-75a2be04b002"
      },
      "execution_count": null,
      "outputs": [
        {
          "output_type": "execute_result",
          "data": {
            "text/plain": [
              "[10, 1, 10, 3]"
            ]
          },
          "metadata": {},
          "execution_count": 119
        }
      ]
    },
    {
      "cell_type": "markdown",
      "source": [
        "Shape and reshape"
      ],
      "metadata": {
        "id": "l_pXHN6mpRrm"
      }
    },
    {
      "cell_type": "code",
      "source": [
        "import numpy as np\n",
        "\n",
        "x = tf.constant(np.zeros([2, 2, 3, 12]))\n",
        "shape_x = tf.shape(x, name=\"my_shape\")\n",
        "print(\"Shape of x: %s\" % shape_x)\n",
        "#rank\n",
        "rank_x = tf.rank(x)\n",
        "print(\"Rank of x: %s\" % rank_x)\n",
        "\n",
        "size_x = tf.size(x)\n",
        "print(\"Size of x: %s\" % size_x)"
      ],
      "metadata": {
        "colab": {
          "base_uri": "https://localhost:8080/"
        },
        "id": "uf2xUMg8pT8U",
        "outputId": "e1190bd5-3a7c-4c05-e730-fe5078e0cbe6"
      },
      "execution_count": null,
      "outputs": [
        {
          "output_type": "stream",
          "name": "stdout",
          "text": [
            "Shape of x: tf.Tensor([ 2  2  3 12], shape=(4,), dtype=int32)\n",
            "Rank of x: tf.Tensor(4, shape=(), dtype=int32)\n",
            "Size of x: tf.Tensor(144, shape=(), dtype=int32)\n"
          ]
        }
      ]
    },
    {
      "cell_type": "code",
      "source": [
        "x = tf.constant(np.arange(1, 13))\n",
        "print(\"x = %s\\n\" % x)\n",
        "\n",
        "x_reshape = tf.reshape(x, [2, -1])\n",
        "print(\"x_2_6 = %s\\n\" % x_reshape)"
      ],
      "metadata": {
        "colab": {
          "base_uri": "https://localhost:8080/"
        },
        "id": "fikAeMkXpmJY",
        "outputId": "c67cbeac-8d25-4c1c-947e-f05310948772"
      },
      "execution_count": null,
      "outputs": [
        {
          "output_type": "stream",
          "name": "stdout",
          "text": [
            "x = tf.Tensor([ 1  2  3  4  5  6  7  8  9 10 11 12], shape=(12,), dtype=int64)\n",
            "\n",
            "x_2_6 = tf.Tensor(\n",
            "[[ 1  2  3  4  5  6]\n",
            " [ 7  8  9 10 11 12]], shape=(2, 6), dtype=int64)\n",
            "\n"
          ]
        }
      ]
    },
    {
      "cell_type": "markdown",
      "source": [
        "Squeezing Tensors"
      ],
      "metadata": {
        "id": "7ao3sl-apzgY"
      }
    },
    {
      "cell_type": "code",
      "source": [
        "x = tf.constant(np.reshape(np.arange(1, 5), [2, 1, 2, 1]))\n",
        "print(\"Shape of x = %s\" % x.shape)\n",
        "print(x)\n",
        "\n",
        "# Now squeeze out all the dimensions of length 1\n",
        "x_squeezed = tf.squeeze(x)\n",
        "print(\"\\nShape of x_squeezed = %s\" % x_squeezed.shape)\n",
        "print(x_squeezed)"
      ],
      "metadata": {
        "colab": {
          "base_uri": "https://localhost:8080/"
        },
        "id": "LHlSqgpfpv2C",
        "outputId": "16d50c24-a025-40f2-e94c-205c6b66ddc8"
      },
      "execution_count": null,
      "outputs": [
        {
          "output_type": "stream",
          "name": "stdout",
          "text": [
            "Shape of x = (2, 1, 2, 1)\n",
            "tf.Tensor(\n",
            "[[[[1]\n",
            "   [2]]]\n",
            "\n",
            "\n",
            " [[[3]\n",
            "   [4]]]], shape=(2, 1, 2, 1), dtype=int64)\n",
            "\n",
            "Shape of x_squeezed = (2, 2)\n",
            "tf.Tensor(\n",
            "[[1 2]\n",
            " [3 4]], shape=(2, 2), dtype=int64)\n"
          ]
        }
      ]
    },
    {
      "cell_type": "markdown",
      "source": [
        "Tensor Data types\n",
        "\n",
        "Integer types: tf.int32, tf.int64.  \n",
        "Float types: tf.float32, tf.float64.  \n",
        "Boolean type: tf.bool.  \n",
        "Complex type: tf.complex64, tf.complex128"
      ],
      "metadata": {
        "id": "GX0PJJntqYPQ"
      }
    },
    {
      "cell_type": "code",
      "source": [
        "int32_tensor = tf.constant([1, 1], dtype=tf.int32)\n",
        "print(int32_tensor)\n",
        "float32_tensor = tf.constant([2, 2], dtype=tf.float32)\n",
        "print(float32_tensor)"
      ],
      "metadata": {
        "colab": {
          "base_uri": "https://localhost:8080/"
        },
        "id": "VcYddddxqKMK",
        "outputId": "68799d97-8fe8-42ce-9a00-e410309a44a2"
      },
      "execution_count": null,
      "outputs": [
        {
          "output_type": "stream",
          "name": "stdout",
          "text": [
            "tf.Tensor([1 1], shape=(2,), dtype=int32)\n",
            "tf.Tensor([2. 2.], shape=(2,), dtype=float32)\n"
          ]
        }
      ]
    },
    {
      "cell_type": "markdown",
      "source": [
        "Comparision Operations"
      ],
      "metadata": {
        "id": "cOsakLwBr7ux"
      }
    },
    {
      "cell_type": "code",
      "source": [
        "a = tf.constant([1.0, 1.0])\n",
        "b = tf.constant([2.0, 2.0])\n",
        "c = tf.constant([1.0, 2.0])\n",
        "d = 3.0\n",
        "\n",
        "print (\"Inputs:\\na: %s\\nb: %s\\nc: %s\\nd: %s\\n\" % (a, b, c, d))\n",
        "# Less-than op. Tests if the first argument is less than the second argument\n",
        "# component wise.\n",
        "a_less_than_b = a < b\n",
        "b_greater_than_c = b > c\n",
        "\n",
        "# Simple broadcasting in action\n",
        "a_less_than_d = a < d\n",
        "\n",
        "# More complex broadcasting\n",
        "a2 = tf.constant([[1,2],[2,3]])\n",
        "b2 = tf.constant([1,3])\n",
        "c2 = tf.equal(a2, b2)\n",
        "\n",
        "# Note that there is no inline form for tf.equals. If you do b == c, you will\n",
        "# not get what you think you might.\n",
        "b_equal_to_c = tf.equal(b, c)\n",
        "\n",
        "outputs = (a_less_than_b, b_greater_than_c, a_less_than_d,  b_equal_to_c)\n",
        "\n",
        "print(\"Outputs:\\na < b: %s\\nb > c: %s\\na < d: %s\\nb == c: %s\\n\" % (outputs))\n",
        "\n",
        "\n",
        "print(\"Complex Broadcasting\")\n",
        "print(\"%s == %s => %s\" % (a2.numpy(), b2.numpy(), c2.numpy()))"
      ],
      "metadata": {
        "colab": {
          "base_uri": "https://localhost:8080/"
        },
        "id": "dwqcIIgArICW",
        "outputId": "641192b9-9350-4f23-8a57-288dc26767c1"
      },
      "execution_count": null,
      "outputs": [
        {
          "output_type": "stream",
          "name": "stdout",
          "text": [
            "Inputs:\n",
            "a: tf.Tensor([1. 1.], shape=(2,), dtype=float32)\n",
            "b: tf.Tensor([2. 2.], shape=(2,), dtype=float32)\n",
            "c: tf.Tensor([1. 2.], shape=(2,), dtype=float32)\n",
            "d: 3.0\n",
            "\n",
            "Outputs:\n",
            "a < b: tf.Tensor([ True  True], shape=(2,), dtype=bool)\n",
            "b > c: tf.Tensor([ True False], shape=(2,), dtype=bool)\n",
            "a < d: tf.Tensor([ True  True], shape=(2,), dtype=bool)\n",
            "b == c: tf.Tensor([False  True], shape=(2,), dtype=bool)\n",
            "\n",
            "Complex Broadcasting\n",
            "[[1 2]\n",
            " [2 3]] == [1 3] => [[ True False]\n",
            " [False  True]]\n"
          ]
        }
      ]
    },
    {
      "cell_type": "markdown",
      "source": [
        "Using Tensorflow on iris data \n",
        "\n",
        "multi-class classification problem based on Iris data set.  \n",
        "he model will be developed classifies the samples based on four features:   \n",
        "sepal length (cm).  \n",
        "sepal width (cm).   \n",
        "petal length (cm).  \n",
        "petal width (cm).  \n",
        "\n",
        "Class labels:    \n",
        "Iris-setosa.   \n",
        "Iris-versicolour.   \n",
        "Iris-virginica.   "
      ],
      "metadata": {
        "id": "qOJzqjGj6VbS"
      }
    },
    {
      "cell_type": "markdown",
      "source": [
        "import libraries"
      ],
      "metadata": {
        "id": "PTA1OWfg62Bh"
      }
    },
    {
      "cell_type": "code",
      "source": [
        "import tensorflow as tf\n",
        "from tensorflow.keras import layers\n",
        "import pandas as pd\n",
        "import numpy as np\n",
        "from tensorflow.keras import datasets, layers, models\n",
        "from tensorflow.keras.utils import to_categorical"
      ],
      "metadata": {
        "id": "0IeYo_qnsFtJ"
      },
      "execution_count": null,
      "outputs": []
    },
    {
      "cell_type": "markdown",
      "source": [
        "dounloading data from sklearn.datasets"
      ],
      "metadata": {
        "id": "hY8yy5LT64fw"
      }
    },
    {
      "cell_type": "code",
      "source": [
        "from sklearn import datasets\n",
        "iris = datasets.load_iris()\n",
        "X = iris.data\n",
        "y = iris.target"
      ],
      "metadata": {
        "id": "hb4dPxKYKYEv"
      },
      "execution_count": null,
      "outputs": []
    },
    {
      "cell_type": "code",
      "source": [
        "print(X.shape)\n",
        "print(y.shape)"
      ],
      "metadata": {
        "colab": {
          "base_uri": "https://localhost:8080/"
        },
        "id": "YUdZfNYTKclF",
        "outputId": "e6392cb3-8ccc-4575-fbbe-e3adc663c8cf"
      },
      "execution_count": null,
      "outputs": [
        {
          "output_type": "stream",
          "name": "stdout",
          "text": [
            "(150, 4)\n",
            "(150,)\n"
          ]
        }
      ]
    },
    {
      "cell_type": "markdown",
      "source": [
        "label encoding of target column"
      ],
      "metadata": {
        "id": "CZgZVzl-68_5"
      }
    },
    {
      "cell_type": "code",
      "source": [
        "from sklearn.preprocessing import LabelEncoder\n",
        "encoder =  LabelEncoder()\n",
        "y1 = encoder.fit_transform(y)"
      ],
      "metadata": {
        "id": "di9NbFOtKdFo"
      },
      "execution_count": null,
      "outputs": []
    },
    {
      "cell_type": "code",
      "source": [
        "Y = pd.get_dummies(y1).values\n",
        "print(Y[0:5])"
      ],
      "metadata": {
        "colab": {
          "base_uri": "https://localhost:8080/"
        },
        "id": "_Szkt5ECKfcf",
        "outputId": "06d1490a-a2f0-4d39-823f-04548365cfb5"
      },
      "execution_count": null,
      "outputs": [
        {
          "output_type": "stream",
          "name": "stdout",
          "text": [
            "[[1 0 0]\n",
            " [1 0 0]\n",
            " [1 0 0]\n",
            " [1 0 0]\n",
            " [1 0 0]]\n"
          ]
        }
      ]
    },
    {
      "cell_type": "markdown",
      "source": [
        "split the data to train and text data"
      ],
      "metadata": {
        "id": "WaN4eA627BxL"
      }
    },
    {
      "cell_type": "code",
      "source": [
        "from sklearn.model_selection import train_test_split\n",
        "\n",
        "X_train, X_test, y_train, y_test = train_test_split(X, Y, test_size=0.2, random_state=0)"
      ],
      "metadata": {
        "id": "KAY_BLyzKh69"
      },
      "execution_count": null,
      "outputs": []
    },
    {
      "cell_type": "markdown",
      "source": [
        "define mode"
      ],
      "metadata": {
        "id": "p4Js6-b77QRJ"
      }
    },
    {
      "cell_type": "code",
      "source": [
        "model = tf.keras.Sequential([\n",
        "    tf.keras.layers.Dense(10, activation='relu'),\n",
        "    tf.keras.layers.Dense(10, activation='relu'),\n",
        "    tf.keras.layers.Dense(3, activation='softmax')\n",
        "  ])\n",
        "model"
      ],
      "metadata": {
        "colab": {
          "base_uri": "https://localhost:8080/"
        },
        "id": "SDFkj0c-Kkj5",
        "outputId": "2faea096-80ee-44ac-a61c-2dd8a51b5abf"
      },
      "execution_count": null,
      "outputs": [
        {
          "output_type": "execute_result",
          "data": {
            "text/plain": [
              "<keras.engine.sequential.Sequential at 0x7f21565d5850>"
            ]
          },
          "metadata": {},
          "execution_count": 131
        }
      ]
    },
    {
      "cell_type": "markdown",
      "source": [
        "compile model"
      ],
      "metadata": {
        "id": "y1lmL5607SIR"
      }
    },
    {
      "cell_type": "code",
      "source": [
        "model.compile(optimizer='rmsprop',\n",
        "              loss='categorical_crossentropy',\n",
        "              metrics=['accuracy'])"
      ],
      "metadata": {
        "id": "481kgHfaKm8Q"
      },
      "execution_count": null,
      "outputs": []
    },
    {
      "cell_type": "markdown",
      "source": [
        "train model with 100 epochs\n",
        "\n",
        "EPOCH:  \n",
        "An epoch is one training iteration, so in one iteration all samples are iterated once. The number determines how many times the model should be trained on the sample data."
      ],
      "metadata": {
        "id": "ml71BWIN7WCD"
      }
    },
    {
      "cell_type": "code",
      "source": [
        "model.fit(X_train, y_train, batch_size=50, epochs=100)"
      ],
      "metadata": {
        "colab": {
          "base_uri": "https://localhost:8080/"
        },
        "id": "BzhC4U_vKpqX",
        "outputId": "d3927a4a-3975-43bc-8c36-56377a69e9fe"
      },
      "execution_count": null,
      "outputs": [
        {
          "output_type": "stream",
          "name": "stdout",
          "text": [
            "Epoch 1/100\n",
            "3/3 [==============================] - 1s 8ms/step - loss: 1.7033 - accuracy: 0.3667\n",
            "Epoch 2/100\n",
            "3/3 [==============================] - 0s 7ms/step - loss: 1.5351 - accuracy: 0.3667\n",
            "Epoch 3/100\n",
            "3/3 [==============================] - 0s 7ms/step - loss: 1.4484 - accuracy: 0.3667\n",
            "Epoch 4/100\n",
            "3/3 [==============================] - 0s 7ms/step - loss: 1.3797 - accuracy: 0.3667\n",
            "Epoch 5/100\n",
            "3/3 [==============================] - 0s 6ms/step - loss: 1.3281 - accuracy: 0.3667\n",
            "Epoch 6/100\n",
            "3/3 [==============================] - 0s 5ms/step - loss: 1.2893 - accuracy: 0.3667\n",
            "Epoch 7/100\n",
            "3/3 [==============================] - 0s 5ms/step - loss: 1.2625 - accuracy: 0.3667\n",
            "Epoch 8/100\n",
            "3/3 [==============================] - 0s 5ms/step - loss: 1.2371 - accuracy: 0.3667\n",
            "Epoch 9/100\n",
            "3/3 [==============================] - 0s 5ms/step - loss: 1.2161 - accuracy: 0.3667\n",
            "Epoch 10/100\n",
            "3/3 [==============================] - 0s 6ms/step - loss: 1.1972 - accuracy: 0.3667\n",
            "Epoch 11/100\n",
            "3/3 [==============================] - 0s 6ms/step - loss: 1.1808 - accuracy: 0.3667\n",
            "Epoch 12/100\n",
            "3/3 [==============================] - 0s 7ms/step - loss: 1.1611 - accuracy: 0.3667\n",
            "Epoch 13/100\n",
            "3/3 [==============================] - 0s 13ms/step - loss: 1.1470 - accuracy: 0.3667\n",
            "Epoch 14/100\n",
            "3/3 [==============================] - 0s 7ms/step - loss: 1.1319 - accuracy: 0.3667\n",
            "Epoch 15/100\n",
            "3/3 [==============================] - 0s 10ms/step - loss: 1.1189 - accuracy: 0.3667\n",
            "Epoch 16/100\n",
            "3/3 [==============================] - 0s 7ms/step - loss: 1.1071 - accuracy: 0.3667\n",
            "Epoch 17/100\n",
            "3/3 [==============================] - 0s 6ms/step - loss: 1.0975 - accuracy: 0.3667\n",
            "Epoch 18/100\n",
            "3/3 [==============================] - 0s 7ms/step - loss: 1.0855 - accuracy: 0.3667\n",
            "Epoch 19/100\n",
            "3/3 [==============================] - 0s 6ms/step - loss: 1.0738 - accuracy: 0.3667\n",
            "Epoch 20/100\n",
            "3/3 [==============================] - 0s 6ms/step - loss: 1.0609 - accuracy: 0.3667\n",
            "Epoch 21/100\n",
            "3/3 [==============================] - 0s 6ms/step - loss: 1.0474 - accuracy: 0.3667\n",
            "Epoch 22/100\n",
            "3/3 [==============================] - 0s 11ms/step - loss: 1.0348 - accuracy: 0.3667\n",
            "Epoch 23/100\n",
            "3/3 [==============================] - 0s 8ms/step - loss: 1.0211 - accuracy: 0.3750\n",
            "Epoch 24/100\n",
            "3/3 [==============================] - 0s 5ms/step - loss: 1.0077 - accuracy: 0.3750\n",
            "Epoch 25/100\n",
            "3/3 [==============================] - 0s 6ms/step - loss: 0.9937 - accuracy: 0.4500\n",
            "Epoch 26/100\n",
            "3/3 [==============================] - 0s 6ms/step - loss: 0.9809 - accuracy: 0.5500\n",
            "Epoch 27/100\n",
            "3/3 [==============================] - 0s 9ms/step - loss: 0.9687 - accuracy: 0.6333\n",
            "Epoch 28/100\n",
            "3/3 [==============================] - 0s 7ms/step - loss: 0.9565 - accuracy: 0.6750\n",
            "Epoch 29/100\n",
            "3/3 [==============================] - 0s 5ms/step - loss: 0.9445 - accuracy: 0.6917\n",
            "Epoch 30/100\n",
            "3/3 [==============================] - 0s 6ms/step - loss: 0.9343 - accuracy: 0.6917\n",
            "Epoch 31/100\n",
            "3/3 [==============================] - 0s 7ms/step - loss: 0.9214 - accuracy: 0.6917\n",
            "Epoch 32/100\n",
            "3/3 [==============================] - 0s 6ms/step - loss: 0.9105 - accuracy: 0.6917\n",
            "Epoch 33/100\n",
            "3/3 [==============================] - 0s 5ms/step - loss: 0.8990 - accuracy: 0.6917\n",
            "Epoch 34/100\n",
            "3/3 [==============================] - 0s 8ms/step - loss: 0.8877 - accuracy: 0.6917\n",
            "Epoch 35/100\n",
            "3/3 [==============================] - 0s 9ms/step - loss: 0.8761 - accuracy: 0.6917\n",
            "Epoch 36/100\n",
            "3/3 [==============================] - 0s 6ms/step - loss: 0.8649 - accuracy: 0.6917\n",
            "Epoch 37/100\n",
            "3/3 [==============================] - 0s 7ms/step - loss: 0.8540 - accuracy: 0.6917\n",
            "Epoch 38/100\n",
            "3/3 [==============================] - 0s 8ms/step - loss: 0.8429 - accuracy: 0.6917\n",
            "Epoch 39/100\n",
            "3/3 [==============================] - 0s 7ms/step - loss: 0.8326 - accuracy: 0.6917\n",
            "Epoch 40/100\n",
            "3/3 [==============================] - 0s 7ms/step - loss: 0.8223 - accuracy: 0.6917\n",
            "Epoch 41/100\n",
            "3/3 [==============================] - 0s 6ms/step - loss: 0.8113 - accuracy: 0.6917\n",
            "Epoch 42/100\n",
            "3/3 [==============================] - 0s 6ms/step - loss: 0.8011 - accuracy: 0.6917\n",
            "Epoch 43/100\n",
            "3/3 [==============================] - 0s 7ms/step - loss: 0.7915 - accuracy: 0.6917\n",
            "Epoch 44/100\n",
            "3/3 [==============================] - 0s 6ms/step - loss: 0.7818 - accuracy: 0.6917\n",
            "Epoch 45/100\n",
            "3/3 [==============================] - 0s 6ms/step - loss: 0.7714 - accuracy: 0.6917\n",
            "Epoch 46/100\n",
            "3/3 [==============================] - 0s 6ms/step - loss: 0.7627 - accuracy: 0.6917\n",
            "Epoch 47/100\n",
            "3/3 [==============================] - 0s 10ms/step - loss: 0.7529 - accuracy: 0.6917\n",
            "Epoch 48/100\n",
            "3/3 [==============================] - 0s 8ms/step - loss: 0.7433 - accuracy: 0.6917\n",
            "Epoch 49/100\n",
            "3/3 [==============================] - 0s 6ms/step - loss: 0.7334 - accuracy: 0.6917\n",
            "Epoch 50/100\n",
            "3/3 [==============================] - 0s 6ms/step - loss: 0.7237 - accuracy: 0.6917\n",
            "Epoch 51/100\n",
            "3/3 [==============================] - 0s 7ms/step - loss: 0.7138 - accuracy: 0.6917\n",
            "Epoch 52/100\n",
            "3/3 [==============================] - 0s 6ms/step - loss: 0.7044 - accuracy: 0.6917\n",
            "Epoch 53/100\n",
            "3/3 [==============================] - 0s 6ms/step - loss: 0.6955 - accuracy: 0.6917\n",
            "Epoch 54/100\n",
            "3/3 [==============================] - 0s 9ms/step - loss: 0.6871 - accuracy: 0.6917\n",
            "Epoch 55/100\n",
            "3/3 [==============================] - 0s 6ms/step - loss: 0.6784 - accuracy: 0.6917\n",
            "Epoch 56/100\n",
            "3/3 [==============================] - 0s 7ms/step - loss: 0.6702 - accuracy: 0.6917\n",
            "Epoch 57/100\n",
            "3/3 [==============================] - 0s 8ms/step - loss: 0.6617 - accuracy: 0.6917\n",
            "Epoch 58/100\n",
            "3/3 [==============================] - 0s 7ms/step - loss: 0.6534 - accuracy: 0.6917\n",
            "Epoch 59/100\n",
            "3/3 [==============================] - 0s 6ms/step - loss: 0.6442 - accuracy: 0.6917\n",
            "Epoch 60/100\n",
            "3/3 [==============================] - 0s 6ms/step - loss: 0.6361 - accuracy: 0.6917\n",
            "Epoch 61/100\n",
            "3/3 [==============================] - 0s 8ms/step - loss: 0.6282 - accuracy: 0.6917\n",
            "Epoch 62/100\n",
            "3/3 [==============================] - 0s 6ms/step - loss: 0.6205 - accuracy: 0.6917\n",
            "Epoch 63/100\n",
            "3/3 [==============================] - 0s 8ms/step - loss: 0.6127 - accuracy: 0.6917\n",
            "Epoch 64/100\n",
            "3/3 [==============================] - 0s 12ms/step - loss: 0.6043 - accuracy: 0.6917\n",
            "Epoch 65/100\n",
            "3/3 [==============================] - 0s 10ms/step - loss: 0.5966 - accuracy: 0.6917\n",
            "Epoch 66/100\n",
            "3/3 [==============================] - 0s 7ms/step - loss: 0.5885 - accuracy: 0.7000\n",
            "Epoch 67/100\n",
            "3/3 [==============================] - 0s 5ms/step - loss: 0.5812 - accuracy: 0.7000\n",
            "Epoch 68/100\n",
            "3/3 [==============================] - 0s 7ms/step - loss: 0.5742 - accuracy: 0.7167\n",
            "Epoch 69/100\n",
            "3/3 [==============================] - 0s 6ms/step - loss: 0.5664 - accuracy: 0.7000\n",
            "Epoch 70/100\n",
            "3/3 [==============================] - 0s 8ms/step - loss: 0.5605 - accuracy: 0.7000\n",
            "Epoch 71/100\n",
            "3/3 [==============================] - 0s 7ms/step - loss: 0.5534 - accuracy: 0.7000\n",
            "Epoch 72/100\n",
            "3/3 [==============================] - 0s 7ms/step - loss: 0.5461 - accuracy: 0.7000\n",
            "Epoch 73/100\n",
            "3/3 [==============================] - 0s 8ms/step - loss: 0.5401 - accuracy: 0.7000\n",
            "Epoch 74/100\n",
            "3/3 [==============================] - 0s 8ms/step - loss: 0.5336 - accuracy: 0.7167\n",
            "Epoch 75/100\n",
            "3/3 [==============================] - 0s 7ms/step - loss: 0.5275 - accuracy: 0.7000\n",
            "Epoch 76/100\n",
            "3/3 [==============================] - 0s 5ms/step - loss: 0.5211 - accuracy: 0.7083\n",
            "Epoch 77/100\n",
            "3/3 [==============================] - 0s 8ms/step - loss: 0.5149 - accuracy: 0.7250\n",
            "Epoch 78/100\n",
            "3/3 [==============================] - 0s 7ms/step - loss: 0.5098 - accuracy: 0.7167\n",
            "Epoch 79/100\n",
            "3/3 [==============================] - 0s 4ms/step - loss: 0.5039 - accuracy: 0.7167\n",
            "Epoch 80/100\n",
            "3/3 [==============================] - 0s 14ms/step - loss: 0.4982 - accuracy: 0.7250\n",
            "Epoch 81/100\n",
            "3/3 [==============================] - 0s 7ms/step - loss: 0.4929 - accuracy: 0.7250\n",
            "Epoch 82/100\n",
            "3/3 [==============================] - 0s 8ms/step - loss: 0.4874 - accuracy: 0.7250\n",
            "Epoch 83/100\n",
            "3/3 [==============================] - 0s 8ms/step - loss: 0.4811 - accuracy: 0.7250\n",
            "Epoch 84/100\n",
            "3/3 [==============================] - 0s 8ms/step - loss: 0.4763 - accuracy: 0.7500\n",
            "Epoch 85/100\n",
            "3/3 [==============================] - 0s 8ms/step - loss: 0.4703 - accuracy: 0.7250\n",
            "Epoch 86/100\n",
            "3/3 [==============================] - 0s 8ms/step - loss: 0.4650 - accuracy: 0.7500\n",
            "Epoch 87/100\n",
            "3/3 [==============================] - 0s 8ms/step - loss: 0.4602 - accuracy: 0.7583\n",
            "Epoch 88/100\n",
            "3/3 [==============================] - 0s 8ms/step - loss: 0.4547 - accuracy: 0.7500\n",
            "Epoch 89/100\n",
            "3/3 [==============================] - 0s 8ms/step - loss: 0.4492 - accuracy: 0.7667\n",
            "Epoch 90/100\n",
            "3/3 [==============================] - 0s 8ms/step - loss: 0.4437 - accuracy: 0.7667\n",
            "Epoch 91/100\n",
            "3/3 [==============================] - 0s 6ms/step - loss: 0.4373 - accuracy: 0.8167\n",
            "Epoch 92/100\n",
            "3/3 [==============================] - 0s 7ms/step - loss: 0.4322 - accuracy: 0.8083\n",
            "Epoch 93/100\n",
            "3/3 [==============================] - 0s 7ms/step - loss: 0.4264 - accuracy: 0.8167\n",
            "Epoch 94/100\n",
            "3/3 [==============================] - 0s 8ms/step - loss: 0.4211 - accuracy: 0.8833\n",
            "Epoch 95/100\n",
            "3/3 [==============================] - 0s 12ms/step - loss: 0.4152 - accuracy: 0.8750\n",
            "Epoch 96/100\n",
            "3/3 [==============================] - 0s 8ms/step - loss: 0.4109 - accuracy: 0.8583\n",
            "Epoch 97/100\n",
            "3/3 [==============================] - 0s 10ms/step - loss: 0.4059 - accuracy: 0.8333\n",
            "Epoch 98/100\n",
            "3/3 [==============================] - 0s 6ms/step - loss: 0.4014 - accuracy: 0.8583\n",
            "Epoch 99/100\n",
            "3/3 [==============================] - 0s 6ms/step - loss: 0.3960 - accuracy: 0.9167\n",
            "Epoch 100/100\n",
            "3/3 [==============================] - 0s 6ms/step - loss: 0.3910 - accuracy: 0.9250\n"
          ]
        },
        {
          "output_type": "execute_result",
          "data": {
            "text/plain": [
              "<keras.callbacks.History at 0x7f2156511b90>"
            ]
          },
          "metadata": {},
          "execution_count": 133
        }
      ]
    },
    {
      "cell_type": "markdown",
      "source": [
        "Accuracy of model"
      ],
      "metadata": {
        "id": "8VHmtCVd7zkO"
      }
    },
    {
      "cell_type": "code",
      "source": [
        "loss, accuracy = model.evaluate(X_test, y_test, verbose=0)\n",
        "print('Test loss:', loss)\n",
        "print('Test accuracy:', accuracy)"
      ],
      "metadata": {
        "colab": {
          "base_uri": "https://localhost:8080/"
        },
        "id": "dtsi58AvKsRL",
        "outputId": "5d31d4fc-e9fc-4dbd-e0d9-944d72a68ab2"
      },
      "execution_count": null,
      "outputs": [
        {
          "output_type": "stream",
          "name": "stdout",
          "text": [
            "Test loss: 0.43093711137771606\n",
            "Test accuracy: 0.7333333492279053\n"
          ]
        }
      ]
    },
    {
      "cell_type": "code",
      "source": [
        "y_pred = model.predict(X_test)\n",
        "y_pred"
      ],
      "metadata": {
        "id": "gd-OdM2ZKvDO",
        "outputId": "f5737de8-1368-4413-b78a-35591ff0cb14",
        "colab": {
          "base_uri": "https://localhost:8080/"
        }
      },
      "execution_count": null,
      "outputs": [
        {
          "output_type": "execute_result",
          "data": {
            "text/plain": [
              "array([[0.00760287, 0.23295274, 0.75944436],\n",
              "       [0.08175907, 0.47513947, 0.44310144],\n",
              "       [0.9567326 , 0.03999832, 0.0032692 ],\n",
              "       [0.00518291, 0.22340941, 0.77140766],\n",
              "       [0.9158549 , 0.07587709, 0.00826793],\n",
              "       [0.00471443, 0.21010827, 0.7851773 ],\n",
              "       [0.9241582 , 0.0687373 , 0.00710454],\n",
              "       [0.05494431, 0.46251136, 0.48254442],\n",
              "       [0.04245368, 0.43337435, 0.524172  ],\n",
              "       [0.10130168, 0.4985978 , 0.40010047],\n",
              "       [0.01313186, 0.3042281 , 0.68264014],\n",
              "       [0.07212914, 0.48437548, 0.44349536],\n",
              "       [0.04959253, 0.4622508 , 0.4881567 ],\n",
              "       [0.04328604, 0.43446988, 0.5222441 ],\n",
              "       [0.04248964, 0.44438776, 0.51312256],\n",
              "       [0.93139124, 0.06218218, 0.00642657],\n",
              "       [0.04617047, 0.4484536 , 0.5053759 ],\n",
              "       [0.04999043, 0.4518557 , 0.49815387],\n",
              "       [0.8866945 , 0.10097694, 0.01232857],\n",
              "       [0.94313365, 0.05222806, 0.00463831],\n",
              "       [0.01365563, 0.29431862, 0.6920258 ],\n",
              "       [0.04759829, 0.45383793, 0.4985638 ],\n",
              "       [0.8840496 , 0.10217527, 0.01377513],\n",
              "       [0.87648225, 0.1089289 , 0.01458894],\n",
              "       [0.02151943, 0.34815913, 0.63032144],\n",
              "       [0.93562055, 0.05833945, 0.00604005],\n",
              "       [0.9087433 , 0.0812804 , 0.00997625],\n",
              "       [0.08070756, 0.4914656 , 0.4278268 ],\n",
              "       [0.14536397, 0.51112443, 0.34351155],\n",
              "       [0.8998864 , 0.08936949, 0.01074416]], dtype=float32)"
            ]
          },
          "metadata": {},
          "execution_count": 135
        }
      ]
    }
  ]
}