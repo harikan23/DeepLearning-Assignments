{
  "nbformat": 4,
  "nbformat_minor": 0,
  "metadata": {
    "colab": {
      "name": "Assignment2-CMPE258-part1.ipynb",
      "provenance": []
    },
    "kernelspec": {
      "name": "python3",
      "display_name": "Python 3"
    },
    "language_info": {
      "name": "python"
    }
  },
  "cells": [
    {
      "cell_type": "code",
      "execution_count": 1,
      "metadata": {
        "colab": {
          "base_uri": "https://localhost:8080/"
        },
        "id": "pRMgp9oOEj6U",
        "outputId": "2cc125d7-4d0e-4060-e171-07224c24598f"
      },
      "outputs": [
        {
          "output_type": "stream",
          "name": "stdout",
          "text": [
            "2.8.0\n"
          ]
        }
      ],
      "source": [
        "import tensorflow as tf\n",
        "print(tf.__version__)"
      ]
    },
    {
      "cell_type": "markdown",
      "source": [
        "Tensors are characterized by their rank\n",
        "\n",
        "Scalars - Rank 0 Tensor.   \n",
        "Vector 1D array - Rank 1 Tensor.     \n",
        "Matrices 2D array  - Rank 2 Tensor.     \n",
        "3D array - Rank 3 Tensor\n",
        "\n",
        "\n"
      ],
      "metadata": {
        "id": "dOXssoVSE9io"
      }
    },
    {
      "cell_type": "markdown",
      "source": [
        "A scalar consists of a single value, it can be real or complex"
      ],
      "metadata": {
        "id": "IKG2Cw9yFe0m"
      }
    },
    {
      "cell_type": "code",
      "source": [
        "array_scalar = tf.constant(1)\n",
        "array_scalar"
      ],
      "metadata": {
        "colab": {
          "base_uri": "https://localhost:8080/"
        },
        "id": "Sf1Pq2gVE4ja",
        "outputId": "a2b627b4-95e8-4dca-adc3-5efbfa9dd922"
      },
      "execution_count": 2,
      "outputs": [
        {
          "output_type": "execute_result",
          "data": {
            "text/plain": [
              "<tf.Tensor: shape=(), dtype=int32, numpy=1>"
            ]
          },
          "metadata": {},
          "execution_count": 2
        }
      ]
    },
    {
      "cell_type": "markdown",
      "source": [
        "result is tf.Tensor. scalar is rank 0 tensor.\n",
        "shape is empty. datatype is int32"
      ],
      "metadata": {
        "id": "8wCfOo5bF2Qm"
      }
    },
    {
      "cell_type": "code",
      "source": [
        "array_scalar.numpy()"
      ],
      "metadata": {
        "colab": {
          "base_uri": "https://localhost:8080/"
        },
        "id": "dYAgMqhvFurt",
        "outputId": "7d441267-0c7f-4750-a1e9-2d650d07eeec"
      },
      "execution_count": 3,
      "outputs": [
        {
          "output_type": "execute_result",
          "data": {
            "text/plain": [
              "1"
            ]
          },
          "metadata": {},
          "execution_count": 3
        }
      ]
    },
    {
      "cell_type": "markdown",
      "source": [
        "1D tensor is vector.\n",
        "\n",
        "Shape has only one parameter"
      ],
      "metadata": {
        "id": "BKKJyD4CGHVk"
      }
    },
    {
      "cell_type": "code",
      "source": [
        "vector_1D = tf.constant([1, 2, 3, 4, 5, 6, 7, 8, 9, 0])\n",
        "vector_1D"
      ],
      "metadata": {
        "colab": {
          "base_uri": "https://localhost:8080/"
        },
        "id": "KLTGRk9qGGjF",
        "outputId": "1f4ac622-297b-44cb-efd4-df9622e1843f"
      },
      "execution_count": 4,
      "outputs": [
        {
          "output_type": "execute_result",
          "data": {
            "text/plain": [
              "<tf.Tensor: shape=(10,), dtype=int32, numpy=array([1, 2, 3, 4, 5, 6, 7, 8, 9, 0], dtype=int32)>"
            ]
          },
          "metadata": {},
          "execution_count": 4
        }
      ]
    },
    {
      "cell_type": "code",
      "source": [
        "mat_2D = tf.constant([[-1,-2,-3,-4],\n",
        "                      [5,6,7,8],\n",
        "                      [9,0,1,2]]) \n",
        "mat_2D"
      ],
      "metadata": {
        "colab": {
          "base_uri": "https://localhost:8080/"
        },
        "id": "1VvxCCnJGooT",
        "outputId": "48d18705-37df-40a5-905f-fd7732fb8f19"
      },
      "execution_count": 5,
      "outputs": [
        {
          "output_type": "execute_result",
          "data": {
            "text/plain": [
              "<tf.Tensor: shape=(3, 4), dtype=int32, numpy=\n",
              "array([[-1, -2, -3, -4],\n",
              "       [ 5,  6,  7,  8],\n",
              "       [ 9,  0,  1,  2]], dtype=int32)>"
            ]
          },
          "metadata": {},
          "execution_count": 5
        }
      ]
    },
    {
      "cell_type": "code",
      "source": [
        "mat_2D = tf.constant([-1,-2,-3,-4,5,6,7,8,9,0,1,2], shape = (3,4)) \n",
        "mat_2D"
      ],
      "metadata": {
        "colab": {
          "base_uri": "https://localhost:8080/"
        },
        "id": "3YW02UEnG96y",
        "outputId": "3603abf0-cc7d-4500-aa6a-2073dd4c0287"
      },
      "execution_count": 6,
      "outputs": [
        {
          "output_type": "execute_result",
          "data": {
            "text/plain": [
              "<tf.Tensor: shape=(3, 4), dtype=int32, numpy=\n",
              "array([[-1, -2, -3, -4],\n",
              "       [ 5,  6,  7,  8],\n",
              "       [ 9,  0,  1,  2]], dtype=int32)>"
            ]
          },
          "metadata": {},
          "execution_count": 6
        }
      ]
    },
    {
      "cell_type": "markdown",
      "source": [
        "creating sequence of numbers"
      ],
      "metadata": {
        "id": "v4YPvWH-JAMN"
      }
    },
    {
      "cell_type": "code",
      "source": [
        "seq_nums = tf.range(start = 11,limit = 20, delta = 1)  # give start and end number the delta is the interval\n",
        "seq_nums.numpy()"
      ],
      "metadata": {
        "colab": {
          "base_uri": "https://localhost:8080/"
        },
        "id": "aqYsQRn7I8At",
        "outputId": "16589f2b-b7ae-492d-f8fe-fc5bb203a7a0"
      },
      "execution_count": 7,
      "outputs": [
        {
          "output_type": "execute_result",
          "data": {
            "text/plain": [
              "array([11, 12, 13, 14, 15, 16, 17, 18, 19], dtype=int32)"
            ]
          },
          "metadata": {},
          "execution_count": 7
        }
      ]
    },
    {
      "cell_type": "code",
      "source": [
        "seq_nums = tf.range(start = 15, limit = 20, delta = 0.5).numpy()\n",
        "seq_nums"
      ],
      "metadata": {
        "colab": {
          "base_uri": "https://localhost:8080/"
        },
        "id": "1I0J906dJMe8",
        "outputId": "ab40c8e8-3fea-46d4-f4f3-9cb80c1e6e12"
      },
      "execution_count": 8,
      "outputs": [
        {
          "output_type": "execute_result",
          "data": {
            "text/plain": [
              "array([15. , 15.5, 16. , 16.5, 17. , 17.5, 18. , 18.5, 19. , 19.5],\n",
              "      dtype=float32)"
            ]
          },
          "metadata": {},
          "execution_count": 8
        }
      ]
    },
    {
      "cell_type": "markdown",
      "source": [
        "Slicing\n",
        "\n",
        "This is same as numpy slicing."
      ],
      "metadata": {
        "id": "H2SmHnuzJ1Cz"
      }
    },
    {
      "cell_type": "code",
      "source": [
        "arr_nums = tf.range(start = 1, limit = 20)\n",
        "arr_nums"
      ],
      "metadata": {
        "colab": {
          "base_uri": "https://localhost:8080/"
        },
        "id": "Yl3_lbrCJzZb",
        "outputId": "ded4b1d0-feae-43c4-be47-9480244de438"
      },
      "execution_count": 9,
      "outputs": [
        {
          "output_type": "execute_result",
          "data": {
            "text/plain": [
              "<tf.Tensor: shape=(19,), dtype=int32, numpy=\n",
              "array([ 1,  2,  3,  4,  5,  6,  7,  8,  9, 10, 11, 12, 13, 14, 15, 16, 17,\n",
              "       18, 19], dtype=int32)>"
            ]
          },
          "metadata": {},
          "execution_count": 9
        }
      ]
    },
    {
      "cell_type": "code",
      "source": [
        "arr_nums[13:19].numpy() \n"
      ],
      "metadata": {
        "colab": {
          "base_uri": "https://localhost:8080/"
        },
        "id": "eqoL353hKBGg",
        "outputId": "2b1b6659-2b54-4322-ccfa-1ae5d762f671"
      },
      "execution_count": 10,
      "outputs": [
        {
          "output_type": "execute_result",
          "data": {
            "text/plain": [
              "array([14, 15, 16, 17, 18, 19], dtype=int32)"
            ]
          },
          "metadata": {},
          "execution_count": 10
        }
      ]
    },
    {
      "cell_type": "code",
      "source": [
        "matrix_2D = tf.constant(tf.range(10, dtype = tf.float32), shape = (2,5))\n",
        "matrix_2D"
      ],
      "metadata": {
        "colab": {
          "base_uri": "https://localhost:8080/"
        },
        "id": "C7lR7MDwKJtT",
        "outputId": "38c4f88b-1b58-40e8-b428-9856bc6e0cc0"
      },
      "execution_count": 11,
      "outputs": [
        {
          "output_type": "execute_result",
          "data": {
            "text/plain": [
              "<tf.Tensor: shape=(2, 5), dtype=float32, numpy=\n",
              "array([[0., 1., 2., 3., 4.],\n",
              "       [5., 6., 7., 8., 9.]], dtype=float32)>"
            ]
          },
          "metadata": {},
          "execution_count": 11
        }
      ]
    },
    {
      "cell_type": "code",
      "source": [
        "matrix_2D[1:3, 2:4]"
      ],
      "metadata": {
        "colab": {
          "base_uri": "https://localhost:8080/"
        },
        "id": "aSaFwTsCKfMu",
        "outputId": "0da7bad5-083c-4e40-daff-acb5473e577b"
      },
      "execution_count": 12,
      "outputs": [
        {
          "output_type": "execute_result",
          "data": {
            "text/plain": [
              "<tf.Tensor: shape=(1, 2), dtype=float32, numpy=array([[7., 8.]], dtype=float32)>"
            ]
          },
          "metadata": {},
          "execution_count": 12
        }
      ]
    },
    {
      "cell_type": "markdown",
      "source": [
        "Transpose of matrix"
      ],
      "metadata": {
        "id": "W4goe2SwLHFJ"
      }
    },
    {
      "cell_type": "code",
      "source": [
        "matrix_2D"
      ],
      "metadata": {
        "colab": {
          "base_uri": "https://localhost:8080/"
        },
        "id": "KBKC_txTKjKa",
        "outputId": "72198d12-38f9-4086-f57b-361ee53649fe"
      },
      "execution_count": 13,
      "outputs": [
        {
          "output_type": "execute_result",
          "data": {
            "text/plain": [
              "<tf.Tensor: shape=(2, 5), dtype=float32, numpy=\n",
              "array([[0., 1., 2., 3., 4.],\n",
              "       [5., 6., 7., 8., 9.]], dtype=float32)>"
            ]
          },
          "metadata": {},
          "execution_count": 13
        }
      ]
    },
    {
      "cell_type": "code",
      "source": [
        "tf.transpose(matrix_2D)"
      ],
      "metadata": {
        "colab": {
          "base_uri": "https://localhost:8080/"
        },
        "id": "T_od2xb6LMcx",
        "outputId": "009e975a-f48a-45b4-ac20-49f035f32807"
      },
      "execution_count": 14,
      "outputs": [
        {
          "output_type": "execute_result",
          "data": {
            "text/plain": [
              "<tf.Tensor: shape=(5, 2), dtype=float32, numpy=\n",
              "array([[0., 5.],\n",
              "       [1., 6.],\n",
              "       [2., 7.],\n",
              "       [3., 8.],\n",
              "       [4., 9.]], dtype=float32)>"
            ]
          },
          "metadata": {},
          "execution_count": 14
        }
      ]
    },
    {
      "cell_type": "markdown",
      "source": [
        "Identity matrix"
      ],
      "metadata": {
        "id": "uxQGTCp2LVQ4"
      }
    },
    {
      "cell_type": "code",
      "source": [
        "tf.linalg.eye(4)"
      ],
      "metadata": {
        "colab": {
          "base_uri": "https://localhost:8080/"
        },
        "id": "pBwmUStnLRLf",
        "outputId": "d251f833-90f4-4d14-c32f-77f6accf4109"
      },
      "execution_count": 15,
      "outputs": [
        {
          "output_type": "execute_result",
          "data": {
            "text/plain": [
              "<tf.Tensor: shape=(4, 4), dtype=float32, numpy=\n",
              "array([[1., 0., 0., 0.],\n",
              "       [0., 1., 0., 0.],\n",
              "       [0., 0., 1., 0.],\n",
              "       [0., 0., 0., 1.]], dtype=float32)>"
            ]
          },
          "metadata": {},
          "execution_count": 15
        }
      ]
    },
    {
      "cell_type": "markdown",
      "source": [
        "Diagonal matrix"
      ],
      "metadata": {
        "id": "Uw1OA9P_Lj9m"
      }
    },
    {
      "cell_type": "code",
      "source": [
        "tf.linalg.diag([1,2,3,4])"
      ],
      "metadata": {
        "colab": {
          "base_uri": "https://localhost:8080/"
        },
        "id": "s9ImZp0oLhiA",
        "outputId": "89f2ffcf-509a-4094-fdd2-2e17b00858aa"
      },
      "execution_count": 16,
      "outputs": [
        {
          "output_type": "execute_result",
          "data": {
            "text/plain": [
              "<tf.Tensor: shape=(4, 4), dtype=int32, numpy=\n",
              "array([[1, 0, 0, 0],\n",
              "       [0, 2, 0, 0],\n",
              "       [0, 0, 3, 0],\n",
              "       [0, 0, 0, 4]], dtype=int32)>"
            ]
          },
          "metadata": {},
          "execution_count": 16
        }
      ]
    },
    {
      "cell_type": "code",
      "source": [
        "tf.linalg.tensor_diag(tf.constant([1,2,3,4.]))"
      ],
      "metadata": {
        "colab": {
          "base_uri": "https://localhost:8080/"
        },
        "id": "efStdpcOLsH4",
        "outputId": "f3dc393f-13fc-476f-e030-7d88f0de2f03"
      },
      "execution_count": 17,
      "outputs": [
        {
          "output_type": "execute_result",
          "data": {
            "text/plain": [
              "<tf.Tensor: shape=(4, 4), dtype=float32, numpy=\n",
              "array([[1., 0., 0., 0.],\n",
              "       [0., 2., 0., 0.],\n",
              "       [0., 0., 3., 0.],\n",
              "       [0., 0., 0., 4.]], dtype=float32)>"
            ]
          },
          "metadata": {},
          "execution_count": 17
        }
      ]
    },
    {
      "cell_type": "markdown",
      "source": [
        "matrix of all zeros"
      ],
      "metadata": {
        "id": "hJ9G51gNafjW"
      }
    },
    {
      "cell_type": "code",
      "source": [
        "zero_matrix = tf.zeros(shape = (2,2), dtype = tf.float32) #matrix of size 2x2\n",
        "zero_matrix"
      ],
      "metadata": {
        "colab": {
          "base_uri": "https://localhost:8080/"
        },
        "id": "I-p1N2qILy_f",
        "outputId": "d3e46947-de18-42f6-b881-c14cb70bad82"
      },
      "execution_count": 18,
      "outputs": [
        {
          "output_type": "execute_result",
          "data": {
            "text/plain": [
              "<tf.Tensor: shape=(2, 2), dtype=float32, numpy=\n",
              "array([[0., 0.],\n",
              "       [0., 0.]], dtype=float32)>"
            ]
          },
          "metadata": {},
          "execution_count": 18
        }
      ]
    },
    {
      "cell_type": "markdown",
      "source": [
        "matrix of all ones"
      ],
      "metadata": {
        "id": "39glve02awX8"
      }
    },
    {
      "cell_type": "code",
      "source": [
        "one_matrix = tf.ones(shape = (2,2), dtype = tf.int32) #matrix of size 2x2\n",
        "one_matrix"
      ],
      "metadata": {
        "colab": {
          "base_uri": "https://localhost:8080/"
        },
        "id": "vpNiRaylavKk",
        "outputId": "f73b7eaf-2893-456f-dfa4-55044fe0dba8"
      },
      "execution_count": 19,
      "outputs": [
        {
          "output_type": "execute_result",
          "data": {
            "text/plain": [
              "<tf.Tensor: shape=(2, 2), dtype=int32, numpy=\n",
              "array([[1, 1],\n",
              "       [1, 1]], dtype=int32)>"
            ]
          },
          "metadata": {},
          "execution_count": 19
        }
      ]
    },
    {
      "cell_type": "markdown",
      "source": [
        "Random uniqform matrix"
      ],
      "metadata": {
        "id": "V4-nBeCrbFWa"
      }
    },
    {
      "cell_type": "code",
      "source": [
        "rand_mat = tf.random.uniform(shape = (2,2), minval = 0, maxval = 4, seed= 32)\n",
        "rand_mat"
      ],
      "metadata": {
        "colab": {
          "base_uri": "https://localhost:8080/"
        },
        "id": "wLlUkTI8bDPy",
        "outputId": "13f928e9-4b0e-4b40-e9b3-79fe28d65f92"
      },
      "execution_count": 20,
      "outputs": [
        {
          "output_type": "execute_result",
          "data": {
            "text/plain": [
              "<tf.Tensor: shape=(2, 2), dtype=float32, numpy=\n",
              "array([[3.8862844 , 0.21059465],\n",
              "       [1.4039903 , 3.5476441 ]], dtype=float32)>"
            ]
          },
          "metadata": {},
          "execution_count": 20
        }
      ]
    },
    {
      "cell_type": "markdown",
      "source": [
        "random matrix of integers"
      ],
      "metadata": {
        "id": "moZOVDYlbUhe"
      }
    },
    {
      "cell_type": "code",
      "source": [
        "int_matrix = tf.random.uniform(shape = (4,4), minval= 1, maxval = 20, dtype = tf.int32, seed = 1234)\n",
        "int_matrix"
      ],
      "metadata": {
        "colab": {
          "base_uri": "https://localhost:8080/"
        },
        "id": "DKaSK_x-bQvL",
        "outputId": "62061aeb-c360-4c10-c629-6ce36580a87b"
      },
      "execution_count": 21,
      "outputs": [
        {
          "output_type": "execute_result",
          "data": {
            "text/plain": [
              "<tf.Tensor: shape=(4, 4), dtype=int32, numpy=\n",
              "array([[16, 14,  5, 14],\n",
              "       [12,  7,  3, 11],\n",
              "       [14,  8,  1,  3],\n",
              "       [17,  7, 19,  9]], dtype=int32)>"
            ]
          },
          "metadata": {},
          "execution_count": 21
        }
      ]
    },
    {
      "cell_type": "markdown",
      "source": [
        "sparse matrix:   \n",
        "first argument is set of indices and second argument is the values of those indices. "
      ],
      "metadata": {
        "id": "iZifKhnUjBfa"
      }
    },
    {
      "cell_type": "code",
      "source": [
        "sparse_matrix = tf.sparse.SparseTensor([[0,1],[1,3],[3,2]], [-5, -10, 7], dense_shape= (5,5))\n",
        "sparse_matrix"
      ],
      "metadata": {
        "colab": {
          "base_uri": "https://localhost:8080/"
        },
        "id": "jm7Ee5hjbeyp",
        "outputId": "63affd68-b12b-4624-ce87-5c75c9201d44"
      },
      "execution_count": 22,
      "outputs": [
        {
          "output_type": "execute_result",
          "data": {
            "text/plain": [
              "<tensorflow.python.framework.sparse_tensor.SparseTensor at 0x7f051594a990>"
            ]
          },
          "metadata": {},
          "execution_count": 22
        }
      ]
    },
    {
      "cell_type": "code",
      "source": [
        "tf.sparse.to_dense(sparse_matrix) # to print sparse matrix \n"
      ],
      "metadata": {
        "colab": {
          "base_uri": "https://localhost:8080/"
        },
        "id": "bNYsvInGjqLT",
        "outputId": "981ae1c5-dab7-43fa-b4af-a2ca3151b8fb"
      },
      "execution_count": 23,
      "outputs": [
        {
          "output_type": "execute_result",
          "data": {
            "text/plain": [
              "<tf.Tensor: shape=(5, 5), dtype=int32, numpy=\n",
              "array([[  0,  -5,   0,   0,   0],\n",
              "       [  0,   0,   0, -10,   0],\n",
              "       [  0,   0,   0,   0,   0],\n",
              "       [  0,   0,   7,   0,   0],\n",
              "       [  0,   0,   0,   0,   0]], dtype=int32)>"
            ]
          },
          "metadata": {},
          "execution_count": 23
        }
      ]
    },
    {
      "cell_type": "markdown",
      "source": [
        "Matrix Multiplication\n",
        "\n",
        "To multiply two vectors, two matrices or a matrix and a vector in a linear algebra using \"limalg.matmul\""
      ],
      "metadata": {
        "id": "GdvXEM3TA1Bc"
      }
    },
    {
      "cell_type": "code",
      "source": [
        "vector_1 = tf.constant([1, 2, 3], shape = (3,1))\n",
        "vector_1"
      ],
      "metadata": {
        "colab": {
          "base_uri": "https://localhost:8080/"
        },
        "id": "HzbwIg8IAsBN",
        "outputId": "5badf9d7-8dd2-4edb-fd27-39cf5fd959a4"
      },
      "execution_count": 24,
      "outputs": [
        {
          "output_type": "execute_result",
          "data": {
            "text/plain": [
              "<tf.Tensor: shape=(3, 1), dtype=int32, numpy=\n",
              "array([[1],\n",
              "       [2],\n",
              "       [3]], dtype=int32)>"
            ]
          },
          "metadata": {},
          "execution_count": 24
        }
      ]
    },
    {
      "cell_type": "markdown",
      "source": [
        "Inner Product"
      ],
      "metadata": {
        "id": "ZpHoj0XYBpH5"
      }
    },
    {
      "cell_type": "code",
      "source": [
        "vector_2 = tf.constant([2, 3, 4], shape = (3,1))\n",
        "result_inner = tf.matmul(a = vector_1, b = vector_2, transpose_a=True)\n",
        "result_inner.numpy()"
      ],
      "metadata": {
        "colab": {
          "base_uri": "https://localhost:8080/"
        },
        "id": "9JC1maNlBVbT",
        "outputId": "09bbca23-da53-46d9-a4ce-c38e42918b99"
      },
      "execution_count": 25,
      "outputs": [
        {
          "output_type": "execute_result",
          "data": {
            "text/plain": [
              "array([[20]], dtype=int32)"
            ]
          },
          "metadata": {},
          "execution_count": 25
        }
      ]
    },
    {
      "cell_type": "markdown",
      "source": [
        "Outer Product"
      ],
      "metadata": {
        "id": "__iY0Fg_Bq73"
      }
    },
    {
      "cell_type": "code",
      "source": [
        "result_outer = tf.matmul(a = vector_1, b = vector_2, transpose_b = True) # Outer product\n",
        "result_outer"
      ],
      "metadata": {
        "colab": {
          "base_uri": "https://localhost:8080/"
        },
        "id": "rpJYk4orBn1S",
        "outputId": "8575751a-c24a-4dfa-8750-ac165c53b3d0"
      },
      "execution_count": 26,
      "outputs": [
        {
          "output_type": "execute_result",
          "data": {
            "text/plain": [
              "<tf.Tensor: shape=(3, 3), dtype=int32, numpy=\n",
              "array([[ 2,  3,  4],\n",
              "       [ 4,  6,  8],\n",
              "       [ 6,  9, 12]], dtype=int32)>"
            ]
          },
          "metadata": {},
          "execution_count": 26
        }
      ]
    },
    {
      "cell_type": "markdown",
      "source": [
        "Matrix multiplication with vector"
      ],
      "metadata": {
        "id": "4K4Ph2KBB4mA"
      }
    },
    {
      "cell_type": "code",
      "source": [
        "mat = tf.constant([1,2,3,4,5,6],shape = (2,3), dtype = tf.int32)\n",
        "mat"
      ],
      "metadata": {
        "colab": {
          "base_uri": "https://localhost:8080/"
        },
        "id": "pG5oQK0EB8ic",
        "outputId": "f9c5c12a-eca5-41b9-aa57-11fba3c73acd"
      },
      "execution_count": 27,
      "outputs": [
        {
          "output_type": "execute_result",
          "data": {
            "text/plain": [
              "<tf.Tensor: shape=(2, 3), dtype=int32, numpy=\n",
              "array([[1, 2, 3],\n",
              "       [4, 5, 6]], dtype=int32)>"
            ]
          },
          "metadata": {},
          "execution_count": 27
        }
      ]
    },
    {
      "cell_type": "code",
      "source": [
        "tf.matmul(a = mat, b = vector_1).numpy()"
      ],
      "metadata": {
        "colab": {
          "base_uri": "https://localhost:8080/"
        },
        "id": "5QAYuEgPCCh2",
        "outputId": "fc2f4933-ca8d-4d4f-ba70-ed1cd86dd3c1"
      },
      "execution_count": 28,
      "outputs": [
        {
          "output_type": "execute_result",
          "data": {
            "text/plain": [
              "array([[14],\n",
              "       [32]], dtype=int32)"
            ]
          },
          "metadata": {},
          "execution_count": 28
        }
      ]
    },
    {
      "cell_type": "markdown",
      "source": [
        "Multiplying two matrices"
      ],
      "metadata": {
        "id": "tu8ytm82CTW2"
      }
    },
    {
      "cell_type": "code",
      "source": [
        "tf.linalg.matmul(a = mat, b = mat, transpose_a=True).numpy() "
      ],
      "metadata": {
        "colab": {
          "base_uri": "https://localhost:8080/"
        },
        "id": "qnZVKqRfCQx4",
        "outputId": "44abb23f-73a0-47b9-914a-2dd0572c5ad5"
      },
      "execution_count": 29,
      "outputs": [
        {
          "output_type": "execute_result",
          "data": {
            "text/plain": [
              "array([[17, 22, 27],\n",
              "       [22, 29, 36],\n",
              "       [27, 36, 45]], dtype=int32)"
            ]
          },
          "metadata": {},
          "execution_count": 29
        }
      ]
    },
    {
      "cell_type": "markdown",
      "source": [
        "Operations on matrices"
      ],
      "metadata": {
        "id": "1DxagaddCp0G"
      }
    },
    {
      "cell_type": "code",
      "source": [
        "mat"
      ],
      "metadata": {
        "colab": {
          "base_uri": "https://localhost:8080/"
        },
        "id": "EiL_XDm7Cy-s",
        "outputId": "3847f537-be70-4f77-de5e-98638c5dbb11"
      },
      "execution_count": 30,
      "outputs": [
        {
          "output_type": "execute_result",
          "data": {
            "text/plain": [
              "<tf.Tensor: shape=(2, 3), dtype=int32, numpy=\n",
              "array([[1, 2, 3],\n",
              "       [4, 5, 6]], dtype=int32)>"
            ]
          },
          "metadata": {},
          "execution_count": 30
        }
      ]
    },
    {
      "cell_type": "markdown",
      "source": [
        "Trace of matrix"
      ],
      "metadata": {
        "id": "DwCFTq11DtV4"
      }
    },
    {
      "cell_type": "code",
      "source": [
        "tf.linalg.trace(mat).numpy()"
      ],
      "metadata": {
        "colab": {
          "base_uri": "https://localhost:8080/"
        },
        "id": "3DIOAhSjCjP_",
        "outputId": "0a887266-6630-4809-ff9f-8757b444e991"
      },
      "execution_count": 31,
      "outputs": [
        {
          "output_type": "execute_result",
          "data": {
            "text/plain": [
              "6"
            ]
          },
          "metadata": {},
          "execution_count": 31
        }
      ]
    },
    {
      "cell_type": "markdown",
      "source": [
        "Rank of Matrix"
      ],
      "metadata": {
        "id": "5uh6rBIyDwKQ"
      }
    },
    {
      "cell_type": "code",
      "source": [
        "matrix = tf.constant([[2,6,4],\n",
        "                      [6,8,3],\n",
        "                   [5,1,9.]])"
      ],
      "metadata": {
        "id": "Q_8HMX9kEm6W"
      },
      "execution_count": 32,
      "outputs": []
    },
    {
      "cell_type": "code",
      "source": [
        "rank = tf.linalg.matrix_rank(matrix)\n",
        "rank.numpy()"
      ],
      "metadata": {
        "colab": {
          "base_uri": "https://localhost:8080/"
        },
        "id": "mKq6PkNNDypR",
        "outputId": "69c882b4-18ed-4f83-d3d1-5e0ed1513484"
      },
      "execution_count": 33,
      "outputs": [
        {
          "output_type": "execute_result",
          "data": {
            "text/plain": [
              "3"
            ]
          },
          "metadata": {},
          "execution_count": 33
        }
      ]
    },
    {
      "cell_type": "markdown",
      "source": [
        "Determinant"
      ],
      "metadata": {
        "id": "h6XNJXOmE6MO"
      }
    },
    {
      "cell_type": "code",
      "source": [
        "tf.linalg.det(matrix).numpy()"
      ],
      "metadata": {
        "colab": {
          "base_uri": "https://localhost:8080/"
        },
        "id": "BP0rNYGSEy5Y",
        "outputId": "c1816362-d579-496f-b1d2-95f3b8fa19c8"
      },
      "execution_count": 34,
      "outputs": [
        {
          "output_type": "execute_result",
          "data": {
            "text/plain": [
              "-231.99998"
            ]
          },
          "metadata": {},
          "execution_count": 34
        }
      ]
    },
    {
      "cell_type": "markdown",
      "source": [
        "Matrix Inverse"
      ],
      "metadata": {
        "id": "16eTKZcUFTg-"
      }
    },
    {
      "cell_type": "code",
      "source": [
        "mat_inv = tf.linalg.inv(matrix)\n",
        "print(mat_inv)"
      ],
      "metadata": {
        "colab": {
          "base_uri": "https://localhost:8080/"
        },
        "id": "TvuD5-BrFR_c",
        "outputId": "121925db-59b1-48c7-fd0a-59a830c7e489"
      },
      "execution_count": 35,
      "outputs": [
        {
          "output_type": "stream",
          "name": "stdout",
          "text": [
            "tf.Tensor(\n",
            "[[-0.2974138   0.21551722  0.06034485]\n",
            " [ 0.16810344  0.0086207  -0.07758622]\n",
            " [ 0.14655171 -0.12068965  0.08620689]], shape=(3, 3), dtype=float32)\n"
          ]
        }
      ]
    },
    {
      "cell_type": "markdown",
      "source": [
        "extract diagonals of a matrix"
      ],
      "metadata": {
        "id": "0-cS4DtLIeVN"
      }
    },
    {
      "cell_type": "code",
      "source": [
        "tf.linalg.diag_part(matrix).numpy()"
      ],
      "metadata": {
        "colab": {
          "base_uri": "https://localhost:8080/"
        },
        "id": "4kY5ZlMFFnrW",
        "outputId": "7fa8ab76-9b1e-4ccc-a4f6-9e228ac5e69e"
      },
      "execution_count": 36,
      "outputs": [
        {
          "output_type": "execute_result",
          "data": {
            "text/plain": [
              "array([2., 8., 9.], dtype=float32)"
            ]
          },
          "metadata": {},
          "execution_count": 36
        }
      ]
    },
    {
      "cell_type": "markdown",
      "source": [
        "SVD"
      ],
      "metadata": {
        "id": "OLysuhtFJUSZ"
      }
    },
    {
      "cell_type": "code",
      "source": [
        "\n",
        "s,u,v = tf.linalg.svd(matrix)\n",
        "print(\"S:\")\n",
        "print(s)\n",
        "print()\n",
        "print(\"U:\")\n",
        "print(u)\n",
        "print()\n",
        "print(\"V:\")\n",
        "print(v)"
      ],
      "metadata": {
        "colab": {
          "base_uri": "https://localhost:8080/"
        },
        "id": "GRPy0UTvIsdt",
        "outputId": "ec63a60b-2ff2-4b36-eb8f-e46a32f354db"
      },
      "execution_count": 37,
      "outputs": [
        {
          "output_type": "stream",
          "name": "stdout",
          "text": [
            "S:\n",
            "tf.Tensor([14.840091   6.8203974  2.2921445], shape=(3,), dtype=float32)\n",
            "\n",
            "U:\n",
            "tf.Tensor(\n",
            "[[ 0.4734077  -0.24942522 -0.8447913 ]\n",
            " [ 0.6523388  -0.545183    0.5265261 ]\n",
            " [ 0.5918947   0.80035156  0.09538408]], shape=(3, 3), dtype=float32)\n",
            "\n",
            "V:\n",
            "tf.Tensor(\n",
            "[[ 0.5269728   0.03398758  0.84920233]\n",
            " [ 0.5829514  -0.7415499  -0.33207157]\n",
            " [ 0.6184396   0.6700364  -0.4105896 ]], shape=(3, 3), dtype=float32)\n"
          ]
        }
      ]
    },
    {
      "cell_type": "markdown",
      "source": [
        "Eigen values and eigen vectors"
      ],
      "metadata": {
        "id": "0yoguSqzJiVp"
      }
    },
    {
      "cell_type": "code",
      "source": [
        "values, vectors = tf.linalg.eigh(matrix)\n",
        "print(\"Eigenvalues:\")\n",
        "print(values.numpy())\n",
        "print()\n",
        "print(\"Eigenvectors:\")\n",
        "print(vectors.numpy())"
      ],
      "metadata": {
        "colab": {
          "base_uri": "https://localhost:8080/"
        },
        "id": "MpuPEw4gJaHa",
        "outputId": "0712fc34-c2f3-45df-8daa-c3be4f860e42"
      },
      "execution_count": 38,
      "outputs": [
        {
          "output_type": "stream",
          "name": "stdout",
          "text": [
            "Eigenvalues:\n",
            "[-2.956471   7.5711837 14.385289 ]\n",
            "\n",
            "Eigenvectors:\n",
            "[[-0.84384084  0.0734776  -0.5315391 ]\n",
            " [ 0.4332049   0.67783624 -0.59403   ]\n",
            " [ 0.31664857 -0.7315319  -0.60381675]]\n"
          ]
        }
      ]
    },
    {
      "cell_type": "markdown",
      "source": [
        "Solve Linear equation\n",
        "\n",
        "Ax=b"
      ],
      "metadata": {
        "id": "ht4ZOY-NKE2x"
      }
    },
    {
      "cell_type": "code",
      "source": [
        "A = tf.constant([[1,1,1],\n",
        "                 [1,5,5],\n",
        "                 [1,5,13]], dtype = tf.float32)\n",
        "b = tf.constant([3,11,20], shape = (3,1), dtype = tf.float32)\n",
        "tf.linalg.solve(A,b)"
      ],
      "metadata": {
        "colab": {
          "base_uri": "https://localhost:8080/"
        },
        "id": "gy4p5_u2J1BS",
        "outputId": "fa40d8c9-0705-4ade-e891-dc3004d6686b"
      },
      "execution_count": 39,
      "outputs": [
        {
          "output_type": "execute_result",
          "data": {
            "text/plain": [
              "<tf.Tensor: shape=(3, 1), dtype=float32, numpy=\n",
              "array([[1.   ],\n",
              "       [0.875],\n",
              "       [1.125]], dtype=float32)>"
            ]
          },
          "metadata": {},
          "execution_count": 39
        }
      ]
    },
    {
      "cell_type": "markdown",
      "source": [
        "einsum using tensorflow"
      ],
      "metadata": {
        "id": "7AxWMYID-CQw"
      }
    },
    {
      "cell_type": "markdown",
      "source": [
        "Matrix multiplication"
      ],
      "metadata": {
        "id": "MlMyqlu3-HD-"
      }
    },
    {
      "cell_type": "code",
      "source": [
        "matrix1 = tf.random.normal(shape=[2, 3])\n",
        "matrix1"
      ],
      "metadata": {
        "colab": {
          "base_uri": "https://localhost:8080/"
        },
        "id": "SZrp0qhP-O93",
        "outputId": "3bce65f9-f925-4d31-d4e8-d987a29d15bd"
      },
      "execution_count": 40,
      "outputs": [
        {
          "output_type": "execute_result",
          "data": {
            "text/plain": [
              "<tf.Tensor: shape=(2, 3), dtype=float32, numpy=\n",
              "array([[ 1.0804713 ,  1.1723061 , -0.8845799 ],\n",
              "       [-0.30128077,  0.4789044 ,  0.44636124]], dtype=float32)>"
            ]
          },
          "metadata": {},
          "execution_count": 40
        }
      ]
    },
    {
      "cell_type": "code",
      "source": [
        "matrix2 = tf.random.normal(shape=[3, 5])\n",
        "matrix2"
      ],
      "metadata": {
        "colab": {
          "base_uri": "https://localhost:8080/"
        },
        "id": "QpRH2joG-TUF",
        "outputId": "291aa8a6-a49b-4997-802c-261fdc8a666b"
      },
      "execution_count": 41,
      "outputs": [
        {
          "output_type": "execute_result",
          "data": {
            "text/plain": [
              "<tf.Tensor: shape=(3, 5), dtype=float32, numpy=\n",
              "array([[-0.37421444,  1.4787824 ,  0.36400682,  0.92561626,  0.05378715],\n",
              "       [ 0.15726691,  1.5305665 , -0.9653605 , -0.6713042 ,  0.10549844],\n",
              "       [ 0.15593481, -1.1829135 ,  0.13334902,  0.83039224,  0.06426253]],\n",
              "      dtype=float32)>"
            ]
          },
          "metadata": {},
          "execution_count": 41
        }
      ]
    },
    {
      "cell_type": "code",
      "source": [
        "mat_multi = tf.einsum('ij,jk->ik', matrix1, matrix2)\n",
        "mat_multi"
      ],
      "metadata": {
        "colab": {
          "base_uri": "https://localhost:8080/"
        },
        "id": "lXMJBMdZ-Bn-",
        "outputId": "69e40878-3070-4c55-d88f-4c7ba1784a31"
      },
      "execution_count": 42,
      "outputs": [
        {
          "output_type": "execute_result",
          "data": {
            "text/plain": [
              "<tf.Tensor: shape=(2, 5), dtype=float32, numpy=\n",
              "array([[-0.35789979,  4.4384556 , -0.856357  , -0.5214205 ,  0.12494659],\n",
              "       [ 0.25766268, -0.24054039, -0.51246184, -0.22970602,  0.06300294]],\n",
              "      dtype=float32)>"
            ]
          },
          "metadata": {},
          "execution_count": 42
        }
      ]
    },
    {
      "cell_type": "markdown",
      "source": [
        "Dot product"
      ],
      "metadata": {
        "id": "QpkkWKSb-hO-"
      }
    },
    {
      "cell_type": "code",
      "source": [
        "vector1=tf.random.normal(shape=[5])\n",
        "vector1"
      ],
      "metadata": {
        "colab": {
          "base_uri": "https://localhost:8080/"
        },
        "id": "_g0jAgWS-nc0",
        "outputId": "8cd4faa1-1318-41e3-c97c-e32c8e7f4c64"
      },
      "execution_count": 43,
      "outputs": [
        {
          "output_type": "execute_result",
          "data": {
            "text/plain": [
              "<tf.Tensor: shape=(5,), dtype=float32, numpy=\n",
              "array([-0.8791624 , -0.08268324,  0.4290936 ,  0.22356713, -1.5121402 ],\n",
              "      dtype=float32)>"
            ]
          },
          "metadata": {},
          "execution_count": 43
        }
      ]
    },
    {
      "cell_type": "code",
      "source": [
        "vector2 = tf.random.normal(shape=[5])\n",
        "vector2"
      ],
      "metadata": {
        "colab": {
          "base_uri": "https://localhost:8080/"
        },
        "id": "mdnS-SN9-sf9",
        "outputId": "039285d9-fc11-4434-ad27-cd13601b5b5f"
      },
      "execution_count": 44,
      "outputs": [
        {
          "output_type": "execute_result",
          "data": {
            "text/plain": [
              "<tf.Tensor: shape=(5,), dtype=float32, numpy=\n",
              "array([ 0.04587993,  2.5970995 ,  1.948742  , -1.1039081 ,  0.74829835],\n",
              "      dtype=float32)>"
            ]
          },
          "metadata": {},
          "execution_count": 44
        }
      ]
    },
    {
      "cell_type": "code",
      "source": [
        "dot_product = tf.einsum('i,i->', vector1, vector2)  # output = sum_i u[i]*v[i]\n",
        "dot_product.numpy()"
      ],
      "metadata": {
        "colab": {
          "base_uri": "https://localhost:8080/"
        },
        "id": "NBihP9O4-f04",
        "outputId": "0cf62f7e-0823-41eb-da81-cdaac535d29e"
      },
      "execution_count": 45,
      "outputs": [
        {
          "output_type": "execute_result",
          "data": {
            "text/plain": [
              "-0.79720926"
            ]
          },
          "metadata": {},
          "execution_count": 45
        }
      ]
    },
    {
      "cell_type": "markdown",
      "source": [
        "Outer Product"
      ],
      "metadata": {
        "id": "d5pwqNt6-7gl"
      }
    },
    {
      "cell_type": "code",
      "source": [
        "outer_product = tf.einsum('i,j->ij', vector1, vector2)\n",
        "print(outer_product.shape)\n",
        "print(outer_product)"
      ],
      "metadata": {
        "colab": {
          "base_uri": "https://localhost:8080/"
        },
        "id": "RDaFzNos-6hJ",
        "outputId": "39acdd67-7055-466c-c247-ffa265ce5dfc"
      },
      "execution_count": 46,
      "outputs": [
        {
          "output_type": "stream",
          "name": "stdout",
          "text": [
            "(5, 5)\n",
            "tf.Tensor(\n",
            "[[-4.0335912e-02 -2.2832723e+00 -1.7132607e+00  9.7051442e-01\n",
            "  -6.5787578e-01]\n",
            " [-3.7935013e-03 -2.1473660e-01 -1.6112830e-01  9.1274694e-02\n",
            "  -6.1871730e-02]\n",
            " [ 1.9686786e-02  1.1143988e+00  8.3619273e-01 -4.7367987e-01\n",
            "   3.2109004e-01]\n",
            " [ 1.0257245e-02  5.8062607e-01  4.3567467e-01 -2.4679756e-01\n",
            "   1.6729492e-01]\n",
            " [-6.9376893e-02 -3.9271786e+00 -2.9467711e+00  1.6692637e+00\n",
            "  -1.1315320e+00]], shape=(5, 5), dtype=float32)\n"
          ]
        }
      ]
    },
    {
      "cell_type": "code",
      "source": [
        "mat = tf.reshape(tf.range(9), [3,3])\n",
        "print(mat.numpy())\n",
        "diag = tf.einsum('ii->i', mat)\n",
        "print(diag.numpy())"
      ],
      "metadata": {
        "colab": {
          "base_uri": "https://localhost:8080/"
        },
        "id": "0l4gG_F7_Poo",
        "outputId": "fb845b82-652c-4e29-f186-47f6741090eb"
      },
      "execution_count": 47,
      "outputs": [
        {
          "output_type": "stream",
          "name": "stdout",
          "text": [
            "[[0 1 2]\n",
            " [3 4 5]\n",
            " [6 7 8]]\n",
            "[0 4 8]\n"
          ]
        }
      ]
    },
    {
      "cell_type": "markdown",
      "source": [
        "Trace"
      ],
      "metadata": {
        "id": "TAeqRDemCIQM"
      }
    },
    {
      "cell_type": "code",
      "source": [
        "trace = tf.einsum('ii', mat)\n",
        "trace.numpy()"
      ],
      "metadata": {
        "colab": {
          "base_uri": "https://localhost:8080/"
        },
        "id": "2p2SKL_4CHk9",
        "outputId": "c5d3a50b-b3c7-4bd2-8a30-f6906c6fcbfc"
      },
      "execution_count": 48,
      "outputs": [
        {
          "output_type": "execute_result",
          "data": {
            "text/plain": [
              "12"
            ]
          },
          "metadata": {},
          "execution_count": 48
        }
      ]
    },
    {
      "cell_type": "markdown",
      "source": [
        "Transpose"
      ],
      "metadata": {
        "id": "d27hLl6PWyI4"
      }
    },
    {
      "cell_type": "code",
      "source": [
        "mat = tf.random.normal(shape=[5,3])\n",
        "mat_transpose = tf.einsum('ij->ji', mat)\n",
        "print(mat_transpose.shape)"
      ],
      "metadata": {
        "colab": {
          "base_uri": "https://localhost:8080/"
        },
        "id": "0Y3Sgl8qVbVi",
        "outputId": "7cf69c88-bac6-4677-d624-83e1c1791bd8"
      },
      "execution_count": 49,
      "outputs": [
        {
          "output_type": "stream",
          "name": "stdout",
          "text": [
            "(3, 5)\n"
          ]
        }
      ]
    },
    {
      "cell_type": "markdown",
      "source": [
        "Batch Matrix Multiplication"
      ],
      "metadata": {
        "id": "ZOCs8ai2CUvk"
      }
    },
    {
      "cell_type": "code",
      "source": [
        "m1 = tf.random.normal(shape=[7,5,3])\n",
        "m2 = tf.random.normal(shape=[7,3,2])\n",
        "mat_multi = tf.einsum('bij,bjk->bik', m1, m2)\n",
        "mat_multi.shape"
      ],
      "metadata": {
        "colab": {
          "base_uri": "https://localhost:8080/"
        },
        "id": "MhQsLNVJCZBc",
        "outputId": "ba7051b2-a3c9-4a52-ce48-c8e4814325da"
      },
      "execution_count": 50,
      "outputs": [
        {
          "output_type": "execute_result",
          "data": {
            "text/plain": [
              "TensorShape([7, 5, 2])"
            ]
          },
          "metadata": {},
          "execution_count": 50
        }
      ]
    },
    {
      "cell_type": "markdown",
      "source": [
        "for numpy style broadcasting batch matrix multiplication"
      ],
      "metadata": {
        "id": "_zUumaPoXgmK"
      }
    },
    {
      "cell_type": "code",
      "source": [
        "m1 = tf.random.normal(shape=[11,7,5,3])\n",
        "m2 = tf.random.normal(shape=[11,7,3,2])\n",
        "mat_multi = tf.einsum('...ij,...jk->...ik', m1, m2)\n",
        "mat_multi.shape"
      ],
      "metadata": {
        "colab": {
          "base_uri": "https://localhost:8080/"
        },
        "id": "LqbSeVGsXVHG",
        "outputId": "f8ec6a67-5b95-482f-d2fd-a4476a8f3da9"
      },
      "execution_count": 51,
      "outputs": [
        {
          "output_type": "execute_result",
          "data": {
            "text/plain": [
              "TensorShape([11, 7, 5, 2])"
            ]
          },
          "metadata": {},
          "execution_count": 51
        }
      ]
    },
    {
      "cell_type": "markdown",
      "source": [
        "Row Sum"
      ],
      "metadata": {
        "id": "7woCjZ8MYWEc"
      }
    },
    {
      "cell_type": "code",
      "source": [
        "mat = tf.random.normal(shape=[3,2])\n",
        "mat_sum= tf.einsum('ij->i', mat)\n",
        "print(mat_sum.shape)\n",
        "print(mat_sum.numpy())"
      ],
      "metadata": {
        "colab": {
          "base_uri": "https://localhost:8080/"
        },
        "id": "w57B8nVwX2Js",
        "outputId": "ece4bae4-14ea-4a9b-997a-9a0f2c7cf574"
      },
      "execution_count": 52,
      "outputs": [
        {
          "output_type": "stream",
          "name": "stdout",
          "text": [
            "(3,)\n",
            "[1.6681523 2.0578218 0.7787191]\n"
          ]
        }
      ]
    },
    {
      "cell_type": "markdown",
      "source": [
        "Column Sum"
      ],
      "metadata": {
        "id": "scA8pcifYXnr"
      }
    },
    {
      "cell_type": "code",
      "source": [
        "mat = tf.random.normal(shape=[3,2])\n",
        "mat_sum= tf.einsum('ij->j', mat)\n",
        "print(mat_sum.shape)\n",
        "print(mat_sum.numpy())"
      ],
      "metadata": {
        "colab": {
          "base_uri": "https://localhost:8080/"
        },
        "id": "pqhiPd3UYZWK",
        "outputId": "91651858-63cc-406b-c3e6-81cabad516b4"
      },
      "execution_count": 53,
      "outputs": [
        {
          "output_type": "stream",
          "name": "stdout",
          "text": [
            "(2,)\n",
            "[2.0879273 1.0519593]\n"
          ]
        }
      ]
    },
    {
      "cell_type": "markdown",
      "source": [
        "Tensor Contraction"
      ],
      "metadata": {
        "id": "9kyun8-EYlbv"
      }
    },
    {
      "cell_type": "code",
      "source": [
        "m1 = tf.random.normal(shape=[11,7,5,3])\n",
        "m2 = tf.random.normal(shape=[11,7,3,2])\n",
        "mat_multi = tf.einsum('...ij,...jk->...ik', m1, m2)"
      ],
      "metadata": {
        "id": "Tmrb8pfcYc4e"
      },
      "execution_count": 54,
      "outputs": []
    },
    {
      "cell_type": "markdown",
      "source": [
        "Ragged tensor:  \n",
        "Data comes in many shapes, Ragged tensor is the tensorflow  makes it easy to store and process data with non-uniform shapes.\n",
        "\n",
        "Like varibale lenght features: exmaple - set of actors in a movie dataset. \n",
        "batches of variable-length sequential inputs: example - sequences or video clips. \n",
        "Hierarchical inputs: example - text documents that are divided to sections, paras, sentences and words. \n"
      ],
      "metadata": {
        "id": "0VQtDdnpmO7a"
      }
    },
    {
      "cell_type": "code",
      "source": [
        "digits = tf.ragged.constant([[3, 1, 4, 1], [], [5, 9, 2], [6], []])\n",
        "words = tf.ragged.constant([[\"So\", \"long\"], [\"thanks\", \"for\", \"all\", \"the\", \"fish\"]])\n",
        "print(tf.add(digits, 3))\n",
        "print(tf.concat([digits, [[5, 3]]], axis=0))\n",
        "print(tf.tile(digits, [1, 2]))\n",
        "print(tf.strings.substr(words, 0, 2))\n",
        "print(tf.map_fn(tf.math.square, digits))"
      ],
      "metadata": {
        "colab": {
          "base_uri": "https://localhost:8080/"
        },
        "id": "0am-XdYZmOPL",
        "outputId": "19509f7d-f2d5-4118-9b96-ea24a29be640"
      },
      "execution_count": 56,
      "outputs": [
        {
          "output_type": "stream",
          "name": "stdout",
          "text": [
            "<tf.RaggedTensor [[6, 4, 7, 4], [], [8, 12, 5], [9], []]>\n",
            "<tf.RaggedTensor [[3, 1, 4, 1], [], [5, 9, 2], [6], [], [5, 3]]>\n",
            "<tf.RaggedTensor [[3, 1, 4, 1, 3, 1, 4, 1], [], [5, 9, 2, 5, 9, 2], [6, 6], []]>\n",
            "<tf.RaggedTensor [[b'So', b'lo'], [b'th', b'fo', b'al', b'th', b'fi']]>\n",
            "<tf.RaggedTensor [[9, 1, 16, 1], [], [25, 81, 4], [36], []]>\n"
          ]
        }
      ]
    },
    {
      "cell_type": "markdown",
      "source": [
        "expand dimensions"
      ],
      "metadata": {
        "id": "Tgq7C4gOn7vd"
      }
    },
    {
      "cell_type": "code",
      "source": [
        "image = tf.zeros([10,10,3])\n",
        "tf.expand_dims(image, axis=0).shape.as_list()"
      ],
      "metadata": {
        "colab": {
          "base_uri": "https://localhost:8080/"
        },
        "id": "Q5leUxfYnjsq",
        "outputId": "9b5e6241-609a-4aed-f847-c9251d2cf1a3"
      },
      "execution_count": 57,
      "outputs": [
        {
          "output_type": "execute_result",
          "data": {
            "text/plain": [
              "[1, 10, 10, 3]"
            ]
          },
          "metadata": {},
          "execution_count": 57
        }
      ]
    },
    {
      "cell_type": "markdown",
      "source": [
        "adding at axis 1"
      ],
      "metadata": {
        "id": "yGa8ukGpoKQI"
      }
    },
    {
      "cell_type": "code",
      "source": [
        "tf.expand_dims(image, axis=1).shape.as_list()"
      ],
      "metadata": {
        "colab": {
          "base_uri": "https://localhost:8080/"
        },
        "id": "bX1YAiC0oEhA",
        "outputId": "fc208eb8-17ca-4ca4-93b1-580bfca484af"
      },
      "execution_count": 58,
      "outputs": [
        {
          "output_type": "execute_result",
          "data": {
            "text/plain": [
              "[10, 1, 10, 3]"
            ]
          },
          "metadata": {},
          "execution_count": 58
        }
      ]
    },
    {
      "cell_type": "markdown",
      "source": [
        "Shape and reshape"
      ],
      "metadata": {
        "id": "l_pXHN6mpRrm"
      }
    },
    {
      "cell_type": "code",
      "source": [
        "import numpy as np\n",
        "\n",
        "x = tf.constant(np.zeros([2, 2, 3, 12]))\n",
        "shape_x = tf.shape(x, name=\"my_shape\")\n",
        "print(\"Shape of x: %s\" % shape_x)\n",
        "#rank\n",
        "rank_x = tf.rank(x)\n",
        "print(\"Rank of x: %s\" % rank_x)\n",
        "\n",
        "size_x = tf.size(x)\n",
        "print(\"Size of x: %s\" % size_x)"
      ],
      "metadata": {
        "colab": {
          "base_uri": "https://localhost:8080/"
        },
        "id": "uf2xUMg8pT8U",
        "outputId": "256f082c-4d0d-4329-9512-7e6759ce34b8"
      },
      "execution_count": 60,
      "outputs": [
        {
          "output_type": "stream",
          "name": "stdout",
          "text": [
            "Shape of x: tf.Tensor([ 2  2  3 12], shape=(4,), dtype=int32)\n",
            "Rank of x: tf.Tensor(4, shape=(), dtype=int32)\n",
            "Size of x: tf.Tensor(144, shape=(), dtype=int32)\n"
          ]
        }
      ]
    },
    {
      "cell_type": "code",
      "source": [
        "x = tf.constant(np.arange(1, 13))\n",
        "print(\"x = %s\\n\" % x)\n",
        "\n",
        "x_reshape = tf.reshape(x, [2, -1])\n",
        "print(\"x_2_6 = %s\\n\" % x_reshape)"
      ],
      "metadata": {
        "colab": {
          "base_uri": "https://localhost:8080/"
        },
        "id": "fikAeMkXpmJY",
        "outputId": "6e551d05-95b5-4139-9a73-d8af6fbc21b7"
      },
      "execution_count": 62,
      "outputs": [
        {
          "output_type": "stream",
          "name": "stdout",
          "text": [
            "x = tf.Tensor([ 1  2  3  4  5  6  7  8  9 10 11 12], shape=(12,), dtype=int64)\n",
            "\n",
            "x_2_6 = tf.Tensor(\n",
            "[[ 1  2  3  4  5  6]\n",
            " [ 7  8  9 10 11 12]], shape=(2, 6), dtype=int64)\n",
            "\n"
          ]
        }
      ]
    },
    {
      "cell_type": "markdown",
      "source": [
        "Squeezing Tensors"
      ],
      "metadata": {
        "id": "7ao3sl-apzgY"
      }
    },
    {
      "cell_type": "code",
      "source": [
        "x = tf.constant(np.reshape(np.arange(1, 5), [2, 1, 2, 1]))\n",
        "print(\"Shape of x = %s\" % x.shape)\n",
        "print(x)\n",
        "\n",
        "# Now squeeze out all the dimensions of length 1\n",
        "x_squeezed = tf.squeeze(x)\n",
        "print(\"\\nShape of x_squeezed = %s\" % x_squeezed.shape)\n",
        "print(x_squeezed)"
      ],
      "metadata": {
        "colab": {
          "base_uri": "https://localhost:8080/"
        },
        "id": "LHlSqgpfpv2C",
        "outputId": "f531cf0f-50d5-43ce-85a9-0f03a0da0b56"
      },
      "execution_count": 65,
      "outputs": [
        {
          "output_type": "stream",
          "name": "stdout",
          "text": [
            "Shape of x = (2, 1, 2, 1)\n",
            "tf.Tensor(\n",
            "[[[[1]\n",
            "   [2]]]\n",
            "\n",
            "\n",
            " [[[3]\n",
            "   [4]]]], shape=(2, 1, 2, 1), dtype=int64)\n",
            "\n",
            "Shape of x_squeezed = (2, 2)\n",
            "tf.Tensor(\n",
            "[[1 2]\n",
            " [3 4]], shape=(2, 2), dtype=int64)\n"
          ]
        }
      ]
    },
    {
      "cell_type": "markdown",
      "source": [
        "Tensor Data types\n",
        "\n",
        "Integer types: tf.int32, tf.int64.  \n",
        "Float types: tf.float32, tf.float64.  \n",
        "Boolean type: tf.bool.  \n",
        "Complex type: tf.complex64, tf.complex128"
      ],
      "metadata": {
        "id": "GX0PJJntqYPQ"
      }
    },
    {
      "cell_type": "code",
      "source": [
        "int32_tensor = tf.constant([1, 1], dtype=tf.int32)\n",
        "print(int32_tensor)\n",
        "float32_tensor = tf.constant([2, 2], dtype=tf.float32)\n",
        "print(float32_tensor)"
      ],
      "metadata": {
        "colab": {
          "base_uri": "https://localhost:8080/"
        },
        "id": "VcYddddxqKMK",
        "outputId": "901f2503-cbd6-47a0-f77a-33ad3b4861cf"
      },
      "execution_count": 71,
      "outputs": [
        {
          "output_type": "stream",
          "name": "stdout",
          "text": [
            "tf.Tensor([1 1], shape=(2,), dtype=int32)\n",
            "tf.Tensor([2. 2.], shape=(2,), dtype=float32)\n"
          ]
        }
      ]
    },
    {
      "cell_type": "markdown",
      "source": [
        "Comparision Operations"
      ],
      "metadata": {
        "id": "cOsakLwBr7ux"
      }
    },
    {
      "cell_type": "code",
      "source": [
        "a = tf.constant([1.0, 1.0])\n",
        "b = tf.constant([2.0, 2.0])\n",
        "c = tf.constant([1.0, 2.0])\n",
        "d = 3.0\n",
        "\n",
        "print (\"Inputs:\\na: %s\\nb: %s\\nc: %s\\nd: %s\\n\" % (a, b, c, d))\n",
        "# Less-than op. Tests if the first argument is less than the second argument\n",
        "# component wise.\n",
        "a_less_than_b = a < b\n",
        "b_greater_than_c = b > c\n",
        "\n",
        "# Simple broadcasting in action\n",
        "a_less_than_d = a < d\n",
        "\n",
        "# More complex broadcasting\n",
        "a2 = tf.constant([[1,2],[2,3]])\n",
        "b2 = tf.constant([1,3])\n",
        "c2 = tf.equal(a2, b2)\n",
        "\n",
        "# Note that there is no inline form for tf.equals. If you do b == c, you will\n",
        "# not get what you think you might.\n",
        "b_equal_to_c = tf.equal(b, c)\n",
        "\n",
        "outputs = (a_less_than_b, b_greater_than_c, a_less_than_d,  b_equal_to_c)\n",
        "\n",
        "print(\"Outputs:\\na < b: %s\\nb > c: %s\\na < d: %s\\nb == c: %s\\n\" % (outputs))\n",
        "\n",
        "\n",
        "print(\"Complex Broadcasting\")\n",
        "print(\"%s == %s => %s\" % (a2.numpy(), b2.numpy(), c2.numpy()))"
      ],
      "metadata": {
        "colab": {
          "base_uri": "https://localhost:8080/"
        },
        "id": "dwqcIIgArICW",
        "outputId": "9bb769d3-f308-4f6f-aaa8-d3a49135c3e4"
      },
      "execution_count": 72,
      "outputs": [
        {
          "output_type": "stream",
          "name": "stdout",
          "text": [
            "Inputs:\n",
            "a: tf.Tensor([1. 1.], shape=(2,), dtype=float32)\n",
            "b: tf.Tensor([2. 2.], shape=(2,), dtype=float32)\n",
            "c: tf.Tensor([1. 2.], shape=(2,), dtype=float32)\n",
            "d: 3.0\n",
            "\n",
            "Outputs:\n",
            "a < b: tf.Tensor([ True  True], shape=(2,), dtype=bool)\n",
            "b > c: tf.Tensor([ True False], shape=(2,), dtype=bool)\n",
            "a < d: tf.Tensor([ True  True], shape=(2,), dtype=bool)\n",
            "b == c: tf.Tensor([False  True], shape=(2,), dtype=bool)\n",
            "\n",
            "Complex Broadcasting\n",
            "[[1 2]\n",
            " [2 3]] == [1 3] => [[ True False]\n",
            " [False  True]]\n"
          ]
        }
      ]
    },
    {
      "cell_type": "code",
      "source": [
        ""
      ],
      "metadata": {
        "id": "0IeYo_qnsFtJ"
      },
      "execution_count": null,
      "outputs": []
    }
  ]
}