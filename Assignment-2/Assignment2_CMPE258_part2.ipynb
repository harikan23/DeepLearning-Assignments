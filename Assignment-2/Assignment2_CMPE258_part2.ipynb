{
  "nbformat": 4,
  "nbformat_minor": 0,
  "metadata": {
    "colab": {
      "name": "Assignment2-CMPE258-part2.ipynb",
      "provenance": []
    },
    "kernelspec": {
      "name": "python3",
      "display_name": "Python 3"
    },
    "language_info": {
      "name": "python"
    }
  },
  "cells": [
    {
      "cell_type": "markdown",
      "source": [
        "Pytorch:    \n",
        "PyTorch is an optimized tensor library primarily used for Deep Learning applications using GPUs and CPUs. It is an open-source machine learning library for Python, mainly developed by the Facebook AI Research team."
      ],
      "metadata": {
        "id": "j1QLc_x49cOC"
      }
    },
    {
      "cell_type": "code",
      "execution_count": 146,
      "metadata": {
        "id": "ACFnwvlk3JFa"
      },
      "outputs": [],
      "source": [
        "import torch"
      ]
    },
    {
      "cell_type": "code",
      "source": [
        "# Number\n",
        "t1 = torch.tensor(9.)\n",
        "t1"
      ],
      "metadata": {
        "colab": {
          "base_uri": "https://localhost:8080/"
        },
        "id": "pY9RqOx648pm",
        "outputId": "b01d02aa-39c2-4d95-8505-14853185256a"
      },
      "execution_count": 147,
      "outputs": [
        {
          "output_type": "execute_result",
          "data": {
            "text/plain": [
              "tensor(9.)"
            ]
          },
          "metadata": {},
          "execution_count": 147
        }
      ]
    },
    {
      "cell_type": "code",
      "source": [
        "# vector\n",
        "t2 = torch.tensor([1,2,3,4,5])\n",
        "t2"
      ],
      "metadata": {
        "colab": {
          "base_uri": "https://localhost:8080/"
        },
        "id": "gLXVOSI05Ky1",
        "outputId": "4bf3105d-6282-4b93-f482-c46cb13d3098"
      },
      "execution_count": 148,
      "outputs": [
        {
          "output_type": "execute_result",
          "data": {
            "text/plain": [
              "tensor([1, 2, 3, 4, 5])"
            ]
          },
          "metadata": {},
          "execution_count": 148
        }
      ]
    },
    {
      "cell_type": "markdown",
      "source": [
        "Matrix"
      ],
      "metadata": {
        "id": "WqUeN-CL5QOP"
      }
    },
    {
      "cell_type": "code",
      "source": [
        "t3 = torch.tensor([[2., 6], \n",
        "                   [8, 9], \n",
        "                   [9, 4]])\n",
        "\n",
        "t3"
      ],
      "metadata": {
        "colab": {
          "base_uri": "https://localhost:8080/"
        },
        "id": "-DuELGtI5N0c",
        "outputId": "0e0d9c75-9ba1-44bd-9abd-19f7b89b1d77"
      },
      "execution_count": 149,
      "outputs": [
        {
          "output_type": "execute_result",
          "data": {
            "text/plain": [
              "tensor([[2., 6.],\n",
              "        [8., 9.],\n",
              "        [9., 4.]])"
            ]
          },
          "metadata": {},
          "execution_count": 149
        }
      ]
    },
    {
      "cell_type": "code",
      "source": [
        "x = torch.Tensor(2, 3)  # An un-initialized Tensor object. x holds garbage data.\n",
        "y = torch.rand(2, 3)    # Initialize with random values\n",
        "\n",
        "z1 = x + y\n",
        "z2 = torch.add(x, y)            \n",
        "\n",
        "print(\"x\")\n",
        "print(x)\n",
        "print(\"y\")\n",
        "print(y)\n",
        "\n",
        "print(\"z1\")\n",
        "print(z1)\n",
        "print(\"z2\")\n",
        "print(z2)     "
      ],
      "metadata": {
        "colab": {
          "base_uri": "https://localhost:8080/"
        },
        "id": "tc3fGvqj5TEL",
        "outputId": "5cc2b78b-2783-4627-cac6-9232a1b1b413"
      },
      "execution_count": 150,
      "outputs": [
        {
          "output_type": "stream",
          "name": "stdout",
          "text": [
            "x\n",
            "tensor([[-1.7933e-32,  3.0935e-41,  8.0000e+00],\n",
            "        [ 9.0000e+00,  9.0000e+00,  4.0000e+00]])\n",
            "y\n",
            "tensor([[0.4671, 0.4287, 0.0630],\n",
            "        [0.9877, 0.9366, 0.7358]])\n",
            "z1\n",
            "tensor([[0.4671, 0.4287, 8.0630],\n",
            "        [9.9877, 9.9366, 4.7358]])\n",
            "z2\n",
            "tensor([[0.4671, 0.4287, 8.0630],\n",
            "        [9.9877, 9.9366, 4.7358]])\n"
          ]
        }
      ]
    },
    {
      "cell_type": "markdown",
      "source": [
        "3D data"
      ],
      "metadata": {
        "id": "U50gIv0A66vY"
      }
    },
    {
      "cell_type": "code",
      "source": [
        "# Create a 3D tensor of size 2x2x2.\n",
        "T_data = [[[1., 2.], [3., 4.]],\n",
        "          [[5., 6.], [7., 8.]]]\n",
        "T = torch.tensor(T_data)\n",
        "print(T)"
      ],
      "metadata": {
        "colab": {
          "base_uri": "https://localhost:8080/"
        },
        "id": "7ZdexVDx5rsf",
        "outputId": "43b7cf00-7f18-4d76-fb10-f1081ce3110b"
      },
      "execution_count": 151,
      "outputs": [
        {
          "output_type": "stream",
          "name": "stdout",
          "text": [
            "tensor([[[1., 2.],\n",
            "         [3., 4.]],\n",
            "\n",
            "        [[5., 6.],\n",
            "         [7., 8.]]])\n"
          ]
        }
      ]
    },
    {
      "cell_type": "code",
      "source": [
        "# torch.tensor(data) creates a torch.Tensor object with the given data.\n",
        "V_data = [1., 2., 3.]\n",
        "V = torch.tensor(V_data)\n",
        "print(V)"
      ],
      "metadata": {
        "colab": {
          "base_uri": "https://localhost:8080/"
        },
        "id": "9T_MaRGY7Eq2",
        "outputId": "5fd418ce-a3a3-402b-81f6-6a9ef0cf9296"
      },
      "execution_count": 152,
      "outputs": [
        {
          "output_type": "stream",
          "name": "stdout",
          "text": [
            "tensor([1., 2., 3.])\n"
          ]
        }
      ]
    },
    {
      "cell_type": "code",
      "source": [
        "# Index into V and get a scalar (0 dimensional tensor)\n",
        "print(V[0])\n",
        "# Get a Python number from it\n",
        "print(V[0].item())"
      ],
      "metadata": {
        "colab": {
          "base_uri": "https://localhost:8080/"
        },
        "id": "KYYq85Et7Krg",
        "outputId": "cf00268b-0fbf-4f28-e127-deec6127c9de"
      },
      "execution_count": 153,
      "outputs": [
        {
          "output_type": "stream",
          "name": "stdout",
          "text": [
            "tensor(1.)\n",
            "1.0\n"
          ]
        }
      ]
    },
    {
      "cell_type": "markdown",
      "source": [
        "\"torch_cat\" concatenates along the first axis (concatenates rows)"
      ],
      "metadata": {
        "id": "lfdWILRO7ct9"
      }
    },
    {
      "cell_type": "code",
      "source": [
        "x = torch.randn(2, 5)\n",
        "y = torch.randn(3, 5)\n",
        "z = torch.cat([x, y])\n",
        "\n",
        "print(\"x\")\n",
        "print(x)\n",
        "print(\"y\")\n",
        "print(y)\n",
        "\n",
        "print(\"z1\")\n",
        "print(z1)"
      ],
      "metadata": {
        "colab": {
          "base_uri": "https://localhost:8080/"
        },
        "id": "w25KzVGw7Pfn",
        "outputId": "5df810e6-11e9-4e9d-8c05-2c5d0176a5c4"
      },
      "execution_count": 154,
      "outputs": [
        {
          "output_type": "stream",
          "name": "stdout",
          "text": [
            "x\n",
            "tensor([[ 1.7810, -1.0374,  0.7953, -1.4078, -0.9821],\n",
            "        [-1.5350, -0.6607,  0.4141,  0.8601,  0.9898]])\n",
            "y\n",
            "tensor([[-0.1341, -0.2476, -1.8864,  0.5566,  0.4314],\n",
            "        [ 0.4492,  0.6467, -1.2427,  0.1160,  1.7142],\n",
            "        [ 0.7885, -1.3732, -0.5717, -0.1281,  0.4939]])\n",
            "z1\n",
            "tensor([[0.4671, 0.4287, 8.0630],\n",
            "        [9.9877, 9.9366, 4.7358]])\n"
          ]
        }
      ]
    },
    {
      "cell_type": "markdown",
      "source": [
        "Matrix Operations"
      ],
      "metadata": {
        "id": "F-dK7-CUOzq3"
      }
    },
    {
      "cell_type": "code",
      "source": [
        "matrix1 = torch.randn((2,3))\n",
        "\n",
        "print(matrix1)\n",
        "print(matrix1.shape)\n",
        "\n",
        "matrix2 = torch.randn((2,3))\n",
        "\n",
        "print(matrix2)\n",
        "print(matrix2.shape)"
      ],
      "metadata": {
        "colab": {
          "base_uri": "https://localhost:8080/"
        },
        "id": "nIBJ8IkD7i7f",
        "outputId": "08b2f0ab-f844-42c4-df20-bc437b478015"
      },
      "execution_count": 155,
      "outputs": [
        {
          "output_type": "stream",
          "name": "stdout",
          "text": [
            "tensor([[ 1.0300,  0.2570, -0.6140],\n",
            "        [-1.8296, -0.7804,  0.6980]])\n",
            "torch.Size([2, 3])\n",
            "tensor([[-2.1162,  0.1566, -0.2159],\n",
            "        [ 0.0035, -0.4238,  0.6753]])\n",
            "torch.Size([2, 3])\n"
          ]
        }
      ]
    },
    {
      "cell_type": "markdown",
      "source": [
        "scaler operations of matrix"
      ],
      "metadata": {
        "id": "_GRbdkHfSSsk"
      }
    },
    {
      "cell_type": "code",
      "source": [
        "matrix1+2. #same format for '-','*','/'"
      ],
      "metadata": {
        "colab": {
          "base_uri": "https://localhost:8080/"
        },
        "id": "VQdVV6qhSIhq",
        "outputId": "6ad8fa79-8265-4d9b-e6b8-2a4318c48423"
      },
      "execution_count": 156,
      "outputs": [
        {
          "output_type": "execute_result",
          "data": {
            "text/plain": [
              "tensor([[3.0300, 2.2570, 1.3860],\n",
              "        [0.1704, 1.2196, 2.6980]])"
            ]
          },
          "metadata": {},
          "execution_count": 156
        }
      ]
    },
    {
      "cell_type": "code",
      "source": [
        "matrix1-2"
      ],
      "metadata": {
        "colab": {
          "base_uri": "https://localhost:8080/"
        },
        "id": "ciDkWWn0Sb1Q",
        "outputId": "76b42e0d-94bd-4681-cdb1-9d74e034c7bb"
      },
      "execution_count": 157,
      "outputs": [
        {
          "output_type": "execute_result",
          "data": {
            "text/plain": [
              "tensor([[-0.9700, -1.7430, -2.6140],\n",
              "        [-3.8296, -2.7804, -1.3020]])"
            ]
          },
          "metadata": {},
          "execution_count": 157
        }
      ]
    },
    {
      "cell_type": "code",
      "source": [
        "torch.abs(matrix1-2)"
      ],
      "metadata": {
        "colab": {
          "base_uri": "https://localhost:8080/"
        },
        "id": "Q0lbXsG6SupO",
        "outputId": "669b9973-3b36-4447-8df8-e748ea17f825"
      },
      "execution_count": 158,
      "outputs": [
        {
          "output_type": "execute_result",
          "data": {
            "text/plain": [
              "tensor([[0.9700, 1.7430, 2.6140],\n",
              "        [3.8296, 2.7804, 1.3020]])"
            ]
          },
          "metadata": {},
          "execution_count": 158
        }
      ]
    },
    {
      "cell_type": "markdown",
      "source": [
        "ceil of matrix"
      ],
      "metadata": {
        "id": "N7fyHGFYS07O"
      }
    },
    {
      "cell_type": "code",
      "source": [
        "torch.ceil(matrix1)"
      ],
      "metadata": {
        "colab": {
          "base_uri": "https://localhost:8080/"
        },
        "id": "aueaqSqCSzKs",
        "outputId": "eac2542f-5f1d-4097-dacb-6a2e85308c60"
      },
      "execution_count": 159,
      "outputs": [
        {
          "output_type": "execute_result",
          "data": {
            "text/plain": [
              "tensor([[ 2.,  1., -0.],\n",
              "        [-1., -0.,  1.]])"
            ]
          },
          "metadata": {},
          "execution_count": 159
        }
      ]
    },
    {
      "cell_type": "code",
      "source": [
        "matrix1 = torch.tensor([[1., 2], \n",
        "                   [2, 3], \n",
        "                   [3, 4]])\n",
        "matrix1"
      ],
      "metadata": {
        "colab": {
          "base_uri": "https://localhost:8080/"
        },
        "id": "CF9TaxWVS65w",
        "outputId": "80ea5a12-779d-4fa1-b699-fa41e876b90b"
      },
      "execution_count": 160,
      "outputs": [
        {
          "output_type": "execute_result",
          "data": {
            "text/plain": [
              "tensor([[1., 2.],\n",
              "        [2., 3.],\n",
              "        [3., 4.]])"
            ]
          },
          "metadata": {},
          "execution_count": 160
        }
      ]
    },
    {
      "cell_type": "code",
      "source": [
        "matrix2= torch.tensor([[4., 5], \n",
        "                   [5, 6], \n",
        "                   [6, 7]])\n",
        "matrix2"
      ],
      "metadata": {
        "colab": {
          "base_uri": "https://localhost:8080/"
        },
        "id": "XpbQNJXnTHIN",
        "outputId": "35fe6c76-f290-42a6-f86d-9c03789b5bc8"
      },
      "execution_count": 161,
      "outputs": [
        {
          "output_type": "execute_result",
          "data": {
            "text/plain": [
              "tensor([[4., 5.],\n",
              "        [5., 6.],\n",
              "        [6., 7.]])"
            ]
          },
          "metadata": {},
          "execution_count": 161
        }
      ]
    },
    {
      "cell_type": "code",
      "source": [
        "matrix1+matrix2"
      ],
      "metadata": {
        "colab": {
          "base_uri": "https://localhost:8080/"
        },
        "id": "vQ7NsMKbTPSh",
        "outputId": "794b52fb-fdfa-4e2a-b187-df69a332e6e9"
      },
      "execution_count": 162,
      "outputs": [
        {
          "output_type": "execute_result",
          "data": {
            "text/plain": [
              "tensor([[ 5.,  7.],\n",
              "        [ 7.,  9.],\n",
              "        [ 9., 11.]])"
            ]
          },
          "metadata": {},
          "execution_count": 162
        }
      ]
    },
    {
      "cell_type": "code",
      "source": [
        "matrix1/matrix2"
      ],
      "metadata": {
        "colab": {
          "base_uri": "https://localhost:8080/"
        },
        "id": "O26jm_n1TSoG",
        "outputId": "f2f7e6ae-06ed-41d4-8933-d8e9d63b3fa6"
      },
      "execution_count": 163,
      "outputs": [
        {
          "output_type": "execute_result",
          "data": {
            "text/plain": [
              "tensor([[0.2500, 0.4000],\n",
              "        [0.4000, 0.5000],\n",
              "        [0.5000, 0.5714]])"
            ]
          },
          "metadata": {},
          "execution_count": 163
        }
      ]
    },
    {
      "cell_type": "markdown",
      "source": [
        "einsum"
      ],
      "metadata": {
        "id": "SAMUxcYss_gn"
      }
    },
    {
      "cell_type": "code",
      "source": [
        "matrix  = torch.arange(6).reshape(2,3)\n",
        "matrix"
      ],
      "metadata": {
        "colab": {
          "base_uri": "https://localhost:8080/"
        },
        "id": "wkbjVrjYTX2F",
        "outputId": "9de2dbbf-9c3a-49d2-ad32-39f49bf37cf0"
      },
      "execution_count": 164,
      "outputs": [
        {
          "output_type": "execute_result",
          "data": {
            "text/plain": [
              "tensor([[0, 1, 2],\n",
              "        [3, 4, 5]])"
            ]
          },
          "metadata": {},
          "execution_count": 164
        }
      ]
    },
    {
      "cell_type": "markdown",
      "source": [
        "sum of matrix"
      ],
      "metadata": {
        "id": "8rGePEaBtq5b"
      }
    },
    {
      "cell_type": "code",
      "source": [
        "torch.einsum('ij->',matrix)"
      ],
      "metadata": {
        "colab": {
          "base_uri": "https://localhost:8080/"
        },
        "id": "nfefqxkJtemG",
        "outputId": "ad888899-cdfb-49c1-c8e7-4a4614b48a2b"
      },
      "execution_count": 165,
      "outputs": [
        {
          "output_type": "execute_result",
          "data": {
            "text/plain": [
              "tensor(15)"
            ]
          },
          "metadata": {},
          "execution_count": 165
        }
      ]
    },
    {
      "cell_type": "markdown",
      "source": [
        "column sum"
      ],
      "metadata": {
        "id": "RlSxTK2ets1u"
      }
    },
    {
      "cell_type": "code",
      "source": [
        "torch.einsum('ij->j',matrix)"
      ],
      "metadata": {
        "colab": {
          "base_uri": "https://localhost:8080/"
        },
        "id": "9wliTeowtpUp",
        "outputId": "822c572b-2d91-4f33-d662-ddf3506a8938"
      },
      "execution_count": 166,
      "outputs": [
        {
          "output_type": "execute_result",
          "data": {
            "text/plain": [
              "tensor([3, 5, 7])"
            ]
          },
          "metadata": {},
          "execution_count": 166
        }
      ]
    },
    {
      "cell_type": "markdown",
      "source": [
        "row sum"
      ],
      "metadata": {
        "id": "eo0K2jEPt6By"
      }
    },
    {
      "cell_type": "code",
      "source": [
        "torch.einsum('ij->i',matrix)"
      ],
      "metadata": {
        "colab": {
          "base_uri": "https://localhost:8080/"
        },
        "id": "2thSzvM_t2tZ",
        "outputId": "c309222b-7e69-47cf-955b-524d7cbcefe9"
      },
      "execution_count": 167,
      "outputs": [
        {
          "output_type": "execute_result",
          "data": {
            "text/plain": [
              "tensor([ 3, 12])"
            ]
          },
          "metadata": {},
          "execution_count": 167
        }
      ]
    },
    {
      "cell_type": "markdown",
      "source": [
        "matrix vector multiplication"
      ],
      "metadata": {
        "id": "VU7kE-G0t-oE"
      }
    },
    {
      "cell_type": "code",
      "source": [
        "vector = torch.arange(2)\n",
        "print(vector)\n",
        "multi = torch.einsum('ik,i->k', [matrix, vector])\n",
        "print(multi)"
      ],
      "metadata": {
        "colab": {
          "base_uri": "https://localhost:8080/"
        },
        "id": "rX_T2vANuCDi",
        "outputId": "2bec179b-5f71-43a5-a7e7-96e7a2a556ee"
      },
      "execution_count": 168,
      "outputs": [
        {
          "output_type": "stream",
          "name": "stdout",
          "text": [
            "tensor([0, 1])\n",
            "tensor([3, 4, 5])\n"
          ]
        }
      ]
    },
    {
      "cell_type": "markdown",
      "source": [
        "Hadamard product"
      ],
      "metadata": {
        "id": "bVxDRFAAujCZ"
      }
    },
    {
      "cell_type": "code",
      "source": [
        "m1 = torch.arange(12).reshape(3,4)\n",
        "m2 = torch.arange(12).reshape(3,4)\n",
        "\n",
        "print(\"m1\")\n",
        "print(m1)\n",
        "print(\"m2\")\n",
        "print(m2)\n",
        "\n",
        "multi = torch.einsum('ij,ij->ij', [m1,m2])\n",
        "\n",
        "print(multi)"
      ],
      "metadata": {
        "colab": {
          "base_uri": "https://localhost:8080/"
        },
        "id": "VR5sy_sruf1-",
        "outputId": "cb7410f9-66aa-41a1-8be3-fe6059b0d3a0"
      },
      "execution_count": 169,
      "outputs": [
        {
          "output_type": "stream",
          "name": "stdout",
          "text": [
            "m1\n",
            "tensor([[ 0,  1,  2,  3],\n",
            "        [ 4,  5,  6,  7],\n",
            "        [ 8,  9, 10, 11]])\n",
            "m2\n",
            "tensor([[ 0,  1,  2,  3],\n",
            "        [ 4,  5,  6,  7],\n",
            "        [ 8,  9, 10, 11]])\n",
            "tensor([[  0,   1,   4,   9],\n",
            "        [ 16,  25,  36,  49],\n",
            "        [ 64,  81, 100, 121]])\n"
          ]
        }
      ]
    },
    {
      "cell_type": "markdown",
      "source": [
        "batch multiplication"
      ],
      "metadata": {
        "id": "1WWcl20JvaWp"
      }
    },
    {
      "cell_type": "code",
      "source": [
        "m1 = torch.randn(size=[7,5,3])\n",
        "m2 = torch.randn(size=[7,3,2])\n",
        "mat_multi = torch.einsum('bij,bjk->bik', m1, m2)\n",
        "print(mat_multi.shape)"
      ],
      "metadata": {
        "id": "sowI49IfvOub",
        "colab": {
          "base_uri": "https://localhost:8080/"
        },
        "outputId": "787ba3e3-74ae-4b64-84f1-f92ecb9e4f55"
      },
      "execution_count": 170,
      "outputs": [
        {
          "output_type": "stream",
          "name": "stdout",
          "text": [
            "torch.Size([7, 5, 2])\n"
          ]
        }
      ]
    },
    {
      "cell_type": "code",
      "source": [
        "x = torch.Tensor(2, 3)  # un-initialized Tensor object. x holds garbage data.\n",
        "y = torch.rand(2, 3)    # Initialize with random values"
      ],
      "metadata": {
        "id": "mvePBzo08RX4"
      },
      "execution_count": 171,
      "outputs": []
    },
    {
      "cell_type": "code",
      "source": [
        "add_xy = torch.add(x, y)            \n",
        "print(add_xy)    "
      ],
      "metadata": {
        "colab": {
          "base_uri": "https://localhost:8080/"
        },
        "id": "A7d1BLaZ8YiG",
        "outputId": "bc5d68d4-8e77-40eb-ff0d-53ff1f368490"
      },
      "execution_count": 172,
      "outputs": [
        {
          "output_type": "stream",
          "name": "stdout",
          "text": [
            "tensor([[0.2671, 0.3674, 0.9000],\n",
            "        [0.5947,    nan, 0.2365]])\n"
          ]
        }
      ]
    },
    {
      "cell_type": "markdown",
      "source": [
        "numpy to tensor"
      ],
      "metadata": {
        "id": "-0Qrzfcj9aqQ"
      }
    },
    {
      "cell_type": "code",
      "source": [
        "import numpy as np\n",
        "\n",
        "# Conversion\n",
        "a = np.array([1, 2, 3])\n",
        "vect = torch.from_numpy(a)         # Convert a numpy array to a Tensor\n",
        "print(vect)"
      ],
      "metadata": {
        "colab": {
          "base_uri": "https://localhost:8080/"
        },
        "id": "Dqyvy4fO8gyW",
        "outputId": "03fcd3d1-602f-40d2-ec9e-67682560d672"
      },
      "execution_count": 173,
      "outputs": [
        {
          "output_type": "stream",
          "name": "stdout",
          "text": [
            "tensor([1, 2, 3])\n"
          ]
        }
      ]
    },
    {
      "cell_type": "markdown",
      "source": [
        "Randome Tensor"
      ],
      "metadata": {
        "id": "UdaaywZF9yKh"
      }
    },
    {
      "cell_type": "code",
      "source": [
        "a = torch.rand(2, 3)            # Initialize with random number (uniform distribution)\n",
        "print(a)\n",
        "b = torch.randn(2, 3)           # With normal distribution (SD=1, mean=0)\n",
        "print(b)\n",
        "c = torch.randperm(6)  \n",
        "print(c)"
      ],
      "metadata": {
        "colab": {
          "base_uri": "https://localhost:8080/"
        },
        "id": "X8h5DcPY9m-A",
        "outputId": "152e313b-9cb9-4e19-a122-0b3bb56209d8"
      },
      "execution_count": 174,
      "outputs": [
        {
          "output_type": "stream",
          "name": "stdout",
          "text": [
            "tensor([[0.6034, 0.9324, 0.7711],\n",
            "        [0.7839, 0.4408, 0.2015]])\n",
            "tensor([[ 1.7369,  0.1768,  0.6847],\n",
            "        [ 0.2760,  0.3859, -1.2818]])\n",
            "tensor([3, 5, 1, 0, 4, 2])\n"
          ]
        }
      ]
    },
    {
      "cell_type": "markdown",
      "source": [
        "byte tensor"
      ],
      "metadata": {
        "id": "_6jMvJYS-Gv_"
      }
    },
    {
      "cell_type": "code",
      "source": [
        "c = torch.ByteTensor([0, 1, 1, 0])\n",
        "print(c)"
      ],
      "metadata": {
        "colab": {
          "base_uri": "https://localhost:8080/"
        },
        "id": "oOdrARFx-AGH",
        "outputId": "85ec8a59-d540-4f92-ae70-8c51ffd5f44b"
      },
      "execution_count": 175,
      "outputs": [
        {
          "output_type": "stream",
          "name": "stdout",
          "text": [
            "tensor([0, 1, 1, 0], dtype=torch.uint8)\n"
          ]
        }
      ]
    },
    {
      "cell_type": "markdown",
      "source": [
        "matrix "
      ],
      "metadata": {
        "id": "9iTpTx-C-UGl"
      }
    },
    {
      "cell_type": "code",
      "source": [
        "v = torch.arange(9)\n",
        "v = v.view(3, 3)\n",
        "print(v)"
      ],
      "metadata": {
        "colab": {
          "base_uri": "https://localhost:8080/"
        },
        "id": "25rG_x4H-LJv",
        "outputId": "ed3c1aeb-b6b4-4315-e9f7-d26844657984"
      },
      "execution_count": 176,
      "outputs": [
        {
          "output_type": "stream",
          "name": "stdout",
          "text": [
            "tensor([[0, 1, 2],\n",
            "        [3, 4, 5],\n",
            "        [6, 7, 8]])\n"
          ]
        }
      ]
    },
    {
      "cell_type": "markdown",
      "source": [
        "concatenate stack"
      ],
      "metadata": {
        "id": "T4GbiDmN-cwU"
      }
    },
    {
      "cell_type": "code",
      "source": [
        "r = torch.stack((v, v))\n",
        "print(r)"
      ],
      "metadata": {
        "colab": {
          "base_uri": "https://localhost:8080/"
        },
        "id": "ScL14PbS-Ygu",
        "outputId": "8187a1ca-73bb-4dce-b12e-29c777fc07fc"
      },
      "execution_count": 177,
      "outputs": [
        {
          "output_type": "stream",
          "name": "stdout",
          "text": [
            "tensor([[[0, 1, 2],\n",
            "         [3, 4, 5],\n",
            "         [6, 7, 8]],\n",
            "\n",
            "        [[0, 1, 2],\n",
            "         [3, 4, 5],\n",
            "         [6, 7, 8]]])\n"
          ]
        }
      ]
    },
    {
      "cell_type": "markdown",
      "source": [
        "split tensor"
      ],
      "metadata": {
        "id": "XBhRejT5-hAZ"
      }
    },
    {
      "cell_type": "code",
      "source": [
        "r = torch.chunk(v, 3)\n",
        "print(r)"
      ],
      "metadata": {
        "colab": {
          "base_uri": "https://localhost:8080/"
        },
        "id": "YYk58i4y-mpb",
        "outputId": "e71e57a9-52ba-49a7-8328-9923a184d5c3"
      },
      "execution_count": 178,
      "outputs": [
        {
          "output_type": "stream",
          "name": "stdout",
          "text": [
            "(tensor([[0, 1, 2]]), tensor([[3, 4, 5]]), tensor([[6, 7, 8]]))\n"
          ]
        }
      ]
    },
    {
      "cell_type": "code",
      "source": [
        "r = torch.split(v, 2)\n",
        "print(r)"
      ],
      "metadata": {
        "colab": {
          "base_uri": "https://localhost:8080/"
        },
        "id": "blOOQLpk-sGL",
        "outputId": "f9b8150b-cdc3-45a1-8169-cfae492bfeb3"
      },
      "execution_count": 179,
      "outputs": [
        {
          "output_type": "stream",
          "name": "stdout",
          "text": [
            "(tensor([[0, 1, 2],\n",
            "        [3, 4, 5]]), tensor([[6, 7, 8]]))\n"
          ]
        }
      ]
    },
    {
      "cell_type": "markdown",
      "source": [
        "comparision operations"
      ],
      "metadata": {
        "id": "5NGwMhHHAUj5"
      }
    },
    {
      "cell_type": "code",
      "source": [
        "print(v)"
      ],
      "metadata": {
        "colab": {
          "base_uri": "https://localhost:8080/"
        },
        "id": "hI6wyOscGbK3",
        "outputId": "053d5c2b-fb6b-4cab-ea4f-7eb28f1cc04a"
      },
      "execution_count": 180,
      "outputs": [
        {
          "output_type": "stream",
          "name": "stdout",
          "text": [
            "tensor([[0, 1, 2],\n",
            "        [3, 4, 5],\n",
            "        [6, 7, 8]])\n"
          ]
        }
      ]
    },
    {
      "cell_type": "code",
      "source": [
        "r = torch.eq(v, v) # element wise comparision\n",
        "print(r)"
      ],
      "metadata": {
        "colab": {
          "base_uri": "https://localhost:8080/"
        },
        "id": "E9-PCiDc-v8T",
        "outputId": "58353824-e098-4e10-a3be-34cd76103c36"
      },
      "execution_count": 181,
      "outputs": [
        {
          "output_type": "stream",
          "name": "stdout",
          "text": [
            "tensor([[True, True, True],\n",
            "        [True, True, True],\n",
            "        [True, True, True]])\n"
          ]
        }
      ]
    },
    {
      "cell_type": "code",
      "source": [
        "r = torch.max(v, 1) # max element with corresponding index\n",
        "print(r)"
      ],
      "metadata": {
        "colab": {
          "base_uri": "https://localhost:8080/"
        },
        "id": "zj0AZlDNGWMa",
        "outputId": "8c9e6b2d-d6fc-42df-8289-a8e9de361428"
      },
      "execution_count": 182,
      "outputs": [
        {
          "output_type": "stream",
          "name": "stdout",
          "text": [
            "torch.return_types.max(\n",
            "values=tensor([2, 5, 8]),\n",
            "indices=tensor([2, 2, 2]))\n"
          ]
        }
      ]
    },
    {
      "cell_type": "markdown",
      "source": [
        "kth top and top k elemnts with corresponding index"
      ],
      "metadata": {
        "id": "R6Y1JCYXGmCW"
      }
    },
    {
      "cell_type": "code",
      "source": [
        "r = torch.kthvalue(v, 2)\n",
        "print(r)"
      ],
      "metadata": {
        "colab": {
          "base_uri": "https://localhost:8080/"
        },
        "id": "1U92-6uaGhzA",
        "outputId": "cf78b6e1-ed2e-47c9-99c5-55dbf22e8cbf"
      },
      "execution_count": 183,
      "outputs": [
        {
          "output_type": "stream",
          "name": "stdout",
          "text": [
            "torch.return_types.kthvalue(\n",
            "values=tensor([1, 4, 7]),\n",
            "indices=tensor([1, 1, 1]))\n"
          ]
        }
      ]
    },
    {
      "cell_type": "code",
      "source": [
        "r = torch.topk(v, 1) # top k elements\n",
        "print(r)"
      ],
      "metadata": {
        "colab": {
          "base_uri": "https://localhost:8080/"
        },
        "id": "e24y_ljpGyfU",
        "outputId": "5187d407-c05e-4c0a-ca78-067ee1bc023e"
      },
      "execution_count": 184,
      "outputs": [
        {
          "output_type": "stream",
          "name": "stdout",
          "text": [
            "torch.return_types.topk(\n",
            "values=tensor([[2],\n",
            "        [5],\n",
            "        [8]]),\n",
            "indices=tensor([[2],\n",
            "        [2],\n",
            "        [2]]))\n"
          ]
        }
      ]
    },
    {
      "cell_type": "markdown",
      "source": [
        "cross product"
      ],
      "metadata": {
        "id": "7SdhH0AwG9e2"
      }
    },
    {
      "cell_type": "code",
      "source": [
        "mat1 = torch.rand(3, 5)\n",
        "mat2 = torch.rand(3, 5)\n",
        "vect = torch.rand(3)\n",
        "\n",
        "r = torch.cross(mat1, mat2)\n",
        "print(r)"
      ],
      "metadata": {
        "colab": {
          "base_uri": "https://localhost:8080/"
        },
        "id": "vmbjsc4RG1x6",
        "outputId": "1bec871f-5e90-46da-d5fe-ac921a345ccc"
      },
      "execution_count": 185,
      "outputs": [
        {
          "output_type": "stream",
          "name": "stdout",
          "text": [
            "tensor([[-0.3015, -0.2597,  0.2749, -0.2654,  0.3982],\n",
            "        [ 0.1775, -0.2725, -0.7474, -0.3187, -0.2731],\n",
            "        [ 0.1304,  0.2031,  0.2509,  0.3037,  0.1436]])\n"
          ]
        }
      ]
    },
    {
      "cell_type": "markdown",
      "source": [
        "diagonal matrix"
      ],
      "metadata": {
        "id": "xi-fe7H8Hefa"
      }
    },
    {
      "cell_type": "code",
      "source": [
        "r = torch.diag(vect)\n",
        "print(r)"
      ],
      "metadata": {
        "colab": {
          "base_uri": "https://localhost:8080/"
        },
        "id": "l_J6rAM4HdVD",
        "outputId": "c00c30ef-59ca-40f8-e26c-a963c15f4dc6"
      },
      "execution_count": 186,
      "outputs": [
        {
          "output_type": "stream",
          "name": "stdout",
          "text": [
            "tensor([[0.2220, 0.0000, 0.0000],\n",
            "        [0.0000, 0.0566, 0.0000],\n",
            "        [0.0000, 0.0000, 0.5944]])\n"
          ]
        }
      ]
    },
    {
      "cell_type": "markdown",
      "source": [
        "histogram"
      ],
      "metadata": {
        "id": "iUklQsisHnT9"
      }
    },
    {
      "cell_type": "code",
      "source": [
        "torch.histc(torch.FloatTensor([1, 2, 1]), bins=4, min=0, max=3)\n"
      ],
      "metadata": {
        "colab": {
          "base_uri": "https://localhost:8080/"
        },
        "id": "82G6NKN0HXZe",
        "outputId": "11d03caa-92b6-4408-a487-2fa42deaf392"
      },
      "execution_count": 187,
      "outputs": [
        {
          "output_type": "execute_result",
          "data": {
            "text/plain": [
              "tensor([0., 2., 1., 0.])"
            ]
          },
          "metadata": {},
          "execution_count": 187
        }
      ]
    },
    {
      "cell_type": "markdown",
      "source": [
        "Pytorch Deep Learning Model with IRIS Dataset\n",
        "\n",
        "multi-class classification problem based on Iris data set.    \n",
        "he model will be developed classifies the samples based on four features:     \n",
        "sepal length (cm).     \n",
        "sepal width (cm).     \n",
        "petal length (cm).    \n",
        "petal width (cm).    \n",
        "\n",
        "Class labels:     \n",
        "Iris-setosa.     \n",
        "Iris-versicolour.     \n",
        "Iris-virginica.      "
      ],
      "metadata": {
        "id": "P9xWgOdNI1ZO"
      }
    },
    {
      "cell_type": "code",
      "source": [
        "import torch\n",
        "import torch.nn as nn\n",
        "import torch.nn.functional as F\n",
        "from torch.utils.data import Dataset, DataLoader\n",
        "from sklearn.model_selection import train_test_split\n",
        "\n",
        "import numpy as np\n",
        "import pandas as pd"
      ],
      "metadata": {
        "id": "V5-R_0itLREZ"
      },
      "execution_count": 188,
      "outputs": []
    },
    {
      "cell_type": "markdown",
      "source": [
        "dounloading data from sklearn.datasets"
      ],
      "metadata": {
        "id": "Fmjh0hUU8Hz9"
      }
    },
    {
      "cell_type": "code",
      "source": [
        "from sklearn import datasets\n",
        "iris = datasets.load_iris()\n",
        "X = (iris.data)\n",
        "y = iris.target"
      ],
      "metadata": {
        "id": "yGYi29DdLT3j"
      },
      "execution_count": 189,
      "outputs": []
    },
    {
      "cell_type": "code",
      "source": [
        "print(X.shape)\n",
        "print(y.shape)"
      ],
      "metadata": {
        "colab": {
          "base_uri": "https://localhost:8080/"
        },
        "id": "XB_k8RgDNsWq",
        "outputId": "eb5b3e36-c41a-4477-9cab-2cd21cf147e2"
      },
      "execution_count": 190,
      "outputs": [
        {
          "output_type": "stream",
          "name": "stdout",
          "text": [
            "(150, 4)\n",
            "(150,)\n"
          ]
        }
      ]
    },
    {
      "cell_type": "markdown",
      "source": [
        "label encoding of target column"
      ],
      "metadata": {
        "id": "MTWywaSw8JcU"
      }
    },
    {
      "cell_type": "code",
      "source": [
        "from sklearn.preprocessing import LabelEncoder\n",
        "encoder =  LabelEncoder()\n",
        "y1 = encoder.fit_transform(y)"
      ],
      "metadata": {
        "id": "SqDGfojXNul8"
      },
      "execution_count": 191,
      "outputs": []
    },
    {
      "cell_type": "markdown",
      "source": [
        "split data to train and test data"
      ],
      "metadata": {
        "id": "aJyqd06X8NvM"
      }
    },
    {
      "cell_type": "code",
      "source": [
        "from sklearn.model_selection import train_test_split\n",
        "\n",
        "X_train, X_test, y_train, y_test = train_test_split(X, y1, test_size=0.2, random_state=0)"
      ],
      "metadata": {
        "id": "a9AWBl_9NzKy"
      },
      "execution_count": 193,
      "outputs": []
    },
    {
      "cell_type": "code",
      "source": [
        "X_train = torch.FloatTensor(X_train)\n",
        "X_test = torch.FloatTensor(X_test)\n",
        "y_train = torch.LongTensor(y_train)\n",
        "y_test = torch.LongTensor(y_test)"
      ],
      "metadata": {
        "id": "zhxFMUCqPbW0"
      },
      "execution_count": 194,
      "outputs": []
    },
    {
      "cell_type": "markdown",
      "source": [
        "Creating Model      \n",
        "Fully Connected Layer 4 input features, 25 output features (arbitrary).    \n",
        "Fully Connected Layer 25 input features, 30 output features (arbitrary).    \n",
        "Output Layer 30 input features , 3 output features.    "
      ],
      "metadata": {
        "id": "vIsxl15S8Qnr"
      }
    },
    {
      "cell_type": "code",
      "source": [
        "class Model(nn.Module):\n",
        "    def __init__(self, input_features=4, hidden_layer1=25, hidden_layer2=30, output_features=3):\n",
        "        super().__init__()\n",
        "        self.fc1 = nn.Linear(input_features,hidden_layer1)                  \n",
        "        self.fc2 = nn.Linear(hidden_layer1, hidden_layer2)                  \n",
        "        self.out = nn.Linear(hidden_layer2, output_features)      \n",
        "        \n",
        "    def forward(self, x):\n",
        "        x = F.relu(self.fc1(x))\n",
        "        x = F.relu(self.fc2(x))\n",
        "        x = self.out(x)\n",
        "        return x"
      ],
      "metadata": {
        "id": "nWH1BIp8Pel1"
      },
      "execution_count": 195,
      "outputs": []
    },
    {
      "cell_type": "markdown",
      "source": [
        "model"
      ],
      "metadata": {
        "id": "i7OBKxJp8ayC"
      }
    },
    {
      "cell_type": "code",
      "source": [
        "model = Model()\n",
        "model"
      ],
      "metadata": {
        "colab": {
          "base_uri": "https://localhost:8080/"
        },
        "id": "MubdigPtybdD",
        "outputId": "b6b45e42-270d-42c1-8349-db9a0bffa221"
      },
      "execution_count": 196,
      "outputs": [
        {
          "output_type": "execute_result",
          "data": {
            "text/plain": [
              "Model(\n",
              "  (fc1): Linear(in_features=4, out_features=25, bias=True)\n",
              "  (fc2): Linear(in_features=25, out_features=30, bias=True)\n",
              "  (out): Linear(in_features=30, out_features=3, bias=True)\n",
              ")"
            ]
          },
          "metadata": {},
          "execution_count": 196
        }
      ]
    },
    {
      "cell_type": "markdown",
      "source": [
        "setting hyperparameters:    \n",
        "\n",
        "We start with learning rate 0.01 then we can work on and see its affect on the training process.     \n",
        "Also we will use Cross Entropy and Adam optimizer.  \n",
        "\n",
        "Learning rate is one of the key hyperparameters for gradient descent. It scales the magnitude of the model's weight updates in order to minimize the model's loss"
      ],
      "metadata": {
        "id": "XImJk8iC8g78"
      }
    },
    {
      "cell_type": "code",
      "source": [
        "criterion = nn.CrossEntropyLoss()\n",
        "optimizer = torch.optim.Adam(model.parameters(), lr=0.01)"
      ],
      "metadata": {
        "id": "WHs6lQarPhMY"
      },
      "execution_count": 197,
      "outputs": []
    },
    {
      "cell_type": "markdown",
      "source": [
        "train model with 100 epochs.    \n",
        "\n",
        "EPOCH:      \n",
        "An epoch is one training iteration, so in one iteration all samples are iterated once. The number determines how many times the model should be trained on the sample data."
      ],
      "metadata": {
        "id": "4B0hEF378vt3"
      }
    },
    {
      "cell_type": "code",
      "source": [
        "epochs = 100\n",
        "losses = []\n",
        "\n",
        "for i in range(epochs):\n",
        "    y_pred = model.forward(X_train)\n",
        "    loss = criterion(y_pred, y_train)\n",
        "    losses.append(loss)\n",
        "    print(f'epoch: {i:2}  loss: {loss.item():10.8f}')\n",
        "    \n",
        "    optimizer.zero_grad()\n",
        "    loss.backward()\n",
        "    optimizer.step()"
      ],
      "metadata": {
        "colab": {
          "base_uri": "https://localhost:8080/"
        },
        "id": "cM0aO8_gPkIm",
        "outputId": "2be2b3a1-8dbe-4f4b-91bb-bcf13d62b695"
      },
      "execution_count": 198,
      "outputs": [
        {
          "output_type": "stream",
          "name": "stdout",
          "text": [
            "epoch:  0  loss: 1.24783933\n",
            "epoch:  1  loss: 1.06976020\n",
            "epoch:  2  loss: 1.00381613\n",
            "epoch:  3  loss: 0.98972631\n",
            "epoch:  4  loss: 0.96550888\n",
            "epoch:  5  loss: 0.91972637\n",
            "epoch:  6  loss: 0.86015183\n",
            "epoch:  7  loss: 0.80437952\n",
            "epoch:  8  loss: 0.75213230\n",
            "epoch:  9  loss: 0.70222861\n",
            "epoch: 10  loss: 0.65631020\n",
            "epoch: 11  loss: 0.61491317\n",
            "epoch: 12  loss: 0.57609779\n",
            "epoch: 13  loss: 0.53929532\n",
            "epoch: 14  loss: 0.50615466\n",
            "epoch: 15  loss: 0.47874048\n",
            "epoch: 16  loss: 0.45716766\n",
            "epoch: 17  loss: 0.43976492\n",
            "epoch: 18  loss: 0.42401999\n",
            "epoch: 19  loss: 0.40831926\n",
            "epoch: 20  loss: 0.39297202\n",
            "epoch: 21  loss: 0.37905926\n",
            "epoch: 22  loss: 0.36655760\n",
            "epoch: 23  loss: 0.35344413\n",
            "epoch: 24  loss: 0.33935514\n",
            "epoch: 25  loss: 0.32598341\n",
            "epoch: 26  loss: 0.31244263\n",
            "epoch: 27  loss: 0.29733828\n",
            "epoch: 28  loss: 0.28260127\n",
            "epoch: 29  loss: 0.26834217\n",
            "epoch: 30  loss: 0.25262052\n",
            "epoch: 31  loss: 0.23762499\n",
            "epoch: 32  loss: 0.22305883\n",
            "epoch: 33  loss: 0.20819761\n",
            "epoch: 34  loss: 0.19502625\n",
            "epoch: 35  loss: 0.18143862\n",
            "epoch: 36  loss: 0.16946040\n",
            "epoch: 37  loss: 0.15790108\n",
            "epoch: 38  loss: 0.14775038\n",
            "epoch: 39  loss: 0.13819245\n",
            "epoch: 40  loss: 0.12982178\n",
            "epoch: 41  loss: 0.12208600\n",
            "epoch: 42  loss: 0.11560442\n",
            "epoch: 43  loss: 0.10948196\n",
            "epoch: 44  loss: 0.10457558\n",
            "epoch: 45  loss: 0.09987427\n",
            "epoch: 46  loss: 0.09622548\n",
            "epoch: 47  loss: 0.09265632\n",
            "epoch: 48  loss: 0.08974136\n",
            "epoch: 49  loss: 0.08721016\n",
            "epoch: 50  loss: 0.08478303\n",
            "epoch: 51  loss: 0.08288115\n",
            "epoch: 52  loss: 0.08102158\n",
            "epoch: 53  loss: 0.07932266\n",
            "epoch: 54  loss: 0.07791258\n",
            "epoch: 55  loss: 0.07647765\n",
            "epoch: 56  loss: 0.07516343\n",
            "epoch: 57  loss: 0.07406101\n",
            "epoch: 58  loss: 0.07297853\n",
            "epoch: 59  loss: 0.07193042\n",
            "epoch: 60  loss: 0.07103487\n",
            "epoch: 61  loss: 0.07025221\n",
            "epoch: 62  loss: 0.06949151\n",
            "epoch: 63  loss: 0.06873415\n",
            "epoch: 64  loss: 0.06802273\n",
            "epoch: 65  loss: 0.06738041\n",
            "epoch: 66  loss: 0.06680496\n",
            "epoch: 67  loss: 0.06630324\n",
            "epoch: 68  loss: 0.06592734\n",
            "epoch: 69  loss: 0.06580056\n",
            "epoch: 70  loss: 0.06574862\n",
            "epoch: 71  loss: 0.06572758\n",
            "epoch: 72  loss: 0.06467763\n",
            "epoch: 73  loss: 0.06378856\n",
            "epoch: 74  loss: 0.06362019\n",
            "epoch: 75  loss: 0.06380418\n",
            "epoch: 76  loss: 0.06372716\n",
            "epoch: 77  loss: 0.06293456\n",
            "epoch: 78  loss: 0.06242474\n",
            "epoch: 79  loss: 0.06247013\n",
            "epoch: 80  loss: 0.06251714\n",
            "epoch: 81  loss: 0.06223717\n",
            "epoch: 82  loss: 0.06168100\n",
            "epoch: 83  loss: 0.06144747\n",
            "epoch: 84  loss: 0.06151713\n",
            "epoch: 85  loss: 0.06144569\n",
            "epoch: 86  loss: 0.06114934\n",
            "epoch: 87  loss: 0.06077254\n",
            "epoch: 88  loss: 0.06061734\n",
            "epoch: 89  loss: 0.06062748\n",
            "epoch: 90  loss: 0.06055013\n",
            "epoch: 91  loss: 0.06033663\n",
            "epoch: 92  loss: 0.06004371\n",
            "epoch: 93  loss: 0.05985387\n",
            "epoch: 94  loss: 0.05978548\n",
            "epoch: 95  loss: 0.05973804\n",
            "epoch: 96  loss: 0.05963922\n",
            "epoch: 97  loss: 0.05944130\n",
            "epoch: 98  loss: 0.05922916\n",
            "epoch: 99  loss: 0.05905198\n"
          ]
        }
      ]
    },
    {
      "cell_type": "markdown",
      "source": [
        "predict for test dataset"
      ],
      "metadata": {
        "id": "LFkVX9nR80KO"
      }
    },
    {
      "cell_type": "code",
      "source": [
        "preds = []\n",
        "with torch.no_grad():\n",
        "    for val in X_test:\n",
        "        y_hat = model.forward(val)\n",
        "        preds.append(y_hat.argmax().item())"
      ],
      "metadata": {
        "id": "Ls26VZKr4lTs"
      },
      "execution_count": 199,
      "outputs": []
    },
    {
      "cell_type": "markdown",
      "source": [
        "accuracy of model"
      ],
      "metadata": {
        "id": "uPCPVO-R83YX"
      }
    },
    {
      "cell_type": "code",
      "source": [
        "data = pd.DataFrame({'Y': y_test, 'YHat': preds})\n",
        "data['Correct'] = [1 if corr == pred else 0 for corr, pred in zip(data['Y'], data['YHat'])]\n",
        "data['Correct'].sum() / len(data)"
      ],
      "metadata": {
        "colab": {
          "base_uri": "https://localhost:8080/"
        },
        "id": "91gQOw1Q4mpR",
        "outputId": "fb1df188-5b68-43a5-ebdc-a2202b589703"
      },
      "execution_count": 200,
      "outputs": [
        {
          "output_type": "execute_result",
          "data": {
            "text/plain": [
              "1.0"
            ]
          },
          "metadata": {},
          "execution_count": 200
        }
      ]
    }
  ]
}