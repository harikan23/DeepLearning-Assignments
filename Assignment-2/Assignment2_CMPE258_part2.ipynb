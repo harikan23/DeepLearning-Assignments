{
  "nbformat": 4,
  "nbformat_minor": 0,
  "metadata": {
    "colab": {
      "name": "Assignment2-CMPE258-part2.ipynb",
      "provenance": []
    },
    "kernelspec": {
      "name": "python3",
      "display_name": "Python 3"
    },
    "language_info": {
      "name": "python"
    }
  },
  "cells": [
    {
      "cell_type": "code",
      "execution_count": 1,
      "metadata": {
        "id": "ACFnwvlk3JFa"
      },
      "outputs": [],
      "source": [
        "import torch"
      ]
    },
    {
      "cell_type": "code",
      "source": [
        "# Number\n",
        "t1 = torch.tensor(9.)\n",
        "t1"
      ],
      "metadata": {
        "colab": {
          "base_uri": "https://localhost:8080/"
        },
        "id": "pY9RqOx648pm",
        "outputId": "e375a477-85ff-41d1-b877-b2f219b8182e"
      },
      "execution_count": 2,
      "outputs": [
        {
          "output_type": "execute_result",
          "data": {
            "text/plain": [
              "tensor(9.)"
            ]
          },
          "metadata": {},
          "execution_count": 2
        }
      ]
    },
    {
      "cell_type": "code",
      "source": [
        "# vector\n",
        "t2 = torch.tensor([1,2,3,4,5])\n",
        "t2"
      ],
      "metadata": {
        "colab": {
          "base_uri": "https://localhost:8080/"
        },
        "id": "gLXVOSI05Ky1",
        "outputId": "58b1a9dd-9e99-44b6-cd45-1dd4d778bd6a"
      },
      "execution_count": 3,
      "outputs": [
        {
          "output_type": "execute_result",
          "data": {
            "text/plain": [
              "tensor([1, 2, 3, 4, 5])"
            ]
          },
          "metadata": {},
          "execution_count": 3
        }
      ]
    },
    {
      "cell_type": "markdown",
      "source": [
        "Matrix"
      ],
      "metadata": {
        "id": "WqUeN-CL5QOP"
      }
    },
    {
      "cell_type": "code",
      "source": [
        "t3 = torch.tensor([[2., 6], \n",
        "                   [8, 9], \n",
        "                   [9, 4]])\n",
        "\n",
        "t3"
      ],
      "metadata": {
        "colab": {
          "base_uri": "https://localhost:8080/"
        },
        "id": "-DuELGtI5N0c",
        "outputId": "2e619edc-9eb7-4975-e6be-2c7ddba17469"
      },
      "execution_count": 4,
      "outputs": [
        {
          "output_type": "execute_result",
          "data": {
            "text/plain": [
              "tensor([[2., 6.],\n",
              "        [8., 9.],\n",
              "        [9., 4.]])"
            ]
          },
          "metadata": {},
          "execution_count": 4
        }
      ]
    },
    {
      "cell_type": "code",
      "source": [
        "x = torch.Tensor(2, 3)  # An un-initialized Tensor object. x holds garbage data.\n",
        "y = torch.rand(2, 3)    # Initialize with random values\n",
        "\n",
        "z1 = x + y\n",
        "z2 = torch.add(x, y)            \n",
        "\n",
        "print(\"x\")\n",
        "print(x)\n",
        "print(\"y\")\n",
        "print(y)\n",
        "\n",
        "print(\"z1\")\n",
        "print(z1)\n",
        "print(\"z2\")\n",
        "print(z2)     "
      ],
      "metadata": {
        "colab": {
          "base_uri": "https://localhost:8080/"
        },
        "id": "tc3fGvqj5TEL",
        "outputId": "fcd9b8bc-9174-4e96-85c5-782d945bb21b"
      },
      "execution_count": 5,
      "outputs": [
        {
          "output_type": "stream",
          "name": "stdout",
          "text": [
            "x\n",
            "tensor([[-1.6110e-06,  3.0638e-41,  3.7835e-44],\n",
            "        [ 0.0000e+00,         nan,  4.0000e+00]])\n",
            "y\n",
            "tensor([[0.5493, 0.3455, 0.1613],\n",
            "        [0.8927, 0.0200, 0.7378]])\n",
            "z1\n",
            "tensor([[0.5493, 0.3455, 0.1613],\n",
            "        [0.8927,    nan, 4.7378]])\n",
            "z2\n",
            "tensor([[0.5493, 0.3455, 0.1613],\n",
            "        [0.8927,    nan, 4.7378]])\n"
          ]
        }
      ]
    },
    {
      "cell_type": "markdown",
      "source": [
        "3D data"
      ],
      "metadata": {
        "id": "U50gIv0A66vY"
      }
    },
    {
      "cell_type": "code",
      "source": [
        "# Create a 3D tensor of size 2x2x2.\n",
        "T_data = [[[1., 2.], [3., 4.]],\n",
        "          [[5., 6.], [7., 8.]]]\n",
        "T = torch.tensor(T_data)\n",
        "print(T)"
      ],
      "metadata": {
        "colab": {
          "base_uri": "https://localhost:8080/"
        },
        "id": "7ZdexVDx5rsf",
        "outputId": "aeb710fd-0c84-4dea-d007-bf4635d3bcd5"
      },
      "execution_count": 6,
      "outputs": [
        {
          "output_type": "stream",
          "name": "stdout",
          "text": [
            "tensor([[[1., 2.],\n",
            "         [3., 4.]],\n",
            "\n",
            "        [[5., 6.],\n",
            "         [7., 8.]]])\n"
          ]
        }
      ]
    },
    {
      "cell_type": "code",
      "source": [
        "# torch.tensor(data) creates a torch.Tensor object with the given data.\n",
        "V_data = [1., 2., 3.]\n",
        "V = torch.tensor(V_data)\n",
        "print(V)"
      ],
      "metadata": {
        "colab": {
          "base_uri": "https://localhost:8080/"
        },
        "id": "9T_MaRGY7Eq2",
        "outputId": "0e5ff703-25c5-486a-fcbf-f8d6ef0748da"
      },
      "execution_count": 7,
      "outputs": [
        {
          "output_type": "stream",
          "name": "stdout",
          "text": [
            "tensor([1., 2., 3.])\n"
          ]
        }
      ]
    },
    {
      "cell_type": "code",
      "source": [
        "# Index into V and get a scalar (0 dimensional tensor)\n",
        "print(V[0])\n",
        "# Get a Python number from it\n",
        "print(V[0].item())"
      ],
      "metadata": {
        "colab": {
          "base_uri": "https://localhost:8080/"
        },
        "id": "KYYq85Et7Krg",
        "outputId": "17c9398e-2d00-4ce5-e844-48c32426678c"
      },
      "execution_count": 8,
      "outputs": [
        {
          "output_type": "stream",
          "name": "stdout",
          "text": [
            "tensor(1.)\n",
            "1.0\n"
          ]
        }
      ]
    },
    {
      "cell_type": "markdown",
      "source": [
        "\"torch_cat\" concatenates along the first axis (concatenates rows)"
      ],
      "metadata": {
        "id": "lfdWILRO7ct9"
      }
    },
    {
      "cell_type": "code",
      "source": [
        "x = torch.randn(2, 5)\n",
        "y = torch.randn(3, 5)\n",
        "z = torch.cat([x, y])\n",
        "\n",
        "print(\"x\")\n",
        "print(x)\n",
        "print(\"y\")\n",
        "print(y)\n",
        "\n",
        "print(\"z1\")\n",
        "print(z1)"
      ],
      "metadata": {
        "colab": {
          "base_uri": "https://localhost:8080/"
        },
        "id": "w25KzVGw7Pfn",
        "outputId": "a4727c04-70d9-4f38-ab2b-00b25f5e93e0"
      },
      "execution_count": 9,
      "outputs": [
        {
          "output_type": "stream",
          "name": "stdout",
          "text": [
            "x\n",
            "tensor([[-0.4835,  0.5104, -0.2023, -0.2028, -0.1552],\n",
            "        [ 0.0647, -1.3183, -2.1053,  1.1989, -0.4622]])\n",
            "y\n",
            "tensor([[ 1.2232,  0.5328,  2.0232,  0.6414,  1.5345],\n",
            "        [-1.7128, -1.6619,  0.1352,  0.8093,  1.1941],\n",
            "        [ 0.5861, -0.3169,  0.3659, -0.7955,  0.9197]])\n",
            "z1\n",
            "tensor([[0.5493, 0.3455, 0.1613],\n",
            "        [0.8927,    nan, 4.7378]])\n"
          ]
        }
      ]
    },
    {
      "cell_type": "markdown",
      "source": [
        "Matrix Operations"
      ],
      "metadata": {
        "id": "F-dK7-CUOzq3"
      }
    },
    {
      "cell_type": "code",
      "source": [
        "matrix1 = torch.randn((2,3))\n",
        "\n",
        "print(matrix1)\n",
        "print(matrix1.shape)\n",
        "\n",
        "matrix2 = torch.randn((2,3))\n",
        "\n",
        "print(matrix2)\n",
        "print(matrix2.shape)"
      ],
      "metadata": {
        "colab": {
          "base_uri": "https://localhost:8080/"
        },
        "id": "nIBJ8IkD7i7f",
        "outputId": "bfaa7480-0f71-4192-bad1-f20e5f132371"
      },
      "execution_count": 10,
      "outputs": [
        {
          "output_type": "stream",
          "name": "stdout",
          "text": [
            "tensor([[2.2572e-04, 1.2846e+00, 8.3296e-01],\n",
            "        [4.9660e-01, 1.4748e-01, 1.8599e-01]])\n",
            "torch.Size([2, 3])\n",
            "tensor([[ 1.0483, -0.2579,  0.9666],\n",
            "        [ 0.3671, -0.3272, -0.0592]])\n",
            "torch.Size([2, 3])\n"
          ]
        }
      ]
    },
    {
      "cell_type": "markdown",
      "source": [
        "scaler operations of matrix"
      ],
      "metadata": {
        "id": "_GRbdkHfSSsk"
      }
    },
    {
      "cell_type": "code",
      "source": [
        "matrix1+2. #same format for '-','*','/'"
      ],
      "metadata": {
        "colab": {
          "base_uri": "https://localhost:8080/"
        },
        "id": "VQdVV6qhSIhq",
        "outputId": "c300cb16-7b33-4170-8ae9-ab55dc08227f"
      },
      "execution_count": 11,
      "outputs": [
        {
          "output_type": "execute_result",
          "data": {
            "text/plain": [
              "tensor([[2.0002, 3.2846, 2.8330],\n",
              "        [2.4966, 2.1475, 2.1860]])"
            ]
          },
          "metadata": {},
          "execution_count": 11
        }
      ]
    },
    {
      "cell_type": "code",
      "source": [
        "matrix1-2"
      ],
      "metadata": {
        "colab": {
          "base_uri": "https://localhost:8080/"
        },
        "id": "ciDkWWn0Sb1Q",
        "outputId": "4728ec04-f2a0-48e8-a409-f70e0c369dd5"
      },
      "execution_count": 12,
      "outputs": [
        {
          "output_type": "execute_result",
          "data": {
            "text/plain": [
              "tensor([[-1.9998, -0.7154, -1.1670],\n",
              "        [-1.5034, -1.8525, -1.8140]])"
            ]
          },
          "metadata": {},
          "execution_count": 12
        }
      ]
    },
    {
      "cell_type": "code",
      "source": [
        "torch.abs(matrix1-2)"
      ],
      "metadata": {
        "colab": {
          "base_uri": "https://localhost:8080/"
        },
        "id": "Q0lbXsG6SupO",
        "outputId": "378c5c0a-e4fe-42a7-9287-98f6a553dcef"
      },
      "execution_count": 13,
      "outputs": [
        {
          "output_type": "execute_result",
          "data": {
            "text/plain": [
              "tensor([[1.9998, 0.7154, 1.1670],\n",
              "        [1.5034, 1.8525, 1.8140]])"
            ]
          },
          "metadata": {},
          "execution_count": 13
        }
      ]
    },
    {
      "cell_type": "markdown",
      "source": [
        "ceil of matrix"
      ],
      "metadata": {
        "id": "N7fyHGFYS07O"
      }
    },
    {
      "cell_type": "code",
      "source": [
        "torch.ceil(matrix1)"
      ],
      "metadata": {
        "colab": {
          "base_uri": "https://localhost:8080/"
        },
        "id": "aueaqSqCSzKs",
        "outputId": "03bf1948-a654-4780-f60b-4e4cfaffed6a"
      },
      "execution_count": 14,
      "outputs": [
        {
          "output_type": "execute_result",
          "data": {
            "text/plain": [
              "tensor([[1., 2., 1.],\n",
              "        [1., 1., 1.]])"
            ]
          },
          "metadata": {},
          "execution_count": 14
        }
      ]
    },
    {
      "cell_type": "code",
      "source": [
        "matrix1 = torch.tensor([[1., 2], \n",
        "                   [2, 3], \n",
        "                   [3, 4]])\n",
        "matrix1"
      ],
      "metadata": {
        "colab": {
          "base_uri": "https://localhost:8080/"
        },
        "id": "CF9TaxWVS65w",
        "outputId": "ac32c8be-1d81-418b-fa6e-d7c1533c5633"
      },
      "execution_count": 15,
      "outputs": [
        {
          "output_type": "execute_result",
          "data": {
            "text/plain": [
              "tensor([[1., 2.],\n",
              "        [2., 3.],\n",
              "        [3., 4.]])"
            ]
          },
          "metadata": {},
          "execution_count": 15
        }
      ]
    },
    {
      "cell_type": "code",
      "source": [
        "matrix2= torch.tensor([[4., 5], \n",
        "                   [5, 6], \n",
        "                   [6, 7]])\n",
        "matrix2"
      ],
      "metadata": {
        "colab": {
          "base_uri": "https://localhost:8080/"
        },
        "id": "XpbQNJXnTHIN",
        "outputId": "5b84b5a7-3b43-42f9-acd3-2b5990507f79"
      },
      "execution_count": 16,
      "outputs": [
        {
          "output_type": "execute_result",
          "data": {
            "text/plain": [
              "tensor([[4., 5.],\n",
              "        [5., 6.],\n",
              "        [6., 7.]])"
            ]
          },
          "metadata": {},
          "execution_count": 16
        }
      ]
    },
    {
      "cell_type": "code",
      "source": [
        "matrix1+matrix2"
      ],
      "metadata": {
        "colab": {
          "base_uri": "https://localhost:8080/"
        },
        "id": "vQ7NsMKbTPSh",
        "outputId": "830f57a2-e1e5-4f00-f2c0-2b1738856807"
      },
      "execution_count": 17,
      "outputs": [
        {
          "output_type": "execute_result",
          "data": {
            "text/plain": [
              "tensor([[ 5.,  7.],\n",
              "        [ 7.,  9.],\n",
              "        [ 9., 11.]])"
            ]
          },
          "metadata": {},
          "execution_count": 17
        }
      ]
    },
    {
      "cell_type": "code",
      "source": [
        "matrix1/matrix2"
      ],
      "metadata": {
        "colab": {
          "base_uri": "https://localhost:8080/"
        },
        "id": "O26jm_n1TSoG",
        "outputId": "278f5b89-0f6a-4c0d-b4b6-cc5cf67436ba"
      },
      "execution_count": 18,
      "outputs": [
        {
          "output_type": "execute_result",
          "data": {
            "text/plain": [
              "tensor([[0.2500, 0.4000],\n",
              "        [0.4000, 0.5000],\n",
              "        [0.5000, 0.5714]])"
            ]
          },
          "metadata": {},
          "execution_count": 18
        }
      ]
    },
    {
      "cell_type": "markdown",
      "source": [
        "einsum"
      ],
      "metadata": {
        "id": "SAMUxcYss_gn"
      }
    },
    {
      "cell_type": "code",
      "source": [
        "matrix  = torch.arange(6).reshape(2,3)\n",
        "matrix"
      ],
      "metadata": {
        "colab": {
          "base_uri": "https://localhost:8080/"
        },
        "id": "wkbjVrjYTX2F",
        "outputId": "0d8a2fa8-9a01-4b24-aeb8-2b442be9e482"
      },
      "execution_count": 19,
      "outputs": [
        {
          "output_type": "execute_result",
          "data": {
            "text/plain": [
              "tensor([[0, 1, 2],\n",
              "        [3, 4, 5]])"
            ]
          },
          "metadata": {},
          "execution_count": 19
        }
      ]
    },
    {
      "cell_type": "markdown",
      "source": [
        "sum of matrix"
      ],
      "metadata": {
        "id": "8rGePEaBtq5b"
      }
    },
    {
      "cell_type": "code",
      "source": [
        "torch.einsum('ij->',matrix)"
      ],
      "metadata": {
        "colab": {
          "base_uri": "https://localhost:8080/"
        },
        "id": "nfefqxkJtemG",
        "outputId": "8ee5dd8d-face-426e-901f-b0078a7481f5"
      },
      "execution_count": 20,
      "outputs": [
        {
          "output_type": "execute_result",
          "data": {
            "text/plain": [
              "tensor(15)"
            ]
          },
          "metadata": {},
          "execution_count": 20
        }
      ]
    },
    {
      "cell_type": "markdown",
      "source": [
        "column sum"
      ],
      "metadata": {
        "id": "RlSxTK2ets1u"
      }
    },
    {
      "cell_type": "code",
      "source": [
        "torch.einsum('ij->j',matrix)"
      ],
      "metadata": {
        "colab": {
          "base_uri": "https://localhost:8080/"
        },
        "id": "9wliTeowtpUp",
        "outputId": "67065ad1-f59e-4f30-df69-0ec736028985"
      },
      "execution_count": 21,
      "outputs": [
        {
          "output_type": "execute_result",
          "data": {
            "text/plain": [
              "tensor([3, 5, 7])"
            ]
          },
          "metadata": {},
          "execution_count": 21
        }
      ]
    },
    {
      "cell_type": "markdown",
      "source": [
        "row sum"
      ],
      "metadata": {
        "id": "eo0K2jEPt6By"
      }
    },
    {
      "cell_type": "code",
      "source": [
        "torch.einsum('ij->i',matrix)"
      ],
      "metadata": {
        "colab": {
          "base_uri": "https://localhost:8080/"
        },
        "id": "2thSzvM_t2tZ",
        "outputId": "41eee7e5-4f67-45f1-ecda-91f2b46937c9"
      },
      "execution_count": 22,
      "outputs": [
        {
          "output_type": "execute_result",
          "data": {
            "text/plain": [
              "tensor([ 3, 12])"
            ]
          },
          "metadata": {},
          "execution_count": 22
        }
      ]
    },
    {
      "cell_type": "markdown",
      "source": [
        "matrix vector multiplication"
      ],
      "metadata": {
        "id": "VU7kE-G0t-oE"
      }
    },
    {
      "cell_type": "code",
      "source": [
        "vector = torch.arange(2)\n",
        "print(vector)\n",
        "multi = torch.einsum('ik,i->k', [matrix, vector])\n",
        "print(multi)"
      ],
      "metadata": {
        "colab": {
          "base_uri": "https://localhost:8080/"
        },
        "id": "rX_T2vANuCDi",
        "outputId": "6cac1277-5ad8-4eee-ba0b-3d6fc1bf3a99"
      },
      "execution_count": 23,
      "outputs": [
        {
          "output_type": "stream",
          "name": "stdout",
          "text": [
            "tensor([0, 1])\n",
            "tensor([3, 4, 5])\n"
          ]
        }
      ]
    },
    {
      "cell_type": "markdown",
      "source": [
        "Hadamard product"
      ],
      "metadata": {
        "id": "bVxDRFAAujCZ"
      }
    },
    {
      "cell_type": "code",
      "source": [
        "m1 = torch.arange(12).reshape(3,4)\n",
        "m2 = torch.arange(12).reshape(3,4)\n",
        "\n",
        "print(\"m1\")\n",
        "print(m1)\n",
        "print(\"m2\")\n",
        "print(m2)\n",
        "\n",
        "multi = torch.einsum('ij,ij->ij', [m1,m2])\n",
        "\n",
        "print(multi)"
      ],
      "metadata": {
        "colab": {
          "base_uri": "https://localhost:8080/"
        },
        "id": "VR5sy_sruf1-",
        "outputId": "6ce7059b-b79c-43ab-da0d-8b0727778b2b"
      },
      "execution_count": 24,
      "outputs": [
        {
          "output_type": "stream",
          "name": "stdout",
          "text": [
            "m1\n",
            "tensor([[ 0,  1,  2,  3],\n",
            "        [ 4,  5,  6,  7],\n",
            "        [ 8,  9, 10, 11]])\n",
            "m2\n",
            "tensor([[ 0,  1,  2,  3],\n",
            "        [ 4,  5,  6,  7],\n",
            "        [ 8,  9, 10, 11]])\n",
            "tensor([[  0,   1,   4,   9],\n",
            "        [ 16,  25,  36,  49],\n",
            "        [ 64,  81, 100, 121]])\n"
          ]
        }
      ]
    },
    {
      "cell_type": "markdown",
      "source": [
        "batch multiplication"
      ],
      "metadata": {
        "id": "1WWcl20JvaWp"
      }
    },
    {
      "cell_type": "code",
      "source": [
        "m1 = torch.randn(size=[7,5,3])\n",
        "m2 = torch.randn(size=[7,3,2])\n",
        "mat_multi = torch.einsum('bij,bjk->bik', m1, m2)\n",
        "print(mat_multi.shape)"
      ],
      "metadata": {
        "id": "sowI49IfvOub",
        "colab": {
          "base_uri": "https://localhost:8080/"
        },
        "outputId": "f2cec4ef-6d9f-4893-f448-2199b07cebb0"
      },
      "execution_count": 25,
      "outputs": [
        {
          "output_type": "stream",
          "name": "stdout",
          "text": [
            "torch.Size([7, 5, 2])\n"
          ]
        }
      ]
    }
  ]
}