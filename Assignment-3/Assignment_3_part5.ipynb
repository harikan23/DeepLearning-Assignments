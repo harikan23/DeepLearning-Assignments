{
  "nbformat": 4,
  "nbformat_minor": 0,
  "metadata": {
    "colab": {
      "name": "Assignment-3-part5.ipynb",
      "provenance": []
    },
    "kernelspec": {
      "name": "python3",
      "display_name": "Python 3"
    },
    "language_info": {
      "name": "python"
    }
  },
  "cells": [
    {
      "cell_type": "markdown",
      "source": [
        "Tensorflow various variants low level, api, functional, model, builtin "
      ],
      "metadata": {
        "id": "RuNe4qKNkr6d"
      }
    },
    {
      "cell_type": "code",
      "execution_count": null,
      "metadata": {
        "colab": {
          "base_uri": "https://localhost:8080/"
        },
        "id": "jSnqFcjCSbSS",
        "outputId": "2f1a24b7-5ab7-46dc-85bb-8f646db71c78"
      },
      "outputs": [
        {
          "output_type": "stream",
          "name": "stdout",
          "text": [
            "2.8.0\n"
          ]
        }
      ],
      "source": [
        "import tensorflow as tf\n",
        "print(tf.__version__)"
      ]
    },
    {
      "cell_type": "markdown",
      "source": [
        "FUNCTIONAL API\n",
        "\n",
        "It is a way to create models with more flexibility. The functional API can build non-linear models. "
      ],
      "metadata": {
        "id": "5JFN0Q2OnPHH"
      }
    },
    {
      "cell_type": "code",
      "source": [
        "import numpy as np\n",
        "from tensorflow import keras\n",
        "from tensorflow.keras import layers"
      ],
      "metadata": {
        "id": "xbMC7KDloCIP"
      },
      "execution_count": null,
      "outputs": []
    },
    {
      "cell_type": "code",
      "source": [
        "inputs = keras.Input(shape=(784,))\n",
        "inputs.shape"
      ],
      "metadata": {
        "colab": {
          "base_uri": "https://localhost:8080/"
        },
        "id": "evHcnPdxnIxF",
        "outputId": "44a32e03-9cab-40fb-b12f-16885a62c1af"
      },
      "execution_count": null,
      "outputs": [
        {
          "output_type": "execute_result",
          "data": {
            "text/plain": [
              "TensorShape([None, 784])"
            ]
          },
          "metadata": {},
          "execution_count": 3
        }
      ]
    },
    {
      "cell_type": "markdown",
      "source": [
        "create a node of layers on the input object"
      ],
      "metadata": {
        "id": "ccJf154loOsN"
      }
    },
    {
      "cell_type": "code",
      "source": [
        "dense = layers.Dense(64, activation=\"relu\")\n",
        "x = dense(inputs)"
      ],
      "metadata": {
        "id": "PM3C2LcRoH73"
      },
      "execution_count": null,
      "outputs": []
    },
    {
      "cell_type": "markdown",
      "source": [
        "Layer call is drawing a connection between input layer to the layer created"
      ],
      "metadata": {
        "id": "FoAKri3boauT"
      }
    },
    {
      "cell_type": "code",
      "source": [
        "x = layers.Dense(64, activation=\"relu\")(x)\n",
        "outputs = layers.Dense(10)(x)"
      ],
      "metadata": {
        "id": "0KdvkXKQoMUP"
      },
      "execution_count": null,
      "outputs": []
    },
    {
      "cell_type": "code",
      "source": [
        "model = keras.Model(inputs=inputs, outputs=outputs, name=\"mnist_model\")\n",
        "model.summary()\n"
      ],
      "metadata": {
        "colab": {
          "base_uri": "https://localhost:8080/"
        },
        "id": "ce49-TKyoXVa",
        "outputId": "9fb8e0f6-d9b3-49f9-a441-08f9aab9055f"
      },
      "execution_count": null,
      "outputs": [
        {
          "output_type": "stream",
          "name": "stdout",
          "text": [
            "Model: \"mnist_model\"\n",
            "_________________________________________________________________\n",
            " Layer (type)                Output Shape              Param #   \n",
            "=================================================================\n",
            " input_1 (InputLayer)        [(None, 784)]             0         \n",
            "                                                                 \n",
            " dense (Dense)               (None, 64)                50240     \n",
            "                                                                 \n",
            " dense_1 (Dense)             (None, 64)                4160      \n",
            "                                                                 \n",
            " dense_2 (Dense)             (None, 10)                650       \n",
            "                                                                 \n",
            "=================================================================\n",
            "Total params: 55,050\n",
            "Trainable params: 55,050\n",
            "Non-trainable params: 0\n",
            "_________________________________________________________________\n"
          ]
        }
      ]
    },
    {
      "cell_type": "markdown",
      "source": [
        "Loading MINST data to built model using functional API.\n",
        "\n",
        "Load MINST image data, reshape it into vectors, fit the model on the data and evaluate the model on the test data. "
      ],
      "metadata": {
        "id": "f_X7eLiSpXRy"
      }
    },
    {
      "cell_type": "code",
      "source": [
        "(x_train, y_train), (x_test, y_test) = keras.datasets.mnist.load_data()\n",
        "\n",
        "x_train = x_train.reshape(60000, 784).astype(\"float32\") / 255\n",
        "x_test = x_test.reshape(10000, 784).astype(\"float32\") / 255\n",
        "\n"
      ],
      "metadata": {
        "colab": {
          "base_uri": "https://localhost:8080/"
        },
        "id": "C_2NZJ5aors7",
        "outputId": "598b0ed4-5abb-4d87-a3fa-9475952b15de"
      },
      "execution_count": null,
      "outputs": [
        {
          "output_type": "stream",
          "name": "stdout",
          "text": [
            "Downloading data from https://storage.googleapis.com/tensorflow/tf-keras-datasets/mnist.npz\n",
            "11493376/11490434 [==============================] - 0s 0us/step\n",
            "11501568/11490434 [==============================] - 0s 0us/step\n"
          ]
        }
      ]
    },
    {
      "cell_type": "code",
      "source": [
        "model.compile(\n",
        "    loss=keras.losses.SparseCategoricalCrossentropy(from_logits=True),\n",
        "    optimizer=keras.optimizers.RMSprop(),\n",
        "    metrics=[\"accuracy\"],\n",
        ")\n",
        "mode_fit = model.fit(x_train, y_train, batch_size=64, epochs=2, validation_split=0.2)"
      ],
      "metadata": {
        "colab": {
          "base_uri": "https://localhost:8080/"
        },
        "id": "fxETrWDvpwQL",
        "outputId": "4c4e377f-2be6-4fd8-ad7e-fdc4955769c8"
      },
      "execution_count": null,
      "outputs": [
        {
          "output_type": "stream",
          "name": "stdout",
          "text": [
            "Epoch 1/2\n",
            "750/750 [==============================] - 7s 8ms/step - loss: 0.3515 - accuracy: 0.9019 - val_loss: 0.1934 - val_accuracy: 0.9456\n",
            "Epoch 2/2\n",
            "750/750 [==============================] - 3s 4ms/step - loss: 0.1602 - accuracy: 0.9527 - val_loss: 0.1541 - val_accuracy: 0.9559\n"
          ]
        }
      ]
    },
    {
      "cell_type": "code",
      "source": [
        "test_scores = model.evaluate(x_test, y_test, verbose=2)\n",
        "print(\"Test loss:\", test_scores[0])\n",
        "print(\"Test accuracy:\", test_scores[1])"
      ],
      "metadata": {
        "colab": {
          "base_uri": "https://localhost:8080/"
        },
        "id": "UF4l9RCzpwyy",
        "outputId": "0b964bd3-2c51-4fdf-85fa-dc03ab4233cd"
      },
      "execution_count": null,
      "outputs": [
        {
          "output_type": "stream",
          "name": "stdout",
          "text": [
            "313/313 - 0s - loss: 0.1620 - accuracy: 0.9534 - 432ms/epoch - 1ms/step\n",
            "Test loss: 0.1620122492313385\n",
            "Test accuracy: 0.9534000158309937\n"
          ]
        }
      ]
    },
    {
      "cell_type": "markdown",
      "source": [
        "model evaluate by ploting 'loss' metrics for functional API"
      ],
      "metadata": {
        "id": "fxXiQ13zXQV1"
      }
    },
    {
      "cell_type": "code",
      "source": [
        "%matplotlib inline\n",
        "%config InlineBackend.figure_format = 'svg'\n",
        "def plot_metric(history, metric):\n",
        "    train_metrics = history.history[metric]\n",
        "    val_metrics = history.history['val_'+metric]\n",
        "    epochs = range(1, len(train_metrics) + 1)\n",
        "    plt.plot(epochs, train_metrics, 'bo--')\n",
        "    plt.plot(epochs, val_metrics, 'ro-')\n",
        "    plt.title('Training and validation '+ metric)\n",
        "    plt.xlabel(\"Epochs\")\n",
        "    plt.ylabel(metric)\n",
        "    plt.legend([\"train_\"+metric, 'val_'+metric])\n",
        "    plt.show()\n",
        "plot_metric(history,'loss')"
      ],
      "metadata": {
        "colab": {
          "base_uri": "https://localhost:8080/",
          "height": 391
        },
        "id": "ObPzswfgXOnn",
        "outputId": "f0c27c9b-c0b5-4690-8229-66f59129a2fb"
      },
      "execution_count": null,
      "outputs": [
        {
          "output_type": "display_data",
          "data": {
            "text/plain": [
              "<Figure size 432x288 with 1 Axes>"
            ],
            "image/svg+xml": "<?xml version=\"1.0\" encoding=\"utf-8\" standalone=\"no\"?>\n<!DOCTYPE svg PUBLIC \"-//W3C//DTD SVG 1.1//EN\"\n  \"http://www.w3.org/Graphics/SVG/1.1/DTD/svg11.dtd\">\n<!-- Created with matplotlib (https://matplotlib.org/) -->\n<svg height=\"277.314375pt\" version=\"1.1\" viewBox=\"0 0 392.14375 277.314375\" width=\"392.14375pt\" xmlns=\"http://www.w3.org/2000/svg\" xmlns:xlink=\"http://www.w3.org/1999/xlink\">\n <defs>\n  <style type=\"text/css\">\n*{stroke-linecap:butt;stroke-linejoin:round;}\n  </style>\n </defs>\n <g id=\"figure_1\">\n  <g id=\"patch_1\">\n   <path d=\"M 0 277.314375 \nL 392.14375 277.314375 \nL 392.14375 0 \nL 0 0 \nz\n\" style=\"fill:none;\"/>\n  </g>\n  <g id=\"axes_1\">\n   <g id=\"patch_2\">\n    <path d=\"M 50.14375 239.758125 \nL 384.94375 239.758125 \nL 384.94375 22.318125 \nL 50.14375 22.318125 \nz\n\" style=\"fill:#ffffff;\"/>\n   </g>\n   <g id=\"matplotlib.axis_1\">\n    <g id=\"xtick_1\">\n     <g id=\"line2d_1\">\n      <defs>\n       <path d=\"M 0 0 \nL 0 3.5 \n\" id=\"m3925162069\" style=\"stroke:#000000;stroke-width:0.8;\"/>\n      </defs>\n      <g>\n       <use style=\"stroke:#000000;stroke-width:0.8;\" x=\"54.866634\" xlink:href=\"#m3925162069\" y=\"239.758125\"/>\n      </g>\n     </g>\n     <g id=\"text_1\">\n      <!-- 0 -->\n      <defs>\n       <path d=\"M 31.78125 66.40625 \nQ 24.171875 66.40625 20.328125 58.90625 \nQ 16.5 51.421875 16.5 36.375 \nQ 16.5 21.390625 20.328125 13.890625 \nQ 24.171875 6.390625 31.78125 6.390625 \nQ 39.453125 6.390625 43.28125 13.890625 \nQ 47.125 21.390625 47.125 36.375 \nQ 47.125 51.421875 43.28125 58.90625 \nQ 39.453125 66.40625 31.78125 66.40625 \nz\nM 31.78125 74.21875 \nQ 44.046875 74.21875 50.515625 64.515625 \nQ 56.984375 54.828125 56.984375 36.375 \nQ 56.984375 17.96875 50.515625 8.265625 \nQ 44.046875 -1.421875 31.78125 -1.421875 \nQ 19.53125 -1.421875 13.0625 8.265625 \nQ 6.59375 17.96875 6.59375 36.375 \nQ 6.59375 54.828125 13.0625 64.515625 \nQ 19.53125 74.21875 31.78125 74.21875 \nz\n\" id=\"DejaVuSans-48\"/>\n      </defs>\n      <g transform=\"translate(51.685384 254.356562)scale(0.1 -0.1)\">\n       <use xlink:href=\"#DejaVuSans-48\"/>\n      </g>\n     </g>\n    </g>\n    <g id=\"xtick_2\">\n     <g id=\"line2d_2\">\n      <g>\n       <use style=\"stroke:#000000;stroke-width:0.8;\" x=\"107.343123\" xlink:href=\"#m3925162069\" y=\"239.758125\"/>\n      </g>\n     </g>\n     <g id=\"text_2\">\n      <!-- 5 -->\n      <defs>\n       <path d=\"M 10.796875 72.90625 \nL 49.515625 72.90625 \nL 49.515625 64.59375 \nL 19.828125 64.59375 \nL 19.828125 46.734375 \nQ 21.96875 47.46875 24.109375 47.828125 \nQ 26.265625 48.1875 28.421875 48.1875 \nQ 40.625 48.1875 47.75 41.5 \nQ 54.890625 34.8125 54.890625 23.390625 \nQ 54.890625 11.625 47.5625 5.09375 \nQ 40.234375 -1.421875 26.90625 -1.421875 \nQ 22.3125 -1.421875 17.546875 -0.640625 \nQ 12.796875 0.140625 7.71875 1.703125 \nL 7.71875 11.625 \nQ 12.109375 9.234375 16.796875 8.0625 \nQ 21.484375 6.890625 26.703125 6.890625 \nQ 35.15625 6.890625 40.078125 11.328125 \nQ 45.015625 15.765625 45.015625 23.390625 \nQ 45.015625 31 40.078125 35.4375 \nQ 35.15625 39.890625 26.703125 39.890625 \nQ 22.75 39.890625 18.8125 39.015625 \nQ 14.890625 38.140625 10.796875 36.28125 \nz\n\" id=\"DejaVuSans-53\"/>\n      </defs>\n      <g transform=\"translate(104.161873 254.356562)scale(0.1 -0.1)\">\n       <use xlink:href=\"#DejaVuSans-53\"/>\n      </g>\n     </g>\n    </g>\n    <g id=\"xtick_3\">\n     <g id=\"line2d_3\">\n      <g>\n       <use style=\"stroke:#000000;stroke-width:0.8;\" x=\"159.819612\" xlink:href=\"#m3925162069\" y=\"239.758125\"/>\n      </g>\n     </g>\n     <g id=\"text_3\">\n      <!-- 10 -->\n      <defs>\n       <path d=\"M 12.40625 8.296875 \nL 28.515625 8.296875 \nL 28.515625 63.921875 \nL 10.984375 60.40625 \nL 10.984375 69.390625 \nL 28.421875 72.90625 \nL 38.28125 72.90625 \nL 38.28125 8.296875 \nL 54.390625 8.296875 \nL 54.390625 0 \nL 12.40625 0 \nz\n\" id=\"DejaVuSans-49\"/>\n      </defs>\n      <g transform=\"translate(153.457112 254.356562)scale(0.1 -0.1)\">\n       <use xlink:href=\"#DejaVuSans-49\"/>\n       <use x=\"63.623047\" xlink:href=\"#DejaVuSans-48\"/>\n      </g>\n     </g>\n    </g>\n    <g id=\"xtick_4\">\n     <g id=\"line2d_4\">\n      <g>\n       <use style=\"stroke:#000000;stroke-width:0.8;\" x=\"212.296101\" xlink:href=\"#m3925162069\" y=\"239.758125\"/>\n      </g>\n     </g>\n     <g id=\"text_4\">\n      <!-- 15 -->\n      <g transform=\"translate(205.933601 254.356562)scale(0.1 -0.1)\">\n       <use xlink:href=\"#DejaVuSans-49\"/>\n       <use x=\"63.623047\" xlink:href=\"#DejaVuSans-53\"/>\n      </g>\n     </g>\n    </g>\n    <g id=\"xtick_5\">\n     <g id=\"line2d_5\">\n      <g>\n       <use style=\"stroke:#000000;stroke-width:0.8;\" x=\"264.77259\" xlink:href=\"#m3925162069\" y=\"239.758125\"/>\n      </g>\n     </g>\n     <g id=\"text_5\">\n      <!-- 20 -->\n      <defs>\n       <path d=\"M 19.1875 8.296875 \nL 53.609375 8.296875 \nL 53.609375 0 \nL 7.328125 0 \nL 7.328125 8.296875 \nQ 12.9375 14.109375 22.625 23.890625 \nQ 32.328125 33.6875 34.8125 36.53125 \nQ 39.546875 41.84375 41.421875 45.53125 \nQ 43.3125 49.21875 43.3125 52.78125 \nQ 43.3125 58.59375 39.234375 62.25 \nQ 35.15625 65.921875 28.609375 65.921875 \nQ 23.96875 65.921875 18.8125 64.3125 \nQ 13.671875 62.703125 7.8125 59.421875 \nL 7.8125 69.390625 \nQ 13.765625 71.78125 18.9375 73 \nQ 24.125 74.21875 28.421875 74.21875 \nQ 39.75 74.21875 46.484375 68.546875 \nQ 53.21875 62.890625 53.21875 53.421875 \nQ 53.21875 48.921875 51.53125 44.890625 \nQ 49.859375 40.875 45.40625 35.40625 \nQ 44.1875 33.984375 37.640625 27.21875 \nQ 31.109375 20.453125 19.1875 8.296875 \nz\n\" id=\"DejaVuSans-50\"/>\n      </defs>\n      <g transform=\"translate(258.41009 254.356562)scale(0.1 -0.1)\">\n       <use xlink:href=\"#DejaVuSans-50\"/>\n       <use x=\"63.623047\" xlink:href=\"#DejaVuSans-48\"/>\n      </g>\n     </g>\n    </g>\n    <g id=\"xtick_6\">\n     <g id=\"line2d_6\">\n      <g>\n       <use style=\"stroke:#000000;stroke-width:0.8;\" x=\"317.249079\" xlink:href=\"#m3925162069\" y=\"239.758125\"/>\n      </g>\n     </g>\n     <g id=\"text_6\">\n      <!-- 25 -->\n      <g transform=\"translate(310.886579 254.356562)scale(0.1 -0.1)\">\n       <use xlink:href=\"#DejaVuSans-50\"/>\n       <use x=\"63.623047\" xlink:href=\"#DejaVuSans-53\"/>\n      </g>\n     </g>\n    </g>\n    <g id=\"xtick_7\">\n     <g id=\"line2d_7\">\n      <g>\n       <use style=\"stroke:#000000;stroke-width:0.8;\" x=\"369.725568\" xlink:href=\"#m3925162069\" y=\"239.758125\"/>\n      </g>\n     </g>\n     <g id=\"text_7\">\n      <!-- 30 -->\n      <defs>\n       <path d=\"M 40.578125 39.3125 \nQ 47.65625 37.796875 51.625 33 \nQ 55.609375 28.21875 55.609375 21.1875 \nQ 55.609375 10.40625 48.1875 4.484375 \nQ 40.765625 -1.421875 27.09375 -1.421875 \nQ 22.515625 -1.421875 17.65625 -0.515625 \nQ 12.796875 0.390625 7.625 2.203125 \nL 7.625 11.71875 \nQ 11.71875 9.328125 16.59375 8.109375 \nQ 21.484375 6.890625 26.8125 6.890625 \nQ 36.078125 6.890625 40.9375 10.546875 \nQ 45.796875 14.203125 45.796875 21.1875 \nQ 45.796875 27.640625 41.28125 31.265625 \nQ 36.765625 34.90625 28.71875 34.90625 \nL 20.21875 34.90625 \nL 20.21875 43.015625 \nL 29.109375 43.015625 \nQ 36.375 43.015625 40.234375 45.921875 \nQ 44.09375 48.828125 44.09375 54.296875 \nQ 44.09375 59.90625 40.109375 62.90625 \nQ 36.140625 65.921875 28.71875 65.921875 \nQ 24.65625 65.921875 20.015625 65.03125 \nQ 15.375 64.15625 9.8125 62.3125 \nL 9.8125 71.09375 \nQ 15.4375 72.65625 20.34375 73.4375 \nQ 25.25 74.21875 29.59375 74.21875 \nQ 40.828125 74.21875 47.359375 69.109375 \nQ 53.90625 64.015625 53.90625 55.328125 \nQ 53.90625 49.265625 50.4375 45.09375 \nQ 46.96875 40.921875 40.578125 39.3125 \nz\n\" id=\"DejaVuSans-51\"/>\n      </defs>\n      <g transform=\"translate(363.363068 254.356562)scale(0.1 -0.1)\">\n       <use xlink:href=\"#DejaVuSans-51\"/>\n       <use x=\"63.623047\" xlink:href=\"#DejaVuSans-48\"/>\n      </g>\n     </g>\n    </g>\n    <g id=\"text_8\">\n     <!-- Epochs -->\n     <defs>\n      <path d=\"M 9.8125 72.90625 \nL 55.90625 72.90625 \nL 55.90625 64.59375 \nL 19.671875 64.59375 \nL 19.671875 43.015625 \nL 54.390625 43.015625 \nL 54.390625 34.71875 \nL 19.671875 34.71875 \nL 19.671875 8.296875 \nL 56.78125 8.296875 \nL 56.78125 0 \nL 9.8125 0 \nz\n\" id=\"DejaVuSans-69\"/>\n      <path d=\"M 18.109375 8.203125 \nL 18.109375 -20.796875 \nL 9.078125 -20.796875 \nL 9.078125 54.6875 \nL 18.109375 54.6875 \nL 18.109375 46.390625 \nQ 20.953125 51.265625 25.265625 53.625 \nQ 29.59375 56 35.59375 56 \nQ 45.5625 56 51.78125 48.09375 \nQ 58.015625 40.1875 58.015625 27.296875 \nQ 58.015625 14.40625 51.78125 6.484375 \nQ 45.5625 -1.421875 35.59375 -1.421875 \nQ 29.59375 -1.421875 25.265625 0.953125 \nQ 20.953125 3.328125 18.109375 8.203125 \nz\nM 48.6875 27.296875 \nQ 48.6875 37.203125 44.609375 42.84375 \nQ 40.53125 48.484375 33.40625 48.484375 \nQ 26.265625 48.484375 22.1875 42.84375 \nQ 18.109375 37.203125 18.109375 27.296875 \nQ 18.109375 17.390625 22.1875 11.75 \nQ 26.265625 6.109375 33.40625 6.109375 \nQ 40.53125 6.109375 44.609375 11.75 \nQ 48.6875 17.390625 48.6875 27.296875 \nz\n\" id=\"DejaVuSans-112\"/>\n      <path d=\"M 30.609375 48.390625 \nQ 23.390625 48.390625 19.1875 42.75 \nQ 14.984375 37.109375 14.984375 27.296875 \nQ 14.984375 17.484375 19.15625 11.84375 \nQ 23.34375 6.203125 30.609375 6.203125 \nQ 37.796875 6.203125 41.984375 11.859375 \nQ 46.1875 17.53125 46.1875 27.296875 \nQ 46.1875 37.015625 41.984375 42.703125 \nQ 37.796875 48.390625 30.609375 48.390625 \nz\nM 30.609375 56 \nQ 42.328125 56 49.015625 48.375 \nQ 55.71875 40.765625 55.71875 27.296875 \nQ 55.71875 13.875 49.015625 6.21875 \nQ 42.328125 -1.421875 30.609375 -1.421875 \nQ 18.84375 -1.421875 12.171875 6.21875 \nQ 5.515625 13.875 5.515625 27.296875 \nQ 5.515625 40.765625 12.171875 48.375 \nQ 18.84375 56 30.609375 56 \nz\n\" id=\"DejaVuSans-111\"/>\n      <path d=\"M 48.78125 52.59375 \nL 48.78125 44.1875 \nQ 44.96875 46.296875 41.140625 47.34375 \nQ 37.3125 48.390625 33.40625 48.390625 \nQ 24.65625 48.390625 19.8125 42.84375 \nQ 14.984375 37.3125 14.984375 27.296875 \nQ 14.984375 17.28125 19.8125 11.734375 \nQ 24.65625 6.203125 33.40625 6.203125 \nQ 37.3125 6.203125 41.140625 7.25 \nQ 44.96875 8.296875 48.78125 10.40625 \nL 48.78125 2.09375 \nQ 45.015625 0.34375 40.984375 -0.53125 \nQ 36.96875 -1.421875 32.421875 -1.421875 \nQ 20.0625 -1.421875 12.78125 6.34375 \nQ 5.515625 14.109375 5.515625 27.296875 \nQ 5.515625 40.671875 12.859375 48.328125 \nQ 20.21875 56 33.015625 56 \nQ 37.15625 56 41.109375 55.140625 \nQ 45.0625 54.296875 48.78125 52.59375 \nz\n\" id=\"DejaVuSans-99\"/>\n      <path d=\"M 54.890625 33.015625 \nL 54.890625 0 \nL 45.90625 0 \nL 45.90625 32.71875 \nQ 45.90625 40.484375 42.875 44.328125 \nQ 39.84375 48.1875 33.796875 48.1875 \nQ 26.515625 48.1875 22.3125 43.546875 \nQ 18.109375 38.921875 18.109375 30.90625 \nL 18.109375 0 \nL 9.078125 0 \nL 9.078125 75.984375 \nL 18.109375 75.984375 \nL 18.109375 46.1875 \nQ 21.34375 51.125 25.703125 53.5625 \nQ 30.078125 56 35.796875 56 \nQ 45.21875 56 50.046875 50.171875 \nQ 54.890625 44.34375 54.890625 33.015625 \nz\n\" id=\"DejaVuSans-104\"/>\n      <path d=\"M 44.28125 53.078125 \nL 44.28125 44.578125 \nQ 40.484375 46.53125 36.375 47.5 \nQ 32.28125 48.484375 27.875 48.484375 \nQ 21.1875 48.484375 17.84375 46.4375 \nQ 14.5 44.390625 14.5 40.28125 \nQ 14.5 37.15625 16.890625 35.375 \nQ 19.28125 33.59375 26.515625 31.984375 \nL 29.59375 31.296875 \nQ 39.15625 29.25 43.1875 25.515625 \nQ 47.21875 21.78125 47.21875 15.09375 \nQ 47.21875 7.46875 41.1875 3.015625 \nQ 35.15625 -1.421875 24.609375 -1.421875 \nQ 20.21875 -1.421875 15.453125 -0.5625 \nQ 10.6875 0.296875 5.421875 2 \nL 5.421875 11.28125 \nQ 10.40625 8.6875 15.234375 7.390625 \nQ 20.0625 6.109375 24.8125 6.109375 \nQ 31.15625 6.109375 34.5625 8.28125 \nQ 37.984375 10.453125 37.984375 14.40625 \nQ 37.984375 18.0625 35.515625 20.015625 \nQ 33.0625 21.96875 24.703125 23.78125 \nL 21.578125 24.515625 \nQ 13.234375 26.265625 9.515625 29.90625 \nQ 5.8125 33.546875 5.8125 39.890625 \nQ 5.8125 47.609375 11.28125 51.796875 \nQ 16.75 56 26.8125 56 \nQ 31.78125 56 36.171875 55.265625 \nQ 40.578125 54.546875 44.28125 53.078125 \nz\n\" id=\"DejaVuSans-115\"/>\n     </defs>\n     <g transform=\"translate(199.628125 268.034687)scale(0.1 -0.1)\">\n      <use xlink:href=\"#DejaVuSans-69\"/>\n      <use x=\"63.183594\" xlink:href=\"#DejaVuSans-112\"/>\n      <use x=\"126.660156\" xlink:href=\"#DejaVuSans-111\"/>\n      <use x=\"187.841797\" xlink:href=\"#DejaVuSans-99\"/>\n      <use x=\"242.822266\" xlink:href=\"#DejaVuSans-104\"/>\n      <use x=\"306.201172\" xlink:href=\"#DejaVuSans-115\"/>\n     </g>\n    </g>\n   </g>\n   <g id=\"matplotlib.axis_2\">\n    <g id=\"ytick_1\">\n     <g id=\"line2d_8\">\n      <defs>\n       <path d=\"M 0 0 \nL -3.5 0 \n\" id=\"m822850e081\" style=\"stroke:#000000;stroke-width:0.8;\"/>\n      </defs>\n      <g>\n       <use style=\"stroke:#000000;stroke-width:0.8;\" x=\"50.14375\" xlink:href=\"#m822850e081\" y=\"208.617772\"/>\n      </g>\n     </g>\n     <g id=\"text_9\">\n      <!-- 1.15 -->\n      <defs>\n       <path d=\"M 10.6875 12.40625 \nL 21 12.40625 \nL 21 0 \nL 10.6875 0 \nz\n\" id=\"DejaVuSans-46\"/>\n      </defs>\n      <g transform=\"translate(20.878125 212.416991)scale(0.1 -0.1)\">\n       <use xlink:href=\"#DejaVuSans-49\"/>\n       <use x=\"63.623047\" xlink:href=\"#DejaVuSans-46\"/>\n       <use x=\"95.410156\" xlink:href=\"#DejaVuSans-49\"/>\n       <use x=\"159.033203\" xlink:href=\"#DejaVuSans-53\"/>\n      </g>\n     </g>\n    </g>\n    <g id=\"ytick_2\">\n     <g id=\"line2d_9\">\n      <g>\n       <use style=\"stroke:#000000;stroke-width:0.8;\" x=\"50.14375\" xlink:href=\"#m822850e081\" y=\"163.213113\"/>\n      </g>\n     </g>\n     <g id=\"text_10\">\n      <!-- 1.20 -->\n      <g transform=\"translate(20.878125 167.012332)scale(0.1 -0.1)\">\n       <use xlink:href=\"#DejaVuSans-49\"/>\n       <use x=\"63.623047\" xlink:href=\"#DejaVuSans-46\"/>\n       <use x=\"95.410156\" xlink:href=\"#DejaVuSans-50\"/>\n       <use x=\"159.033203\" xlink:href=\"#DejaVuSans-48\"/>\n      </g>\n     </g>\n    </g>\n    <g id=\"ytick_3\">\n     <g id=\"line2d_10\">\n      <g>\n       <use style=\"stroke:#000000;stroke-width:0.8;\" x=\"50.14375\" xlink:href=\"#m822850e081\" y=\"117.808454\"/>\n      </g>\n     </g>\n     <g id=\"text_11\">\n      <!-- 1.25 -->\n      <g transform=\"translate(20.878125 121.607673)scale(0.1 -0.1)\">\n       <use xlink:href=\"#DejaVuSans-49\"/>\n       <use x=\"63.623047\" xlink:href=\"#DejaVuSans-46\"/>\n       <use x=\"95.410156\" xlink:href=\"#DejaVuSans-50\"/>\n       <use x=\"159.033203\" xlink:href=\"#DejaVuSans-53\"/>\n      </g>\n     </g>\n    </g>\n    <g id=\"ytick_4\">\n     <g id=\"line2d_11\">\n      <g>\n       <use style=\"stroke:#000000;stroke-width:0.8;\" x=\"50.14375\" xlink:href=\"#m822850e081\" y=\"72.403796\"/>\n      </g>\n     </g>\n     <g id=\"text_12\">\n      <!-- 1.30 -->\n      <g transform=\"translate(20.878125 76.203014)scale(0.1 -0.1)\">\n       <use xlink:href=\"#DejaVuSans-49\"/>\n       <use x=\"63.623047\" xlink:href=\"#DejaVuSans-46\"/>\n       <use x=\"95.410156\" xlink:href=\"#DejaVuSans-51\"/>\n       <use x=\"159.033203\" xlink:href=\"#DejaVuSans-48\"/>\n      </g>\n     </g>\n    </g>\n    <g id=\"ytick_5\">\n     <g id=\"line2d_12\">\n      <g>\n       <use style=\"stroke:#000000;stroke-width:0.8;\" x=\"50.14375\" xlink:href=\"#m822850e081\" y=\"26.999137\"/>\n      </g>\n     </g>\n     <g id=\"text_13\">\n      <!-- 1.35 -->\n      <g transform=\"translate(20.878125 30.798356)scale(0.1 -0.1)\">\n       <use xlink:href=\"#DejaVuSans-49\"/>\n       <use x=\"63.623047\" xlink:href=\"#DejaVuSans-46\"/>\n       <use x=\"95.410156\" xlink:href=\"#DejaVuSans-51\"/>\n       <use x=\"159.033203\" xlink:href=\"#DejaVuSans-53\"/>\n      </g>\n     </g>\n    </g>\n    <g id=\"text_14\">\n     <!-- loss -->\n     <defs>\n      <path d=\"M 9.421875 75.984375 \nL 18.40625 75.984375 \nL 18.40625 0 \nL 9.421875 0 \nz\n\" id=\"DejaVuSans-108\"/>\n     </defs>\n     <g transform=\"translate(14.798438 140.695937)rotate(-90)scale(0.1 -0.1)\">\n      <use xlink:href=\"#DejaVuSans-108\"/>\n      <use x=\"27.783203\" xlink:href=\"#DejaVuSans-111\"/>\n      <use x=\"88.964844\" xlink:href=\"#DejaVuSans-115\"/>\n      <use x=\"141.064453\" xlink:href=\"#DejaVuSans-115\"/>\n     </g>\n    </g>\n   </g>\n   <g id=\"line2d_13\">\n    <path clip-path=\"url(#pbf32911294)\" d=\"M 65.361932 32.201761 \nL 75.85723 68.368378 \nL 86.352527 90.913827 \nL 96.847825 104.968224 \nL 107.343123 116.158135 \nL 117.838421 125.048425 \nL 128.333719 134.204584 \nL 138.829016 142.07318 \nL 149.324314 149.80148 \nL 159.819612 157.616707 \nL 170.31491 164.112437 \nL 180.810208 169.988201 \nL 191.305505 175.252876 \nL 201.800803 179.93136 \nL 212.296101 184.944672 \nL 222.791399 189.43144 \nL 233.286697 194.134606 \nL 243.781995 198.858881 \nL 254.277292 202.223497 \nL 264.77259 204.862275 \nL 275.267888 208.058882 \nL 285.763186 210.638338 \nL 296.258484 212.739099 \nL 306.753781 216.002173 \nL 317.249079 217.980932 \nL 327.744377 220.166563 \nL 338.239675 221.918749 \nL 348.734973 223.865032 \nL 359.23027 225.747662 \nL 369.725568 227.550402 \n\" style=\"fill:none;stroke:#0000ff;stroke-dasharray:5.55,2.4;stroke-dashoffset:0;stroke-width:1.5;\"/>\n    <defs>\n     <path d=\"M 0 3 \nC 0.795609 3 1.55874 2.683901 2.12132 2.12132 \nC 2.683901 1.55874 3 0.795609 3 0 \nC 3 -0.795609 2.683901 -1.55874 2.12132 -2.12132 \nC 1.55874 -2.683901 0.795609 -3 0 -3 \nC -0.795609 -3 -1.55874 -2.683901 -2.12132 -2.12132 \nC -2.683901 -1.55874 -3 -0.795609 -3 0 \nC -3 0.795609 -2.683901 1.55874 -2.12132 2.12132 \nC -1.55874 2.683901 -0.795609 3 0 3 \nz\n\" id=\"m97bbc80211\" style=\"stroke:#0000ff;\"/>\n    </defs>\n    <g clip-path=\"url(#pbf32911294)\">\n     <use style=\"fill:#0000ff;stroke:#0000ff;\" x=\"65.361932\" xlink:href=\"#m97bbc80211\" y=\"32.201761\"/>\n     <use style=\"fill:#0000ff;stroke:#0000ff;\" x=\"75.85723\" xlink:href=\"#m97bbc80211\" y=\"68.368378\"/>\n     <use style=\"fill:#0000ff;stroke:#0000ff;\" x=\"86.352527\" xlink:href=\"#m97bbc80211\" y=\"90.913827\"/>\n     <use style=\"fill:#0000ff;stroke:#0000ff;\" x=\"96.847825\" xlink:href=\"#m97bbc80211\" y=\"104.968224\"/>\n     <use style=\"fill:#0000ff;stroke:#0000ff;\" x=\"107.343123\" xlink:href=\"#m97bbc80211\" y=\"116.158135\"/>\n     <use style=\"fill:#0000ff;stroke:#0000ff;\" x=\"117.838421\" xlink:href=\"#m97bbc80211\" y=\"125.048425\"/>\n     <use style=\"fill:#0000ff;stroke:#0000ff;\" x=\"128.333719\" xlink:href=\"#m97bbc80211\" y=\"134.204584\"/>\n     <use style=\"fill:#0000ff;stroke:#0000ff;\" x=\"138.829016\" xlink:href=\"#m97bbc80211\" y=\"142.07318\"/>\n     <use style=\"fill:#0000ff;stroke:#0000ff;\" x=\"149.324314\" xlink:href=\"#m97bbc80211\" y=\"149.80148\"/>\n     <use style=\"fill:#0000ff;stroke:#0000ff;\" x=\"159.819612\" xlink:href=\"#m97bbc80211\" y=\"157.616707\"/>\n     <use style=\"fill:#0000ff;stroke:#0000ff;\" x=\"170.31491\" xlink:href=\"#m97bbc80211\" y=\"164.112437\"/>\n     <use style=\"fill:#0000ff;stroke:#0000ff;\" x=\"180.810208\" xlink:href=\"#m97bbc80211\" y=\"169.988201\"/>\n     <use style=\"fill:#0000ff;stroke:#0000ff;\" x=\"191.305505\" xlink:href=\"#m97bbc80211\" y=\"175.252876\"/>\n     <use style=\"fill:#0000ff;stroke:#0000ff;\" x=\"201.800803\" xlink:href=\"#m97bbc80211\" y=\"179.93136\"/>\n     <use style=\"fill:#0000ff;stroke:#0000ff;\" x=\"212.296101\" xlink:href=\"#m97bbc80211\" y=\"184.944672\"/>\n     <use style=\"fill:#0000ff;stroke:#0000ff;\" x=\"222.791399\" xlink:href=\"#m97bbc80211\" y=\"189.43144\"/>\n     <use style=\"fill:#0000ff;stroke:#0000ff;\" x=\"233.286697\" xlink:href=\"#m97bbc80211\" y=\"194.134606\"/>\n     <use style=\"fill:#0000ff;stroke:#0000ff;\" x=\"243.781995\" xlink:href=\"#m97bbc80211\" y=\"198.858881\"/>\n     <use style=\"fill:#0000ff;stroke:#0000ff;\" x=\"254.277292\" xlink:href=\"#m97bbc80211\" y=\"202.223497\"/>\n     <use style=\"fill:#0000ff;stroke:#0000ff;\" x=\"264.77259\" xlink:href=\"#m97bbc80211\" y=\"204.862275\"/>\n     <use style=\"fill:#0000ff;stroke:#0000ff;\" x=\"275.267888\" xlink:href=\"#m97bbc80211\" y=\"208.058882\"/>\n     <use style=\"fill:#0000ff;stroke:#0000ff;\" x=\"285.763186\" xlink:href=\"#m97bbc80211\" y=\"210.638338\"/>\n     <use style=\"fill:#0000ff;stroke:#0000ff;\" x=\"296.258484\" xlink:href=\"#m97bbc80211\" y=\"212.739099\"/>\n     <use style=\"fill:#0000ff;stroke:#0000ff;\" x=\"306.753781\" xlink:href=\"#m97bbc80211\" y=\"216.002173\"/>\n     <use style=\"fill:#0000ff;stroke:#0000ff;\" x=\"317.249079\" xlink:href=\"#m97bbc80211\" y=\"217.980932\"/>\n     <use style=\"fill:#0000ff;stroke:#0000ff;\" x=\"327.744377\" xlink:href=\"#m97bbc80211\" y=\"220.166563\"/>\n     <use style=\"fill:#0000ff;stroke:#0000ff;\" x=\"338.239675\" xlink:href=\"#m97bbc80211\" y=\"221.918749\"/>\n     <use style=\"fill:#0000ff;stroke:#0000ff;\" x=\"348.734973\" xlink:href=\"#m97bbc80211\" y=\"223.865032\"/>\n     <use style=\"fill:#0000ff;stroke:#0000ff;\" x=\"359.23027\" xlink:href=\"#m97bbc80211\" y=\"225.747662\"/>\n     <use style=\"fill:#0000ff;stroke:#0000ff;\" x=\"369.725568\" xlink:href=\"#m97bbc80211\" y=\"227.550402\"/>\n    </g>\n   </g>\n   <g id=\"line2d_14\">\n    <path clip-path=\"url(#pbf32911294)\" d=\"M 65.361932 114.928704 \nL 75.85723 131.946748 \nL 86.352527 143.087079 \nL 96.847825 150.404991 \nL 107.343123 157.380282 \nL 117.838421 162.528369 \nL 128.333719 167.772043 \nL 138.829016 172.368688 \nL 149.324314 176.860652 \nL 159.819612 181.146718 \nL 170.31491 184.331201 \nL 180.810208 187.263995 \nL 191.305505 190.311213 \nL 201.800803 193.627981 \nL 212.296101 196.831841 \nL 222.791399 199.83002 \nL 233.286697 202.718214 \nL 243.781995 205.797474 \nL 254.277292 208.33915 \nL 264.77259 210.482129 \nL 275.267888 212.679343 \nL 285.763186 214.724245 \nL 296.258484 216.691962 \nL 306.753781 218.828446 \nL 317.249079 220.86891 \nL 327.744377 222.674789 \nL 338.239675 224.780637 \nL 348.734973 226.282866 \nL 359.23027 227.992075 \nL 369.725568 229.874489 \n\" style=\"fill:none;stroke:#ff0000;stroke-linecap:square;stroke-width:1.5;\"/>\n    <defs>\n     <path d=\"M 0 3 \nC 0.795609 3 1.55874 2.683901 2.12132 2.12132 \nC 2.683901 1.55874 3 0.795609 3 0 \nC 3 -0.795609 2.683901 -1.55874 2.12132 -2.12132 \nC 1.55874 -2.683901 0.795609 -3 0 -3 \nC -0.795609 -3 -1.55874 -2.683901 -2.12132 -2.12132 \nC -2.683901 -1.55874 -3 -0.795609 -3 0 \nC -3 0.795609 -2.683901 1.55874 -2.12132 2.12132 \nC -1.55874 2.683901 -0.795609 3 0 3 \nz\n\" id=\"mc08e2a0541\" style=\"stroke:#ff0000;\"/>\n    </defs>\n    <g clip-path=\"url(#pbf32911294)\">\n     <use style=\"fill:#ff0000;stroke:#ff0000;\" x=\"65.361932\" xlink:href=\"#mc08e2a0541\" y=\"114.928704\"/>\n     <use style=\"fill:#ff0000;stroke:#ff0000;\" x=\"75.85723\" xlink:href=\"#mc08e2a0541\" y=\"131.946748\"/>\n     <use style=\"fill:#ff0000;stroke:#ff0000;\" x=\"86.352527\" xlink:href=\"#mc08e2a0541\" y=\"143.087079\"/>\n     <use style=\"fill:#ff0000;stroke:#ff0000;\" x=\"96.847825\" xlink:href=\"#mc08e2a0541\" y=\"150.404991\"/>\n     <use style=\"fill:#ff0000;stroke:#ff0000;\" x=\"107.343123\" xlink:href=\"#mc08e2a0541\" y=\"157.380282\"/>\n     <use style=\"fill:#ff0000;stroke:#ff0000;\" x=\"117.838421\" xlink:href=\"#mc08e2a0541\" y=\"162.528369\"/>\n     <use style=\"fill:#ff0000;stroke:#ff0000;\" x=\"128.333719\" xlink:href=\"#mc08e2a0541\" y=\"167.772043\"/>\n     <use style=\"fill:#ff0000;stroke:#ff0000;\" x=\"138.829016\" xlink:href=\"#mc08e2a0541\" y=\"172.368688\"/>\n     <use style=\"fill:#ff0000;stroke:#ff0000;\" x=\"149.324314\" xlink:href=\"#mc08e2a0541\" y=\"176.860652\"/>\n     <use style=\"fill:#ff0000;stroke:#ff0000;\" x=\"159.819612\" xlink:href=\"#mc08e2a0541\" y=\"181.146718\"/>\n     <use style=\"fill:#ff0000;stroke:#ff0000;\" x=\"170.31491\" xlink:href=\"#mc08e2a0541\" y=\"184.331201\"/>\n     <use style=\"fill:#ff0000;stroke:#ff0000;\" x=\"180.810208\" xlink:href=\"#mc08e2a0541\" y=\"187.263995\"/>\n     <use style=\"fill:#ff0000;stroke:#ff0000;\" x=\"191.305505\" xlink:href=\"#mc08e2a0541\" y=\"190.311213\"/>\n     <use style=\"fill:#ff0000;stroke:#ff0000;\" x=\"201.800803\" xlink:href=\"#mc08e2a0541\" y=\"193.627981\"/>\n     <use style=\"fill:#ff0000;stroke:#ff0000;\" x=\"212.296101\" xlink:href=\"#mc08e2a0541\" y=\"196.831841\"/>\n     <use style=\"fill:#ff0000;stroke:#ff0000;\" x=\"222.791399\" xlink:href=\"#mc08e2a0541\" y=\"199.83002\"/>\n     <use style=\"fill:#ff0000;stroke:#ff0000;\" x=\"233.286697\" xlink:href=\"#mc08e2a0541\" y=\"202.718214\"/>\n     <use style=\"fill:#ff0000;stroke:#ff0000;\" x=\"243.781995\" xlink:href=\"#mc08e2a0541\" y=\"205.797474\"/>\n     <use style=\"fill:#ff0000;stroke:#ff0000;\" x=\"254.277292\" xlink:href=\"#mc08e2a0541\" y=\"208.33915\"/>\n     <use style=\"fill:#ff0000;stroke:#ff0000;\" x=\"264.77259\" xlink:href=\"#mc08e2a0541\" y=\"210.482129\"/>\n     <use style=\"fill:#ff0000;stroke:#ff0000;\" x=\"275.267888\" xlink:href=\"#mc08e2a0541\" y=\"212.679343\"/>\n     <use style=\"fill:#ff0000;stroke:#ff0000;\" x=\"285.763186\" xlink:href=\"#mc08e2a0541\" y=\"214.724245\"/>\n     <use style=\"fill:#ff0000;stroke:#ff0000;\" x=\"296.258484\" xlink:href=\"#mc08e2a0541\" y=\"216.691962\"/>\n     <use style=\"fill:#ff0000;stroke:#ff0000;\" x=\"306.753781\" xlink:href=\"#mc08e2a0541\" y=\"218.828446\"/>\n     <use style=\"fill:#ff0000;stroke:#ff0000;\" x=\"317.249079\" xlink:href=\"#mc08e2a0541\" y=\"220.86891\"/>\n     <use style=\"fill:#ff0000;stroke:#ff0000;\" x=\"327.744377\" xlink:href=\"#mc08e2a0541\" y=\"222.674789\"/>\n     <use style=\"fill:#ff0000;stroke:#ff0000;\" x=\"338.239675\" xlink:href=\"#mc08e2a0541\" y=\"224.780637\"/>\n     <use style=\"fill:#ff0000;stroke:#ff0000;\" x=\"348.734973\" xlink:href=\"#mc08e2a0541\" y=\"226.282866\"/>\n     <use style=\"fill:#ff0000;stroke:#ff0000;\" x=\"359.23027\" xlink:href=\"#mc08e2a0541\" y=\"227.992075\"/>\n     <use style=\"fill:#ff0000;stroke:#ff0000;\" x=\"369.725568\" xlink:href=\"#mc08e2a0541\" y=\"229.874489\"/>\n    </g>\n   </g>\n   <g id=\"patch_3\">\n    <path d=\"M 50.14375 239.758125 \nL 50.14375 22.318125 \n\" style=\"fill:none;stroke:#000000;stroke-linecap:square;stroke-linejoin:miter;stroke-width:0.8;\"/>\n   </g>\n   <g id=\"patch_4\">\n    <path d=\"M 384.94375 239.758125 \nL 384.94375 22.318125 \n\" style=\"fill:none;stroke:#000000;stroke-linecap:square;stroke-linejoin:miter;stroke-width:0.8;\"/>\n   </g>\n   <g id=\"patch_5\">\n    <path d=\"M 50.14375 239.758125 \nL 384.94375 239.758125 \n\" style=\"fill:none;stroke:#000000;stroke-linecap:square;stroke-linejoin:miter;stroke-width:0.8;\"/>\n   </g>\n   <g id=\"patch_6\">\n    <path d=\"M 50.14375 22.318125 \nL 384.94375 22.318125 \n\" style=\"fill:none;stroke:#000000;stroke-linecap:square;stroke-linejoin:miter;stroke-width:0.8;\"/>\n   </g>\n   <g id=\"text_15\">\n    <!-- Training and validation loss -->\n    <defs>\n     <path d=\"M -0.296875 72.90625 \nL 61.375 72.90625 \nL 61.375 64.59375 \nL 35.5 64.59375 \nL 35.5 0 \nL 25.59375 0 \nL 25.59375 64.59375 \nL -0.296875 64.59375 \nz\n\" id=\"DejaVuSans-84\"/>\n     <path d=\"M 41.109375 46.296875 \nQ 39.59375 47.171875 37.8125 47.578125 \nQ 36.03125 48 33.890625 48 \nQ 26.265625 48 22.1875 43.046875 \nQ 18.109375 38.09375 18.109375 28.8125 \nL 18.109375 0 \nL 9.078125 0 \nL 9.078125 54.6875 \nL 18.109375 54.6875 \nL 18.109375 46.1875 \nQ 20.953125 51.171875 25.484375 53.578125 \nQ 30.03125 56 36.53125 56 \nQ 37.453125 56 38.578125 55.875 \nQ 39.703125 55.765625 41.0625 55.515625 \nz\n\" id=\"DejaVuSans-114\"/>\n     <path d=\"M 34.28125 27.484375 \nQ 23.390625 27.484375 19.1875 25 \nQ 14.984375 22.515625 14.984375 16.5 \nQ 14.984375 11.71875 18.140625 8.90625 \nQ 21.296875 6.109375 26.703125 6.109375 \nQ 34.1875 6.109375 38.703125 11.40625 \nQ 43.21875 16.703125 43.21875 25.484375 \nL 43.21875 27.484375 \nz\nM 52.203125 31.203125 \nL 52.203125 0 \nL 43.21875 0 \nL 43.21875 8.296875 \nQ 40.140625 3.328125 35.546875 0.953125 \nQ 30.953125 -1.421875 24.3125 -1.421875 \nQ 15.921875 -1.421875 10.953125 3.296875 \nQ 6 8.015625 6 15.921875 \nQ 6 25.140625 12.171875 29.828125 \nQ 18.359375 34.515625 30.609375 34.515625 \nL 43.21875 34.515625 \nL 43.21875 35.40625 \nQ 43.21875 41.609375 39.140625 45 \nQ 35.0625 48.390625 27.6875 48.390625 \nQ 23 48.390625 18.546875 47.265625 \nQ 14.109375 46.140625 10.015625 43.890625 \nL 10.015625 52.203125 \nQ 14.9375 54.109375 19.578125 55.046875 \nQ 24.21875 56 28.609375 56 \nQ 40.484375 56 46.34375 49.84375 \nQ 52.203125 43.703125 52.203125 31.203125 \nz\n\" id=\"DejaVuSans-97\"/>\n     <path d=\"M 9.421875 54.6875 \nL 18.40625 54.6875 \nL 18.40625 0 \nL 9.421875 0 \nz\nM 9.421875 75.984375 \nL 18.40625 75.984375 \nL 18.40625 64.59375 \nL 9.421875 64.59375 \nz\n\" id=\"DejaVuSans-105\"/>\n     <path d=\"M 54.890625 33.015625 \nL 54.890625 0 \nL 45.90625 0 \nL 45.90625 32.71875 \nQ 45.90625 40.484375 42.875 44.328125 \nQ 39.84375 48.1875 33.796875 48.1875 \nQ 26.515625 48.1875 22.3125 43.546875 \nQ 18.109375 38.921875 18.109375 30.90625 \nL 18.109375 0 \nL 9.078125 0 \nL 9.078125 54.6875 \nL 18.109375 54.6875 \nL 18.109375 46.1875 \nQ 21.34375 51.125 25.703125 53.5625 \nQ 30.078125 56 35.796875 56 \nQ 45.21875 56 50.046875 50.171875 \nQ 54.890625 44.34375 54.890625 33.015625 \nz\n\" id=\"DejaVuSans-110\"/>\n     <path d=\"M 45.40625 27.984375 \nQ 45.40625 37.75 41.375 43.109375 \nQ 37.359375 48.484375 30.078125 48.484375 \nQ 22.859375 48.484375 18.828125 43.109375 \nQ 14.796875 37.75 14.796875 27.984375 \nQ 14.796875 18.265625 18.828125 12.890625 \nQ 22.859375 7.515625 30.078125 7.515625 \nQ 37.359375 7.515625 41.375 12.890625 \nQ 45.40625 18.265625 45.40625 27.984375 \nz\nM 54.390625 6.78125 \nQ 54.390625 -7.171875 48.1875 -13.984375 \nQ 42 -20.796875 29.203125 -20.796875 \nQ 24.46875 -20.796875 20.265625 -20.09375 \nQ 16.0625 -19.390625 12.109375 -17.921875 \nL 12.109375 -9.1875 \nQ 16.0625 -11.328125 19.921875 -12.34375 \nQ 23.78125 -13.375 27.78125 -13.375 \nQ 36.625 -13.375 41.015625 -8.765625 \nQ 45.40625 -4.15625 45.40625 5.171875 \nL 45.40625 9.625 \nQ 42.625 4.78125 38.28125 2.390625 \nQ 33.9375 0 27.875 0 \nQ 17.828125 0 11.671875 7.65625 \nQ 5.515625 15.328125 5.515625 27.984375 \nQ 5.515625 40.671875 11.671875 48.328125 \nQ 17.828125 56 27.875 56 \nQ 33.9375 56 38.28125 53.609375 \nQ 42.625 51.21875 45.40625 46.390625 \nL 45.40625 54.6875 \nL 54.390625 54.6875 \nz\n\" id=\"DejaVuSans-103\"/>\n     <path id=\"DejaVuSans-32\"/>\n     <path d=\"M 45.40625 46.390625 \nL 45.40625 75.984375 \nL 54.390625 75.984375 \nL 54.390625 0 \nL 45.40625 0 \nL 45.40625 8.203125 \nQ 42.578125 3.328125 38.25 0.953125 \nQ 33.9375 -1.421875 27.875 -1.421875 \nQ 17.96875 -1.421875 11.734375 6.484375 \nQ 5.515625 14.40625 5.515625 27.296875 \nQ 5.515625 40.1875 11.734375 48.09375 \nQ 17.96875 56 27.875 56 \nQ 33.9375 56 38.25 53.625 \nQ 42.578125 51.265625 45.40625 46.390625 \nz\nM 14.796875 27.296875 \nQ 14.796875 17.390625 18.875 11.75 \nQ 22.953125 6.109375 30.078125 6.109375 \nQ 37.203125 6.109375 41.296875 11.75 \nQ 45.40625 17.390625 45.40625 27.296875 \nQ 45.40625 37.203125 41.296875 42.84375 \nQ 37.203125 48.484375 30.078125 48.484375 \nQ 22.953125 48.484375 18.875 42.84375 \nQ 14.796875 37.203125 14.796875 27.296875 \nz\n\" id=\"DejaVuSans-100\"/>\n     <path d=\"M 2.984375 54.6875 \nL 12.5 54.6875 \nL 29.59375 8.796875 \nL 46.6875 54.6875 \nL 56.203125 54.6875 \nL 35.6875 0 \nL 23.484375 0 \nz\n\" id=\"DejaVuSans-118\"/>\n     <path d=\"M 18.3125 70.21875 \nL 18.3125 54.6875 \nL 36.8125 54.6875 \nL 36.8125 47.703125 \nL 18.3125 47.703125 \nL 18.3125 18.015625 \nQ 18.3125 11.328125 20.140625 9.421875 \nQ 21.96875 7.515625 27.59375 7.515625 \nL 36.8125 7.515625 \nL 36.8125 0 \nL 27.59375 0 \nQ 17.1875 0 13.234375 3.875 \nQ 9.28125 7.765625 9.28125 18.015625 \nL 9.28125 47.703125 \nL 2.6875 47.703125 \nL 2.6875 54.6875 \nL 9.28125 54.6875 \nL 9.28125 70.21875 \nz\n\" id=\"DejaVuSans-116\"/>\n    </defs>\n    <g transform=\"translate(135.73375 16.318125)scale(0.12 -0.12)\">\n     <use xlink:href=\"#DejaVuSans-84\"/>\n     <use x=\"46.333984\" xlink:href=\"#DejaVuSans-114\"/>\n     <use x=\"87.447266\" xlink:href=\"#DejaVuSans-97\"/>\n     <use x=\"148.726562\" xlink:href=\"#DejaVuSans-105\"/>\n     <use x=\"176.509766\" xlink:href=\"#DejaVuSans-110\"/>\n     <use x=\"239.888672\" xlink:href=\"#DejaVuSans-105\"/>\n     <use x=\"267.671875\" xlink:href=\"#DejaVuSans-110\"/>\n     <use x=\"331.050781\" xlink:href=\"#DejaVuSans-103\"/>\n     <use x=\"394.527344\" xlink:href=\"#DejaVuSans-32\"/>\n     <use x=\"426.314453\" xlink:href=\"#DejaVuSans-97\"/>\n     <use x=\"487.59375\" xlink:href=\"#DejaVuSans-110\"/>\n     <use x=\"550.972656\" xlink:href=\"#DejaVuSans-100\"/>\n     <use x=\"614.449219\" xlink:href=\"#DejaVuSans-32\"/>\n     <use x=\"646.236328\" xlink:href=\"#DejaVuSans-118\"/>\n     <use x=\"705.416016\" xlink:href=\"#DejaVuSans-97\"/>\n     <use x=\"766.695312\" xlink:href=\"#DejaVuSans-108\"/>\n     <use x=\"794.478516\" xlink:href=\"#DejaVuSans-105\"/>\n     <use x=\"822.261719\" xlink:href=\"#DejaVuSans-100\"/>\n     <use x=\"885.738281\" xlink:href=\"#DejaVuSans-97\"/>\n     <use x=\"947.017578\" xlink:href=\"#DejaVuSans-116\"/>\n     <use x=\"986.226562\" xlink:href=\"#DejaVuSans-105\"/>\n     <use x=\"1014.009766\" xlink:href=\"#DejaVuSans-111\"/>\n     <use x=\"1075.191406\" xlink:href=\"#DejaVuSans-110\"/>\n     <use x=\"1138.570312\" xlink:href=\"#DejaVuSans-32\"/>\n     <use x=\"1170.357422\" xlink:href=\"#DejaVuSans-108\"/>\n     <use x=\"1198.140625\" xlink:href=\"#DejaVuSans-111\"/>\n     <use x=\"1259.322266\" xlink:href=\"#DejaVuSans-115\"/>\n     <use x=\"1311.421875\" xlink:href=\"#DejaVuSans-115\"/>\n    </g>\n   </g>\n   <g id=\"legend_1\">\n    <g id=\"patch_7\">\n     <path d=\"M 298.353125 60.230625 \nL 377.94375 60.230625 \nQ 379.94375 60.230625 379.94375 58.230625 \nL 379.94375 29.318125 \nQ 379.94375 27.318125 377.94375 27.318125 \nL 298.353125 27.318125 \nQ 296.353125 27.318125 296.353125 29.318125 \nL 296.353125 58.230625 \nQ 296.353125 60.230625 298.353125 60.230625 \nz\n\" style=\"fill:#ffffff;opacity:0.8;stroke:#cccccc;stroke-linejoin:miter;\"/>\n    </g>\n    <g id=\"line2d_15\">\n     <path d=\"M 300.353125 35.416562 \nL 320.353125 35.416562 \n\" style=\"fill:none;stroke:#0000ff;stroke-dasharray:5.55,2.4;stroke-dashoffset:0;stroke-width:1.5;\"/>\n    </g>\n    <g id=\"line2d_16\">\n     <g>\n      <use style=\"fill:#0000ff;stroke:#0000ff;\" x=\"310.353125\" xlink:href=\"#m97bbc80211\" y=\"35.416562\"/>\n     </g>\n    </g>\n    <g id=\"text_16\">\n     <!-- train_loss -->\n     <defs>\n      <path d=\"M 50.984375 -16.609375 \nL 50.984375 -23.578125 \nL -0.984375 -23.578125 \nL -0.984375 -16.609375 \nz\n\" id=\"DejaVuSans-95\"/>\n     </defs>\n     <g transform=\"translate(328.353125 38.916562)scale(0.1 -0.1)\">\n      <use xlink:href=\"#DejaVuSans-116\"/>\n      <use x=\"39.208984\" xlink:href=\"#DejaVuSans-114\"/>\n      <use x=\"80.322266\" xlink:href=\"#DejaVuSans-97\"/>\n      <use x=\"141.601562\" xlink:href=\"#DejaVuSans-105\"/>\n      <use x=\"169.384766\" xlink:href=\"#DejaVuSans-110\"/>\n      <use x=\"232.763672\" xlink:href=\"#DejaVuSans-95\"/>\n      <use x=\"282.763672\" xlink:href=\"#DejaVuSans-108\"/>\n      <use x=\"310.546875\" xlink:href=\"#DejaVuSans-111\"/>\n      <use x=\"371.728516\" xlink:href=\"#DejaVuSans-115\"/>\n      <use x=\"423.828125\" xlink:href=\"#DejaVuSans-115\"/>\n     </g>\n    </g>\n    <g id=\"line2d_17\">\n     <path d=\"M 300.353125 50.372812 \nL 320.353125 50.372812 \n\" style=\"fill:none;stroke:#ff0000;stroke-linecap:square;stroke-width:1.5;\"/>\n    </g>\n    <g id=\"line2d_18\">\n     <g>\n      <use style=\"fill:#ff0000;stroke:#ff0000;\" x=\"310.353125\" xlink:href=\"#mc08e2a0541\" y=\"50.372812\"/>\n     </g>\n    </g>\n    <g id=\"text_17\">\n     <!-- val_loss -->\n     <g transform=\"translate(328.353125 53.872812)scale(0.1 -0.1)\">\n      <use xlink:href=\"#DejaVuSans-118\"/>\n      <use x=\"59.179688\" xlink:href=\"#DejaVuSans-97\"/>\n      <use x=\"120.458984\" xlink:href=\"#DejaVuSans-108\"/>\n      <use x=\"148.242188\" xlink:href=\"#DejaVuSans-95\"/>\n      <use x=\"198.242188\" xlink:href=\"#DejaVuSans-108\"/>\n      <use x=\"226.025391\" xlink:href=\"#DejaVuSans-111\"/>\n      <use x=\"287.207031\" xlink:href=\"#DejaVuSans-115\"/>\n      <use x=\"339.306641\" xlink:href=\"#DejaVuSans-115\"/>\n     </g>\n    </g>\n   </g>\n  </g>\n </g>\n <defs>\n  <clipPath id=\"pbf32911294\">\n   <rect height=\"217.44\" width=\"334.8\" x=\"50.14375\" y=\"22.318125\"/>\n  </clipPath>\n </defs>\n</svg>\n"
          },
          "metadata": {
            "needs_background": "light"
          }
        }
      ]
    },
    {
      "cell_type": "markdown",
      "source": [
        "Kera Sequential model\n",
        "\n",
        "model is a lineatr stack of layers and layers can be described very simply. It uses model.add() to define two dense layers in sequential model"
      ],
      "metadata": {
        "id": "21LNT9oep-nB"
      }
    },
    {
      "cell_type": "markdown",
      "source": [
        "sequential model with dense layers "
      ],
      "metadata": {
        "id": "woc0F8ldObdj"
      }
    },
    {
      "cell_type": "code",
      "source": [
        "import tensorflow as tf\n",
        "import pandas as pd\n",
        "import numpy as np\n",
        "import matplotlib.pyplot as plt\n",
        "from sklearn.datasets import load_iris\n",
        "from sklearn.model_selection import train_test_split"
      ],
      "metadata": {
        "id": "ow3rAA_KVYEL"
      },
      "execution_count": null,
      "outputs": []
    },
    {
      "cell_type": "markdown",
      "source": [
        "Load data"
      ],
      "metadata": {
        "id": "GeXw-cT9VkVa"
      }
    },
    {
      "cell_type": "code",
      "source": [
        "iris = load_iris()\n",
        "data = pd.DataFrame(iris.data, columns=iris.feature_names)\n",
        "data = data.astype(float)\n",
        "data['label'] = iris.target\n",
        "data['label'] = data.label.replace(dict(enumerate(iris.target_names)))"
      ],
      "metadata": {
        "id": "unmCbBxkVZ8U"
      },
      "execution_count": null,
      "outputs": []
    },
    {
      "cell_type": "markdown",
      "source": [
        "label encoding"
      ],
      "metadata": {
        "id": "40TZxytBVz8a"
      }
    },
    {
      "cell_type": "code",
      "source": [
        "label = pd.get_dummies(data['label'])\n",
        "label.columns = ['label_' + str(x) for x in label.columns]\n",
        "data = pd.concat([data, label], axis=1)\n",
        "\n",
        "data.drop(['label'], axis=1, inplace=True)"
      ],
      "metadata": {
        "id": "GKCdkdEWVxQc"
      },
      "execution_count": null,
      "outputs": []
    },
    {
      "cell_type": "code",
      "source": [
        "X = data[['sepal length (cm)', 'sepal width (cm)', 'petal length (cm)', 'petal width (cm)']]\n",
        "# Convert DataFrame into np array\n",
        "X = np.asarray(X)\n",
        "y = data[['label_setosa', 'label_versicolor', 'label_virginica']]\n",
        "# Convert DataFrame into np array\n",
        "y = np.asarray(y)"
      ],
      "metadata": {
        "id": "FVGCn5yhV1i4"
      },
      "execution_count": null,
      "outputs": []
    },
    {
      "cell_type": "code",
      "source": [
        "X_train, X_test, y_train, y_test = train_test_split(X,y,test_size=0.25)"
      ],
      "metadata": {
        "id": "72Ct2hD7WD5q"
      },
      "execution_count": null,
      "outputs": []
    },
    {
      "cell_type": "markdown",
      "source": [
        "sequential model summary"
      ],
      "metadata": {
        "id": "RqV-7s34WR2N"
      }
    },
    {
      "cell_type": "code",
      "source": [
        "from tensorflow.keras.models import Sequential\n",
        "from tensorflow.keras.layers import Dense\n",
        "\n"
      ],
      "metadata": {
        "id": "UkisGtZ-WIiZ"
      },
      "execution_count": null,
      "outputs": []
    },
    {
      "cell_type": "code",
      "source": [
        "model = Sequential()\n",
        "model.add(Dense(5, activation='relu', input_shape=(4,)))\n",
        "model.add(Dense(10, activation='relu'))\n",
        "model.add(Dense(3, activation='softmax'))\n",
        "model.summary()\n"
      ],
      "metadata": {
        "colab": {
          "base_uri": "https://localhost:8080/"
        },
        "id": "et2x61KWWPCR",
        "outputId": "2128dd1f-80b6-4d3e-e75d-b311b7d8b3eb"
      },
      "execution_count": null,
      "outputs": [
        {
          "output_type": "stream",
          "name": "stdout",
          "text": [
            "Model: \"sequential_3\"\n",
            "_________________________________________________________________\n",
            " Layer (type)                Output Shape              Param #   \n",
            "=================================================================\n",
            " dense_17 (Dense)            (None, 5)                 25        \n",
            "                                                                 \n",
            " dense_18 (Dense)            (None, 10)                60        \n",
            "                                                                 \n",
            " dense_19 (Dense)            (None, 3)                 33        \n",
            "                                                                 \n",
            "=================================================================\n",
            "Total params: 118\n",
            "Trainable params: 118\n",
            "Non-trainable params: 0\n",
            "_________________________________________________________________\n"
          ]
        }
      ]
    },
    {
      "cell_type": "code",
      "source": [
        "model.compile(optimizer='rmsprop',loss='categorical_crossentropy',metrics=['accuracy'])"
      ],
      "metadata": {
        "id": "q1UymUNzWVFG"
      },
      "execution_count": null,
      "outputs": []
    },
    {
      "cell_type": "code",
      "source": [
        "history = model.fit(X_train, y_train,\n",
        "                    batch_size= 64,\n",
        "                    epochs= 30,\n",
        "                    validation_split=0.2\n",
        "                   )"
      ],
      "metadata": {
        "colab": {
          "base_uri": "https://localhost:8080/"
        },
        "id": "OzOh3dW3Wg63",
        "outputId": "f36dc56f-312d-4909-b4f9-d55dbc2d7261"
      },
      "execution_count": null,
      "outputs": [
        {
          "output_type": "stream",
          "name": "stdout",
          "text": [
            "Epoch 1/30\n",
            "2/2 [==============================] - 2s 430ms/step - loss: 1.3443 - accuracy: 0.1011 - val_loss: 1.2532 - val_accuracy: 0.1739\n",
            "Epoch 2/30\n",
            "2/2 [==============================] - 0s 87ms/step - loss: 1.3044 - accuracy: 0.1011 - val_loss: 1.2344 - val_accuracy: 0.1739\n",
            "Epoch 3/30\n",
            "2/2 [==============================] - 0s 93ms/step - loss: 1.2796 - accuracy: 0.0787 - val_loss: 1.2222 - val_accuracy: 0.1304\n",
            "Epoch 4/30\n",
            "2/2 [==============================] - 0s 131ms/step - loss: 1.2641 - accuracy: 0.0674 - val_loss: 1.2141 - val_accuracy: 0.0870\n",
            "Epoch 5/30\n",
            "2/2 [==============================] - 0s 90ms/step - loss: 1.2518 - accuracy: 0.0899 - val_loss: 1.2064 - val_accuracy: 0.0870\n",
            "Epoch 6/30\n",
            "2/2 [==============================] - 0s 102ms/step - loss: 1.2420 - accuracy: 0.0787 - val_loss: 1.2008 - val_accuracy: 0.0870\n",
            "Epoch 7/30\n",
            "2/2 [==============================] - 0s 88ms/step - loss: 1.2319 - accuracy: 0.0899 - val_loss: 1.1950 - val_accuracy: 0.0870\n",
            "Epoch 8/30\n",
            "2/2 [==============================] - 0s 34ms/step - loss: 1.2233 - accuracy: 0.0899 - val_loss: 1.1899 - val_accuracy: 0.1304\n",
            "Epoch 9/30\n",
            "2/2 [==============================] - 0s 80ms/step - loss: 1.2148 - accuracy: 0.0899 - val_loss: 1.1850 - val_accuracy: 0.1304\n",
            "Epoch 10/30\n",
            "2/2 [==============================] - 0s 106ms/step - loss: 1.2062 - accuracy: 0.0899 - val_loss: 1.1803 - val_accuracy: 0.1304\n",
            "Epoch 11/30\n",
            "2/2 [==============================] - 0s 101ms/step - loss: 1.1990 - accuracy: 0.0899 - val_loss: 1.1767 - val_accuracy: 0.1304\n",
            "Epoch 12/30\n",
            "2/2 [==============================] - 0s 74ms/step - loss: 1.1925 - accuracy: 0.1124 - val_loss: 1.1735 - val_accuracy: 0.1304\n",
            "Epoch 13/30\n",
            "2/2 [==============================] - 0s 60ms/step - loss: 1.1867 - accuracy: 0.1798 - val_loss: 1.1702 - val_accuracy: 0.1304\n",
            "Epoch 14/30\n",
            "2/2 [==============================] - 0s 115ms/step - loss: 1.1816 - accuracy: 0.1798 - val_loss: 1.1665 - val_accuracy: 0.1304\n",
            "Epoch 15/30\n",
            "2/2 [==============================] - 0s 88ms/step - loss: 1.1761 - accuracy: 0.1910 - val_loss: 1.1630 - val_accuracy: 0.1304\n",
            "Epoch 16/30\n",
            "2/2 [==============================] - 0s 98ms/step - loss: 1.1711 - accuracy: 0.1910 - val_loss: 1.1597 - val_accuracy: 0.1304\n",
            "Epoch 17/30\n",
            "2/2 [==============================] - 0s 69ms/step - loss: 1.1659 - accuracy: 0.2022 - val_loss: 1.1565 - val_accuracy: 0.1739\n",
            "Epoch 18/30\n",
            "2/2 [==============================] - 0s 78ms/step - loss: 1.1607 - accuracy: 0.2247 - val_loss: 1.1531 - val_accuracy: 0.1304\n",
            "Epoch 19/30\n",
            "2/2 [==============================] - 0s 108ms/step - loss: 1.1570 - accuracy: 0.2135 - val_loss: 1.1503 - val_accuracy: 0.1304\n",
            "Epoch 20/30\n",
            "2/2 [==============================] - 0s 73ms/step - loss: 1.1541 - accuracy: 0.2135 - val_loss: 1.1479 - val_accuracy: 0.2174\n",
            "Epoch 21/30\n",
            "2/2 [==============================] - 0s 45ms/step - loss: 1.1506 - accuracy: 0.2247 - val_loss: 1.1455 - val_accuracy: 0.2174\n",
            "Epoch 22/30\n",
            "2/2 [==============================] - 0s 74ms/step - loss: 1.1478 - accuracy: 0.2247 - val_loss: 1.1433 - val_accuracy: 0.2174\n",
            "Epoch 23/30\n",
            "2/2 [==============================] - 0s 76ms/step - loss: 1.1455 - accuracy: 0.2360 - val_loss: 1.1411 - val_accuracy: 0.2609\n",
            "Epoch 24/30\n",
            "2/2 [==============================] - 0s 79ms/step - loss: 1.1419 - accuracy: 0.2472 - val_loss: 1.1388 - val_accuracy: 0.2609\n",
            "Epoch 25/30\n",
            "2/2 [==============================] - 0s 60ms/step - loss: 1.1397 - accuracy: 0.2472 - val_loss: 1.1365 - val_accuracy: 0.2174\n",
            "Epoch 26/30\n",
            "2/2 [==============================] - 0s 41ms/step - loss: 1.1373 - accuracy: 0.2360 - val_loss: 1.1345 - val_accuracy: 0.2609\n",
            "Epoch 27/30\n",
            "2/2 [==============================] - 0s 52ms/step - loss: 1.1354 - accuracy: 0.2247 - val_loss: 1.1322 - val_accuracy: 0.2174\n",
            "Epoch 28/30\n",
            "2/2 [==============================] - 0s 43ms/step - loss: 1.1332 - accuracy: 0.2360 - val_loss: 1.1305 - val_accuracy: 0.2174\n",
            "Epoch 29/30\n",
            "2/2 [==============================] - 0s 81ms/step - loss: 1.1311 - accuracy: 0.2360 - val_loss: 1.1287 - val_accuracy: 0.1739\n",
            "Epoch 30/30\n",
            "2/2 [==============================] - 0s 62ms/step - loss: 1.1292 - accuracy: 0.3034 - val_loss: 1.1266 - val_accuracy: 0.2174\n"
          ]
        }
      ]
    },
    {
      "cell_type": "markdown",
      "source": [
        "loss and accuracy of model"
      ],
      "metadata": {
        "id": "fFrhdGTwWxjs"
      }
    },
    {
      "cell_type": "code",
      "source": [
        "model.evaluate(x = X_test,y = y_test)\n"
      ],
      "metadata": {
        "colab": {
          "base_uri": "https://localhost:8080/"
        },
        "id": "a5pVIHhUWm2v",
        "outputId": "b87c3f25-f5cc-4b53-d222-de170b9ddf4c"
      },
      "execution_count": null,
      "outputs": [
        {
          "output_type": "stream",
          "name": "stdout",
          "text": [
            "2/2 [==============================] - 0s 6ms/step - loss: 1.1585 - accuracy: 0.2368\n"
          ]
        },
        {
          "output_type": "execute_result",
          "data": {
            "text/plain": [
              "[1.1585173606872559, 0.2368421107530594]"
            ]
          },
          "metadata": {},
          "execution_count": 54
        }
      ]
    },
    {
      "cell_type": "markdown",
      "source": [
        "model evaluation using metrics plot"
      ],
      "metadata": {
        "id": "aolG284jW0lv"
      }
    },
    {
      "cell_type": "code",
      "source": [
        "%matplotlib inline\n",
        "%config InlineBackend.figure_format = 'svg'\n",
        "def plot_metric(history, metric):\n",
        "    train_metrics = history.history[metric]\n",
        "    val_metrics = history.history['val_'+metric]\n",
        "    epochs = range(1, len(train_metrics) + 1)\n",
        "    plt.plot(epochs, train_metrics, 'bo--')\n",
        "    plt.plot(epochs, val_metrics, 'ro-')\n",
        "    plt.title('Training and validation '+ metric)\n",
        "    plt.xlabel(\"Epochs\")\n",
        "    plt.ylabel(metric)\n",
        "    plt.legend([\"train_\"+metric, 'val_'+metric])\n",
        "    plt.show()\n",
        "plot_metric(history,'loss')"
      ],
      "metadata": {
        "colab": {
          "base_uri": "https://localhost:8080/",
          "height": 391
        },
        "id": "uAriaLl4WqSY",
        "outputId": "d90c6c08-ba8c-4533-c3b8-c1ae9e7bdbda"
      },
      "execution_count": null,
      "outputs": [
        {
          "output_type": "display_data",
          "data": {
            "text/plain": [
              "<Figure size 432x288 with 1 Axes>"
            ],
            "image/svg+xml": "<?xml version=\"1.0\" encoding=\"utf-8\" standalone=\"no\"?>\n<!DOCTYPE svg PUBLIC \"-//W3C//DTD SVG 1.1//EN\"\n  \"http://www.w3.org/Graphics/SVG/1.1/DTD/svg11.dtd\">\n<!-- Created with matplotlib (https://matplotlib.org/) -->\n<svg height=\"277.314375pt\" version=\"1.1\" viewBox=\"0 0 392.14375 277.314375\" width=\"392.14375pt\" xmlns=\"http://www.w3.org/2000/svg\" xmlns:xlink=\"http://www.w3.org/1999/xlink\">\n <defs>\n  <style type=\"text/css\">\n*{stroke-linecap:butt;stroke-linejoin:round;}\n  </style>\n </defs>\n <g id=\"figure_1\">\n  <g id=\"patch_1\">\n   <path d=\"M 0 277.314375 \nL 392.14375 277.314375 \nL 392.14375 0 \nL 0 0 \nz\n\" style=\"fill:none;\"/>\n  </g>\n  <g id=\"axes_1\">\n   <g id=\"patch_2\">\n    <path d=\"M 50.14375 239.758125 \nL 384.94375 239.758125 \nL 384.94375 22.318125 \nL 50.14375 22.318125 \nz\n\" style=\"fill:#ffffff;\"/>\n   </g>\n   <g id=\"matplotlib.axis_1\">\n    <g id=\"xtick_1\">\n     <g id=\"line2d_1\">\n      <defs>\n       <path d=\"M 0 0 \nL 0 3.5 \n\" id=\"m18dd625c72\" style=\"stroke:#000000;stroke-width:0.8;\"/>\n      </defs>\n      <g>\n       <use style=\"stroke:#000000;stroke-width:0.8;\" x=\"54.866634\" xlink:href=\"#m18dd625c72\" y=\"239.758125\"/>\n      </g>\n     </g>\n     <g id=\"text_1\">\n      <!-- 0 -->\n      <defs>\n       <path d=\"M 31.78125 66.40625 \nQ 24.171875 66.40625 20.328125 58.90625 \nQ 16.5 51.421875 16.5 36.375 \nQ 16.5 21.390625 20.328125 13.890625 \nQ 24.171875 6.390625 31.78125 6.390625 \nQ 39.453125 6.390625 43.28125 13.890625 \nQ 47.125 21.390625 47.125 36.375 \nQ 47.125 51.421875 43.28125 58.90625 \nQ 39.453125 66.40625 31.78125 66.40625 \nz\nM 31.78125 74.21875 \nQ 44.046875 74.21875 50.515625 64.515625 \nQ 56.984375 54.828125 56.984375 36.375 \nQ 56.984375 17.96875 50.515625 8.265625 \nQ 44.046875 -1.421875 31.78125 -1.421875 \nQ 19.53125 -1.421875 13.0625 8.265625 \nQ 6.59375 17.96875 6.59375 36.375 \nQ 6.59375 54.828125 13.0625 64.515625 \nQ 19.53125 74.21875 31.78125 74.21875 \nz\n\" id=\"DejaVuSans-48\"/>\n      </defs>\n      <g transform=\"translate(51.685384 254.356562)scale(0.1 -0.1)\">\n       <use xlink:href=\"#DejaVuSans-48\"/>\n      </g>\n     </g>\n    </g>\n    <g id=\"xtick_2\">\n     <g id=\"line2d_2\">\n      <g>\n       <use style=\"stroke:#000000;stroke-width:0.8;\" x=\"107.343123\" xlink:href=\"#m18dd625c72\" y=\"239.758125\"/>\n      </g>\n     </g>\n     <g id=\"text_2\">\n      <!-- 5 -->\n      <defs>\n       <path d=\"M 10.796875 72.90625 \nL 49.515625 72.90625 \nL 49.515625 64.59375 \nL 19.828125 64.59375 \nL 19.828125 46.734375 \nQ 21.96875 47.46875 24.109375 47.828125 \nQ 26.265625 48.1875 28.421875 48.1875 \nQ 40.625 48.1875 47.75 41.5 \nQ 54.890625 34.8125 54.890625 23.390625 \nQ 54.890625 11.625 47.5625 5.09375 \nQ 40.234375 -1.421875 26.90625 -1.421875 \nQ 22.3125 -1.421875 17.546875 -0.640625 \nQ 12.796875 0.140625 7.71875 1.703125 \nL 7.71875 11.625 \nQ 12.109375 9.234375 16.796875 8.0625 \nQ 21.484375 6.890625 26.703125 6.890625 \nQ 35.15625 6.890625 40.078125 11.328125 \nQ 45.015625 15.765625 45.015625 23.390625 \nQ 45.015625 31 40.078125 35.4375 \nQ 35.15625 39.890625 26.703125 39.890625 \nQ 22.75 39.890625 18.8125 39.015625 \nQ 14.890625 38.140625 10.796875 36.28125 \nz\n\" id=\"DejaVuSans-53\"/>\n      </defs>\n      <g transform=\"translate(104.161873 254.356562)scale(0.1 -0.1)\">\n       <use xlink:href=\"#DejaVuSans-53\"/>\n      </g>\n     </g>\n    </g>\n    <g id=\"xtick_3\">\n     <g id=\"line2d_3\">\n      <g>\n       <use style=\"stroke:#000000;stroke-width:0.8;\" x=\"159.819612\" xlink:href=\"#m18dd625c72\" y=\"239.758125\"/>\n      </g>\n     </g>\n     <g id=\"text_3\">\n      <!-- 10 -->\n      <defs>\n       <path d=\"M 12.40625 8.296875 \nL 28.515625 8.296875 \nL 28.515625 63.921875 \nL 10.984375 60.40625 \nL 10.984375 69.390625 \nL 28.421875 72.90625 \nL 38.28125 72.90625 \nL 38.28125 8.296875 \nL 54.390625 8.296875 \nL 54.390625 0 \nL 12.40625 0 \nz\n\" id=\"DejaVuSans-49\"/>\n      </defs>\n      <g transform=\"translate(153.457112 254.356562)scale(0.1 -0.1)\">\n       <use xlink:href=\"#DejaVuSans-49\"/>\n       <use x=\"63.623047\" xlink:href=\"#DejaVuSans-48\"/>\n      </g>\n     </g>\n    </g>\n    <g id=\"xtick_4\">\n     <g id=\"line2d_4\">\n      <g>\n       <use style=\"stroke:#000000;stroke-width:0.8;\" x=\"212.296101\" xlink:href=\"#m18dd625c72\" y=\"239.758125\"/>\n      </g>\n     </g>\n     <g id=\"text_4\">\n      <!-- 15 -->\n      <g transform=\"translate(205.933601 254.356562)scale(0.1 -0.1)\">\n       <use xlink:href=\"#DejaVuSans-49\"/>\n       <use x=\"63.623047\" xlink:href=\"#DejaVuSans-53\"/>\n      </g>\n     </g>\n    </g>\n    <g id=\"xtick_5\">\n     <g id=\"line2d_5\">\n      <g>\n       <use style=\"stroke:#000000;stroke-width:0.8;\" x=\"264.77259\" xlink:href=\"#m18dd625c72\" y=\"239.758125\"/>\n      </g>\n     </g>\n     <g id=\"text_5\">\n      <!-- 20 -->\n      <defs>\n       <path d=\"M 19.1875 8.296875 \nL 53.609375 8.296875 \nL 53.609375 0 \nL 7.328125 0 \nL 7.328125 8.296875 \nQ 12.9375 14.109375 22.625 23.890625 \nQ 32.328125 33.6875 34.8125 36.53125 \nQ 39.546875 41.84375 41.421875 45.53125 \nQ 43.3125 49.21875 43.3125 52.78125 \nQ 43.3125 58.59375 39.234375 62.25 \nQ 35.15625 65.921875 28.609375 65.921875 \nQ 23.96875 65.921875 18.8125 64.3125 \nQ 13.671875 62.703125 7.8125 59.421875 \nL 7.8125 69.390625 \nQ 13.765625 71.78125 18.9375 73 \nQ 24.125 74.21875 28.421875 74.21875 \nQ 39.75 74.21875 46.484375 68.546875 \nQ 53.21875 62.890625 53.21875 53.421875 \nQ 53.21875 48.921875 51.53125 44.890625 \nQ 49.859375 40.875 45.40625 35.40625 \nQ 44.1875 33.984375 37.640625 27.21875 \nQ 31.109375 20.453125 19.1875 8.296875 \nz\n\" id=\"DejaVuSans-50\"/>\n      </defs>\n      <g transform=\"translate(258.41009 254.356562)scale(0.1 -0.1)\">\n       <use xlink:href=\"#DejaVuSans-50\"/>\n       <use x=\"63.623047\" xlink:href=\"#DejaVuSans-48\"/>\n      </g>\n     </g>\n    </g>\n    <g id=\"xtick_6\">\n     <g id=\"line2d_6\">\n      <g>\n       <use style=\"stroke:#000000;stroke-width:0.8;\" x=\"317.249079\" xlink:href=\"#m18dd625c72\" y=\"239.758125\"/>\n      </g>\n     </g>\n     <g id=\"text_6\">\n      <!-- 25 -->\n      <g transform=\"translate(310.886579 254.356562)scale(0.1 -0.1)\">\n       <use xlink:href=\"#DejaVuSans-50\"/>\n       <use x=\"63.623047\" xlink:href=\"#DejaVuSans-53\"/>\n      </g>\n     </g>\n    </g>\n    <g id=\"xtick_7\">\n     <g id=\"line2d_7\">\n      <g>\n       <use style=\"stroke:#000000;stroke-width:0.8;\" x=\"369.725568\" xlink:href=\"#m18dd625c72\" y=\"239.758125\"/>\n      </g>\n     </g>\n     <g id=\"text_7\">\n      <!-- 30 -->\n      <defs>\n       <path d=\"M 40.578125 39.3125 \nQ 47.65625 37.796875 51.625 33 \nQ 55.609375 28.21875 55.609375 21.1875 \nQ 55.609375 10.40625 48.1875 4.484375 \nQ 40.765625 -1.421875 27.09375 -1.421875 \nQ 22.515625 -1.421875 17.65625 -0.515625 \nQ 12.796875 0.390625 7.625 2.203125 \nL 7.625 11.71875 \nQ 11.71875 9.328125 16.59375 8.109375 \nQ 21.484375 6.890625 26.8125 6.890625 \nQ 36.078125 6.890625 40.9375 10.546875 \nQ 45.796875 14.203125 45.796875 21.1875 \nQ 45.796875 27.640625 41.28125 31.265625 \nQ 36.765625 34.90625 28.71875 34.90625 \nL 20.21875 34.90625 \nL 20.21875 43.015625 \nL 29.109375 43.015625 \nQ 36.375 43.015625 40.234375 45.921875 \nQ 44.09375 48.828125 44.09375 54.296875 \nQ 44.09375 59.90625 40.109375 62.90625 \nQ 36.140625 65.921875 28.71875 65.921875 \nQ 24.65625 65.921875 20.015625 65.03125 \nQ 15.375 64.15625 9.8125 62.3125 \nL 9.8125 71.09375 \nQ 15.4375 72.65625 20.34375 73.4375 \nQ 25.25 74.21875 29.59375 74.21875 \nQ 40.828125 74.21875 47.359375 69.109375 \nQ 53.90625 64.015625 53.90625 55.328125 \nQ 53.90625 49.265625 50.4375 45.09375 \nQ 46.96875 40.921875 40.578125 39.3125 \nz\n\" id=\"DejaVuSans-51\"/>\n      </defs>\n      <g transform=\"translate(363.363068 254.356562)scale(0.1 -0.1)\">\n       <use xlink:href=\"#DejaVuSans-51\"/>\n       <use x=\"63.623047\" xlink:href=\"#DejaVuSans-48\"/>\n      </g>\n     </g>\n    </g>\n    <g id=\"text_8\">\n     <!-- Epochs -->\n     <defs>\n      <path d=\"M 9.8125 72.90625 \nL 55.90625 72.90625 \nL 55.90625 64.59375 \nL 19.671875 64.59375 \nL 19.671875 43.015625 \nL 54.390625 43.015625 \nL 54.390625 34.71875 \nL 19.671875 34.71875 \nL 19.671875 8.296875 \nL 56.78125 8.296875 \nL 56.78125 0 \nL 9.8125 0 \nz\n\" id=\"DejaVuSans-69\"/>\n      <path d=\"M 18.109375 8.203125 \nL 18.109375 -20.796875 \nL 9.078125 -20.796875 \nL 9.078125 54.6875 \nL 18.109375 54.6875 \nL 18.109375 46.390625 \nQ 20.953125 51.265625 25.265625 53.625 \nQ 29.59375 56 35.59375 56 \nQ 45.5625 56 51.78125 48.09375 \nQ 58.015625 40.1875 58.015625 27.296875 \nQ 58.015625 14.40625 51.78125 6.484375 \nQ 45.5625 -1.421875 35.59375 -1.421875 \nQ 29.59375 -1.421875 25.265625 0.953125 \nQ 20.953125 3.328125 18.109375 8.203125 \nz\nM 48.6875 27.296875 \nQ 48.6875 37.203125 44.609375 42.84375 \nQ 40.53125 48.484375 33.40625 48.484375 \nQ 26.265625 48.484375 22.1875 42.84375 \nQ 18.109375 37.203125 18.109375 27.296875 \nQ 18.109375 17.390625 22.1875 11.75 \nQ 26.265625 6.109375 33.40625 6.109375 \nQ 40.53125 6.109375 44.609375 11.75 \nQ 48.6875 17.390625 48.6875 27.296875 \nz\n\" id=\"DejaVuSans-112\"/>\n      <path d=\"M 30.609375 48.390625 \nQ 23.390625 48.390625 19.1875 42.75 \nQ 14.984375 37.109375 14.984375 27.296875 \nQ 14.984375 17.484375 19.15625 11.84375 \nQ 23.34375 6.203125 30.609375 6.203125 \nQ 37.796875 6.203125 41.984375 11.859375 \nQ 46.1875 17.53125 46.1875 27.296875 \nQ 46.1875 37.015625 41.984375 42.703125 \nQ 37.796875 48.390625 30.609375 48.390625 \nz\nM 30.609375 56 \nQ 42.328125 56 49.015625 48.375 \nQ 55.71875 40.765625 55.71875 27.296875 \nQ 55.71875 13.875 49.015625 6.21875 \nQ 42.328125 -1.421875 30.609375 -1.421875 \nQ 18.84375 -1.421875 12.171875 6.21875 \nQ 5.515625 13.875 5.515625 27.296875 \nQ 5.515625 40.765625 12.171875 48.375 \nQ 18.84375 56 30.609375 56 \nz\n\" id=\"DejaVuSans-111\"/>\n      <path d=\"M 48.78125 52.59375 \nL 48.78125 44.1875 \nQ 44.96875 46.296875 41.140625 47.34375 \nQ 37.3125 48.390625 33.40625 48.390625 \nQ 24.65625 48.390625 19.8125 42.84375 \nQ 14.984375 37.3125 14.984375 27.296875 \nQ 14.984375 17.28125 19.8125 11.734375 \nQ 24.65625 6.203125 33.40625 6.203125 \nQ 37.3125 6.203125 41.140625 7.25 \nQ 44.96875 8.296875 48.78125 10.40625 \nL 48.78125 2.09375 \nQ 45.015625 0.34375 40.984375 -0.53125 \nQ 36.96875 -1.421875 32.421875 -1.421875 \nQ 20.0625 -1.421875 12.78125 6.34375 \nQ 5.515625 14.109375 5.515625 27.296875 \nQ 5.515625 40.671875 12.859375 48.328125 \nQ 20.21875 56 33.015625 56 \nQ 37.15625 56 41.109375 55.140625 \nQ 45.0625 54.296875 48.78125 52.59375 \nz\n\" id=\"DejaVuSans-99\"/>\n      <path d=\"M 54.890625 33.015625 \nL 54.890625 0 \nL 45.90625 0 \nL 45.90625 32.71875 \nQ 45.90625 40.484375 42.875 44.328125 \nQ 39.84375 48.1875 33.796875 48.1875 \nQ 26.515625 48.1875 22.3125 43.546875 \nQ 18.109375 38.921875 18.109375 30.90625 \nL 18.109375 0 \nL 9.078125 0 \nL 9.078125 75.984375 \nL 18.109375 75.984375 \nL 18.109375 46.1875 \nQ 21.34375 51.125 25.703125 53.5625 \nQ 30.078125 56 35.796875 56 \nQ 45.21875 56 50.046875 50.171875 \nQ 54.890625 44.34375 54.890625 33.015625 \nz\n\" id=\"DejaVuSans-104\"/>\n      <path d=\"M 44.28125 53.078125 \nL 44.28125 44.578125 \nQ 40.484375 46.53125 36.375 47.5 \nQ 32.28125 48.484375 27.875 48.484375 \nQ 21.1875 48.484375 17.84375 46.4375 \nQ 14.5 44.390625 14.5 40.28125 \nQ 14.5 37.15625 16.890625 35.375 \nQ 19.28125 33.59375 26.515625 31.984375 \nL 29.59375 31.296875 \nQ 39.15625 29.25 43.1875 25.515625 \nQ 47.21875 21.78125 47.21875 15.09375 \nQ 47.21875 7.46875 41.1875 3.015625 \nQ 35.15625 -1.421875 24.609375 -1.421875 \nQ 20.21875 -1.421875 15.453125 -0.5625 \nQ 10.6875 0.296875 5.421875 2 \nL 5.421875 11.28125 \nQ 10.40625 8.6875 15.234375 7.390625 \nQ 20.0625 6.109375 24.8125 6.109375 \nQ 31.15625 6.109375 34.5625 8.28125 \nQ 37.984375 10.453125 37.984375 14.40625 \nQ 37.984375 18.0625 35.515625 20.015625 \nQ 33.0625 21.96875 24.703125 23.78125 \nL 21.578125 24.515625 \nQ 13.234375 26.265625 9.515625 29.90625 \nQ 5.8125 33.546875 5.8125 39.890625 \nQ 5.8125 47.609375 11.28125 51.796875 \nQ 16.75 56 26.8125 56 \nQ 31.78125 56 36.171875 55.265625 \nQ 40.578125 54.546875 44.28125 53.078125 \nz\n\" id=\"DejaVuSans-115\"/>\n     </defs>\n     <g transform=\"translate(199.628125 268.034687)scale(0.1 -0.1)\">\n      <use xlink:href=\"#DejaVuSans-69\"/>\n      <use x=\"63.183594\" xlink:href=\"#DejaVuSans-112\"/>\n      <use x=\"126.660156\" xlink:href=\"#DejaVuSans-111\"/>\n      <use x=\"187.841797\" xlink:href=\"#DejaVuSans-99\"/>\n      <use x=\"242.822266\" xlink:href=\"#DejaVuSans-104\"/>\n      <use x=\"306.201172\" xlink:href=\"#DejaVuSans-115\"/>\n     </g>\n    </g>\n   </g>\n   <g id=\"matplotlib.axis_2\">\n    <g id=\"ytick_1\">\n     <g id=\"line2d_8\">\n      <defs>\n       <path d=\"M 0 0 \nL -3.5 0 \n\" id=\"mbcdddea1b4\" style=\"stroke:#000000;stroke-width:0.8;\"/>\n      </defs>\n      <g>\n       <use style=\"stroke:#000000;stroke-width:0.8;\" x=\"50.14375\" xlink:href=\"#mbcdddea1b4\" y=\"208.617772\"/>\n      </g>\n     </g>\n     <g id=\"text_9\">\n      <!-- 1.15 -->\n      <defs>\n       <path d=\"M 10.6875 12.40625 \nL 21 12.40625 \nL 21 0 \nL 10.6875 0 \nz\n\" id=\"DejaVuSans-46\"/>\n      </defs>\n      <g transform=\"translate(20.878125 212.416991)scale(0.1 -0.1)\">\n       <use xlink:href=\"#DejaVuSans-49\"/>\n       <use x=\"63.623047\" xlink:href=\"#DejaVuSans-46\"/>\n       <use x=\"95.410156\" xlink:href=\"#DejaVuSans-49\"/>\n       <use x=\"159.033203\" xlink:href=\"#DejaVuSans-53\"/>\n      </g>\n     </g>\n    </g>\n    <g id=\"ytick_2\">\n     <g id=\"line2d_9\">\n      <g>\n       <use style=\"stroke:#000000;stroke-width:0.8;\" x=\"50.14375\" xlink:href=\"#mbcdddea1b4\" y=\"163.213113\"/>\n      </g>\n     </g>\n     <g id=\"text_10\">\n      <!-- 1.20 -->\n      <g transform=\"translate(20.878125 167.012332)scale(0.1 -0.1)\">\n       <use xlink:href=\"#DejaVuSans-49\"/>\n       <use x=\"63.623047\" xlink:href=\"#DejaVuSans-46\"/>\n       <use x=\"95.410156\" xlink:href=\"#DejaVuSans-50\"/>\n       <use x=\"159.033203\" xlink:href=\"#DejaVuSans-48\"/>\n      </g>\n     </g>\n    </g>\n    <g id=\"ytick_3\">\n     <g id=\"line2d_10\">\n      <g>\n       <use style=\"stroke:#000000;stroke-width:0.8;\" x=\"50.14375\" xlink:href=\"#mbcdddea1b4\" y=\"117.808454\"/>\n      </g>\n     </g>\n     <g id=\"text_11\">\n      <!-- 1.25 -->\n      <g transform=\"translate(20.878125 121.607673)scale(0.1 -0.1)\">\n       <use xlink:href=\"#DejaVuSans-49\"/>\n       <use x=\"63.623047\" xlink:href=\"#DejaVuSans-46\"/>\n       <use x=\"95.410156\" xlink:href=\"#DejaVuSans-50\"/>\n       <use x=\"159.033203\" xlink:href=\"#DejaVuSans-53\"/>\n      </g>\n     </g>\n    </g>\n    <g id=\"ytick_4\">\n     <g id=\"line2d_11\">\n      <g>\n       <use style=\"stroke:#000000;stroke-width:0.8;\" x=\"50.14375\" xlink:href=\"#mbcdddea1b4\" y=\"72.403796\"/>\n      </g>\n     </g>\n     <g id=\"text_12\">\n      <!-- 1.30 -->\n      <g transform=\"translate(20.878125 76.203014)scale(0.1 -0.1)\">\n       <use xlink:href=\"#DejaVuSans-49\"/>\n       <use x=\"63.623047\" xlink:href=\"#DejaVuSans-46\"/>\n       <use x=\"95.410156\" xlink:href=\"#DejaVuSans-51\"/>\n       <use x=\"159.033203\" xlink:href=\"#DejaVuSans-48\"/>\n      </g>\n     </g>\n    </g>\n    <g id=\"ytick_5\">\n     <g id=\"line2d_12\">\n      <g>\n       <use style=\"stroke:#000000;stroke-width:0.8;\" x=\"50.14375\" xlink:href=\"#mbcdddea1b4\" y=\"26.999137\"/>\n      </g>\n     </g>\n     <g id=\"text_13\">\n      <!-- 1.35 -->\n      <g transform=\"translate(20.878125 30.798356)scale(0.1 -0.1)\">\n       <use xlink:href=\"#DejaVuSans-49\"/>\n       <use x=\"63.623047\" xlink:href=\"#DejaVuSans-46\"/>\n       <use x=\"95.410156\" xlink:href=\"#DejaVuSans-51\"/>\n       <use x=\"159.033203\" xlink:href=\"#DejaVuSans-53\"/>\n      </g>\n     </g>\n    </g>\n    <g id=\"text_14\">\n     <!-- loss -->\n     <defs>\n      <path d=\"M 9.421875 75.984375 \nL 18.40625 75.984375 \nL 18.40625 0 \nL 9.421875 0 \nz\n\" id=\"DejaVuSans-108\"/>\n     </defs>\n     <g transform=\"translate(14.798438 140.695937)rotate(-90)scale(0.1 -0.1)\">\n      <use xlink:href=\"#DejaVuSans-108\"/>\n      <use x=\"27.783203\" xlink:href=\"#DejaVuSans-111\"/>\n      <use x=\"88.964844\" xlink:href=\"#DejaVuSans-115\"/>\n      <use x=\"141.064453\" xlink:href=\"#DejaVuSans-115\"/>\n     </g>\n    </g>\n   </g>\n   <g id=\"line2d_13\">\n    <path clip-path=\"url(#p287497571e)\" d=\"M 65.361932 32.201761 \nL 75.85723 68.368378 \nL 86.352527 90.913827 \nL 96.847825 104.968224 \nL 107.343123 116.158135 \nL 117.838421 125.048425 \nL 128.333719 134.204584 \nL 138.829016 142.07318 \nL 149.324314 149.80148 \nL 159.819612 157.616707 \nL 170.31491 164.112437 \nL 180.810208 169.988201 \nL 191.305505 175.252876 \nL 201.800803 179.93136 \nL 212.296101 184.944672 \nL 222.791399 189.43144 \nL 233.286697 194.134606 \nL 243.781995 198.858881 \nL 254.277292 202.223497 \nL 264.77259 204.862275 \nL 275.267888 208.058882 \nL 285.763186 210.638338 \nL 296.258484 212.739099 \nL 306.753781 216.002173 \nL 317.249079 217.980932 \nL 327.744377 220.166563 \nL 338.239675 221.918749 \nL 348.734973 223.865032 \nL 359.23027 225.747662 \nL 369.725568 227.550402 \n\" style=\"fill:none;stroke:#0000ff;stroke-dasharray:5.55,2.4;stroke-dashoffset:0;stroke-width:1.5;\"/>\n    <defs>\n     <path d=\"M 0 3 \nC 0.795609 3 1.55874 2.683901 2.12132 2.12132 \nC 2.683901 1.55874 3 0.795609 3 0 \nC 3 -0.795609 2.683901 -1.55874 2.12132 -2.12132 \nC 1.55874 -2.683901 0.795609 -3 0 -3 \nC -0.795609 -3 -1.55874 -2.683901 -2.12132 -2.12132 \nC -2.683901 -1.55874 -3 -0.795609 -3 0 \nC -3 0.795609 -2.683901 1.55874 -2.12132 2.12132 \nC -1.55874 2.683901 -0.795609 3 0 3 \nz\n\" id=\"mfc5f4ad5ee\" style=\"stroke:#0000ff;\"/>\n    </defs>\n    <g clip-path=\"url(#p287497571e)\">\n     <use style=\"fill:#0000ff;stroke:#0000ff;\" x=\"65.361932\" xlink:href=\"#mfc5f4ad5ee\" y=\"32.201761\"/>\n     <use style=\"fill:#0000ff;stroke:#0000ff;\" x=\"75.85723\" xlink:href=\"#mfc5f4ad5ee\" y=\"68.368378\"/>\n     <use style=\"fill:#0000ff;stroke:#0000ff;\" x=\"86.352527\" xlink:href=\"#mfc5f4ad5ee\" y=\"90.913827\"/>\n     <use style=\"fill:#0000ff;stroke:#0000ff;\" x=\"96.847825\" xlink:href=\"#mfc5f4ad5ee\" y=\"104.968224\"/>\n     <use style=\"fill:#0000ff;stroke:#0000ff;\" x=\"107.343123\" xlink:href=\"#mfc5f4ad5ee\" y=\"116.158135\"/>\n     <use style=\"fill:#0000ff;stroke:#0000ff;\" x=\"117.838421\" xlink:href=\"#mfc5f4ad5ee\" y=\"125.048425\"/>\n     <use style=\"fill:#0000ff;stroke:#0000ff;\" x=\"128.333719\" xlink:href=\"#mfc5f4ad5ee\" y=\"134.204584\"/>\n     <use style=\"fill:#0000ff;stroke:#0000ff;\" x=\"138.829016\" xlink:href=\"#mfc5f4ad5ee\" y=\"142.07318\"/>\n     <use style=\"fill:#0000ff;stroke:#0000ff;\" x=\"149.324314\" xlink:href=\"#mfc5f4ad5ee\" y=\"149.80148\"/>\n     <use style=\"fill:#0000ff;stroke:#0000ff;\" x=\"159.819612\" xlink:href=\"#mfc5f4ad5ee\" y=\"157.616707\"/>\n     <use style=\"fill:#0000ff;stroke:#0000ff;\" x=\"170.31491\" xlink:href=\"#mfc5f4ad5ee\" y=\"164.112437\"/>\n     <use style=\"fill:#0000ff;stroke:#0000ff;\" x=\"180.810208\" xlink:href=\"#mfc5f4ad5ee\" y=\"169.988201\"/>\n     <use style=\"fill:#0000ff;stroke:#0000ff;\" x=\"191.305505\" xlink:href=\"#mfc5f4ad5ee\" y=\"175.252876\"/>\n     <use style=\"fill:#0000ff;stroke:#0000ff;\" x=\"201.800803\" xlink:href=\"#mfc5f4ad5ee\" y=\"179.93136\"/>\n     <use style=\"fill:#0000ff;stroke:#0000ff;\" x=\"212.296101\" xlink:href=\"#mfc5f4ad5ee\" y=\"184.944672\"/>\n     <use style=\"fill:#0000ff;stroke:#0000ff;\" x=\"222.791399\" xlink:href=\"#mfc5f4ad5ee\" y=\"189.43144\"/>\n     <use style=\"fill:#0000ff;stroke:#0000ff;\" x=\"233.286697\" xlink:href=\"#mfc5f4ad5ee\" y=\"194.134606\"/>\n     <use style=\"fill:#0000ff;stroke:#0000ff;\" x=\"243.781995\" xlink:href=\"#mfc5f4ad5ee\" y=\"198.858881\"/>\n     <use style=\"fill:#0000ff;stroke:#0000ff;\" x=\"254.277292\" xlink:href=\"#mfc5f4ad5ee\" y=\"202.223497\"/>\n     <use style=\"fill:#0000ff;stroke:#0000ff;\" x=\"264.77259\" xlink:href=\"#mfc5f4ad5ee\" y=\"204.862275\"/>\n     <use style=\"fill:#0000ff;stroke:#0000ff;\" x=\"275.267888\" xlink:href=\"#mfc5f4ad5ee\" y=\"208.058882\"/>\n     <use style=\"fill:#0000ff;stroke:#0000ff;\" x=\"285.763186\" xlink:href=\"#mfc5f4ad5ee\" y=\"210.638338\"/>\n     <use style=\"fill:#0000ff;stroke:#0000ff;\" x=\"296.258484\" xlink:href=\"#mfc5f4ad5ee\" y=\"212.739099\"/>\n     <use style=\"fill:#0000ff;stroke:#0000ff;\" x=\"306.753781\" xlink:href=\"#mfc5f4ad5ee\" y=\"216.002173\"/>\n     <use style=\"fill:#0000ff;stroke:#0000ff;\" x=\"317.249079\" xlink:href=\"#mfc5f4ad5ee\" y=\"217.980932\"/>\n     <use style=\"fill:#0000ff;stroke:#0000ff;\" x=\"327.744377\" xlink:href=\"#mfc5f4ad5ee\" y=\"220.166563\"/>\n     <use style=\"fill:#0000ff;stroke:#0000ff;\" x=\"338.239675\" xlink:href=\"#mfc5f4ad5ee\" y=\"221.918749\"/>\n     <use style=\"fill:#0000ff;stroke:#0000ff;\" x=\"348.734973\" xlink:href=\"#mfc5f4ad5ee\" y=\"223.865032\"/>\n     <use style=\"fill:#0000ff;stroke:#0000ff;\" x=\"359.23027\" xlink:href=\"#mfc5f4ad5ee\" y=\"225.747662\"/>\n     <use style=\"fill:#0000ff;stroke:#0000ff;\" x=\"369.725568\" xlink:href=\"#mfc5f4ad5ee\" y=\"227.550402\"/>\n    </g>\n   </g>\n   <g id=\"line2d_14\">\n    <path clip-path=\"url(#p287497571e)\" d=\"M 65.361932 114.928704 \nL 75.85723 131.946748 \nL 86.352527 143.087079 \nL 96.847825 150.404991 \nL 107.343123 157.380282 \nL 117.838421 162.528369 \nL 128.333719 167.772043 \nL 138.829016 172.368688 \nL 149.324314 176.860652 \nL 159.819612 181.146718 \nL 170.31491 184.331201 \nL 180.810208 187.263995 \nL 191.305505 190.311213 \nL 201.800803 193.627981 \nL 212.296101 196.831841 \nL 222.791399 199.83002 \nL 233.286697 202.718214 \nL 243.781995 205.797474 \nL 254.277292 208.33915 \nL 264.77259 210.482129 \nL 275.267888 212.679343 \nL 285.763186 214.724245 \nL 296.258484 216.691962 \nL 306.753781 218.828446 \nL 317.249079 220.86891 \nL 327.744377 222.674789 \nL 338.239675 224.780637 \nL 348.734973 226.282866 \nL 359.23027 227.992075 \nL 369.725568 229.874489 \n\" style=\"fill:none;stroke:#ff0000;stroke-linecap:square;stroke-width:1.5;\"/>\n    <defs>\n     <path d=\"M 0 3 \nC 0.795609 3 1.55874 2.683901 2.12132 2.12132 \nC 2.683901 1.55874 3 0.795609 3 0 \nC 3 -0.795609 2.683901 -1.55874 2.12132 -2.12132 \nC 1.55874 -2.683901 0.795609 -3 0 -3 \nC -0.795609 -3 -1.55874 -2.683901 -2.12132 -2.12132 \nC -2.683901 -1.55874 -3 -0.795609 -3 0 \nC -3 0.795609 -2.683901 1.55874 -2.12132 2.12132 \nC -1.55874 2.683901 -0.795609 3 0 3 \nz\n\" id=\"m83c50a46c3\" style=\"stroke:#ff0000;\"/>\n    </defs>\n    <g clip-path=\"url(#p287497571e)\">\n     <use style=\"fill:#ff0000;stroke:#ff0000;\" x=\"65.361932\" xlink:href=\"#m83c50a46c3\" y=\"114.928704\"/>\n     <use style=\"fill:#ff0000;stroke:#ff0000;\" x=\"75.85723\" xlink:href=\"#m83c50a46c3\" y=\"131.946748\"/>\n     <use style=\"fill:#ff0000;stroke:#ff0000;\" x=\"86.352527\" xlink:href=\"#m83c50a46c3\" y=\"143.087079\"/>\n     <use style=\"fill:#ff0000;stroke:#ff0000;\" x=\"96.847825\" xlink:href=\"#m83c50a46c3\" y=\"150.404991\"/>\n     <use style=\"fill:#ff0000;stroke:#ff0000;\" x=\"107.343123\" xlink:href=\"#m83c50a46c3\" y=\"157.380282\"/>\n     <use style=\"fill:#ff0000;stroke:#ff0000;\" x=\"117.838421\" xlink:href=\"#m83c50a46c3\" y=\"162.528369\"/>\n     <use style=\"fill:#ff0000;stroke:#ff0000;\" x=\"128.333719\" xlink:href=\"#m83c50a46c3\" y=\"167.772043\"/>\n     <use style=\"fill:#ff0000;stroke:#ff0000;\" x=\"138.829016\" xlink:href=\"#m83c50a46c3\" y=\"172.368688\"/>\n     <use style=\"fill:#ff0000;stroke:#ff0000;\" x=\"149.324314\" xlink:href=\"#m83c50a46c3\" y=\"176.860652\"/>\n     <use style=\"fill:#ff0000;stroke:#ff0000;\" x=\"159.819612\" xlink:href=\"#m83c50a46c3\" y=\"181.146718\"/>\n     <use style=\"fill:#ff0000;stroke:#ff0000;\" x=\"170.31491\" xlink:href=\"#m83c50a46c3\" y=\"184.331201\"/>\n     <use style=\"fill:#ff0000;stroke:#ff0000;\" x=\"180.810208\" xlink:href=\"#m83c50a46c3\" y=\"187.263995\"/>\n     <use style=\"fill:#ff0000;stroke:#ff0000;\" x=\"191.305505\" xlink:href=\"#m83c50a46c3\" y=\"190.311213\"/>\n     <use style=\"fill:#ff0000;stroke:#ff0000;\" x=\"201.800803\" xlink:href=\"#m83c50a46c3\" y=\"193.627981\"/>\n     <use style=\"fill:#ff0000;stroke:#ff0000;\" x=\"212.296101\" xlink:href=\"#m83c50a46c3\" y=\"196.831841\"/>\n     <use style=\"fill:#ff0000;stroke:#ff0000;\" x=\"222.791399\" xlink:href=\"#m83c50a46c3\" y=\"199.83002\"/>\n     <use style=\"fill:#ff0000;stroke:#ff0000;\" x=\"233.286697\" xlink:href=\"#m83c50a46c3\" y=\"202.718214\"/>\n     <use style=\"fill:#ff0000;stroke:#ff0000;\" x=\"243.781995\" xlink:href=\"#m83c50a46c3\" y=\"205.797474\"/>\n     <use style=\"fill:#ff0000;stroke:#ff0000;\" x=\"254.277292\" xlink:href=\"#m83c50a46c3\" y=\"208.33915\"/>\n     <use style=\"fill:#ff0000;stroke:#ff0000;\" x=\"264.77259\" xlink:href=\"#m83c50a46c3\" y=\"210.482129\"/>\n     <use style=\"fill:#ff0000;stroke:#ff0000;\" x=\"275.267888\" xlink:href=\"#m83c50a46c3\" y=\"212.679343\"/>\n     <use style=\"fill:#ff0000;stroke:#ff0000;\" x=\"285.763186\" xlink:href=\"#m83c50a46c3\" y=\"214.724245\"/>\n     <use style=\"fill:#ff0000;stroke:#ff0000;\" x=\"296.258484\" xlink:href=\"#m83c50a46c3\" y=\"216.691962\"/>\n     <use style=\"fill:#ff0000;stroke:#ff0000;\" x=\"306.753781\" xlink:href=\"#m83c50a46c3\" y=\"218.828446\"/>\n     <use style=\"fill:#ff0000;stroke:#ff0000;\" x=\"317.249079\" xlink:href=\"#m83c50a46c3\" y=\"220.86891\"/>\n     <use style=\"fill:#ff0000;stroke:#ff0000;\" x=\"327.744377\" xlink:href=\"#m83c50a46c3\" y=\"222.674789\"/>\n     <use style=\"fill:#ff0000;stroke:#ff0000;\" x=\"338.239675\" xlink:href=\"#m83c50a46c3\" y=\"224.780637\"/>\n     <use style=\"fill:#ff0000;stroke:#ff0000;\" x=\"348.734973\" xlink:href=\"#m83c50a46c3\" y=\"226.282866\"/>\n     <use style=\"fill:#ff0000;stroke:#ff0000;\" x=\"359.23027\" xlink:href=\"#m83c50a46c3\" y=\"227.992075\"/>\n     <use style=\"fill:#ff0000;stroke:#ff0000;\" x=\"369.725568\" xlink:href=\"#m83c50a46c3\" y=\"229.874489\"/>\n    </g>\n   </g>\n   <g id=\"patch_3\">\n    <path d=\"M 50.14375 239.758125 \nL 50.14375 22.318125 \n\" style=\"fill:none;stroke:#000000;stroke-linecap:square;stroke-linejoin:miter;stroke-width:0.8;\"/>\n   </g>\n   <g id=\"patch_4\">\n    <path d=\"M 384.94375 239.758125 \nL 384.94375 22.318125 \n\" style=\"fill:none;stroke:#000000;stroke-linecap:square;stroke-linejoin:miter;stroke-width:0.8;\"/>\n   </g>\n   <g id=\"patch_5\">\n    <path d=\"M 50.14375 239.758125 \nL 384.94375 239.758125 \n\" style=\"fill:none;stroke:#000000;stroke-linecap:square;stroke-linejoin:miter;stroke-width:0.8;\"/>\n   </g>\n   <g id=\"patch_6\">\n    <path d=\"M 50.14375 22.318125 \nL 384.94375 22.318125 \n\" style=\"fill:none;stroke:#000000;stroke-linecap:square;stroke-linejoin:miter;stroke-width:0.8;\"/>\n   </g>\n   <g id=\"text_15\">\n    <!-- Training and validation loss -->\n    <defs>\n     <path d=\"M -0.296875 72.90625 \nL 61.375 72.90625 \nL 61.375 64.59375 \nL 35.5 64.59375 \nL 35.5 0 \nL 25.59375 0 \nL 25.59375 64.59375 \nL -0.296875 64.59375 \nz\n\" id=\"DejaVuSans-84\"/>\n     <path d=\"M 41.109375 46.296875 \nQ 39.59375 47.171875 37.8125 47.578125 \nQ 36.03125 48 33.890625 48 \nQ 26.265625 48 22.1875 43.046875 \nQ 18.109375 38.09375 18.109375 28.8125 \nL 18.109375 0 \nL 9.078125 0 \nL 9.078125 54.6875 \nL 18.109375 54.6875 \nL 18.109375 46.1875 \nQ 20.953125 51.171875 25.484375 53.578125 \nQ 30.03125 56 36.53125 56 \nQ 37.453125 56 38.578125 55.875 \nQ 39.703125 55.765625 41.0625 55.515625 \nz\n\" id=\"DejaVuSans-114\"/>\n     <path d=\"M 34.28125 27.484375 \nQ 23.390625 27.484375 19.1875 25 \nQ 14.984375 22.515625 14.984375 16.5 \nQ 14.984375 11.71875 18.140625 8.90625 \nQ 21.296875 6.109375 26.703125 6.109375 \nQ 34.1875 6.109375 38.703125 11.40625 \nQ 43.21875 16.703125 43.21875 25.484375 \nL 43.21875 27.484375 \nz\nM 52.203125 31.203125 \nL 52.203125 0 \nL 43.21875 0 \nL 43.21875 8.296875 \nQ 40.140625 3.328125 35.546875 0.953125 \nQ 30.953125 -1.421875 24.3125 -1.421875 \nQ 15.921875 -1.421875 10.953125 3.296875 \nQ 6 8.015625 6 15.921875 \nQ 6 25.140625 12.171875 29.828125 \nQ 18.359375 34.515625 30.609375 34.515625 \nL 43.21875 34.515625 \nL 43.21875 35.40625 \nQ 43.21875 41.609375 39.140625 45 \nQ 35.0625 48.390625 27.6875 48.390625 \nQ 23 48.390625 18.546875 47.265625 \nQ 14.109375 46.140625 10.015625 43.890625 \nL 10.015625 52.203125 \nQ 14.9375 54.109375 19.578125 55.046875 \nQ 24.21875 56 28.609375 56 \nQ 40.484375 56 46.34375 49.84375 \nQ 52.203125 43.703125 52.203125 31.203125 \nz\n\" id=\"DejaVuSans-97\"/>\n     <path d=\"M 9.421875 54.6875 \nL 18.40625 54.6875 \nL 18.40625 0 \nL 9.421875 0 \nz\nM 9.421875 75.984375 \nL 18.40625 75.984375 \nL 18.40625 64.59375 \nL 9.421875 64.59375 \nz\n\" id=\"DejaVuSans-105\"/>\n     <path d=\"M 54.890625 33.015625 \nL 54.890625 0 \nL 45.90625 0 \nL 45.90625 32.71875 \nQ 45.90625 40.484375 42.875 44.328125 \nQ 39.84375 48.1875 33.796875 48.1875 \nQ 26.515625 48.1875 22.3125 43.546875 \nQ 18.109375 38.921875 18.109375 30.90625 \nL 18.109375 0 \nL 9.078125 0 \nL 9.078125 54.6875 \nL 18.109375 54.6875 \nL 18.109375 46.1875 \nQ 21.34375 51.125 25.703125 53.5625 \nQ 30.078125 56 35.796875 56 \nQ 45.21875 56 50.046875 50.171875 \nQ 54.890625 44.34375 54.890625 33.015625 \nz\n\" id=\"DejaVuSans-110\"/>\n     <path d=\"M 45.40625 27.984375 \nQ 45.40625 37.75 41.375 43.109375 \nQ 37.359375 48.484375 30.078125 48.484375 \nQ 22.859375 48.484375 18.828125 43.109375 \nQ 14.796875 37.75 14.796875 27.984375 \nQ 14.796875 18.265625 18.828125 12.890625 \nQ 22.859375 7.515625 30.078125 7.515625 \nQ 37.359375 7.515625 41.375 12.890625 \nQ 45.40625 18.265625 45.40625 27.984375 \nz\nM 54.390625 6.78125 \nQ 54.390625 -7.171875 48.1875 -13.984375 \nQ 42 -20.796875 29.203125 -20.796875 \nQ 24.46875 -20.796875 20.265625 -20.09375 \nQ 16.0625 -19.390625 12.109375 -17.921875 \nL 12.109375 -9.1875 \nQ 16.0625 -11.328125 19.921875 -12.34375 \nQ 23.78125 -13.375 27.78125 -13.375 \nQ 36.625 -13.375 41.015625 -8.765625 \nQ 45.40625 -4.15625 45.40625 5.171875 \nL 45.40625 9.625 \nQ 42.625 4.78125 38.28125 2.390625 \nQ 33.9375 0 27.875 0 \nQ 17.828125 0 11.671875 7.65625 \nQ 5.515625 15.328125 5.515625 27.984375 \nQ 5.515625 40.671875 11.671875 48.328125 \nQ 17.828125 56 27.875 56 \nQ 33.9375 56 38.28125 53.609375 \nQ 42.625 51.21875 45.40625 46.390625 \nL 45.40625 54.6875 \nL 54.390625 54.6875 \nz\n\" id=\"DejaVuSans-103\"/>\n     <path id=\"DejaVuSans-32\"/>\n     <path d=\"M 45.40625 46.390625 \nL 45.40625 75.984375 \nL 54.390625 75.984375 \nL 54.390625 0 \nL 45.40625 0 \nL 45.40625 8.203125 \nQ 42.578125 3.328125 38.25 0.953125 \nQ 33.9375 -1.421875 27.875 -1.421875 \nQ 17.96875 -1.421875 11.734375 6.484375 \nQ 5.515625 14.40625 5.515625 27.296875 \nQ 5.515625 40.1875 11.734375 48.09375 \nQ 17.96875 56 27.875 56 \nQ 33.9375 56 38.25 53.625 \nQ 42.578125 51.265625 45.40625 46.390625 \nz\nM 14.796875 27.296875 \nQ 14.796875 17.390625 18.875 11.75 \nQ 22.953125 6.109375 30.078125 6.109375 \nQ 37.203125 6.109375 41.296875 11.75 \nQ 45.40625 17.390625 45.40625 27.296875 \nQ 45.40625 37.203125 41.296875 42.84375 \nQ 37.203125 48.484375 30.078125 48.484375 \nQ 22.953125 48.484375 18.875 42.84375 \nQ 14.796875 37.203125 14.796875 27.296875 \nz\n\" id=\"DejaVuSans-100\"/>\n     <path d=\"M 2.984375 54.6875 \nL 12.5 54.6875 \nL 29.59375 8.796875 \nL 46.6875 54.6875 \nL 56.203125 54.6875 \nL 35.6875 0 \nL 23.484375 0 \nz\n\" id=\"DejaVuSans-118\"/>\n     <path d=\"M 18.3125 70.21875 \nL 18.3125 54.6875 \nL 36.8125 54.6875 \nL 36.8125 47.703125 \nL 18.3125 47.703125 \nL 18.3125 18.015625 \nQ 18.3125 11.328125 20.140625 9.421875 \nQ 21.96875 7.515625 27.59375 7.515625 \nL 36.8125 7.515625 \nL 36.8125 0 \nL 27.59375 0 \nQ 17.1875 0 13.234375 3.875 \nQ 9.28125 7.765625 9.28125 18.015625 \nL 9.28125 47.703125 \nL 2.6875 47.703125 \nL 2.6875 54.6875 \nL 9.28125 54.6875 \nL 9.28125 70.21875 \nz\n\" id=\"DejaVuSans-116\"/>\n    </defs>\n    <g transform=\"translate(135.73375 16.318125)scale(0.12 -0.12)\">\n     <use xlink:href=\"#DejaVuSans-84\"/>\n     <use x=\"46.333984\" xlink:href=\"#DejaVuSans-114\"/>\n     <use x=\"87.447266\" xlink:href=\"#DejaVuSans-97\"/>\n     <use x=\"148.726562\" xlink:href=\"#DejaVuSans-105\"/>\n     <use x=\"176.509766\" xlink:href=\"#DejaVuSans-110\"/>\n     <use x=\"239.888672\" xlink:href=\"#DejaVuSans-105\"/>\n     <use x=\"267.671875\" xlink:href=\"#DejaVuSans-110\"/>\n     <use x=\"331.050781\" xlink:href=\"#DejaVuSans-103\"/>\n     <use x=\"394.527344\" xlink:href=\"#DejaVuSans-32\"/>\n     <use x=\"426.314453\" xlink:href=\"#DejaVuSans-97\"/>\n     <use x=\"487.59375\" xlink:href=\"#DejaVuSans-110\"/>\n     <use x=\"550.972656\" xlink:href=\"#DejaVuSans-100\"/>\n     <use x=\"614.449219\" xlink:href=\"#DejaVuSans-32\"/>\n     <use x=\"646.236328\" xlink:href=\"#DejaVuSans-118\"/>\n     <use x=\"705.416016\" xlink:href=\"#DejaVuSans-97\"/>\n     <use x=\"766.695312\" xlink:href=\"#DejaVuSans-108\"/>\n     <use x=\"794.478516\" xlink:href=\"#DejaVuSans-105\"/>\n     <use x=\"822.261719\" xlink:href=\"#DejaVuSans-100\"/>\n     <use x=\"885.738281\" xlink:href=\"#DejaVuSans-97\"/>\n     <use x=\"947.017578\" xlink:href=\"#DejaVuSans-116\"/>\n     <use x=\"986.226562\" xlink:href=\"#DejaVuSans-105\"/>\n     <use x=\"1014.009766\" xlink:href=\"#DejaVuSans-111\"/>\n     <use x=\"1075.191406\" xlink:href=\"#DejaVuSans-110\"/>\n     <use x=\"1138.570312\" xlink:href=\"#DejaVuSans-32\"/>\n     <use x=\"1170.357422\" xlink:href=\"#DejaVuSans-108\"/>\n     <use x=\"1198.140625\" xlink:href=\"#DejaVuSans-111\"/>\n     <use x=\"1259.322266\" xlink:href=\"#DejaVuSans-115\"/>\n     <use x=\"1311.421875\" xlink:href=\"#DejaVuSans-115\"/>\n    </g>\n   </g>\n   <g id=\"legend_1\">\n    <g id=\"patch_7\">\n     <path d=\"M 298.353125 60.230625 \nL 377.94375 60.230625 \nQ 379.94375 60.230625 379.94375 58.230625 \nL 379.94375 29.318125 \nQ 379.94375 27.318125 377.94375 27.318125 \nL 298.353125 27.318125 \nQ 296.353125 27.318125 296.353125 29.318125 \nL 296.353125 58.230625 \nQ 296.353125 60.230625 298.353125 60.230625 \nz\n\" style=\"fill:#ffffff;opacity:0.8;stroke:#cccccc;stroke-linejoin:miter;\"/>\n    </g>\n    <g id=\"line2d_15\">\n     <path d=\"M 300.353125 35.416562 \nL 320.353125 35.416562 \n\" style=\"fill:none;stroke:#0000ff;stroke-dasharray:5.55,2.4;stroke-dashoffset:0;stroke-width:1.5;\"/>\n    </g>\n    <g id=\"line2d_16\">\n     <g>\n      <use style=\"fill:#0000ff;stroke:#0000ff;\" x=\"310.353125\" xlink:href=\"#mfc5f4ad5ee\" y=\"35.416562\"/>\n     </g>\n    </g>\n    <g id=\"text_16\">\n     <!-- train_loss -->\n     <defs>\n      <path d=\"M 50.984375 -16.609375 \nL 50.984375 -23.578125 \nL -0.984375 -23.578125 \nL -0.984375 -16.609375 \nz\n\" id=\"DejaVuSans-95\"/>\n     </defs>\n     <g transform=\"translate(328.353125 38.916562)scale(0.1 -0.1)\">\n      <use xlink:href=\"#DejaVuSans-116\"/>\n      <use x=\"39.208984\" xlink:href=\"#DejaVuSans-114\"/>\n      <use x=\"80.322266\" xlink:href=\"#DejaVuSans-97\"/>\n      <use x=\"141.601562\" xlink:href=\"#DejaVuSans-105\"/>\n      <use x=\"169.384766\" xlink:href=\"#DejaVuSans-110\"/>\n      <use x=\"232.763672\" xlink:href=\"#DejaVuSans-95\"/>\n      <use x=\"282.763672\" xlink:href=\"#DejaVuSans-108\"/>\n      <use x=\"310.546875\" xlink:href=\"#DejaVuSans-111\"/>\n      <use x=\"371.728516\" xlink:href=\"#DejaVuSans-115\"/>\n      <use x=\"423.828125\" xlink:href=\"#DejaVuSans-115\"/>\n     </g>\n    </g>\n    <g id=\"line2d_17\">\n     <path d=\"M 300.353125 50.372812 \nL 320.353125 50.372812 \n\" style=\"fill:none;stroke:#ff0000;stroke-linecap:square;stroke-width:1.5;\"/>\n    </g>\n    <g id=\"line2d_18\">\n     <g>\n      <use style=\"fill:#ff0000;stroke:#ff0000;\" x=\"310.353125\" xlink:href=\"#m83c50a46c3\" y=\"50.372812\"/>\n     </g>\n    </g>\n    <g id=\"text_17\">\n     <!-- val_loss -->\n     <g transform=\"translate(328.353125 53.872812)scale(0.1 -0.1)\">\n      <use xlink:href=\"#DejaVuSans-118\"/>\n      <use x=\"59.179688\" xlink:href=\"#DejaVuSans-97\"/>\n      <use x=\"120.458984\" xlink:href=\"#DejaVuSans-108\"/>\n      <use x=\"148.242188\" xlink:href=\"#DejaVuSans-95\"/>\n      <use x=\"198.242188\" xlink:href=\"#DejaVuSans-108\"/>\n      <use x=\"226.025391\" xlink:href=\"#DejaVuSans-111\"/>\n      <use x=\"287.207031\" xlink:href=\"#DejaVuSans-115\"/>\n      <use x=\"339.306641\" xlink:href=\"#DejaVuSans-115\"/>\n     </g>\n    </g>\n   </g>\n  </g>\n </g>\n <defs>\n  <clipPath id=\"p287497571e\">\n   <rect height=\"217.44\" width=\"334.8\" x=\"50.14375\" y=\"22.318125\"/>\n  </clipPath>\n </defs>\n</svg>\n"
          },
          "metadata": {
            "needs_background": "light"
          }
        }
      ]
    },
    {
      "cell_type": "markdown",
      "source": [
        "Low level API using iris data\n",
        "\n",
        "This API gives more flexibility and it is way harder to utilize than a sequential model and functional API"
      ],
      "metadata": {
        "id": "rllCLxAeXonq"
      }
    },
    {
      "cell_type": "code",
      "source": [
        "from tensorflow.keras.models import Model\n",
        "from tensorflow.keras.layers import Dense\n",
        "class CustomModel(Model):\n",
        "    \n",
        "    def __init__(self, **kwargs):\n",
        "        super(CustomModel, self).__init__(**kwargs)\n",
        "        self.dense1 = Dense(5, activation='relu', )\n",
        "        self.dense2 = Dense(10, activation='relu')\n",
        "        self.dense3 = Dense(3, activation='softmax')\n",
        "        \n",
        "    def call(self, inputs):\n",
        "        x = self.dense1(inputs)\n",
        "        x = self.dense2(x)\n",
        "        return self.dense3(x)\n",
        "my_custom_model = CustomModel(name='my_custom_model')"
      ],
      "metadata": {
        "id": "9QyeHOSRXaQI"
      },
      "execution_count": null,
      "outputs": []
    },
    {
      "cell_type": "code",
      "source": [
        "my_custom_model.compile(optimizer='rmsprop',\n",
        "              loss='categorical_crossentropy',\n",
        "              metrics=['accuracy'])\n",
        "history = my_custom_model.fit(X_train, y_train,\n",
        "                    batch_size= 64,\n",
        "                    epochs= 30,\n",
        "                    validation_split=0.2)"
      ],
      "metadata": {
        "colab": {
          "base_uri": "https://localhost:8080/"
        },
        "id": "-BmFrsqIXvfr",
        "outputId": "55aea2d9-ce87-4d4f-bcbe-9fa58faf542a"
      },
      "execution_count": null,
      "outputs": [
        {
          "output_type": "stream",
          "name": "stdout",
          "text": [
            "Epoch 1/30\n",
            "2/2 [==============================] - 1s 170ms/step - loss: 1.4261 - accuracy: 0.3371 - val_loss: 1.3143 - val_accuracy: 0.3478\n",
            "Epoch 2/30\n",
            "2/2 [==============================] - 0s 25ms/step - loss: 1.3544 - accuracy: 0.3371 - val_loss: 1.2754 - val_accuracy: 0.3478\n",
            "Epoch 3/30\n",
            "2/2 [==============================] - 0s 25ms/step - loss: 1.3133 - accuracy: 0.3371 - val_loss: 1.2508 - val_accuracy: 0.3478\n",
            "Epoch 4/30\n",
            "2/2 [==============================] - 0s 29ms/step - loss: 1.2865 - accuracy: 0.3371 - val_loss: 1.2300 - val_accuracy: 0.3478\n",
            "Epoch 5/30\n",
            "2/2 [==============================] - 0s 25ms/step - loss: 1.2612 - accuracy: 0.3371 - val_loss: 1.2067 - val_accuracy: 0.3478\n",
            "Epoch 6/30\n",
            "2/2 [==============================] - 0s 26ms/step - loss: 1.2342 - accuracy: 0.3371 - val_loss: 1.1871 - val_accuracy: 0.3478\n",
            "Epoch 7/30\n",
            "2/2 [==============================] - 0s 27ms/step - loss: 1.2127 - accuracy: 0.3371 - val_loss: 1.1718 - val_accuracy: 0.3478\n",
            "Epoch 8/30\n",
            "2/2 [==============================] - 0s 28ms/step - loss: 1.1961 - accuracy: 0.3371 - val_loss: 1.1591 - val_accuracy: 0.3478\n",
            "Epoch 9/30\n",
            "2/2 [==============================] - 0s 25ms/step - loss: 1.1808 - accuracy: 0.3371 - val_loss: 1.1450 - val_accuracy: 0.3478\n",
            "Epoch 10/30\n",
            "2/2 [==============================] - 0s 26ms/step - loss: 1.1632 - accuracy: 0.3371 - val_loss: 1.1327 - val_accuracy: 0.3478\n",
            "Epoch 11/30\n",
            "2/2 [==============================] - 0s 30ms/step - loss: 1.1486 - accuracy: 0.3371 - val_loss: 1.1213 - val_accuracy: 0.3478\n",
            "Epoch 12/30\n",
            "2/2 [==============================] - 0s 26ms/step - loss: 1.1352 - accuracy: 0.3371 - val_loss: 1.1100 - val_accuracy: 0.3478\n",
            "Epoch 13/30\n",
            "2/2 [==============================] - 0s 25ms/step - loss: 1.1217 - accuracy: 0.3371 - val_loss: 1.1006 - val_accuracy: 0.3478\n",
            "Epoch 14/30\n",
            "2/2 [==============================] - 0s 24ms/step - loss: 1.1100 - accuracy: 0.3371 - val_loss: 1.0920 - val_accuracy: 0.3478\n",
            "Epoch 15/30\n",
            "2/2 [==============================] - 0s 26ms/step - loss: 1.0994 - accuracy: 0.3371 - val_loss: 1.0839 - val_accuracy: 0.3478\n",
            "Epoch 16/30\n",
            "2/2 [==============================] - 0s 24ms/step - loss: 1.0905 - accuracy: 0.3371 - val_loss: 1.0781 - val_accuracy: 0.3478\n",
            "Epoch 17/30\n",
            "2/2 [==============================] - 0s 27ms/step - loss: 1.0827 - accuracy: 0.3371 - val_loss: 1.0711 - val_accuracy: 0.3478\n",
            "Epoch 18/30\n",
            "2/2 [==============================] - 0s 41ms/step - loss: 1.0739 - accuracy: 0.3371 - val_loss: 1.0655 - val_accuracy: 0.3478\n",
            "Epoch 19/30\n",
            "2/2 [==============================] - 0s 31ms/step - loss: 1.0657 - accuracy: 0.3371 - val_loss: 1.0592 - val_accuracy: 0.3478\n",
            "Epoch 20/30\n",
            "2/2 [==============================] - 0s 28ms/step - loss: 1.0573 - accuracy: 0.3371 - val_loss: 1.0546 - val_accuracy: 0.3478\n",
            "Epoch 21/30\n",
            "2/2 [==============================] - 0s 27ms/step - loss: 1.0514 - accuracy: 0.3596 - val_loss: 1.0496 - val_accuracy: 0.3478\n",
            "Epoch 22/30\n",
            "2/2 [==============================] - 0s 26ms/step - loss: 1.0456 - accuracy: 0.3708 - val_loss: 1.0458 - val_accuracy: 0.3478\n",
            "Epoch 23/30\n",
            "2/2 [==============================] - 0s 24ms/step - loss: 1.0410 - accuracy: 0.3933 - val_loss: 1.0426 - val_accuracy: 0.3478\n",
            "Epoch 24/30\n",
            "2/2 [==============================] - 0s 26ms/step - loss: 1.0368 - accuracy: 0.4157 - val_loss: 1.0391 - val_accuracy: 0.3913\n",
            "Epoch 25/30\n",
            "2/2 [==============================] - 0s 29ms/step - loss: 1.0323 - accuracy: 0.4270 - val_loss: 1.0364 - val_accuracy: 0.3913\n",
            "Epoch 26/30\n",
            "2/2 [==============================] - 0s 31ms/step - loss: 1.0278 - accuracy: 0.4719 - val_loss: 1.0331 - val_accuracy: 0.4783\n",
            "Epoch 27/30\n",
            "2/2 [==============================] - 0s 26ms/step - loss: 1.0244 - accuracy: 0.5056 - val_loss: 1.0292 - val_accuracy: 0.5652\n",
            "Epoch 28/30\n",
            "2/2 [==============================] - 0s 25ms/step - loss: 1.0198 - accuracy: 0.5169 - val_loss: 1.0260 - val_accuracy: 0.5652\n",
            "Epoch 29/30\n",
            "2/2 [==============================] - 0s 27ms/step - loss: 1.0169 - accuracy: 0.5393 - val_loss: 1.0233 - val_accuracy: 0.6087\n",
            "Epoch 30/30\n",
            "2/2 [==============================] - 0s 27ms/step - loss: 1.0113 - accuracy: 0.5506 - val_loss: 1.0195 - val_accuracy: 0.6087\n"
          ]
        }
      ]
    },
    {
      "cell_type": "code",
      "source": [
        "plot_metric(history, 'loss') "
      ],
      "metadata": {
        "colab": {
          "base_uri": "https://localhost:8080/",
          "height": 391
        },
        "id": "WdPGuZUVYBn6",
        "outputId": "ecfb05d4-429b-4f16-9329-0fdd7c112475"
      },
      "execution_count": null,
      "outputs": [
        {
          "output_type": "display_data",
          "data": {
            "text/plain": [
              "<Figure size 432x288 with 1 Axes>"
            ],
            "image/svg+xml": "<?xml version=\"1.0\" encoding=\"utf-8\" standalone=\"no\"?>\n<!DOCTYPE svg PUBLIC \"-//W3C//DTD SVG 1.1//EN\"\n  \"http://www.w3.org/Graphics/SVG/1.1/DTD/svg11.dtd\">\n<!-- Created with matplotlib (https://matplotlib.org/) -->\n<svg height=\"277.314375pt\" version=\"1.1\" viewBox=\"0 0 385.78125 277.314375\" width=\"385.78125pt\" xmlns=\"http://www.w3.org/2000/svg\" xmlns:xlink=\"http://www.w3.org/1999/xlink\">\n <defs>\n  <style type=\"text/css\">\n*{stroke-linecap:butt;stroke-linejoin:round;}\n  </style>\n </defs>\n <g id=\"figure_1\">\n  <g id=\"patch_1\">\n   <path d=\"M 0 277.314375 \nL 385.78125 277.314375 \nL 385.78125 0 \nL 0 0 \nz\n\" style=\"fill:none;\"/>\n  </g>\n  <g id=\"axes_1\">\n   <g id=\"patch_2\">\n    <path d=\"M 43.78125 239.758125 \nL 378.58125 239.758125 \nL 378.58125 22.318125 \nL 43.78125 22.318125 \nz\n\" style=\"fill:#ffffff;\"/>\n   </g>\n   <g id=\"matplotlib.axis_1\">\n    <g id=\"xtick_1\">\n     <g id=\"line2d_1\">\n      <defs>\n       <path d=\"M 0 0 \nL 0 3.5 \n\" id=\"m3cdedbb8f6\" style=\"stroke:#000000;stroke-width:0.8;\"/>\n      </defs>\n      <g>\n       <use style=\"stroke:#000000;stroke-width:0.8;\" x=\"48.504134\" xlink:href=\"#m3cdedbb8f6\" y=\"239.758125\"/>\n      </g>\n     </g>\n     <g id=\"text_1\">\n      <!-- 0 -->\n      <defs>\n       <path d=\"M 31.78125 66.40625 \nQ 24.171875 66.40625 20.328125 58.90625 \nQ 16.5 51.421875 16.5 36.375 \nQ 16.5 21.390625 20.328125 13.890625 \nQ 24.171875 6.390625 31.78125 6.390625 \nQ 39.453125 6.390625 43.28125 13.890625 \nQ 47.125 21.390625 47.125 36.375 \nQ 47.125 51.421875 43.28125 58.90625 \nQ 39.453125 66.40625 31.78125 66.40625 \nz\nM 31.78125 74.21875 \nQ 44.046875 74.21875 50.515625 64.515625 \nQ 56.984375 54.828125 56.984375 36.375 \nQ 56.984375 17.96875 50.515625 8.265625 \nQ 44.046875 -1.421875 31.78125 -1.421875 \nQ 19.53125 -1.421875 13.0625 8.265625 \nQ 6.59375 17.96875 6.59375 36.375 \nQ 6.59375 54.828125 13.0625 64.515625 \nQ 19.53125 74.21875 31.78125 74.21875 \nz\n\" id=\"DejaVuSans-48\"/>\n      </defs>\n      <g transform=\"translate(45.322884 254.356562)scale(0.1 -0.1)\">\n       <use xlink:href=\"#DejaVuSans-48\"/>\n      </g>\n     </g>\n    </g>\n    <g id=\"xtick_2\">\n     <g id=\"line2d_2\">\n      <g>\n       <use style=\"stroke:#000000;stroke-width:0.8;\" x=\"100.980623\" xlink:href=\"#m3cdedbb8f6\" y=\"239.758125\"/>\n      </g>\n     </g>\n     <g id=\"text_2\">\n      <!-- 5 -->\n      <defs>\n       <path d=\"M 10.796875 72.90625 \nL 49.515625 72.90625 \nL 49.515625 64.59375 \nL 19.828125 64.59375 \nL 19.828125 46.734375 \nQ 21.96875 47.46875 24.109375 47.828125 \nQ 26.265625 48.1875 28.421875 48.1875 \nQ 40.625 48.1875 47.75 41.5 \nQ 54.890625 34.8125 54.890625 23.390625 \nQ 54.890625 11.625 47.5625 5.09375 \nQ 40.234375 -1.421875 26.90625 -1.421875 \nQ 22.3125 -1.421875 17.546875 -0.640625 \nQ 12.796875 0.140625 7.71875 1.703125 \nL 7.71875 11.625 \nQ 12.109375 9.234375 16.796875 8.0625 \nQ 21.484375 6.890625 26.703125 6.890625 \nQ 35.15625 6.890625 40.078125 11.328125 \nQ 45.015625 15.765625 45.015625 23.390625 \nQ 45.015625 31 40.078125 35.4375 \nQ 35.15625 39.890625 26.703125 39.890625 \nQ 22.75 39.890625 18.8125 39.015625 \nQ 14.890625 38.140625 10.796875 36.28125 \nz\n\" id=\"DejaVuSans-53\"/>\n      </defs>\n      <g transform=\"translate(97.799373 254.356562)scale(0.1 -0.1)\">\n       <use xlink:href=\"#DejaVuSans-53\"/>\n      </g>\n     </g>\n    </g>\n    <g id=\"xtick_3\">\n     <g id=\"line2d_3\">\n      <g>\n       <use style=\"stroke:#000000;stroke-width:0.8;\" x=\"153.457112\" xlink:href=\"#m3cdedbb8f6\" y=\"239.758125\"/>\n      </g>\n     </g>\n     <g id=\"text_3\">\n      <!-- 10 -->\n      <defs>\n       <path d=\"M 12.40625 8.296875 \nL 28.515625 8.296875 \nL 28.515625 63.921875 \nL 10.984375 60.40625 \nL 10.984375 69.390625 \nL 28.421875 72.90625 \nL 38.28125 72.90625 \nL 38.28125 8.296875 \nL 54.390625 8.296875 \nL 54.390625 0 \nL 12.40625 0 \nz\n\" id=\"DejaVuSans-49\"/>\n      </defs>\n      <g transform=\"translate(147.094612 254.356562)scale(0.1 -0.1)\">\n       <use xlink:href=\"#DejaVuSans-49\"/>\n       <use x=\"63.623047\" xlink:href=\"#DejaVuSans-48\"/>\n      </g>\n     </g>\n    </g>\n    <g id=\"xtick_4\">\n     <g id=\"line2d_4\">\n      <g>\n       <use style=\"stroke:#000000;stroke-width:0.8;\" x=\"205.933601\" xlink:href=\"#m3cdedbb8f6\" y=\"239.758125\"/>\n      </g>\n     </g>\n     <g id=\"text_4\">\n      <!-- 15 -->\n      <g transform=\"translate(199.571101 254.356562)scale(0.1 -0.1)\">\n       <use xlink:href=\"#DejaVuSans-49\"/>\n       <use x=\"63.623047\" xlink:href=\"#DejaVuSans-53\"/>\n      </g>\n     </g>\n    </g>\n    <g id=\"xtick_5\">\n     <g id=\"line2d_5\">\n      <g>\n       <use style=\"stroke:#000000;stroke-width:0.8;\" x=\"258.41009\" xlink:href=\"#m3cdedbb8f6\" y=\"239.758125\"/>\n      </g>\n     </g>\n     <g id=\"text_5\">\n      <!-- 20 -->\n      <defs>\n       <path d=\"M 19.1875 8.296875 \nL 53.609375 8.296875 \nL 53.609375 0 \nL 7.328125 0 \nL 7.328125 8.296875 \nQ 12.9375 14.109375 22.625 23.890625 \nQ 32.328125 33.6875 34.8125 36.53125 \nQ 39.546875 41.84375 41.421875 45.53125 \nQ 43.3125 49.21875 43.3125 52.78125 \nQ 43.3125 58.59375 39.234375 62.25 \nQ 35.15625 65.921875 28.609375 65.921875 \nQ 23.96875 65.921875 18.8125 64.3125 \nQ 13.671875 62.703125 7.8125 59.421875 \nL 7.8125 69.390625 \nQ 13.765625 71.78125 18.9375 73 \nQ 24.125 74.21875 28.421875 74.21875 \nQ 39.75 74.21875 46.484375 68.546875 \nQ 53.21875 62.890625 53.21875 53.421875 \nQ 53.21875 48.921875 51.53125 44.890625 \nQ 49.859375 40.875 45.40625 35.40625 \nQ 44.1875 33.984375 37.640625 27.21875 \nQ 31.109375 20.453125 19.1875 8.296875 \nz\n\" id=\"DejaVuSans-50\"/>\n      </defs>\n      <g transform=\"translate(252.04759 254.356562)scale(0.1 -0.1)\">\n       <use xlink:href=\"#DejaVuSans-50\"/>\n       <use x=\"63.623047\" xlink:href=\"#DejaVuSans-48\"/>\n      </g>\n     </g>\n    </g>\n    <g id=\"xtick_6\">\n     <g id=\"line2d_6\">\n      <g>\n       <use style=\"stroke:#000000;stroke-width:0.8;\" x=\"310.886579\" xlink:href=\"#m3cdedbb8f6\" y=\"239.758125\"/>\n      </g>\n     </g>\n     <g id=\"text_6\">\n      <!-- 25 -->\n      <g transform=\"translate(304.524079 254.356562)scale(0.1 -0.1)\">\n       <use xlink:href=\"#DejaVuSans-50\"/>\n       <use x=\"63.623047\" xlink:href=\"#DejaVuSans-53\"/>\n      </g>\n     </g>\n    </g>\n    <g id=\"xtick_7\">\n     <g id=\"line2d_7\">\n      <g>\n       <use style=\"stroke:#000000;stroke-width:0.8;\" x=\"363.363068\" xlink:href=\"#m3cdedbb8f6\" y=\"239.758125\"/>\n      </g>\n     </g>\n     <g id=\"text_7\">\n      <!-- 30 -->\n      <defs>\n       <path d=\"M 40.578125 39.3125 \nQ 47.65625 37.796875 51.625 33 \nQ 55.609375 28.21875 55.609375 21.1875 \nQ 55.609375 10.40625 48.1875 4.484375 \nQ 40.765625 -1.421875 27.09375 -1.421875 \nQ 22.515625 -1.421875 17.65625 -0.515625 \nQ 12.796875 0.390625 7.625 2.203125 \nL 7.625 11.71875 \nQ 11.71875 9.328125 16.59375 8.109375 \nQ 21.484375 6.890625 26.8125 6.890625 \nQ 36.078125 6.890625 40.9375 10.546875 \nQ 45.796875 14.203125 45.796875 21.1875 \nQ 45.796875 27.640625 41.28125 31.265625 \nQ 36.765625 34.90625 28.71875 34.90625 \nL 20.21875 34.90625 \nL 20.21875 43.015625 \nL 29.109375 43.015625 \nQ 36.375 43.015625 40.234375 45.921875 \nQ 44.09375 48.828125 44.09375 54.296875 \nQ 44.09375 59.90625 40.109375 62.90625 \nQ 36.140625 65.921875 28.71875 65.921875 \nQ 24.65625 65.921875 20.015625 65.03125 \nQ 15.375 64.15625 9.8125 62.3125 \nL 9.8125 71.09375 \nQ 15.4375 72.65625 20.34375 73.4375 \nQ 25.25 74.21875 29.59375 74.21875 \nQ 40.828125 74.21875 47.359375 69.109375 \nQ 53.90625 64.015625 53.90625 55.328125 \nQ 53.90625 49.265625 50.4375 45.09375 \nQ 46.96875 40.921875 40.578125 39.3125 \nz\n\" id=\"DejaVuSans-51\"/>\n      </defs>\n      <g transform=\"translate(357.000568 254.356562)scale(0.1 -0.1)\">\n       <use xlink:href=\"#DejaVuSans-51\"/>\n       <use x=\"63.623047\" xlink:href=\"#DejaVuSans-48\"/>\n      </g>\n     </g>\n    </g>\n    <g id=\"text_8\">\n     <!-- Epochs -->\n     <defs>\n      <path d=\"M 9.8125 72.90625 \nL 55.90625 72.90625 \nL 55.90625 64.59375 \nL 19.671875 64.59375 \nL 19.671875 43.015625 \nL 54.390625 43.015625 \nL 54.390625 34.71875 \nL 19.671875 34.71875 \nL 19.671875 8.296875 \nL 56.78125 8.296875 \nL 56.78125 0 \nL 9.8125 0 \nz\n\" id=\"DejaVuSans-69\"/>\n      <path d=\"M 18.109375 8.203125 \nL 18.109375 -20.796875 \nL 9.078125 -20.796875 \nL 9.078125 54.6875 \nL 18.109375 54.6875 \nL 18.109375 46.390625 \nQ 20.953125 51.265625 25.265625 53.625 \nQ 29.59375 56 35.59375 56 \nQ 45.5625 56 51.78125 48.09375 \nQ 58.015625 40.1875 58.015625 27.296875 \nQ 58.015625 14.40625 51.78125 6.484375 \nQ 45.5625 -1.421875 35.59375 -1.421875 \nQ 29.59375 -1.421875 25.265625 0.953125 \nQ 20.953125 3.328125 18.109375 8.203125 \nz\nM 48.6875 27.296875 \nQ 48.6875 37.203125 44.609375 42.84375 \nQ 40.53125 48.484375 33.40625 48.484375 \nQ 26.265625 48.484375 22.1875 42.84375 \nQ 18.109375 37.203125 18.109375 27.296875 \nQ 18.109375 17.390625 22.1875 11.75 \nQ 26.265625 6.109375 33.40625 6.109375 \nQ 40.53125 6.109375 44.609375 11.75 \nQ 48.6875 17.390625 48.6875 27.296875 \nz\n\" id=\"DejaVuSans-112\"/>\n      <path d=\"M 30.609375 48.390625 \nQ 23.390625 48.390625 19.1875 42.75 \nQ 14.984375 37.109375 14.984375 27.296875 \nQ 14.984375 17.484375 19.15625 11.84375 \nQ 23.34375 6.203125 30.609375 6.203125 \nQ 37.796875 6.203125 41.984375 11.859375 \nQ 46.1875 17.53125 46.1875 27.296875 \nQ 46.1875 37.015625 41.984375 42.703125 \nQ 37.796875 48.390625 30.609375 48.390625 \nz\nM 30.609375 56 \nQ 42.328125 56 49.015625 48.375 \nQ 55.71875 40.765625 55.71875 27.296875 \nQ 55.71875 13.875 49.015625 6.21875 \nQ 42.328125 -1.421875 30.609375 -1.421875 \nQ 18.84375 -1.421875 12.171875 6.21875 \nQ 5.515625 13.875 5.515625 27.296875 \nQ 5.515625 40.765625 12.171875 48.375 \nQ 18.84375 56 30.609375 56 \nz\n\" id=\"DejaVuSans-111\"/>\n      <path d=\"M 48.78125 52.59375 \nL 48.78125 44.1875 \nQ 44.96875 46.296875 41.140625 47.34375 \nQ 37.3125 48.390625 33.40625 48.390625 \nQ 24.65625 48.390625 19.8125 42.84375 \nQ 14.984375 37.3125 14.984375 27.296875 \nQ 14.984375 17.28125 19.8125 11.734375 \nQ 24.65625 6.203125 33.40625 6.203125 \nQ 37.3125 6.203125 41.140625 7.25 \nQ 44.96875 8.296875 48.78125 10.40625 \nL 48.78125 2.09375 \nQ 45.015625 0.34375 40.984375 -0.53125 \nQ 36.96875 -1.421875 32.421875 -1.421875 \nQ 20.0625 -1.421875 12.78125 6.34375 \nQ 5.515625 14.109375 5.515625 27.296875 \nQ 5.515625 40.671875 12.859375 48.328125 \nQ 20.21875 56 33.015625 56 \nQ 37.15625 56 41.109375 55.140625 \nQ 45.0625 54.296875 48.78125 52.59375 \nz\n\" id=\"DejaVuSans-99\"/>\n      <path d=\"M 54.890625 33.015625 \nL 54.890625 0 \nL 45.90625 0 \nL 45.90625 32.71875 \nQ 45.90625 40.484375 42.875 44.328125 \nQ 39.84375 48.1875 33.796875 48.1875 \nQ 26.515625 48.1875 22.3125 43.546875 \nQ 18.109375 38.921875 18.109375 30.90625 \nL 18.109375 0 \nL 9.078125 0 \nL 9.078125 75.984375 \nL 18.109375 75.984375 \nL 18.109375 46.1875 \nQ 21.34375 51.125 25.703125 53.5625 \nQ 30.078125 56 35.796875 56 \nQ 45.21875 56 50.046875 50.171875 \nQ 54.890625 44.34375 54.890625 33.015625 \nz\n\" id=\"DejaVuSans-104\"/>\n      <path d=\"M 44.28125 53.078125 \nL 44.28125 44.578125 \nQ 40.484375 46.53125 36.375 47.5 \nQ 32.28125 48.484375 27.875 48.484375 \nQ 21.1875 48.484375 17.84375 46.4375 \nQ 14.5 44.390625 14.5 40.28125 \nQ 14.5 37.15625 16.890625 35.375 \nQ 19.28125 33.59375 26.515625 31.984375 \nL 29.59375 31.296875 \nQ 39.15625 29.25 43.1875 25.515625 \nQ 47.21875 21.78125 47.21875 15.09375 \nQ 47.21875 7.46875 41.1875 3.015625 \nQ 35.15625 -1.421875 24.609375 -1.421875 \nQ 20.21875 -1.421875 15.453125 -0.5625 \nQ 10.6875 0.296875 5.421875 2 \nL 5.421875 11.28125 \nQ 10.40625 8.6875 15.234375 7.390625 \nQ 20.0625 6.109375 24.8125 6.109375 \nQ 31.15625 6.109375 34.5625 8.28125 \nQ 37.984375 10.453125 37.984375 14.40625 \nQ 37.984375 18.0625 35.515625 20.015625 \nQ 33.0625 21.96875 24.703125 23.78125 \nL 21.578125 24.515625 \nQ 13.234375 26.265625 9.515625 29.90625 \nQ 5.8125 33.546875 5.8125 39.890625 \nQ 5.8125 47.609375 11.28125 51.796875 \nQ 16.75 56 26.8125 56 \nQ 31.78125 56 36.171875 55.265625 \nQ 40.578125 54.546875 44.28125 53.078125 \nz\n\" id=\"DejaVuSans-115\"/>\n     </defs>\n     <g transform=\"translate(193.265625 268.034687)scale(0.1 -0.1)\">\n      <use xlink:href=\"#DejaVuSans-69\"/>\n      <use x=\"63.183594\" xlink:href=\"#DejaVuSans-112\"/>\n      <use x=\"126.660156\" xlink:href=\"#DejaVuSans-111\"/>\n      <use x=\"187.841797\" xlink:href=\"#DejaVuSans-99\"/>\n      <use x=\"242.822266\" xlink:href=\"#DejaVuSans-104\"/>\n      <use x=\"306.201172\" xlink:href=\"#DejaVuSans-115\"/>\n     </g>\n    </g>\n   </g>\n   <g id=\"matplotlib.axis_2\">\n    <g id=\"ytick_1\">\n     <g id=\"line2d_8\">\n      <defs>\n       <path d=\"M 0 0 \nL -3.5 0 \n\" id=\"md45c779303\" style=\"stroke:#000000;stroke-width:0.8;\"/>\n      </defs>\n      <g>\n       <use style=\"stroke:#000000;stroke-width:0.8;\" x=\"43.78125\" xlink:href=\"#md45c779303\" y=\"235.253794\"/>\n      </g>\n     </g>\n     <g id=\"text_9\">\n      <!-- 1.0 -->\n      <defs>\n       <path d=\"M 10.6875 12.40625 \nL 21 12.40625 \nL 21 0 \nL 10.6875 0 \nz\n\" id=\"DejaVuSans-46\"/>\n      </defs>\n      <g transform=\"translate(20.878125 239.053013)scale(0.1 -0.1)\">\n       <use xlink:href=\"#DejaVuSans-49\"/>\n       <use x=\"63.623047\" xlink:href=\"#DejaVuSans-46\"/>\n       <use x=\"95.410156\" xlink:href=\"#DejaVuSans-48\"/>\n      </g>\n     </g>\n    </g>\n    <g id=\"ytick_2\">\n     <g id=\"line2d_9\">\n      <g>\n       <use style=\"stroke:#000000;stroke-width:0.8;\" x=\"43.78125\" xlink:href=\"#md45c779303\" y=\"187.605451\"/>\n      </g>\n     </g>\n     <g id=\"text_10\">\n      <!-- 1.1 -->\n      <g transform=\"translate(20.878125 191.40467)scale(0.1 -0.1)\">\n       <use xlink:href=\"#DejaVuSans-49\"/>\n       <use x=\"63.623047\" xlink:href=\"#DejaVuSans-46\"/>\n       <use x=\"95.410156\" xlink:href=\"#DejaVuSans-49\"/>\n      </g>\n     </g>\n    </g>\n    <g id=\"ytick_3\">\n     <g id=\"line2d_10\">\n      <g>\n       <use style=\"stroke:#000000;stroke-width:0.8;\" x=\"43.78125\" xlink:href=\"#md45c779303\" y=\"139.957109\"/>\n      </g>\n     </g>\n     <g id=\"text_11\">\n      <!-- 1.2 -->\n      <g transform=\"translate(20.878125 143.756327)scale(0.1 -0.1)\">\n       <use xlink:href=\"#DejaVuSans-49\"/>\n       <use x=\"63.623047\" xlink:href=\"#DejaVuSans-46\"/>\n       <use x=\"95.410156\" xlink:href=\"#DejaVuSans-50\"/>\n      </g>\n     </g>\n    </g>\n    <g id=\"ytick_4\">\n     <g id=\"line2d_11\">\n      <g>\n       <use style=\"stroke:#000000;stroke-width:0.8;\" x=\"43.78125\" xlink:href=\"#md45c779303\" y=\"92.308766\"/>\n      </g>\n     </g>\n     <g id=\"text_12\">\n      <!-- 1.3 -->\n      <g transform=\"translate(20.878125 96.107984)scale(0.1 -0.1)\">\n       <use xlink:href=\"#DejaVuSans-49\"/>\n       <use x=\"63.623047\" xlink:href=\"#DejaVuSans-46\"/>\n       <use x=\"95.410156\" xlink:href=\"#DejaVuSans-51\"/>\n      </g>\n     </g>\n    </g>\n    <g id=\"ytick_5\">\n     <g id=\"line2d_12\">\n      <g>\n       <use style=\"stroke:#000000;stroke-width:0.8;\" x=\"43.78125\" xlink:href=\"#md45c779303\" y=\"44.660423\"/>\n      </g>\n     </g>\n     <g id=\"text_13\">\n      <!-- 1.4 -->\n      <defs>\n       <path d=\"M 37.796875 64.3125 \nL 12.890625 25.390625 \nL 37.796875 25.390625 \nz\nM 35.203125 72.90625 \nL 47.609375 72.90625 \nL 47.609375 25.390625 \nL 58.015625 25.390625 \nL 58.015625 17.1875 \nL 47.609375 17.1875 \nL 47.609375 0 \nL 37.796875 0 \nL 37.796875 17.1875 \nL 4.890625 17.1875 \nL 4.890625 26.703125 \nz\n\" id=\"DejaVuSans-52\"/>\n      </defs>\n      <g transform=\"translate(20.878125 48.459642)scale(0.1 -0.1)\">\n       <use xlink:href=\"#DejaVuSans-49\"/>\n       <use x=\"63.623047\" xlink:href=\"#DejaVuSans-46\"/>\n       <use x=\"95.410156\" xlink:href=\"#DejaVuSans-52\"/>\n      </g>\n     </g>\n    </g>\n    <g id=\"text_14\">\n     <!-- loss -->\n     <defs>\n      <path d=\"M 9.421875 75.984375 \nL 18.40625 75.984375 \nL 18.40625 0 \nL 9.421875 0 \nz\n\" id=\"DejaVuSans-108\"/>\n     </defs>\n     <g transform=\"translate(14.798438 140.695937)rotate(-90)scale(0.1 -0.1)\">\n      <use xlink:href=\"#DejaVuSans-108\"/>\n      <use x=\"27.783203\" xlink:href=\"#DejaVuSans-111\"/>\n      <use x=\"88.964844\" xlink:href=\"#DejaVuSans-115\"/>\n      <use x=\"141.064453\" xlink:href=\"#DejaVuSans-115\"/>\n     </g>\n    </g>\n   </g>\n   <g id=\"line2d_13\">\n    <path clip-path=\"url(#pe72108e39f)\" d=\"M 58.999432 32.201761 \nL 69.49473 66.385209 \nL 79.990027 85.969939 \nL 90.485325 98.75272 \nL 100.980623 110.810944 \nL 111.475921 123.675746 \nL 121.971219 133.902129 \nL 132.466516 141.810283 \nL 142.961814 149.092374 \nL 153.457112 157.49913 \nL 163.95241 164.453989 \nL 174.447708 170.843504 \nL 184.943005 177.28914 \nL 195.438303 182.857537 \nL 205.933601 187.8711 \nL 216.428899 192.133352 \nL 226.924197 195.856958 \nL 237.419495 200.060421 \nL 247.914792 203.962837 \nL 258.41009 207.94966 \nL 268.905388 210.778419 \nL 279.400686 213.547423 \nL 289.895984 215.722684 \nL 300.391281 217.708399 \nL 310.886579 219.844637 \nL 321.381877 221.984681 \nL 331.877175 223.634076 \nL 342.372473 225.831489 \nL 352.86777 227.189778 \nL 363.363068 229.874489 \n\" style=\"fill:none;stroke:#0000ff;stroke-dasharray:5.55,2.4;stroke-dashoffset:0;stroke-width:1.5;\"/>\n    <defs>\n     <path d=\"M 0 3 \nC 0.795609 3 1.55874 2.683901 2.12132 2.12132 \nC 2.683901 1.55874 3 0.795609 3 0 \nC 3 -0.795609 2.683901 -1.55874 2.12132 -2.12132 \nC 1.55874 -2.683901 0.795609 -3 0 -3 \nC -0.795609 -3 -1.55874 -2.683901 -2.12132 -2.12132 \nC -2.683901 -1.55874 -3 -0.795609 -3 0 \nC -3 0.795609 -2.683901 1.55874 -2.12132 2.12132 \nC -1.55874 2.683901 -0.795609 3 0 3 \nz\n\" id=\"mfac17a988e\" style=\"stroke:#0000ff;\"/>\n    </defs>\n    <g clip-path=\"url(#pe72108e39f)\">\n     <use style=\"fill:#0000ff;stroke:#0000ff;\" x=\"58.999432\" xlink:href=\"#mfac17a988e\" y=\"32.201761\"/>\n     <use style=\"fill:#0000ff;stroke:#0000ff;\" x=\"69.49473\" xlink:href=\"#mfac17a988e\" y=\"66.385209\"/>\n     <use style=\"fill:#0000ff;stroke:#0000ff;\" x=\"79.990027\" xlink:href=\"#mfac17a988e\" y=\"85.969939\"/>\n     <use style=\"fill:#0000ff;stroke:#0000ff;\" x=\"90.485325\" xlink:href=\"#mfac17a988e\" y=\"98.75272\"/>\n     <use style=\"fill:#0000ff;stroke:#0000ff;\" x=\"100.980623\" xlink:href=\"#mfac17a988e\" y=\"110.810944\"/>\n     <use style=\"fill:#0000ff;stroke:#0000ff;\" x=\"111.475921\" xlink:href=\"#mfac17a988e\" y=\"123.675746\"/>\n     <use style=\"fill:#0000ff;stroke:#0000ff;\" x=\"121.971219\" xlink:href=\"#mfac17a988e\" y=\"133.902129\"/>\n     <use style=\"fill:#0000ff;stroke:#0000ff;\" x=\"132.466516\" xlink:href=\"#mfac17a988e\" y=\"141.810283\"/>\n     <use style=\"fill:#0000ff;stroke:#0000ff;\" x=\"142.961814\" xlink:href=\"#mfac17a988e\" y=\"149.092374\"/>\n     <use style=\"fill:#0000ff;stroke:#0000ff;\" x=\"153.457112\" xlink:href=\"#mfac17a988e\" y=\"157.49913\"/>\n     <use style=\"fill:#0000ff;stroke:#0000ff;\" x=\"163.95241\" xlink:href=\"#mfac17a988e\" y=\"164.453989\"/>\n     <use style=\"fill:#0000ff;stroke:#0000ff;\" x=\"174.447708\" xlink:href=\"#mfac17a988e\" y=\"170.843504\"/>\n     <use style=\"fill:#0000ff;stroke:#0000ff;\" x=\"184.943005\" xlink:href=\"#mfac17a988e\" y=\"177.28914\"/>\n     <use style=\"fill:#0000ff;stroke:#0000ff;\" x=\"195.438303\" xlink:href=\"#mfac17a988e\" y=\"182.857537\"/>\n     <use style=\"fill:#0000ff;stroke:#0000ff;\" x=\"205.933601\" xlink:href=\"#mfac17a988e\" y=\"187.8711\"/>\n     <use style=\"fill:#0000ff;stroke:#0000ff;\" x=\"216.428899\" xlink:href=\"#mfac17a988e\" y=\"192.133352\"/>\n     <use style=\"fill:#0000ff;stroke:#0000ff;\" x=\"226.924197\" xlink:href=\"#mfac17a988e\" y=\"195.856958\"/>\n     <use style=\"fill:#0000ff;stroke:#0000ff;\" x=\"237.419495\" xlink:href=\"#mfac17a988e\" y=\"200.060421\"/>\n     <use style=\"fill:#0000ff;stroke:#0000ff;\" x=\"247.914792\" xlink:href=\"#mfac17a988e\" y=\"203.962837\"/>\n     <use style=\"fill:#0000ff;stroke:#0000ff;\" x=\"258.41009\" xlink:href=\"#mfac17a988e\" y=\"207.94966\"/>\n     <use style=\"fill:#0000ff;stroke:#0000ff;\" x=\"268.905388\" xlink:href=\"#mfac17a988e\" y=\"210.778419\"/>\n     <use style=\"fill:#0000ff;stroke:#0000ff;\" x=\"279.400686\" xlink:href=\"#mfac17a988e\" y=\"213.547423\"/>\n     <use style=\"fill:#0000ff;stroke:#0000ff;\" x=\"289.895984\" xlink:href=\"#mfac17a988e\" y=\"215.722684\"/>\n     <use style=\"fill:#0000ff;stroke:#0000ff;\" x=\"300.391281\" xlink:href=\"#mfac17a988e\" y=\"217.708399\"/>\n     <use style=\"fill:#0000ff;stroke:#0000ff;\" x=\"310.886579\" xlink:href=\"#mfac17a988e\" y=\"219.844637\"/>\n     <use style=\"fill:#0000ff;stroke:#0000ff;\" x=\"321.381877\" xlink:href=\"#mfac17a988e\" y=\"221.984681\"/>\n     <use style=\"fill:#0000ff;stroke:#0000ff;\" x=\"331.877175\" xlink:href=\"#mfac17a988e\" y=\"223.634076\"/>\n     <use style=\"fill:#0000ff;stroke:#0000ff;\" x=\"342.372473\" xlink:href=\"#mfac17a988e\" y=\"225.831489\"/>\n     <use style=\"fill:#0000ff;stroke:#0000ff;\" x=\"352.86777\" xlink:href=\"#mfac17a988e\" y=\"227.189778\"/>\n     <use style=\"fill:#0000ff;stroke:#0000ff;\" x=\"363.363068\" xlink:href=\"#mfac17a988e\" y=\"229.874489\"/>\n    </g>\n   </g>\n   <g id=\"line2d_14\">\n    <path clip-path=\"url(#pe72108e39f)\" d=\"M 58.999432 85.502465 \nL 69.49473 104.009733 \nL 79.990027 115.751574 \nL 90.485325 125.664812 \nL 100.980623 136.749576 \nL 111.475921 146.122918 \nL 121.971219 153.40694 \nL 132.466516 159.430543 \nL 142.961814 166.140077 \nL 153.457112 172.02889 \nL 163.95241 177.450172 \nL 174.447708 182.839929 \nL 184.943005 187.340178 \nL 195.438303 191.419019 \nL 205.933601 195.27253 \nL 216.428899 198.026709 \nL 226.924197 201.382186 \nL 237.419495 204.050822 \nL 247.914792 207.057824 \nL 258.41009 209.253646 \nL 268.905388 211.620441 \nL 279.400686 213.425698 \nL 289.895984 214.972794 \nL 300.391281 216.624745 \nL 310.886579 217.89323 \nL 321.381877 219.474293 \nL 331.877175 221.350382 \nL 342.372473 222.884413 \nL 352.86777 224.1408 \nL 363.363068 225.941002 \n\" style=\"fill:none;stroke:#ff0000;stroke-linecap:square;stroke-width:1.5;\"/>\n    <defs>\n     <path d=\"M 0 3 \nC 0.795609 3 1.55874 2.683901 2.12132 2.12132 \nC 2.683901 1.55874 3 0.795609 3 0 \nC 3 -0.795609 2.683901 -1.55874 2.12132 -2.12132 \nC 1.55874 -2.683901 0.795609 -3 0 -3 \nC -0.795609 -3 -1.55874 -2.683901 -2.12132 -2.12132 \nC -2.683901 -1.55874 -3 -0.795609 -3 0 \nC -3 0.795609 -2.683901 1.55874 -2.12132 2.12132 \nC -1.55874 2.683901 -0.795609 3 0 3 \nz\n\" id=\"m4c64fa1699\" style=\"stroke:#ff0000;\"/>\n    </defs>\n    <g clip-path=\"url(#pe72108e39f)\">\n     <use style=\"fill:#ff0000;stroke:#ff0000;\" x=\"58.999432\" xlink:href=\"#m4c64fa1699\" y=\"85.502465\"/>\n     <use style=\"fill:#ff0000;stroke:#ff0000;\" x=\"69.49473\" xlink:href=\"#m4c64fa1699\" y=\"104.009733\"/>\n     <use style=\"fill:#ff0000;stroke:#ff0000;\" x=\"79.990027\" xlink:href=\"#m4c64fa1699\" y=\"115.751574\"/>\n     <use style=\"fill:#ff0000;stroke:#ff0000;\" x=\"90.485325\" xlink:href=\"#m4c64fa1699\" y=\"125.664812\"/>\n     <use style=\"fill:#ff0000;stroke:#ff0000;\" x=\"100.980623\" xlink:href=\"#m4c64fa1699\" y=\"136.749576\"/>\n     <use style=\"fill:#ff0000;stroke:#ff0000;\" x=\"111.475921\" xlink:href=\"#m4c64fa1699\" y=\"146.122918\"/>\n     <use style=\"fill:#ff0000;stroke:#ff0000;\" x=\"121.971219\" xlink:href=\"#m4c64fa1699\" y=\"153.40694\"/>\n     <use style=\"fill:#ff0000;stroke:#ff0000;\" x=\"132.466516\" xlink:href=\"#m4c64fa1699\" y=\"159.430543\"/>\n     <use style=\"fill:#ff0000;stroke:#ff0000;\" x=\"142.961814\" xlink:href=\"#m4c64fa1699\" y=\"166.140077\"/>\n     <use style=\"fill:#ff0000;stroke:#ff0000;\" x=\"153.457112\" xlink:href=\"#m4c64fa1699\" y=\"172.02889\"/>\n     <use style=\"fill:#ff0000;stroke:#ff0000;\" x=\"163.95241\" xlink:href=\"#m4c64fa1699\" y=\"177.450172\"/>\n     <use style=\"fill:#ff0000;stroke:#ff0000;\" x=\"174.447708\" xlink:href=\"#m4c64fa1699\" y=\"182.839929\"/>\n     <use style=\"fill:#ff0000;stroke:#ff0000;\" x=\"184.943005\" xlink:href=\"#m4c64fa1699\" y=\"187.340178\"/>\n     <use style=\"fill:#ff0000;stroke:#ff0000;\" x=\"195.438303\" xlink:href=\"#m4c64fa1699\" y=\"191.419019\"/>\n     <use style=\"fill:#ff0000;stroke:#ff0000;\" x=\"205.933601\" xlink:href=\"#m4c64fa1699\" y=\"195.27253\"/>\n     <use style=\"fill:#ff0000;stroke:#ff0000;\" x=\"216.428899\" xlink:href=\"#m4c64fa1699\" y=\"198.026709\"/>\n     <use style=\"fill:#ff0000;stroke:#ff0000;\" x=\"226.924197\" xlink:href=\"#m4c64fa1699\" y=\"201.382186\"/>\n     <use style=\"fill:#ff0000;stroke:#ff0000;\" x=\"237.419495\" xlink:href=\"#m4c64fa1699\" y=\"204.050822\"/>\n     <use style=\"fill:#ff0000;stroke:#ff0000;\" x=\"247.914792\" xlink:href=\"#m4c64fa1699\" y=\"207.057824\"/>\n     <use style=\"fill:#ff0000;stroke:#ff0000;\" x=\"258.41009\" xlink:href=\"#m4c64fa1699\" y=\"209.253646\"/>\n     <use style=\"fill:#ff0000;stroke:#ff0000;\" x=\"268.905388\" xlink:href=\"#m4c64fa1699\" y=\"211.620441\"/>\n     <use style=\"fill:#ff0000;stroke:#ff0000;\" x=\"279.400686\" xlink:href=\"#m4c64fa1699\" y=\"213.425698\"/>\n     <use style=\"fill:#ff0000;stroke:#ff0000;\" x=\"289.895984\" xlink:href=\"#m4c64fa1699\" y=\"214.972794\"/>\n     <use style=\"fill:#ff0000;stroke:#ff0000;\" x=\"300.391281\" xlink:href=\"#m4c64fa1699\" y=\"216.624745\"/>\n     <use style=\"fill:#ff0000;stroke:#ff0000;\" x=\"310.886579\" xlink:href=\"#m4c64fa1699\" y=\"217.89323\"/>\n     <use style=\"fill:#ff0000;stroke:#ff0000;\" x=\"321.381877\" xlink:href=\"#m4c64fa1699\" y=\"219.474293\"/>\n     <use style=\"fill:#ff0000;stroke:#ff0000;\" x=\"331.877175\" xlink:href=\"#m4c64fa1699\" y=\"221.350382\"/>\n     <use style=\"fill:#ff0000;stroke:#ff0000;\" x=\"342.372473\" xlink:href=\"#m4c64fa1699\" y=\"222.884413\"/>\n     <use style=\"fill:#ff0000;stroke:#ff0000;\" x=\"352.86777\" xlink:href=\"#m4c64fa1699\" y=\"224.1408\"/>\n     <use style=\"fill:#ff0000;stroke:#ff0000;\" x=\"363.363068\" xlink:href=\"#m4c64fa1699\" y=\"225.941002\"/>\n    </g>\n   </g>\n   <g id=\"patch_3\">\n    <path d=\"M 43.78125 239.758125 \nL 43.78125 22.318125 \n\" style=\"fill:none;stroke:#000000;stroke-linecap:square;stroke-linejoin:miter;stroke-width:0.8;\"/>\n   </g>\n   <g id=\"patch_4\">\n    <path d=\"M 378.58125 239.758125 \nL 378.58125 22.318125 \n\" style=\"fill:none;stroke:#000000;stroke-linecap:square;stroke-linejoin:miter;stroke-width:0.8;\"/>\n   </g>\n   <g id=\"patch_5\">\n    <path d=\"M 43.78125 239.758125 \nL 378.58125 239.758125 \n\" style=\"fill:none;stroke:#000000;stroke-linecap:square;stroke-linejoin:miter;stroke-width:0.8;\"/>\n   </g>\n   <g id=\"patch_6\">\n    <path d=\"M 43.78125 22.318125 \nL 378.58125 22.318125 \n\" style=\"fill:none;stroke:#000000;stroke-linecap:square;stroke-linejoin:miter;stroke-width:0.8;\"/>\n   </g>\n   <g id=\"text_15\">\n    <!-- Training and validation loss -->\n    <defs>\n     <path d=\"M -0.296875 72.90625 \nL 61.375 72.90625 \nL 61.375 64.59375 \nL 35.5 64.59375 \nL 35.5 0 \nL 25.59375 0 \nL 25.59375 64.59375 \nL -0.296875 64.59375 \nz\n\" id=\"DejaVuSans-84\"/>\n     <path d=\"M 41.109375 46.296875 \nQ 39.59375 47.171875 37.8125 47.578125 \nQ 36.03125 48 33.890625 48 \nQ 26.265625 48 22.1875 43.046875 \nQ 18.109375 38.09375 18.109375 28.8125 \nL 18.109375 0 \nL 9.078125 0 \nL 9.078125 54.6875 \nL 18.109375 54.6875 \nL 18.109375 46.1875 \nQ 20.953125 51.171875 25.484375 53.578125 \nQ 30.03125 56 36.53125 56 \nQ 37.453125 56 38.578125 55.875 \nQ 39.703125 55.765625 41.0625 55.515625 \nz\n\" id=\"DejaVuSans-114\"/>\n     <path d=\"M 34.28125 27.484375 \nQ 23.390625 27.484375 19.1875 25 \nQ 14.984375 22.515625 14.984375 16.5 \nQ 14.984375 11.71875 18.140625 8.90625 \nQ 21.296875 6.109375 26.703125 6.109375 \nQ 34.1875 6.109375 38.703125 11.40625 \nQ 43.21875 16.703125 43.21875 25.484375 \nL 43.21875 27.484375 \nz\nM 52.203125 31.203125 \nL 52.203125 0 \nL 43.21875 0 \nL 43.21875 8.296875 \nQ 40.140625 3.328125 35.546875 0.953125 \nQ 30.953125 -1.421875 24.3125 -1.421875 \nQ 15.921875 -1.421875 10.953125 3.296875 \nQ 6 8.015625 6 15.921875 \nQ 6 25.140625 12.171875 29.828125 \nQ 18.359375 34.515625 30.609375 34.515625 \nL 43.21875 34.515625 \nL 43.21875 35.40625 \nQ 43.21875 41.609375 39.140625 45 \nQ 35.0625 48.390625 27.6875 48.390625 \nQ 23 48.390625 18.546875 47.265625 \nQ 14.109375 46.140625 10.015625 43.890625 \nL 10.015625 52.203125 \nQ 14.9375 54.109375 19.578125 55.046875 \nQ 24.21875 56 28.609375 56 \nQ 40.484375 56 46.34375 49.84375 \nQ 52.203125 43.703125 52.203125 31.203125 \nz\n\" id=\"DejaVuSans-97\"/>\n     <path d=\"M 9.421875 54.6875 \nL 18.40625 54.6875 \nL 18.40625 0 \nL 9.421875 0 \nz\nM 9.421875 75.984375 \nL 18.40625 75.984375 \nL 18.40625 64.59375 \nL 9.421875 64.59375 \nz\n\" id=\"DejaVuSans-105\"/>\n     <path d=\"M 54.890625 33.015625 \nL 54.890625 0 \nL 45.90625 0 \nL 45.90625 32.71875 \nQ 45.90625 40.484375 42.875 44.328125 \nQ 39.84375 48.1875 33.796875 48.1875 \nQ 26.515625 48.1875 22.3125 43.546875 \nQ 18.109375 38.921875 18.109375 30.90625 \nL 18.109375 0 \nL 9.078125 0 \nL 9.078125 54.6875 \nL 18.109375 54.6875 \nL 18.109375 46.1875 \nQ 21.34375 51.125 25.703125 53.5625 \nQ 30.078125 56 35.796875 56 \nQ 45.21875 56 50.046875 50.171875 \nQ 54.890625 44.34375 54.890625 33.015625 \nz\n\" id=\"DejaVuSans-110\"/>\n     <path d=\"M 45.40625 27.984375 \nQ 45.40625 37.75 41.375 43.109375 \nQ 37.359375 48.484375 30.078125 48.484375 \nQ 22.859375 48.484375 18.828125 43.109375 \nQ 14.796875 37.75 14.796875 27.984375 \nQ 14.796875 18.265625 18.828125 12.890625 \nQ 22.859375 7.515625 30.078125 7.515625 \nQ 37.359375 7.515625 41.375 12.890625 \nQ 45.40625 18.265625 45.40625 27.984375 \nz\nM 54.390625 6.78125 \nQ 54.390625 -7.171875 48.1875 -13.984375 \nQ 42 -20.796875 29.203125 -20.796875 \nQ 24.46875 -20.796875 20.265625 -20.09375 \nQ 16.0625 -19.390625 12.109375 -17.921875 \nL 12.109375 -9.1875 \nQ 16.0625 -11.328125 19.921875 -12.34375 \nQ 23.78125 -13.375 27.78125 -13.375 \nQ 36.625 -13.375 41.015625 -8.765625 \nQ 45.40625 -4.15625 45.40625 5.171875 \nL 45.40625 9.625 \nQ 42.625 4.78125 38.28125 2.390625 \nQ 33.9375 0 27.875 0 \nQ 17.828125 0 11.671875 7.65625 \nQ 5.515625 15.328125 5.515625 27.984375 \nQ 5.515625 40.671875 11.671875 48.328125 \nQ 17.828125 56 27.875 56 \nQ 33.9375 56 38.28125 53.609375 \nQ 42.625 51.21875 45.40625 46.390625 \nL 45.40625 54.6875 \nL 54.390625 54.6875 \nz\n\" id=\"DejaVuSans-103\"/>\n     <path id=\"DejaVuSans-32\"/>\n     <path d=\"M 45.40625 46.390625 \nL 45.40625 75.984375 \nL 54.390625 75.984375 \nL 54.390625 0 \nL 45.40625 0 \nL 45.40625 8.203125 \nQ 42.578125 3.328125 38.25 0.953125 \nQ 33.9375 -1.421875 27.875 -1.421875 \nQ 17.96875 -1.421875 11.734375 6.484375 \nQ 5.515625 14.40625 5.515625 27.296875 \nQ 5.515625 40.1875 11.734375 48.09375 \nQ 17.96875 56 27.875 56 \nQ 33.9375 56 38.25 53.625 \nQ 42.578125 51.265625 45.40625 46.390625 \nz\nM 14.796875 27.296875 \nQ 14.796875 17.390625 18.875 11.75 \nQ 22.953125 6.109375 30.078125 6.109375 \nQ 37.203125 6.109375 41.296875 11.75 \nQ 45.40625 17.390625 45.40625 27.296875 \nQ 45.40625 37.203125 41.296875 42.84375 \nQ 37.203125 48.484375 30.078125 48.484375 \nQ 22.953125 48.484375 18.875 42.84375 \nQ 14.796875 37.203125 14.796875 27.296875 \nz\n\" id=\"DejaVuSans-100\"/>\n     <path d=\"M 2.984375 54.6875 \nL 12.5 54.6875 \nL 29.59375 8.796875 \nL 46.6875 54.6875 \nL 56.203125 54.6875 \nL 35.6875 0 \nL 23.484375 0 \nz\n\" id=\"DejaVuSans-118\"/>\n     <path d=\"M 18.3125 70.21875 \nL 18.3125 54.6875 \nL 36.8125 54.6875 \nL 36.8125 47.703125 \nL 18.3125 47.703125 \nL 18.3125 18.015625 \nQ 18.3125 11.328125 20.140625 9.421875 \nQ 21.96875 7.515625 27.59375 7.515625 \nL 36.8125 7.515625 \nL 36.8125 0 \nL 27.59375 0 \nQ 17.1875 0 13.234375 3.875 \nQ 9.28125 7.765625 9.28125 18.015625 \nL 9.28125 47.703125 \nL 2.6875 47.703125 \nL 2.6875 54.6875 \nL 9.28125 54.6875 \nL 9.28125 70.21875 \nz\n\" id=\"DejaVuSans-116\"/>\n    </defs>\n    <g transform=\"translate(129.37125 16.318125)scale(0.12 -0.12)\">\n     <use xlink:href=\"#DejaVuSans-84\"/>\n     <use x=\"46.333984\" xlink:href=\"#DejaVuSans-114\"/>\n     <use x=\"87.447266\" xlink:href=\"#DejaVuSans-97\"/>\n     <use x=\"148.726562\" xlink:href=\"#DejaVuSans-105\"/>\n     <use x=\"176.509766\" xlink:href=\"#DejaVuSans-110\"/>\n     <use x=\"239.888672\" xlink:href=\"#DejaVuSans-105\"/>\n     <use x=\"267.671875\" xlink:href=\"#DejaVuSans-110\"/>\n     <use x=\"331.050781\" xlink:href=\"#DejaVuSans-103\"/>\n     <use x=\"394.527344\" xlink:href=\"#DejaVuSans-32\"/>\n     <use x=\"426.314453\" xlink:href=\"#DejaVuSans-97\"/>\n     <use x=\"487.59375\" xlink:href=\"#DejaVuSans-110\"/>\n     <use x=\"550.972656\" xlink:href=\"#DejaVuSans-100\"/>\n     <use x=\"614.449219\" xlink:href=\"#DejaVuSans-32\"/>\n     <use x=\"646.236328\" xlink:href=\"#DejaVuSans-118\"/>\n     <use x=\"705.416016\" xlink:href=\"#DejaVuSans-97\"/>\n     <use x=\"766.695312\" xlink:href=\"#DejaVuSans-108\"/>\n     <use x=\"794.478516\" xlink:href=\"#DejaVuSans-105\"/>\n     <use x=\"822.261719\" xlink:href=\"#DejaVuSans-100\"/>\n     <use x=\"885.738281\" xlink:href=\"#DejaVuSans-97\"/>\n     <use x=\"947.017578\" xlink:href=\"#DejaVuSans-116\"/>\n     <use x=\"986.226562\" xlink:href=\"#DejaVuSans-105\"/>\n     <use x=\"1014.009766\" xlink:href=\"#DejaVuSans-111\"/>\n     <use x=\"1075.191406\" xlink:href=\"#DejaVuSans-110\"/>\n     <use x=\"1138.570312\" xlink:href=\"#DejaVuSans-32\"/>\n     <use x=\"1170.357422\" xlink:href=\"#DejaVuSans-108\"/>\n     <use x=\"1198.140625\" xlink:href=\"#DejaVuSans-111\"/>\n     <use x=\"1259.322266\" xlink:href=\"#DejaVuSans-115\"/>\n     <use x=\"1311.421875\" xlink:href=\"#DejaVuSans-115\"/>\n    </g>\n   </g>\n   <g id=\"legend_1\">\n    <g id=\"patch_7\">\n     <path d=\"M 291.990625 60.230625 \nL 371.58125 60.230625 \nQ 373.58125 60.230625 373.58125 58.230625 \nL 373.58125 29.318125 \nQ 373.58125 27.318125 371.58125 27.318125 \nL 291.990625 27.318125 \nQ 289.990625 27.318125 289.990625 29.318125 \nL 289.990625 58.230625 \nQ 289.990625 60.230625 291.990625 60.230625 \nz\n\" style=\"fill:#ffffff;opacity:0.8;stroke:#cccccc;stroke-linejoin:miter;\"/>\n    </g>\n    <g id=\"line2d_15\">\n     <path d=\"M 293.990625 35.416562 \nL 313.990625 35.416562 \n\" style=\"fill:none;stroke:#0000ff;stroke-dasharray:5.55,2.4;stroke-dashoffset:0;stroke-width:1.5;\"/>\n    </g>\n    <g id=\"line2d_16\">\n     <g>\n      <use style=\"fill:#0000ff;stroke:#0000ff;\" x=\"303.990625\" xlink:href=\"#mfac17a988e\" y=\"35.416562\"/>\n     </g>\n    </g>\n    <g id=\"text_16\">\n     <!-- train_loss -->\n     <defs>\n      <path d=\"M 50.984375 -16.609375 \nL 50.984375 -23.578125 \nL -0.984375 -23.578125 \nL -0.984375 -16.609375 \nz\n\" id=\"DejaVuSans-95\"/>\n     </defs>\n     <g transform=\"translate(321.990625 38.916562)scale(0.1 -0.1)\">\n      <use xlink:href=\"#DejaVuSans-116\"/>\n      <use x=\"39.208984\" xlink:href=\"#DejaVuSans-114\"/>\n      <use x=\"80.322266\" xlink:href=\"#DejaVuSans-97\"/>\n      <use x=\"141.601562\" xlink:href=\"#DejaVuSans-105\"/>\n      <use x=\"169.384766\" xlink:href=\"#DejaVuSans-110\"/>\n      <use x=\"232.763672\" xlink:href=\"#DejaVuSans-95\"/>\n      <use x=\"282.763672\" xlink:href=\"#DejaVuSans-108\"/>\n      <use x=\"310.546875\" xlink:href=\"#DejaVuSans-111\"/>\n      <use x=\"371.728516\" xlink:href=\"#DejaVuSans-115\"/>\n      <use x=\"423.828125\" xlink:href=\"#DejaVuSans-115\"/>\n     </g>\n    </g>\n    <g id=\"line2d_17\">\n     <path d=\"M 293.990625 50.372812 \nL 313.990625 50.372812 \n\" style=\"fill:none;stroke:#ff0000;stroke-linecap:square;stroke-width:1.5;\"/>\n    </g>\n    <g id=\"line2d_18\">\n     <g>\n      <use style=\"fill:#ff0000;stroke:#ff0000;\" x=\"303.990625\" xlink:href=\"#m4c64fa1699\" y=\"50.372812\"/>\n     </g>\n    </g>\n    <g id=\"text_17\">\n     <!-- val_loss -->\n     <g transform=\"translate(321.990625 53.872812)scale(0.1 -0.1)\">\n      <use xlink:href=\"#DejaVuSans-118\"/>\n      <use x=\"59.179688\" xlink:href=\"#DejaVuSans-97\"/>\n      <use x=\"120.458984\" xlink:href=\"#DejaVuSans-108\"/>\n      <use x=\"148.242188\" xlink:href=\"#DejaVuSans-95\"/>\n      <use x=\"198.242188\" xlink:href=\"#DejaVuSans-108\"/>\n      <use x=\"226.025391\" xlink:href=\"#DejaVuSans-111\"/>\n      <use x=\"287.207031\" xlink:href=\"#DejaVuSans-115\"/>\n      <use x=\"339.306641\" xlink:href=\"#DejaVuSans-115\"/>\n     </g>\n    </g>\n   </g>\n  </g>\n </g>\n <defs>\n  <clipPath id=\"pe72108e39f\">\n   <rect height=\"217.44\" width=\"334.8\" x=\"43.78125\" y=\"22.318125\"/>\n  </clipPath>\n </defs>\n</svg>\n"
          },
          "metadata": {
            "needs_background": "light"
          }
        }
      ]
    }
  ]
}