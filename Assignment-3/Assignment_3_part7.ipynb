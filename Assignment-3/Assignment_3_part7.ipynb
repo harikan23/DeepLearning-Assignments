{
  "nbformat": 4,
  "nbformat_minor": 0,
  "metadata": {
    "colab": {
      "name": "Assignment-3-part7.ipynb",
      "provenance": []
    },
    "kernelspec": {
      "name": "python3",
      "display_name": "Python 3"
    },
    "language_info": {
      "name": "python"
    }
  },
  "cells": [
    {
      "cell_type": "markdown",
      "source": [
        "Write a colab tensorflow only with builtin layers of the same"
      ],
      "metadata": {
        "id": "uYrGKdh6llZ0"
      }
    },
    {
      "cell_type": "code",
      "execution_count": 1,
      "metadata": {
        "colab": {
          "base_uri": "https://localhost:8080/"
        },
        "id": "Lwy1hVjvfCLv",
        "outputId": "826541c0-3aec-4baa-d924-cc6fb6cd7ab5"
      },
      "outputs": [
        {
          "output_type": "stream",
          "name": "stdout",
          "text": [
            "2.8.0\n"
          ]
        }
      ],
      "source": [
        "import tensorflow as tf\n",
        "print(tf.__version__)"
      ]
    },
    {
      "cell_type": "code",
      "source": [
        "from tensorflow import keras\n",
        "from tensorflow.keras.layers import Layer"
      ],
      "metadata": {
        "id": "bF4lpFx6CWW6"
      },
      "execution_count": 2,
      "outputs": []
    },
    {
      "cell_type": "markdown",
      "source": [
        "MINST dataset"
      ],
      "metadata": {
        "id": "LHXs1YDUlpqR"
      }
    },
    {
      "cell_type": "code",
      "source": [
        "from tensorflow.keras import layers\n",
        "\n",
        "(x_train, y_train), (x_test, y_test) = tf.keras.datasets.mnist.load_data()\n",
        "x_train = x_train[:].reshape(60000, 784).astype('float32') / 255\n",
        "dataset = tf.data.Dataset.from_tensor_slices((x_train, y_train))\n",
        "dataset = dataset.shuffle(buffer_size=1024).batch(64)\n",
        "\n",
        "model = tf.keras.Sequential([\n",
        "  layers.Dense(256, activation=tf.nn.relu),\n",
        "  layers.Dense(256, activation=tf.nn.relu),\n",
        "  layers.Dense(10)\n",
        "])\n",
        "\n",
        "loss = tf.keras.losses.SparseCategoricalCrossentropy(from_logits=True)\n",
        "accuracy = tf.keras.metrics.SparseCategoricalAccuracy()\n",
        "optimizer = tf.keras.optimizers.Adam()\n",
        "for step, (x, y) in enumerate(dataset):\n",
        "  with tf.GradientTape() as tape:\n",
        "    logits = model(x)\n",
        "    loss_value = loss(y, logits)\n",
        "  gradients = tape.gradient(loss_value, model.trainable_weights)\n",
        "  optimizer.apply_gradients(zip(gradients, model.trainable_weights))\n",
        "  accuracy.update_state(y, logits)\n",
        "  if step % 100 == 0:\n",
        "    print('Step:', step)\n",
        "    print('Loss from last step: %.3f' % loss_value)\n",
        "    print('Total running accuracy so far: %.3f' % accuracy.result())"
      ],
      "metadata": {
        "id": "IbAHTIZ4CIuF",
        "colab": {
          "base_uri": "https://localhost:8080/"
        },
        "outputId": "be51002a-2561-4707-bed9-fe4f28778933"
      },
      "execution_count": 4,
      "outputs": [
        {
          "output_type": "stream",
          "name": "stdout",
          "text": [
            "Step: 0\n",
            "Loss from last step: 2.295\n",
            "Total running accuracy so far: 0.125\n",
            "Step: 100\n",
            "Loss from last step: 0.278\n",
            "Total running accuracy so far: 0.843\n",
            "Step: 200\n",
            "Loss from last step: 0.390\n",
            "Total running accuracy so far: 0.880\n",
            "Step: 300\n",
            "Loss from last step: 0.141\n",
            "Total running accuracy so far: 0.900\n",
            "Step: 400\n",
            "Loss from last step: 0.381\n",
            "Total running accuracy so far: 0.911\n",
            "Step: 500\n",
            "Loss from last step: 0.078\n",
            "Total running accuracy so far: 0.918\n",
            "Step: 600\n",
            "Loss from last step: 0.161\n",
            "Total running accuracy so far: 0.924\n",
            "Step: 700\n",
            "Loss from last step: 0.110\n",
            "Total running accuracy so far: 0.929\n",
            "Step: 800\n",
            "Loss from last step: 0.177\n",
            "Total running accuracy so far: 0.932\n",
            "Step: 900\n",
            "Loss from last step: 0.106\n",
            "Total running accuracy so far: 0.936\n"
          ]
        }
      ]
    }
  ]
}